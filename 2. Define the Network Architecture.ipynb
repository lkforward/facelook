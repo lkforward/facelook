{
 "cells": [
  {
   "cell_type": "markdown",
   "metadata": {},
   "source": [
    "## 1. Define the Convolutional Neural Network\n",
    "\n",
    "After you've looked at the data you're working with and, in this case, know the shapes of the images and of the keypoints, you are ready to define a convolutional neural network that can *learn* from this data.\n",
    "\n",
    "In this notebook and in `models.py`, you will:\n",
    "1. Define a CNN with images as input and keypoints as output\n",
    "2. Construct the transformed FaceKeypointsDataset, just as before\n",
    "3. Train the CNN on the training data, tracking loss\n",
    "4. See how the trained model performs on test data\n",
    "5. If necessary, modify the CNN structure and model hyperparameters, so that it performs *well* **\\***\n",
    "\n",
    "**\\*** What does *well* mean?\n",
    "\n",
    "\"Well\" means that the model's loss decreases during training **and**, when applied to test image data, the model produces keypoints that closely match the true keypoints of each face. And you'll see examples of this later in the notebook.\n",
    "\n",
    "---\n"
   ]
  },
  {
   "cell_type": "markdown",
   "metadata": {},
   "source": [
    "## CNN Architecture\n",
    "\n",
    "Recall that CNN's are defined by a few types of layers:\n",
    "* Convolutional layers\n",
    "* Maxpooling layers\n",
    "* Fully-connected layers\n",
    "\n",
    "You are required to use the above layers and encouraged to add multiple convolutional layers and things like dropout layers that may prevent overfitting. You are also encouraged to look at literature on keypoint detection, such as [this paper](https://arxiv.org/pdf/1710.00977.pdf), to help you determine the structure of your network.\n",
    "\n",
    "\n",
    "### TODO: Define your model in the provided file `models.py` file\n",
    "\n",
    "This file is mostly empty but contains the expected name and some TODO's for creating your model.\n",
    "\n",
    "---"
   ]
  },
  {
   "cell_type": "markdown",
   "metadata": {},
   "source": [
    "## PyTorch Neural Nets\n",
    "\n",
    "To define a neural network in PyTorch, you define the layers of a model in the function `__init__` and define the feedforward behavior of a network that employs those initialized layers in the function `forward`, which takes in an input image tensor, `x`. The structure of this Net class is shown below and left for you to fill in.\n",
    "\n",
    "Note: During training, PyTorch will be able to perform backpropagation by keeping track of the network's feedforward behavior and using autograd to calculate the update to the weights in the network.\n",
    "\n",
    "#### Define the Layers in ` __init__`\n",
    "As a reminder, a conv/pool layer may be defined like this (in `__init__`):\n",
    "```\n",
    "# 1 input image channel (for grayscale images), 32 output channels/feature maps, 3x3 square convolution kernel\n",
    "self.conv1 = nn.Conv2d(1, 32, 3)\n",
    "\n",
    "# maxpool that uses a square window of kernel_size=2, stride=2\n",
    "self.pool = nn.MaxPool2d(2, 2)      \n",
    "```\n",
    "\n",
    "#### Refer to Layers in `forward`\n",
    "Then referred to in the `forward` function like this, in which the conv1 layer has a ReLu activation applied to it before maxpooling is applied:\n",
    "```\n",
    "x = self.pool(F.relu(self.conv1(x)))\n",
    "```\n",
    "\n",
    "Best practice is to place any layers whose weights will change during the training process in `__init__` and refer to them in the `forward` function; any layers or functions that always behave in the same way, such as a pre-defined activation function, should appear *only* in the `forward` function."
   ]
  },
  {
   "cell_type": "markdown",
   "metadata": {},
   "source": [
    "#### Why models.py\n",
    "\n",
    "You are tasked with defining the network in the `models.py` file so that any models you define can be saved and loaded by name in different notebooks in this project directory. For example, by defining a CNN class called `Net` in `models.py`, you can then create that same architecture in this and other notebooks by simply importing the class and instantiating a model:\n",
    "```\n",
    "    from models import Net\n",
    "    net = Net()\n",
    "```"
   ]
  },
  {
   "cell_type": "code",
   "execution_count": 31,
   "metadata": {},
   "outputs": [
    {
     "name": "stdout",
     "output_type": "stream",
     "text": [
      "The autoreload extension is already loaded. To reload it, use:\n",
      "  %reload_ext autoreload\n"
     ]
    }
   ],
   "source": [
    "# import the usual resources\n",
    "import matplotlib.pyplot as plt\n",
    "import numpy as np\n",
    "\n",
    "# watch for any changes in model.py, if it changes, re-load it automatically\n",
    "%load_ext autoreload\n",
    "%autoreload 2"
   ]
  },
  {
   "cell_type": "code",
   "execution_count": 32,
   "metadata": {},
   "outputs": [],
   "source": [
    "import os\n",
    "\n",
    "data_path = './P1_Facial_Keypoints/data'"
   ]
  },
  {
   "cell_type": "code",
   "execution_count": 33,
   "metadata": {},
   "outputs": [
    {
     "name": "stdout",
     "output_type": "stream",
     "text": [
      "Net(\n",
      "  (conv1): Conv2d(1, 32, kernel_size=(5, 5), stride=(1, 1))\n",
      "  (pool1): MaxPool2d(kernel_size=2, stride=2, padding=0, dilation=1, ceil_mode=False)\n",
      "  (drop1): Dropout2d(p=0.1)\n",
      "  (conv2): Conv2d(32, 64, kernel_size=(3, 3), stride=(1, 1))\n",
      "  (pool2): MaxPool2d(kernel_size=2, stride=2, padding=0, dilation=1, ceil_mode=False)\n",
      "  (drop2): Dropout2d(p=0.2)\n",
      "  (conv3): Conv2d(64, 128, kernel_size=(2, 2), stride=(1, 1))\n",
      "  (pool3): MaxPool2d(kernel_size=2, stride=2, padding=0, dilation=1, ceil_mode=False)\n",
      "  (drop3): Dropout2d(p=0.3)\n",
      "  (conv4): Conv2d(128, 256, kernel_size=(1, 1), stride=(1, 1))\n",
      "  (pool4): MaxPool2d(kernel_size=2, stride=2, padding=0, dilation=1, ceil_mode=False)\n",
      "  (drop4): Dropout2d(p=0.4)\n",
      "  (fc1): Linear(in_features=43264, out_features=256, bias=True)\n",
      "  (drop5): Dropout2d(p=0.5)\n",
      "  (fc2): Linear(in_features=256, out_features=256, bias=True)\n",
      "  (drop6): Dropout2d(p=0.6)\n",
      "  (fc3): Linear(in_features=256, out_features=136, bias=True)\n",
      ")\n"
     ]
    }
   ],
   "source": [
    "## TODO: Define the Net in models.py\n",
    "\n",
    "import torch\n",
    "import torch.nn as nn\n",
    "import torch.nn.functional as F\n",
    "\n",
    "## TODO: Once you've define the network, you can instantiate it\n",
    "# one example conv layer has been provided for you\n",
    "from models import Net\n",
    "\n",
    "net = Net()\n",
    "print(net)"
   ]
  },
  {
   "cell_type": "markdown",
   "metadata": {
    "collapsed": true
   },
   "source": [
    "## 2. Transform the dataset \n",
    "\n",
    "To prepare for training, create a transformed dataset of images and keypoints.\n",
    "\n",
    "### TODO: Define a data transform\n",
    "\n",
    "In PyTorch, a convolutional neural network expects a torch image of a consistent size as input. For efficient training, and so your model's loss does not blow up during training, it is also suggested that you normalize the input images and keypoints. The necessary transforms have been defined in `data_load.py` and you **do not** need to modify these; take a look at this file (you'll see the same transforms that were defined and applied in Notebook 1).\n",
    "\n",
    "To define the data transform below, use a [composition](http://pytorch.org/tutorials/beginner/data_loading_tutorial.html#compose-transforms) of:\n",
    "1. Rescaling and/or cropping the data, such that you are left with a square image (the suggested size is 224x224px)\n",
    "2. Normalizing the images and keypoints; turning each RGB image into a grayscale image with a color range of [0, 1] and transforming the given keypoints into a range of [-1, 1]\n",
    "3. Turning these images and keypoints into Tensors\n",
    "\n",
    "These transformations have been defined in `data_load.py`, but it's up to you to call them and create a `data_transform` below. **This transform will be applied to the training data and, later, the test data**. It will change how you go about displaying these images and keypoints, but these steps are essential for efficient training.\n",
    "\n",
    "As a note, should you want to perform data augmentation (which is optional in this project), and randomly rotate or shift these images, a square image size will be useful; rotating a 224x224 image by 90 degrees will result in the same shape of output."
   ]
  },
  {
   "cell_type": "code",
   "execution_count": 34,
   "metadata": {},
   "outputs": [],
   "source": [
    "from torch.utils.data import Dataset, DataLoader\n",
    "from torchvision import transforms, utils\n",
    "\n",
    "# the dataset we created in Notebook 1 is copied in the helper file `data_load.py`\n",
    "from data_load import FacialKeypointsDataset\n",
    "# the transforms we defined in Notebook 1 are in the helper file `data_load.py`\n",
    "from data_load import Rescale, RandomCrop, Normalize, ToTensor\n",
    "\n",
    "\n",
    "## TODO: define the data_transform using transforms.Compose([all tx's, . , .])\n",
    "# order matters! i.e. rescaling should come before a smaller crop\n",
    "data_transform = transforms.Compose([Rescale(250), RandomCrop(224), Normalize(), ToTensor()])\n",
    "\n",
    "# testing that you've defined a transform\n",
    "assert(data_transform is not None), 'Define a data_transform'"
   ]
  },
  {
   "cell_type": "code",
   "execution_count": 35,
   "metadata": {},
   "outputs": [],
   "source": [
    "# import pandas as pd\n",
    "\n",
    "# new_name = 'training_small_sample.csv'\n",
    "\n",
    "# train_file = os.path.join(data_path, 'training_frames_keypoints.csv')\n",
    "# df = pd.read_csv(train_file)\n",
    "\n",
    "# n_samples = 10\n",
    "# df_new = df.iloc[:n_samples, :]\n",
    "# df_new.to_csv(os.path.join(data_path, new_name))"
   ]
  },
  {
   "cell_type": "code",
   "execution_count": 36,
   "metadata": {},
   "outputs": [
    {
     "name": "stdout",
     "output_type": "stream",
     "text": [
      "Number of images:  3462\n",
      "0 torch.Size([1, 224, 224]) torch.Size([68, 2])\n",
      "1 torch.Size([1, 224, 224]) torch.Size([68, 2])\n",
      "2 torch.Size([1, 224, 224]) torch.Size([68, 2])\n",
      "3 torch.Size([1, 224, 224]) torch.Size([68, 2])\n"
     ]
    },
    {
     "name": "stderr",
     "output_type": "stream",
     "text": [
      "/home/workspace/data_load.py:43: FutureWarning: Method .as_matrix will be removed in a future version. Use .values instead.\n",
      "  key_pts = self.key_pts_frame.iloc[idx, 1:].as_matrix()\n"
     ]
    }
   ],
   "source": [
    "# create the transformed dataset\n",
    "# transformed_dataset = FacialKeypointsDataset(csv_file='data/training_frames_keypoints.csv',\n",
    "#                                              root_dir='data/training/',\n",
    "#                                              transform=data_transform)\n",
    "transformed_dataset = FacialKeypointsDataset(csv_file=os.path.join(data_path, 'training_frames_keypoints.csv'),\n",
    "                                             root_dir=os.path.join(data_path, 'training/'),\n",
    "                                             transform=data_transform,\n",
    "                                             n_samples=None)\n",
    "\n",
    "\n",
    "\n",
    "print('Number of images: ', len(transformed_dataset))\n",
    "\n",
    "# iterate through the transformed dataset and print some stats about the first few samples\n",
    "for i in range(4):\n",
    "    sample = transformed_dataset[i]\n",
    "    print(i, sample['image'].size(), sample['keypoints'].size())"
   ]
  },
  {
   "cell_type": "code",
   "execution_count": 37,
   "metadata": {},
   "outputs": [
    {
     "data": {
      "text/html": [
       "<div>\n",
       "<style scoped>\n",
       "    .dataframe tbody tr th:only-of-type {\n",
       "        vertical-align: middle;\n",
       "    }\n",
       "\n",
       "    .dataframe tbody tr th {\n",
       "        vertical-align: top;\n",
       "    }\n",
       "\n",
       "    .dataframe thead th {\n",
       "        text-align: right;\n",
       "    }\n",
       "</style>\n",
       "<table border=\"1\" class=\"dataframe\">\n",
       "  <thead>\n",
       "    <tr style=\"text-align: right;\">\n",
       "      <th></th>\n",
       "      <th>Unnamed: 0</th>\n",
       "      <th>0</th>\n",
       "      <th>1</th>\n",
       "      <th>2</th>\n",
       "      <th>3</th>\n",
       "      <th>4</th>\n",
       "      <th>5</th>\n",
       "      <th>6</th>\n",
       "      <th>7</th>\n",
       "      <th>8</th>\n",
       "      <th>...</th>\n",
       "      <th>126</th>\n",
       "      <th>127</th>\n",
       "      <th>128</th>\n",
       "      <th>129</th>\n",
       "      <th>130</th>\n",
       "      <th>131</th>\n",
       "      <th>132</th>\n",
       "      <th>133</th>\n",
       "      <th>134</th>\n",
       "      <th>135</th>\n",
       "    </tr>\n",
       "  </thead>\n",
       "  <tbody>\n",
       "    <tr>\n",
       "      <th>0</th>\n",
       "      <td>Luis_Fonsi_21.jpg</td>\n",
       "      <td>45.0</td>\n",
       "      <td>98.0</td>\n",
       "      <td>47.0</td>\n",
       "      <td>106.0</td>\n",
       "      <td>49.0</td>\n",
       "      <td>110.0</td>\n",
       "      <td>53.0</td>\n",
       "      <td>119.0</td>\n",
       "      <td>56.0</td>\n",
       "      <td>...</td>\n",
       "      <td>83.0</td>\n",
       "      <td>119.0</td>\n",
       "      <td>90.0</td>\n",
       "      <td>117.0</td>\n",
       "      <td>83.0</td>\n",
       "      <td>119.0</td>\n",
       "      <td>81.0</td>\n",
       "      <td>122.0</td>\n",
       "      <td>77.0</td>\n",
       "      <td>122.0</td>\n",
       "    </tr>\n",
       "    <tr>\n",
       "      <th>1</th>\n",
       "      <td>Lincoln_Chafee_52.jpg</td>\n",
       "      <td>41.0</td>\n",
       "      <td>83.0</td>\n",
       "      <td>43.0</td>\n",
       "      <td>91.0</td>\n",
       "      <td>45.0</td>\n",
       "      <td>100.0</td>\n",
       "      <td>47.0</td>\n",
       "      <td>108.0</td>\n",
       "      <td>51.0</td>\n",
       "      <td>...</td>\n",
       "      <td>85.0</td>\n",
       "      <td>122.0</td>\n",
       "      <td>94.0</td>\n",
       "      <td>120.0</td>\n",
       "      <td>85.0</td>\n",
       "      <td>122.0</td>\n",
       "      <td>83.0</td>\n",
       "      <td>122.0</td>\n",
       "      <td>79.0</td>\n",
       "      <td>122.0</td>\n",
       "    </tr>\n",
       "    <tr>\n",
       "      <th>2</th>\n",
       "      <td>Valerie_Harper_30.jpg</td>\n",
       "      <td>56.0</td>\n",
       "      <td>69.0</td>\n",
       "      <td>56.0</td>\n",
       "      <td>77.0</td>\n",
       "      <td>56.0</td>\n",
       "      <td>86.0</td>\n",
       "      <td>56.0</td>\n",
       "      <td>94.0</td>\n",
       "      <td>58.0</td>\n",
       "      <td>...</td>\n",
       "      <td>79.0</td>\n",
       "      <td>105.0</td>\n",
       "      <td>86.0</td>\n",
       "      <td>108.0</td>\n",
       "      <td>77.0</td>\n",
       "      <td>105.0</td>\n",
       "      <td>75.0</td>\n",
       "      <td>105.0</td>\n",
       "      <td>73.0</td>\n",
       "      <td>105.0</td>\n",
       "    </tr>\n",
       "    <tr>\n",
       "      <th>3</th>\n",
       "      <td>Angelo_Reyes_22.jpg</td>\n",
       "      <td>61.0</td>\n",
       "      <td>80.0</td>\n",
       "      <td>58.0</td>\n",
       "      <td>95.0</td>\n",
       "      <td>58.0</td>\n",
       "      <td>108.0</td>\n",
       "      <td>58.0</td>\n",
       "      <td>120.0</td>\n",
       "      <td>58.0</td>\n",
       "      <td>...</td>\n",
       "      <td>98.0</td>\n",
       "      <td>136.0</td>\n",
       "      <td>107.0</td>\n",
       "      <td>139.0</td>\n",
       "      <td>95.0</td>\n",
       "      <td>139.0</td>\n",
       "      <td>91.0</td>\n",
       "      <td>139.0</td>\n",
       "      <td>85.0</td>\n",
       "      <td>136.0</td>\n",
       "    </tr>\n",
       "    <tr>\n",
       "      <th>4</th>\n",
       "      <td>Kristen_Breitweiser_11.jpg</td>\n",
       "      <td>58.0</td>\n",
       "      <td>94.0</td>\n",
       "      <td>58.0</td>\n",
       "      <td>104.0</td>\n",
       "      <td>60.0</td>\n",
       "      <td>113.0</td>\n",
       "      <td>62.0</td>\n",
       "      <td>121.0</td>\n",
       "      <td>67.0</td>\n",
       "      <td>...</td>\n",
       "      <td>92.0</td>\n",
       "      <td>117.0</td>\n",
       "      <td>103.0</td>\n",
       "      <td>118.0</td>\n",
       "      <td>92.0</td>\n",
       "      <td>120.0</td>\n",
       "      <td>88.0</td>\n",
       "      <td>122.0</td>\n",
       "      <td>84.0</td>\n",
       "      <td>122.0</td>\n",
       "    </tr>\n",
       "  </tbody>\n",
       "</table>\n",
       "<p>5 rows × 137 columns</p>\n",
       "</div>"
      ],
      "text/plain": [
       "                   Unnamed: 0     0     1     2      3     4      5     6  \\\n",
       "0           Luis_Fonsi_21.jpg  45.0  98.0  47.0  106.0  49.0  110.0  53.0   \n",
       "1       Lincoln_Chafee_52.jpg  41.0  83.0  43.0   91.0  45.0  100.0  47.0   \n",
       "2       Valerie_Harper_30.jpg  56.0  69.0  56.0   77.0  56.0   86.0  56.0   \n",
       "3         Angelo_Reyes_22.jpg  61.0  80.0  58.0   95.0  58.0  108.0  58.0   \n",
       "4  Kristen_Breitweiser_11.jpg  58.0  94.0  58.0  104.0  60.0  113.0  62.0   \n",
       "\n",
       "       7     8  ...     126    127    128    129   130    131   132    133  \\\n",
       "0  119.0  56.0  ...    83.0  119.0   90.0  117.0  83.0  119.0  81.0  122.0   \n",
       "1  108.0  51.0  ...    85.0  122.0   94.0  120.0  85.0  122.0  83.0  122.0   \n",
       "2   94.0  58.0  ...    79.0  105.0   86.0  108.0  77.0  105.0  75.0  105.0   \n",
       "3  120.0  58.0  ...    98.0  136.0  107.0  139.0  95.0  139.0  91.0  139.0   \n",
       "4  121.0  67.0  ...    92.0  117.0  103.0  118.0  92.0  120.0  88.0  122.0   \n",
       "\n",
       "    134    135  \n",
       "0  77.0  122.0  \n",
       "1  79.0  122.0  \n",
       "2  73.0  105.0  \n",
       "3  85.0  136.0  \n",
       "4  84.0  122.0  \n",
       "\n",
       "[5 rows x 137 columns]"
      ]
     },
     "execution_count": 37,
     "metadata": {},
     "output_type": "execute_result"
    }
   ],
   "source": [
    "type(transformed_dataset.key_pts_frame)\n",
    "transformed_dataset.key_pts_frame.head()"
   ]
  },
  {
   "cell_type": "markdown",
   "metadata": {},
   "source": [
    "## Batching and loading data\n",
    "\n",
    "Next, having defined the transformed dataset, we can use PyTorch's DataLoader class to load the training data in batches of whatever size as well as to shuffle the data for training the model. You can read more about the parameters of the DataLoader, in [this documentation](http://pytorch.org/docs/master/data.html).\n",
    "\n",
    "#### Batch size\n",
    "Decide on a good batch size for training your model. Try both small and large batch sizes and note how the loss decreases as the model trains.\n",
    "\n",
    "**Note for Windows users**: Please change the `num_workers` to 0 or you may face some issues with your DataLoader failing."
   ]
  },
  {
   "cell_type": "code",
   "execution_count": 38,
   "metadata": {},
   "outputs": [],
   "source": [
    "# load training data in batches\n",
    "batch_size = 10\n",
    "# batch_size = 64\n",
    "\n",
    "train_loader = DataLoader(transformed_dataset, \n",
    "                          batch_size=batch_size,\n",
    "                          shuffle=True, \n",
    "                          num_workers=4)\n"
   ]
  },
  {
   "cell_type": "markdown",
   "metadata": {},
   "source": [
    "## Before training\n",
    "\n",
    "Take a look at how this model performs before it trains. You should see that the keypoints it predicts start off in one spot and don't match the keypoints on a face at all! It's interesting to visualize this behavior so that you can compare it to the model after training and see how the model has improved.\n",
    "\n",
    "#### Load in the test dataset\n",
    "\n",
    "The test dataset is one that this model has *not* seen before, meaning it has not trained with these images. We'll load in this test data and before and after training, see how your model performs on this set!\n",
    "\n",
    "To visualize this test data, we have to go through some un-transformation steps to turn our images into python images from tensors and to turn our keypoints back into a recognizable range. "
   ]
  },
  {
   "cell_type": "code",
   "execution_count": 39,
   "metadata": {},
   "outputs": [],
   "source": [
    "# load in the test data, using the dataset class\n",
    "# AND apply the data_transform you defined above\n",
    "\n",
    "# create the test dataset\n",
    "# test_dataset = FacialKeypointsDataset(csv_file='data/test_frames_keypoints.csv',\n",
    "#                                              root_dir='data/test/',\n",
    "#                                              transform=data_transform)\n",
    "\n",
    "test_dataset = FacialKeypointsDataset(csv_file=os.path.join(data_path, 'test_frames_keypoints.csv'),\n",
    "                                             root_dir=os.path.join(data_path, 'test/'),\n",
    "                                             transform=data_transform)"
   ]
  },
  {
   "cell_type": "code",
   "execution_count": 41,
   "metadata": {},
   "outputs": [],
   "source": [
    "# load test data in batches\n",
    "\n",
    "# Let's just use the same batch size as the training dataset.\n",
    "batch_size = 10\n",
    "# batch_size = 64\n",
    "\n",
    "test_loader = DataLoader(test_dataset, \n",
    "                          batch_size=batch_size,\n",
    "                          shuffle=True, \n",
    "                          num_workers=4)"
   ]
  },
  {
   "cell_type": "markdown",
   "metadata": {},
   "source": [
    "## 3. Apply the model on a test sample\n",
    "\n",
    "To test the model on a test sample of data, you have to follow these steps:\n",
    "1. Extract the image and ground truth keypoints from a sample\n",
    "2. Make sure the image is a FloatTensor, which the model expects.\n",
    "3. Forward pass the image through the net to get the predicted, output keypoints.\n",
    "\n",
    "This function test how the network performs on the first batch of test data. It returns the images, the transformed images, the predicted keypoints (produced by the model), and the ground truth keypoints."
   ]
  },
  {
   "cell_type": "code",
   "execution_count": 42,
   "metadata": {},
   "outputs": [],
   "source": [
    "# test the model on a batch of test images\n",
    "\n",
    "def net_sample_output():\n",
    "    \n",
    "    # iterate through the test dataset\n",
    "    for i, sample in enumerate(test_loader):\n",
    "        \n",
    "        # get sample data: images and ground truth keypoints\n",
    "        images = sample['image']\n",
    "        key_pts = sample['keypoints']\n",
    "\n",
    "        # convert images to FloatTensors\n",
    "        images = images.type(torch.FloatTensor)\n",
    "\n",
    "        # forward pass to get net output\n",
    "        output_pts = net(images)\n",
    "        \n",
    "        # reshape to batch_size x 68 x 2 pts\n",
    "        output_pts = output_pts.view(output_pts.size()[0], 68, -1)\n",
    "        \n",
    "        # break after first image is tested\n",
    "        if i == 0:\n",
    "            return images, output_pts, key_pts\n",
    "            "
   ]
  },
  {
   "cell_type": "markdown",
   "metadata": {},
   "source": [
    "#### Debugging tips\n",
    "\n",
    "If you get a size or dimension error here, make sure that your network outputs the expected number of keypoints! Or if you get a Tensor type error, look into changing the above code that casts the data into float types: `images = images.type(torch.FloatTensor)`."
   ]
  },
  {
   "cell_type": "code",
   "execution_count": 43,
   "metadata": {},
   "outputs": [
    {
     "name": "stderr",
     "output_type": "stream",
     "text": [
      "/home/workspace/data_load.py:43: FutureWarning: Method .as_matrix will be removed in a future version. Use .values instead.\n",
      "  key_pts = self.key_pts_frame.iloc[idx, 1:].as_matrix()\n",
      "/home/workspace/data_load.py:43: FutureWarning: Method .as_matrix will be removed in a future version. Use .values instead.\n",
      "  key_pts = self.key_pts_frame.iloc[idx, 1:].as_matrix()\n",
      "/home/workspace/data_load.py:43: FutureWarning: Method .as_matrix will be removed in a future version. Use .values instead.\n",
      "  key_pts = self.key_pts_frame.iloc[idx, 1:].as_matrix()\n",
      "/home/workspace/data_load.py:43: FutureWarning: Method .as_matrix will be removed in a future version. Use .values instead.\n",
      "  key_pts = self.key_pts_frame.iloc[idx, 1:].as_matrix()\n"
     ]
    },
    {
     "name": "stdout",
     "output_type": "stream",
     "text": [
      "torch.Size([10, 1, 224, 224])\n",
      "torch.Size([10, 68, 2])\n",
      "torch.Size([10, 68, 2])\n"
     ]
    }
   ],
   "source": [
    "# call the above function\n",
    "# returns: test images, test predicted keypoints, test ground truth keypoints\n",
    "test_images, test_outputs, gt_pts = net_sample_output()\n",
    "\n",
    "# print out the dimensions of the data to see if they make sense\n",
    "print(test_images.data.size())\n",
    "print(test_outputs.data.size())\n",
    "print(gt_pts.size())"
   ]
  },
  {
   "cell_type": "markdown",
   "metadata": {},
   "source": [
    "## Visualize the predicted keypoints\n",
    "\n",
    "Once we've had the model produce some predicted output keypoints, we can visualize these points in a way that's similar to how we've displayed this data before, only this time, we have to \"un-transform\" the image/keypoint data to display it.\n",
    "\n",
    "Note that I've defined a *new* function, `show_all_keypoints` that displays a grayscale image, its predicted keypoints and its ground truth keypoints (if provided)."
   ]
  },
  {
   "cell_type": "code",
   "execution_count": 44,
   "metadata": {},
   "outputs": [],
   "source": [
    "def show_all_keypoints(image, predicted_key_pts, gt_pts=None):\n",
    "    \"\"\"Show image with predicted keypoints\"\"\"\n",
    "    # image is grayscale\n",
    "    plt.imshow(image, cmap='gray')\n",
    "    plt.scatter(predicted_key_pts[:, 0], predicted_key_pts[:, 1], s=20, marker='.', c='m')\n",
    "    # plot ground truth points as green pts\n",
    "    if gt_pts is not None:\n",
    "        plt.scatter(gt_pts[:, 0], gt_pts[:, 1], s=20, marker='.', c='g')\n"
   ]
  },
  {
   "cell_type": "markdown",
   "metadata": {},
   "source": [
    "#### Un-transformation\n",
    "\n",
    "Next, you'll see a helper function. `visualize_output` that takes in a batch of images, predicted keypoints, and ground truth keypoints and displays a set of those images and their true/predicted keypoints.\n",
    "\n",
    "This function's main role is to take batches of image and keypoint data (the input and output of your CNN), and transform them into numpy images and un-normalized keypoints (x, y) for normal display. The un-transformation process turns keypoints and images into numpy arrays from Tensors *and* it undoes the keypoint normalization done in the Normalize() transform; it's assumed that you applied these transformations when you loaded your test data."
   ]
  },
  {
   "cell_type": "code",
   "execution_count": 45,
   "metadata": {},
   "outputs": [
    {
     "data": {
      "image/png": "[encoded data removed]",
      "text/plain": [
       "<matplotlib.figure.Figure at 0x7fe912eca550>"
      ]
     },
     "metadata": {
      "needs_background": "light"
     },
     "output_type": "display_data"
    },
    {
     "data": {
      "image/png": "[encoded data removed]",
      "text/plain": [
       "<matplotlib.figure.Figure at 0x7fe912d868d0>"
      ]
     },
     "metadata": {
      "needs_background": "light"
     },
     "output_type": "display_data"
    },
    {
     "data": {
      "image/png": "[encoded data removed]",
      "text/plain": [
       "<matplotlib.figure.Figure at 0x7fe912d49978>"
      ]
     },
     "metadata": {
      "needs_background": "light"
     },
     "output_type": "display_data"
    },
    {
     "data": {
      "image/png": "[encoded data removed]",
      "text/plain": [
       "<matplotlib.figure.Figure at 0x7fe912cfea58>"
      ]
     },
     "metadata": {
      "needs_background": "light"
     },
     "output_type": "display_data"
    },
    {
     "data": {
      "image/png": "[encoded data removed]",
      "text/plain": [
       "<matplotlib.figure.Figure at 0x7fe912cc9e80>"
      ]
     },
     "metadata": {
      "needs_background": "light"
     },
     "output_type": "display_data"
    },
    {
     "data": {
      "image/png": "[encoded data removed]",
      "text/plain": [
       "<matplotlib.figure.Figure at 0x7fe912c89c18>"
      ]
     },
     "metadata": {
      "needs_background": "light"
     },
     "output_type": "display_data"
    },
    {
     "data": {
      "image/png": "[encoded data removed]",
      "text/plain": [
       "<matplotlib.figure.Figure at 0x7fe912c4acf8>"
      ]
     },
     "metadata": {
      "needs_background": "light"
     },
     "output_type": "display_data"
    },
    {
     "data": {
      "image/png": "[encoded data removed]",
      "text/plain": [
       "<matplotlib.figure.Figure at 0x7fe912c01898>"
      ]
     },
     "metadata": {
      "needs_background": "light"
     },
     "output_type": "display_data"
    },
    {
     "data": {
      "image/png": "[encoded data removed]",
      "text/plain": [
       "<matplotlib.figure.Figure at 0x7fe912bca978>"
      ]
     },
     "metadata": {
      "needs_background": "light"
     },
     "output_type": "display_data"
    },
    {
     "data": {
      "image/png": "[encoded data removed]",
      "text/plain": [
       "<matplotlib.figure.Figure at 0x7fe912b8fa58>"
      ]
     },
     "metadata": {
      "needs_background": "light"
     },
     "output_type": "display_data"
    }
   ],
   "source": [
    "# visualize the output\n",
    "# by default this shows a batch of 10 images\n",
    "def visualize_output(test_images, test_outputs, gt_pts=None, batch_size=10):\n",
    "\n",
    "    for i in range(batch_size):\n",
    "        plt.figure(figsize=(20,10))\n",
    "        ax = plt.subplot(1, batch_size, i+1)\n",
    "\n",
    "        # un-transform the image data\n",
    "        image = test_images[i].data   # get the image from it's wrapper\n",
    "        image = image.numpy()   # convert to numpy array from a Tensor\n",
    "        image = np.transpose(image, (1, 2, 0))   # transpose to go from torch to numpy image\n",
    "\n",
    "        # un-transform the predicted key_pts data\n",
    "        predicted_key_pts = test_outputs[i].data\n",
    "        predicted_key_pts = predicted_key_pts.numpy()\n",
    "        # undo normalization of keypoints  \n",
    "        predicted_key_pts = predicted_key_pts*50.0+100\n",
    "        \n",
    "        # plot ground truth points for comparison, if they exist\n",
    "        ground_truth_pts = None\n",
    "        if gt_pts is not None:\n",
    "            ground_truth_pts = gt_pts[i]         \n",
    "            ground_truth_pts = ground_truth_pts*50.0+100\n",
    "        \n",
    "        # call show_all_keypoints\n",
    "        show_all_keypoints(np.squeeze(image), predicted_key_pts, ground_truth_pts)\n",
    "            \n",
    "        plt.axis('off')\n",
    "\n",
    "    plt.show()\n",
    "    \n",
    "# call it\n",
    "visualize_output(test_images, test_outputs, gt_pts)"
   ]
  },
  {
   "cell_type": "code",
   "execution_count": 46,
   "metadata": {
    "scrolled": true
   },
   "outputs": [
    {
     "data": {
      "text/plain": [
       "tensor([[-0.9800,  0.2231],\n",
       "        [-0.9800,  0.3892],\n",
       "        [-0.8689,  0.6662],\n",
       "        [-0.8133,  0.9431],\n",
       "        [-0.7578,  1.2200],\n",
       "        [-0.5911,  1.4415],\n",
       "        [-0.4800,  1.5523],\n",
       "        [-0.2578,  1.6631],\n",
       "        [ 0.0756,  1.7185],\n",
       "        [ 0.4089,  1.6631],\n",
       "        [ 0.6867,  1.4415],\n",
       "        [ 0.9089,  1.2754],\n",
       "        [ 0.9644,  1.0538],\n",
       "        [ 1.0200,  0.7215],\n",
       "        [ 1.0756,  0.5000],\n",
       "        [ 1.0756,  0.2231],\n",
       "        [ 1.0756,  0.0015],\n",
       "        [-0.8133, -0.0538],\n",
       "        [-0.7578, -0.1646],\n",
       "        [-0.5911, -0.1646],\n",
       "        [-0.4800, -0.1092],\n",
       "        [-0.3133, -0.1092],\n",
       "        [ 0.1867, -0.1092],\n",
       "        [ 0.3533, -0.1092],\n",
       "        [ 0.4644, -0.1646],\n",
       "        [ 0.6311, -0.1092],\n",
       "        [ 0.7422, -0.1092],\n",
       "        [-0.0911,  0.1677],\n",
       "        [-0.0911,  0.3338],\n",
       "        [-0.0911,  0.5554],\n",
       "        [-0.0911,  0.6662],\n",
       "        [-0.2022,  0.8323],\n",
       "        [-0.1467,  0.8323],\n",
       "        [ 0.0200,  0.8323],\n",
       "        [ 0.0756,  0.8323],\n",
       "        [ 0.1311,  0.7769],\n",
       "        [-0.5911,  0.1123],\n",
       "        [-0.5356,  0.0569],\n",
       "        [-0.4244,  0.0569],\n",
       "        [-0.2578,  0.1677],\n",
       "        [-0.4244,  0.2231],\n",
       "        [-0.5356,  0.1123],\n",
       "        [ 0.1867,  0.1677],\n",
       "        [ 0.3533,  0.0569],\n",
       "        [ 0.4644,  0.1123],\n",
       "        [ 0.6311,  0.1123],\n",
       "        [ 0.4644,  0.1677],\n",
       "        [ 0.3533,  0.1677],\n",
       "        [-0.2578,  1.1092],\n",
       "        [-0.2022,  1.0538],\n",
       "        [-0.0911,  1.0538],\n",
       "        [ 0.0200,  1.0538],\n",
       "        [ 0.0756,  1.0538],\n",
       "        [ 0.1867,  1.0538],\n",
       "        [ 0.3533,  1.1092],\n",
       "        [ 0.1867,  1.2200],\n",
       "        [ 0.1311,  1.2200],\n",
       "        [ 0.0200,  1.3308],\n",
       "        [-0.0911,  1.3308],\n",
       "        [-0.2022,  1.2200],\n",
       "        [-0.2578,  1.1092],\n",
       "        [-0.0911,  1.1092],\n",
       "        [ 0.0200,  1.1092],\n",
       "        [ 0.1311,  1.1092],\n",
       "        [ 0.3533,  1.1092],\n",
       "        [ 0.1311,  1.1646],\n",
       "        [ 0.0200,  1.1646],\n",
       "        [-0.0911,  1.1646]], dtype=torch.float64)"
      ]
     },
     "execution_count": 46,
     "metadata": {},
     "output_type": "execute_result"
    }
   ],
   "source": [
    "gt_pts[0]"
   ]
  },
  {
   "cell_type": "code",
   "execution_count": 47,
   "metadata": {},
   "outputs": [
    {
     "name": "stdout",
     "output_type": "stream",
     "text": [
      "0.105987\n",
      "-0.117176\n"
     ]
    }
   ],
   "source": [
    "np_test_rst = test_outputs[0].data.numpy()\n",
    "print(np_test_rst.max())\n",
    "print(np_test_rst.min())"
   ]
  },
  {
   "cell_type": "markdown",
   "metadata": {},
   "source": [
    "## 4. Training\n",
    "\n",
    "#### Loss function\n",
    "Training a network to predict keypoints is different than training a network to predict a class; instead of outputting a distribution of classes and using cross entropy loss, you may want to choose a loss function that is suited for regression, which directly compares a predicted value and target value. Read about the various kinds of loss functions (like MSE or L1/SmoothL1 loss) in [this documentation](http://pytorch.org/docs/master/_modules/torch/nn/modules/loss.html).\n",
    "\n",
    "### TODO: Define the loss and optimization\n",
    "\n",
    "Next, you'll define how the model will train by deciding on the loss function and optimizer.\n",
    "\n",
    "---"
   ]
  },
  {
   "cell_type": "code",
   "execution_count": 48,
   "metadata": {},
   "outputs": [],
   "source": [
    "## TODO: Define the loss and optimization\n",
    "import torch.optim as optim\n",
    "\n",
    "criterion = nn.MSELoss()\n",
    "\n",
    "optimizer = optim.Adam(params=net.parameters())\n"
   ]
  },
  {
   "cell_type": "markdown",
   "metadata": {},
   "source": [
    "## Training and Initial Observation\n",
    "\n",
    "Now, you'll train on your batched training data from `train_loader` for a number of epochs. \n",
    "\n",
    "To quickly observe how your model is training and decide on whether or not you should modify it's structure or hyperparameters, you're encouraged to start off with just one or two epochs at first. As you train, note how your the model's loss behaves over time: does it decrease quickly at first and then slow down? Does it take a while to decrease in the first place? What happens if you change the batch size of your training data or modify your loss function? etc. \n",
    "\n",
    "Use these initial observations to make changes to your model and decide on the best architecture before you train for many epochs and create a final model."
   ]
  },
  {
   "cell_type": "code",
   "execution_count": 49,
   "metadata": {},
   "outputs": [],
   "source": [
    "def train_net(n_epochs):\n",
    "\n",
    "    # prepare the net for training\n",
    "    net.train()\n",
    "    loss_list = []\n",
    "\n",
    "    for epoch in range(n_epochs):  # loop over the dataset multiple times\n",
    "        \n",
    "        running_loss = 0.0\n",
    "\n",
    "        # train on batches of data, assumes you already have train_loader\n",
    "        for batch_i, data in enumerate(train_loader):\n",
    "            # get the input images and their corresponding labels\n",
    "            images = data['image']\n",
    "            key_pts = data['keypoints']\n",
    "\n",
    "            # flatten pts\n",
    "            key_pts = key_pts.view(key_pts.size(0), -1)\n",
    "\n",
    "            # convert variables to floats for regression loss\n",
    "            key_pts = key_pts.type(torch.FloatTensor)\n",
    "            images = images.type(torch.FloatTensor)\n",
    "\n",
    "            # forward pass to get outputs\n",
    "            output_pts = net(images)\n",
    "\n",
    "            # calculate the loss between predicted and target keypoints\n",
    "            loss = criterion(output_pts, key_pts)\n",
    "\n",
    "            # zero the parameter (weight) gradients\n",
    "            optimizer.zero_grad()\n",
    "            \n",
    "            # backward pass to calculate the weight gradients\n",
    "            loss.backward()\n",
    "\n",
    "            # update the weights\n",
    "            optimizer.step()\n",
    "            \n",
    "            # print('Epoch: {}, Batch: {}, Avg. Loss: {}'.format(epoch + 1, batch_i+1, loss.item()/1000))\n",
    "\n",
    "            # print loss statistics\n",
    "            # to convert loss into a scalar and add it to the running_loss, use .item()\n",
    "            running_loss += loss.item()\n",
    "            if batch_i % 10 == 9:    # print every 10 batches\n",
    "                print('Epoch: {}, Batch: {}, Avg. Loss: {}'.format(epoch + 1, batch_i+1, running_loss/1000))\n",
    "                loss_list.append(running_loss)\n",
    "#                 if len(loss_list) % 100 == 99:\n",
    "#                     np.save(\"loss_list_batch128\", np.array(loss_list))\n",
    "#                 running_loss = 0.0\n",
    "                \n",
    "    return loss_list\n",
    "\n",
    "    print('Finished Training')\n"
   ]
  },
  {
   "cell_type": "code",
   "execution_count": 50,
   "metadata": {},
   "outputs": [
    {
     "name": "stderr",
     "output_type": "stream",
     "text": [
      "/home/workspace/data_load.py:43: FutureWarning: Method .as_matrix will be removed in a future version. Use .values instead.\n",
      "  key_pts = self.key_pts_frame.iloc[idx, 1:].as_matrix()\n",
      "/home/workspace/data_load.py:43: FutureWarning: Method .as_matrix will be removed in a future version. Use .values instead.\n",
      "  key_pts = self.key_pts_frame.iloc[idx, 1:].as_matrix()\n",
      "/home/workspace/data_load.py:43: FutureWarning: Method .as_matrix will be removed in a future version. Use .values instead.\n",
      "  key_pts = self.key_pts_frame.iloc[idx, 1:].as_matrix()\n",
      "/home/workspace/data_load.py:43: FutureWarning: Method .as_matrix will be removed in a future version. Use .values instead.\n",
      "  key_pts = self.key_pts_frame.iloc[idx, 1:].as_matrix()\n"
     ]
    },
    {
     "name": "stdout",
     "output_type": "stream",
     "text": [
      "Epoch: 1, Batch: 10, Avg. Loss: 0.004873646110296249\n",
      "Epoch: 1, Batch: 20, Avg. Loss: 0.008969122067093849\n",
      "Epoch: 1, Batch: 30, Avg. Loss: 0.011650397196412086\n",
      "Epoch: 1, Batch: 40, Avg. Loss: 0.014377092748880386\n",
      "Epoch: 1, Batch: 50, Avg. Loss: 0.016789876386523246\n",
      "Epoch: 1, Batch: 60, Avg. Loss: 0.019268321469426156\n",
      "Epoch: 1, Batch: 70, Avg. Loss: 0.021516284212470056\n",
      "Epoch: 1, Batch: 80, Avg. Loss: 0.023642941281199457\n",
      "Epoch: 1, Batch: 90, Avg. Loss: 0.026068222492933273\n",
      "Epoch: 1, Batch: 100, Avg. Loss: 0.028217239931225775\n",
      "Epoch: 1, Batch: 110, Avg. Loss: 0.030301678590476513\n",
      "Epoch: 1, Batch: 120, Avg. Loss: 0.032187786094844344\n",
      "Epoch: 1, Batch: 130, Avg. Loss: 0.03456594652682543\n",
      "Epoch: 1, Batch: 140, Avg. Loss: 0.036442922405898574\n",
      "Epoch: 1, Batch: 150, Avg. Loss: 0.038797154314816\n",
      "Epoch: 1, Batch: 160, Avg. Loss: 0.040801744967699054\n",
      "Epoch: 1, Batch: 170, Avg. Loss: 0.042736227169632914\n",
      "Epoch: 1, Batch: 180, Avg. Loss: 0.04515537364780903\n",
      "Epoch: 1, Batch: 190, Avg. Loss: 0.04726694368571043\n",
      "Epoch: 1, Batch: 200, Avg. Loss: 0.04938038667291403\n",
      "Epoch: 1, Batch: 210, Avg. Loss: 0.0513826441988349\n",
      "Epoch: 1, Batch: 220, Avg. Loss: 0.053055462270975115\n",
      "Epoch: 1, Batch: 230, Avg. Loss: 0.05542636565864086\n",
      "Epoch: 1, Batch: 240, Avg. Loss: 0.05791047503054142\n",
      "Epoch: 1, Batch: 250, Avg. Loss: 0.05989853470027447\n",
      "Epoch: 1, Batch: 260, Avg. Loss: 0.06185690584778786\n",
      "Epoch: 1, Batch: 270, Avg. Loss: 0.0642601101398468\n",
      "Epoch: 1, Batch: 280, Avg. Loss: 0.06641852604597807\n",
      "Epoch: 1, Batch: 290, Avg. Loss: 0.06865701548010111\n",
      "Epoch: 1, Batch: 300, Avg. Loss: 0.07031773411482573\n",
      "Epoch: 1, Batch: 310, Avg. Loss: 0.07219799578934907\n",
      "Epoch: 1, Batch: 320, Avg. Loss: 0.0743286876231432\n",
      "Epoch: 1, Batch: 330, Avg. Loss: 0.07657462805509567\n",
      "Epoch: 1, Batch: 340, Avg. Loss: 0.07866820859909057\n"
     ]
    },
    {
     "name": "stderr",
     "output_type": "stream",
     "text": [
      "/home/workspace/data_load.py:43: FutureWarning: Method .as_matrix will be removed in a future version. Use .values instead.\n",
      "  key_pts = self.key_pts_frame.iloc[idx, 1:].as_matrix()\n",
      "/home/workspace/data_load.py:43: FutureWarning: Method .as_matrix will be removed in a future version. Use .values instead.\n",
      "  key_pts = self.key_pts_frame.iloc[idx, 1:].as_matrix()\n",
      "/home/workspace/data_load.py:43: FutureWarning: Method .as_matrix will be removed in a future version. Use .values instead.\n",
      "  key_pts = self.key_pts_frame.iloc[idx, 1:].as_matrix()\n",
      "/home/workspace/data_load.py:43: FutureWarning: Method .as_matrix will be removed in a future version. Use .values instead.\n",
      "  key_pts = self.key_pts_frame.iloc[idx, 1:].as_matrix()\n"
     ]
    },
    {
     "name": "stdout",
     "output_type": "stream",
     "text": [
      "Epoch: 2, Batch: 10, Avg. Loss: 0.0019784860163927077\n",
      "Epoch: 2, Batch: 20, Avg. Loss: 0.004141201257705688\n",
      "Epoch: 2, Batch: 30, Avg. Loss: 0.005784801639616489\n",
      "Epoch: 2, Batch: 40, Avg. Loss: 0.008362080797553063\n",
      "Epoch: 2, Batch: 50, Avg. Loss: 0.010280644737184048\n",
      "Epoch: 2, Batch: 60, Avg. Loss: 0.012110237300395966\n",
      "Epoch: 2, Batch: 70, Avg. Loss: 0.014256259739398956\n",
      "Epoch: 2, Batch: 80, Avg. Loss: 0.018726048819720745\n",
      "Epoch: 2, Batch: 90, Avg. Loss: 0.02087075851112604\n",
      "Epoch: 2, Batch: 100, Avg. Loss: 0.0230571403875947\n",
      "Epoch: 2, Batch: 110, Avg. Loss: 0.024979781597852708\n",
      "Epoch: 2, Batch: 120, Avg. Loss: 0.02670638619363308\n",
      "Epoch: 2, Batch: 130, Avg. Loss: 0.02861958795785904\n",
      "Epoch: 2, Batch: 140, Avg. Loss: 0.030628497809171675\n",
      "Epoch: 2, Batch: 150, Avg. Loss: 0.03227542215585709\n",
      "Epoch: 2, Batch: 160, Avg. Loss: 0.03442897225916386\n",
      "Epoch: 2, Batch: 170, Avg. Loss: 0.036556618362665175\n",
      "Epoch: 2, Batch: 180, Avg. Loss: 0.040056816175580025\n",
      "Epoch: 2, Batch: 190, Avg. Loss: 0.04173523484915495\n",
      "Epoch: 2, Batch: 200, Avg. Loss: 0.04371339479833841\n",
      "Epoch: 2, Batch: 210, Avg. Loss: 0.04558393890410662\n",
      "Epoch: 2, Batch: 220, Avg. Loss: 0.0474933238402009\n",
      "Epoch: 2, Batch: 230, Avg. Loss: 0.04932750035077334\n",
      "Epoch: 2, Batch: 240, Avg. Loss: 0.05100757392495871\n",
      "Epoch: 2, Batch: 250, Avg. Loss: 0.05259509764611721\n",
      "Epoch: 2, Batch: 260, Avg. Loss: 0.05482215588539839\n",
      "Epoch: 2, Batch: 270, Avg. Loss: 0.05714192321896553\n",
      "Epoch: 2, Batch: 280, Avg. Loss: 0.05937021849304438\n",
      "Epoch: 2, Batch: 290, Avg. Loss: 0.061677822738885876\n",
      "Epoch: 2, Batch: 300, Avg. Loss: 0.06330920263379812\n",
      "Epoch: 2, Batch: 310, Avg. Loss: 0.06497325091063977\n",
      "Epoch: 2, Batch: 320, Avg. Loss: 0.06687973909825086\n",
      "Epoch: 2, Batch: 330, Avg. Loss: 0.06907508420944214\n",
      "Epoch: 2, Batch: 340, Avg. Loss: 0.07110823884606361\n"
     ]
    },
    {
     "name": "stderr",
     "output_type": "stream",
     "text": [
      "/home/workspace/data_load.py:43: FutureWarning: Method .as_matrix will be removed in a future version. Use .values instead.\n",
      "  key_pts = self.key_pts_frame.iloc[idx, 1:].as_matrix()\n",
      "/home/workspace/data_load.py:43: FutureWarning: Method .as_matrix will be removed in a future version. Use .values instead.\n",
      "  key_pts = self.key_pts_frame.iloc[idx, 1:].as_matrix()\n",
      "/home/workspace/data_load.py:43: FutureWarning: Method .as_matrix will be removed in a future version. Use .values instead.\n",
      "  key_pts = self.key_pts_frame.iloc[idx, 1:].as_matrix()\n",
      "/home/workspace/data_load.py:43: FutureWarning: Method .as_matrix will be removed in a future version. Use .values instead.\n",
      "  key_pts = self.key_pts_frame.iloc[idx, 1:].as_matrix()\n"
     ]
    },
    {
     "name": "stdout",
     "output_type": "stream",
     "text": [
      "Epoch: 3, Batch: 10, Avg. Loss: 0.0018759532272815704\n",
      "Epoch: 3, Batch: 20, Avg. Loss: 0.0038379757404327394\n",
      "Epoch: 3, Batch: 30, Avg. Loss: 0.0056072275638580325\n",
      "Epoch: 3, Batch: 40, Avg. Loss: 0.007557829007506371\n",
      "Epoch: 3, Batch: 50, Avg. Loss: 0.00949952920526266\n",
      "Epoch: 3, Batch: 60, Avg. Loss: 0.01148222168534994\n",
      "Epoch: 3, Batch: 70, Avg. Loss: 0.013624034568667412\n",
      "Epoch: 3, Batch: 80, Avg. Loss: 0.015577695116400718\n",
      "Epoch: 3, Batch: 90, Avg. Loss: 0.017808048099279404\n",
      "Epoch: 3, Batch: 100, Avg. Loss: 0.019487440034747124\n",
      "Epoch: 3, Batch: 110, Avg. Loss: 0.02098906455934048\n",
      "Epoch: 3, Batch: 120, Avg. Loss: 0.02331783713400364\n",
      "Epoch: 3, Batch: 130, Avg. Loss: 0.02546071369200945\n",
      "Epoch: 3, Batch: 140, Avg. Loss: 0.027336069434881212\n",
      "Epoch: 3, Batch: 150, Avg. Loss: 0.02944910640269518\n",
      "Epoch: 3, Batch: 160, Avg. Loss: 0.03182175024598837\n",
      "Epoch: 3, Batch: 170, Avg. Loss: 0.03363098805397749\n",
      "Epoch: 3, Batch: 180, Avg. Loss: 0.035632323488593104\n",
      "Epoch: 3, Batch: 190, Avg. Loss: 0.03779909621179104\n",
      "Epoch: 3, Batch: 200, Avg. Loss: 0.03971355504542589\n",
      "Epoch: 3, Batch: 210, Avg. Loss: 0.04185783391445875\n",
      "Epoch: 3, Batch: 220, Avg. Loss: 0.043924058645963666\n",
      "Epoch: 3, Batch: 230, Avg. Loss: 0.04559155998378992\n",
      "Epoch: 3, Batch: 240, Avg. Loss: 0.04746735455095768\n",
      "Epoch: 3, Batch: 250, Avg. Loss: 0.04924474549293518\n",
      "Epoch: 3, Batch: 260, Avg. Loss: 0.051182437643408775\n",
      "Epoch: 3, Batch: 270, Avg. Loss: 0.05314065536856651\n",
      "Epoch: 3, Batch: 280, Avg. Loss: 0.05542120075970888\n",
      "Epoch: 3, Batch: 290, Avg. Loss: 0.0598922223970294\n",
      "Epoch: 3, Batch: 300, Avg. Loss: 0.06157937990128994\n",
      "Epoch: 3, Batch: 310, Avg. Loss: 0.06344665456563234\n",
      "Epoch: 3, Batch: 320, Avg. Loss: 0.06537259478121996\n",
      "Epoch: 3, Batch: 330, Avg. Loss: 0.06720225941389799\n",
      "Epoch: 3, Batch: 340, Avg. Loss: 0.06918408385664225\n"
     ]
    },
    {
     "name": "stderr",
     "output_type": "stream",
     "text": [
      "/home/workspace/data_load.py:43: FutureWarning: Method .as_matrix will be removed in a future version. Use .values instead.\n",
      "  key_pts = self.key_pts_frame.iloc[idx, 1:].as_matrix()\n",
      "/home/workspace/data_load.py:43: FutureWarning: Method .as_matrix will be removed in a future version. Use .values instead.\n",
      "  key_pts = self.key_pts_frame.iloc[idx, 1:].as_matrix()\n",
      "/home/workspace/data_load.py:43: FutureWarning: Method .as_matrix will be removed in a future version. Use .values instead.\n",
      "  key_pts = self.key_pts_frame.iloc[idx, 1:].as_matrix()\n",
      "/home/workspace/data_load.py:43: FutureWarning: Method .as_matrix will be removed in a future version. Use .values instead.\n",
      "  key_pts = self.key_pts_frame.iloc[idx, 1:].as_matrix()\n"
     ]
    },
    {
     "name": "stdout",
     "output_type": "stream",
     "text": [
      "Epoch: 4, Batch: 10, Avg. Loss: 0.0017060948237776756\n",
      "Epoch: 4, Batch: 20, Avg. Loss: 0.003583191506564617\n",
      "Epoch: 4, Batch: 30, Avg. Loss: 0.005167626738548279\n",
      "Epoch: 4, Batch: 40, Avg. Loss: 0.007027788057923317\n",
      "Epoch: 4, Batch: 50, Avg. Loss: 0.008578352846205235\n",
      "Epoch: 4, Batch: 60, Avg. Loss: 0.010352378137409687\n",
      "Epoch: 4, Batch: 70, Avg. Loss: 0.012149682380259036\n",
      "Epoch: 4, Batch: 80, Avg. Loss: 0.013968711361289025\n",
      "Epoch: 4, Batch: 90, Avg. Loss: 0.01599477732181549\n",
      "Epoch: 4, Batch: 100, Avg. Loss: 0.018101816713809966\n",
      "Epoch: 4, Batch: 110, Avg. Loss: 0.02001831068098545\n",
      "Epoch: 4, Batch: 120, Avg. Loss: 0.021780003890395163\n",
      "Epoch: 4, Batch: 130, Avg. Loss: 0.023642505541443825\n",
      "Epoch: 4, Batch: 140, Avg. Loss: 0.025348368242383002\n",
      "Epoch: 4, Batch: 150, Avg. Loss: 0.027134434819221495\n",
      "Epoch: 4, Batch: 160, Avg. Loss: 0.02925963868945837\n",
      "Epoch: 4, Batch: 170, Avg. Loss: 0.030936002887785436\n",
      "Epoch: 4, Batch: 180, Avg. Loss: 0.03249477772414684\n",
      "Epoch: 4, Batch: 190, Avg. Loss: 0.03398716023564339\n",
      "Epoch: 4, Batch: 200, Avg. Loss: 0.035595013707876204\n",
      "Epoch: 4, Batch: 210, Avg. Loss: 0.03786245578527451\n",
      "Epoch: 4, Batch: 220, Avg. Loss: 0.039728094413876536\n",
      "Epoch: 4, Batch: 230, Avg. Loss: 0.04129366821050644\n",
      "Epoch: 4, Batch: 240, Avg. Loss: 0.0432774121388793\n",
      "Epoch: 4, Batch: 250, Avg. Loss: 0.04475817091017961\n",
      "Epoch: 4, Batch: 260, Avg. Loss: 0.046395711556077\n",
      "Epoch: 4, Batch: 270, Avg. Loss: 0.04840845164656639\n",
      "Epoch: 4, Batch: 280, Avg. Loss: 0.05022253479808569\n",
      "Epoch: 4, Batch: 290, Avg. Loss: 0.0520093642771244\n",
      "Epoch: 4, Batch: 300, Avg. Loss: 0.05431879774481058\n",
      "Epoch: 4, Batch: 310, Avg. Loss: 0.05617976416647434\n",
      "Epoch: 4, Batch: 320, Avg. Loss: 0.05975693540275097\n",
      "Epoch: 4, Batch: 330, Avg. Loss: 0.06148794510960579\n",
      "Epoch: 4, Batch: 340, Avg. Loss: 0.06298216149955987\n"
     ]
    },
    {
     "name": "stderr",
     "output_type": "stream",
     "text": [
      "/home/workspace/data_load.py:43: FutureWarning: Method .as_matrix will be removed in a future version. Use .values instead.\n",
      "  key_pts = self.key_pts_frame.iloc[idx, 1:].as_matrix()\n",
      "/home/workspace/data_load.py:43: FutureWarning: Method .as_matrix will be removed in a future version. Use .values instead.\n",
      "  key_pts = self.key_pts_frame.iloc[idx, 1:].as_matrix()\n",
      "/home/workspace/data_load.py:43: FutureWarning: Method .as_matrix will be removed in a future version. Use .values instead.\n",
      "  key_pts = self.key_pts_frame.iloc[idx, 1:].as_matrix()\n",
      "/home/workspace/data_load.py:43: FutureWarning: Method .as_matrix will be removed in a future version. Use .values instead.\n",
      "  key_pts = self.key_pts_frame.iloc[idx, 1:].as_matrix()\n"
     ]
    },
    {
     "name": "stdout",
     "output_type": "stream",
     "text": [
      "Epoch: 5, Batch: 10, Avg. Loss: 0.0023911658972501754\n",
      "Epoch: 5, Batch: 20, Avg. Loss: 0.004153068944811821\n",
      "Epoch: 5, Batch: 30, Avg. Loss: 0.0060265779197216035\n",
      "Epoch: 5, Batch: 40, Avg. Loss: 0.007914280727505683\n",
      "Epoch: 5, Batch: 50, Avg. Loss: 0.009851471237838269\n",
      "Epoch: 5, Batch: 60, Avg. Loss: 0.011947227984666825\n",
      "Epoch: 5, Batch: 70, Avg. Loss: 0.01367597583681345\n",
      "Epoch: 5, Batch: 80, Avg. Loss: 0.015967802330851554\n",
      "Epoch: 5, Batch: 90, Avg. Loss: 0.01791595232486725\n",
      "Epoch: 5, Batch: 100, Avg. Loss: 0.020002773657441138\n",
      "Epoch: 5, Batch: 110, Avg. Loss: 0.021828947730362414\n",
      "Epoch: 5, Batch: 120, Avg. Loss: 0.023251195803284646\n",
      "Epoch: 5, Batch: 130, Avg. Loss: 0.025124660320580007\n",
      "Epoch: 5, Batch: 140, Avg. Loss: 0.027050942666828632\n",
      "Epoch: 5, Batch: 150, Avg. Loss: 0.029011793293058873\n",
      "Epoch: 5, Batch: 160, Avg. Loss: 0.03104013969749212\n",
      "Epoch: 5, Batch: 170, Avg. Loss: 0.03315963567048311\n",
      "Epoch: 5, Batch: 180, Avg. Loss: 0.034763207495212556\n",
      "Epoch: 5, Batch: 190, Avg. Loss: 0.036585973903536795\n",
      "Epoch: 5, Batch: 200, Avg. Loss: 0.03834711246937513\n",
      "Epoch: 5, Batch: 210, Avg. Loss: 0.03996754811704159\n",
      "Epoch: 5, Batch: 220, Avg. Loss: 0.04151021759957075\n",
      "Epoch: 5, Batch: 230, Avg. Loss: 0.043237640015780926\n",
      "Epoch: 5, Batch: 240, Avg. Loss: 0.04493339585512877\n",
      "Epoch: 5, Batch: 250, Avg. Loss: 0.046889870934188366\n",
      "Epoch: 5, Batch: 260, Avg. Loss: 0.04862032617628574\n",
      "Epoch: 5, Batch: 270, Avg. Loss: 0.05027343498170376\n",
      "Epoch: 5, Batch: 280, Avg. Loss: 0.0522790607213974\n",
      "Epoch: 5, Batch: 290, Avg. Loss: 0.05424012077599764\n",
      "Epoch: 5, Batch: 300, Avg. Loss: 0.0565274249240756\n",
      "Epoch: 5, Batch: 310, Avg. Loss: 0.05831499959528446\n",
      "Epoch: 5, Batch: 320, Avg. Loss: 0.059903045520186424\n",
      "Epoch: 5, Batch: 330, Avg. Loss: 0.06170816011726856\n",
      "Epoch: 5, Batch: 340, Avg. Loss: 0.06363526180386543\n"
     ]
    }
   ],
   "source": [
    "# train your network\n",
    "n_epochs = 5 # start small, and increase when you've decided on your model structure and hyperparams\n",
    "\n",
    "loss_list = train_net(n_epochs)"
   ]
  },
  {
   "cell_type": "code",
   "execution_count": 45,
   "metadata": {},
   "outputs": [
    {
     "ename": "FileNotFoundError",
     "evalue": "[Errno 2] No such file or directory: 'loss_list.npy'",
     "output_type": "error",
     "traceback": [
      "\u001b[0;31m---------------------------------------------------------------------------\u001b[0m",
      "\u001b[0;31mFileNotFoundError\u001b[0m                         Traceback (most recent call last)",
      "\u001b[0;32m<ipython-input-45-6b475b28ed4d>\u001b[0m in \u001b[0;36m<module>\u001b[0;34m()\u001b[0m\n\u001b[0;32m----> 1\u001b[0;31m \u001b[0mloss_hist\u001b[0m \u001b[0;34m=\u001b[0m \u001b[0mnp\u001b[0m\u001b[0;34m.\u001b[0m\u001b[0mload\u001b[0m\u001b[0;34m(\u001b[0m\u001b[0;34m'loss_list.npy'\u001b[0m\u001b[0;34m)\u001b[0m\u001b[0;34m\u001b[0m\u001b[0m\n\u001b[0m\u001b[1;32m      2\u001b[0m \u001b[0mprint\u001b[0m\u001b[0;34m(\u001b[0m\u001b[0mloss_hist\u001b[0m\u001b[0;34m.\u001b[0m\u001b[0mshape\u001b[0m\u001b[0;34m)\u001b[0m\u001b[0;34m\u001b[0m\u001b[0m\n",
      "\u001b[0;32m/opt/conda/lib/python3.6/site-packages/numpy/lib/npyio.py\u001b[0m in \u001b[0;36mload\u001b[0;34m(file, mmap_mode, allow_pickle, fix_imports, encoding)\u001b[0m\n\u001b[1;32m    368\u001b[0m     \u001b[0mown_fid\u001b[0m \u001b[0;34m=\u001b[0m \u001b[0;32mFalse\u001b[0m\u001b[0;34m\u001b[0m\u001b[0m\n\u001b[1;32m    369\u001b[0m     \u001b[0;32mif\u001b[0m \u001b[0misinstance\u001b[0m\u001b[0;34m(\u001b[0m\u001b[0mfile\u001b[0m\u001b[0;34m,\u001b[0m \u001b[0mbasestring\u001b[0m\u001b[0;34m)\u001b[0m\u001b[0;34m:\u001b[0m\u001b[0;34m\u001b[0m\u001b[0m\n\u001b[0;32m--> 370\u001b[0;31m         \u001b[0mfid\u001b[0m \u001b[0;34m=\u001b[0m \u001b[0mopen\u001b[0m\u001b[0;34m(\u001b[0m\u001b[0mfile\u001b[0m\u001b[0;34m,\u001b[0m \u001b[0;34m\"rb\"\u001b[0m\u001b[0;34m)\u001b[0m\u001b[0;34m\u001b[0m\u001b[0m\n\u001b[0m\u001b[1;32m    371\u001b[0m         \u001b[0mown_fid\u001b[0m \u001b[0;34m=\u001b[0m \u001b[0;32mTrue\u001b[0m\u001b[0;34m\u001b[0m\u001b[0m\n\u001b[1;32m    372\u001b[0m     \u001b[0;32melif\u001b[0m \u001b[0mis_pathlib_path\u001b[0m\u001b[0;34m(\u001b[0m\u001b[0mfile\u001b[0m\u001b[0;34m)\u001b[0m\u001b[0;34m:\u001b[0m\u001b[0;34m\u001b[0m\u001b[0m\n",
      "\u001b[0;31mFileNotFoundError\u001b[0m: [Errno 2] No such file or directory: 'loss_list.npy'"
     ]
    }
   ],
   "source": [
    "loss_hist = np.load('loss_list.npy')\n",
    "print(loss_hist.shape)"
   ]
  },
  {
   "cell_type": "code",
   "execution_count": null,
   "metadata": {},
   "outputs": [],
   "source": [
    "def loss_hist_by_epoch(loss_10_batch):\n",
    "    # Convert the loss every 10 batches to the average loss per epoch (340 batches)\n",
    "    pnts_per_epoch = 34\n",
    "    n_pnt = loss_10_batch.shape[0]\n",
    "    \n",
    "    loss_per_epoch = []\n",
    "    i_start = 0\n",
    "    while i_start < n_pnt-1:\n",
    "        i_end = i_start + pnts_per_epoch\n",
    "        loss_per_epoch.append(loss_10_batch[i_start:i_end].mean())\n",
    "        i_start = i_end\n",
    "        \n",
    "    return loss_per_epoch\n",
    "    \n",
    "plt.plot(loss_hist_by_epoch(loss_hist))\n",
    "plt.xlabel('Epoch')\n",
    "plt.ylabel('1000 x MSE')"
   ]
  },
  {
   "cell_type": "markdown",
   "metadata": {},
   "source": [
    "## 5. Test data\n",
    "\n",
    "See how your model performs on previously unseen, test data. We've already loaded and transformed this data, similar to the training data. Next, run your trained model on these images to see what kind of keypoints are produced. You should be able to see if your model is fitting each new face it sees, if the points are distributed randomly, or if the points have actually overfitted the training data and do not generalize."
   ]
  },
  {
   "cell_type": "code",
   "execution_count": null,
   "metadata": {},
   "outputs": [],
   "source": [
    "# get a sample of test data again\n",
    "test_images, test_outputs, gt_pts = net_sample_output()\n",
    "\n",
    "print(test_images.data.size())\n",
    "print(test_outputs.data.size())\n",
    "print(gt_pts.size())"
   ]
  },
  {
   "cell_type": "code",
   "execution_count": null,
   "metadata": {},
   "outputs": [],
   "source": [
    "# def untransform_keypoints(output_pnts):\n",
    "#     # Convert the output from the neural network back into meaningful point locations\n",
    "    \n",
    "#     output_pnts = output_pnts.view(output_pnts.size()[0], 68, -1)\n",
    "#     output_pnts = output_pnts.data\n",
    "#     output_pnts = output_pnts.numpy()\n",
    "#     # print(output_pnts.shape)\n",
    "#     output_pnts = output_pnts * 50. + 100.\n",
    "    \n",
    "#     return output_pnts"
   ]
  },
  {
   "cell_type": "code",
   "execution_count": null,
   "metadata": {},
   "outputs": [],
   "source": [
    "# untransform_keypoints(test_outputs[0])"
   ]
  },
  {
   "cell_type": "code",
   "execution_count": null,
   "metadata": {},
   "outputs": [],
   "source": [
    "## TODO: visualize your test output\n",
    "# you can use the same function as before, by un-commenting the line below:\n",
    "\n",
    "visualize_output(test_images, test_outputs, gt_pts)"
   ]
  },
  {
   "cell_type": "markdown",
   "metadata": {},
   "source": [
    "Once you've found a good model (or two), save your model so you can load it and use it later!"
   ]
  },
  {
   "cell_type": "code",
   "execution_count": null,
   "metadata": {},
   "outputs": [],
   "source": [
    "## TODO: change the name to something uniqe for each new model\n",
    "model_dir = 'saved_models/'\n",
    "model_name = 'keypoints_model_1.pt'\n",
    "\n",
    "# after training, save your model parameters in the dir 'saved_models'\n",
    "torch.save(net.state_dict(), model_dir+model_name)"
   ]
  },
  {
   "cell_type": "markdown",
   "metadata": {},
   "source": [
    "After you've trained a well-performing model, answer the following questions so that we have some insight into your training and architecture selection process. Answering all questions is required to pass this project."
   ]
  },
  {
   "cell_type": "markdown",
   "metadata": {},
   "source": [
    "### Question 1: What optimization and loss functions did you choose and why?\n"
   ]
  },
  {
   "cell_type": "markdown",
   "metadata": {},
   "source": [
    "**Answer**: write your answer here (double click to edit this cell)"
   ]
  },
  {
   "cell_type": "markdown",
   "metadata": {},
   "source": [
    "### Question 2: What kind of network architecture did you start with and how did it change as you tried different architectures? Did you decide to add more convolutional layers or any layers to avoid overfitting the data?"
   ]
  },
  {
   "cell_type": "markdown",
   "metadata": {},
   "source": [
    "**Answer**: write your answer here"
   ]
  },
  {
   "cell_type": "markdown",
   "metadata": {},
   "source": [
    "### Question 3: How did you decide on the number of epochs and batch_size to train your model?"
   ]
  },
  {
   "cell_type": "markdown",
   "metadata": {},
   "source": [
    "**Answer**: write your answer here"
   ]
  },
  {
   "cell_type": "markdown",
   "metadata": {},
   "source": [
    "## 6. Feature Visualization\n",
    "\n",
    "Sometimes, neural networks are thought of as a black box, given some input, they learn to produce some output. CNN's are actually learning to recognize a variety of spatial patterns and you can visualize what each convolutional layer has been trained to recognize by looking at the weights that make up each convolutional kernel and applying those one at a time to a sample image. This technique is called feature visualization and it's useful for understanding the inner workings of a CNN."
   ]
  },
  {
   "cell_type": "markdown",
   "metadata": {},
   "source": [
    "In the cell below, you can see how to extract a single filter (by index) from your first convolutional layer. The filter should appear as a grayscale grid."
   ]
  },
  {
   "cell_type": "code",
   "execution_count": null,
   "metadata": {},
   "outputs": [],
   "source": [
    "# Get the weights in the first conv layer, \"conv1\"\n",
    "# if necessary, change this to reflect the name of your first conv layer\n",
    "weights1 = net.conv1.weight.data\n",
    "\n",
    "w = weights1.numpy()\n",
    "\n",
    "\n",
    "filter_index = 0\n",
    "print(w[filter_index][0])\n",
    "print(w[filter_index][0].shape)\n",
    "\n",
    "# display the filter weights\n",
    "fig, axes = plt.subplots(nrows=2, ncols=5, figsize=(15, 6))\n",
    "for i, ax in enumerate(axes.flat):\n",
    "    ax.imshow(w[i][0], cmap='gray')\n"
   ]
  },
  {
   "cell_type": "markdown",
   "metadata": {},
   "source": [
    "## Feature maps\n",
    "\n",
    "Each CNN has at least one convolutional layer that is composed of stacked filters (also known as convolutional kernels). As a CNN trains, it learns what weights to include in it's convolutional kernels and when these kernels are applied to some input image, they produce a set of **feature maps**. So, feature maps are just sets of filtered images; they are the images produced by applying a convolutional kernel to an input image. These maps show us the features that the different layers of the neural network learn to extract. For example, you might imagine a convolutional kernel that detects the vertical edges of a face or another one that detects the corners of eyes. You can see what kind of features each of these kernels detects by applying them to an image. One such example is shown below; from the way it brings out the lines in an the image, you might characterize this as an edge detection filter.\n",
    "\n",
    "<img src='images/feature_map_ex.png' width=50% height=50%/>\n",
    "\n",
    "\n",
    "Next, choose a test image and filter it with one of the convolutional kernels in your trained CNN; look at the filtered output to get an idea what that particular kernel detects.\n",
    "\n",
    "### TODO: Filter an image to see the effect of a convolutional kernel\n",
    "---"
   ]
  },
  {
   "cell_type": "code",
   "execution_count": null,
   "metadata": {},
   "outputs": [],
   "source": [
    "##TODO: load in and display any image from the transformed test dataset\n",
    "img_index = 3\n",
    "# img_sample = test_images[img_index][0]\n",
    "# print(img_sample.shape)\n",
    "# print(type(img_sample))\n",
    "\n",
    "image = test_images[img_index].data   # get the image from it's wrapper\n",
    "image = image.numpy()   # convert to numpy array from a Tensor\n",
    "\n",
    "print(image.shape)\n",
    "print(\"The min value:\", np.amin(image))\n",
    "print(\"The max value:\", np.amax(image))\n",
    "plt.imshow(image[0], cmap='gray')\n",
    "\n",
    "\n",
    "## TODO: Using cv's filter2D function,\n",
    "## apply a specific set of filter weights (like the one displayed above) to the test image"
   ]
  },
  {
   "cell_type": "code",
   "execution_count": null,
   "metadata": {},
   "outputs": [],
   "source": [
    "import cv2"
   ]
  },
  {
   "cell_type": "code",
   "execution_count": null,
   "metadata": {},
   "outputs": [],
   "source": [
    "fig, axes = plt.subplots(nrows=2, ncols=5, figsize=(15, 6))\n",
    "for ind, ax in enumerate(axes.flat):\n",
    "    filtered = cv2.filter2D(src=image, ddepth=-1, kernel=w[ind][0])\n",
    "    ax.imshow(filtered[0], cmap='gray')"
   ]
  },
  {
   "cell_type": "code",
   "execution_count": null,
   "metadata": {},
   "outputs": [],
   "source": [
    "w.shape"
   ]
  },
  {
   "cell_type": "markdown",
   "metadata": {},
   "source": [
    "### Question 4: Choose one filter from your trained CNN and apply it to a test image; what purpose do you think it plays? What kind of feature do you think it detects?\n"
   ]
  },
  {
   "cell_type": "markdown",
   "metadata": {},
   "source": [
    "**Answer**: (does it detect vertical lines or does it blur out noise, etc.) write your answer here"
   ]
  },
  {
   "cell_type": "markdown",
   "metadata": {},
   "source": [
    "---\n",
    "## Moving on!\n",
    "\n",
    "Now that you've defined and trained your model (and saved the best model), you are ready to move on to the last notebook, which combines a face detector with your saved model to create a facial keypoint detection system that can predict the keypoints on *any* face in an image!"
   ]
  }
 ],
 "metadata": {
  "kernelspec": {
   "display_name": "Python 3",
   "language": "python",
   "name": "python3"
  },
  "language_info": {
   "codemirror_mode": {
    "name": "ipython",
    "version": 3
   },
   "file_extension": ".py",
   "mimetype": "text/x-python",
   "name": "python",
   "nbconvert_exporter": "python",
   "pygments_lexer": "ipython3",
   "version": "3.6.3"
  }
 },
 "nbformat": 4,
 "nbformat_minor": 2
}
