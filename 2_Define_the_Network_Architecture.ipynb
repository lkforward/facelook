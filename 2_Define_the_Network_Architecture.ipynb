{
  "nbformat": 4,
  "nbformat_minor": 0,
  "metadata": {
    "kernelspec": {
      "name": "python3",
      "display_name": "Python 3"
    },
    "language_info": {
      "codemirror_mode": {
        "name": "ipython",
        "version": 3
      },
      "file_extension": ".py",
      "mimetype": "text/x-python",
      "name": "python",
      "nbconvert_exporter": "python",
      "pygments_lexer": "ipython3",
      "version": "3.6.3"
    },
    "colab": {
      "name": "2. Define the Network Architecture.ipynb",
      "provenance": [],
      "collapsed_sections": [
        "GumHaTcNBJy-"
      ]
    },
    "accelerator": "GPU"
  },
  "cells": [
    {
      "cell_type": "code",
      "metadata": {
        "id": "qlJYVkblZtez",
        "colab_type": "code",
        "outputId": "0210f885-5790-4f19-fe77-e60ea2589a88",
        "colab": {
          "base_uri": "https://localhost:8080/",
          "height": 34
        }
      },
      "source": [
        "# Check to see that we are using the GPU\n",
        "import tensorflow as tf\n",
        "tf.test.gpu_device_name()"
      ],
      "execution_count": 0,
      "outputs": [
        {
          "output_type": "execute_result",
          "data": {
            "text/plain": [
              "'/device:GPU:0'"
            ]
          },
          "metadata": {
            "tags": []
          },
          "execution_count": 2
        }
      ]
    },
    {
      "cell_type": "code",
      "metadata": {
        "id": "rj2fNvSeL63C",
        "colab_type": "code",
        "outputId": "46caade4-b1eb-4222-e62b-88cd5a2b1e31",
        "colab": {
          "base_uri": "https://localhost:8080/",
          "height": 121
        }
      },
      "source": [
        "# Amount google drive\n",
        "from google.colab import drive\n",
        "drive.mount('/content/gdrive')"
      ],
      "execution_count": 0,
      "outputs": [
        {
          "output_type": "stream",
          "text": [
            "Go to this URL in a browser: https://accounts.google.com/o/oauth2/auth?client_id=947318989803-6bn6qk8qdgf4n4g3pfee6491hc0brc4i.apps.googleusercontent.com&redirect_uri=urn%3Aietf%3Awg%3Aoauth%3A2.0%3Aoob&scope=email%20https%3A%2F%2Fwww.googleapis.com%2Fauth%2Fdocs.test%20https%3A%2F%2Fwww.googleapis.com%2Fauth%2Fdrive%20https%3A%2F%2Fwww.googleapis.com%2Fauth%2Fdrive.photos.readonly%20https%3A%2F%2Fwww.googleapis.com%2Fauth%2Fpeopleapi.readonly&response_type=code\n",
            "\n",
            "Enter your authorization code:\n",
            "··········\n",
            "Mounted at /content/gdrive\n"
          ],
          "name": "stdout"
        }
      ]
    },
    {
      "cell_type": "code",
      "metadata": {
        "id": "ZZ324oBWN2OO",
        "colab_type": "code",
        "outputId": "4459d75e-551b-4e1e-d4e8-c1ffcb5656b7",
        "colab": {
          "base_uri": "https://localhost:8080/",
          "height": 101
        }
      },
      "source": [
        "gdrive_path = '/content/gdrive/My Drive/prj1_keypoints/'\n",
        "# You can always ls:\n",
        "!ls /content/gdrive/My\\ Drive/prj1_keypoints"
      ],
      "execution_count": 0,
      "outputs": [
        {
          "output_type": "stream",
          "text": [
            "data_load.py\t\t  mse_vs_batch_size.jpg   train_loss_batch64.npy\n",
            "models_3layers_cnn.py\t  test_keypoints.png\t  train_loss_lr_1e-2.npy\n",
            "models.py\t\t  train_loss_3layers.npy  train_loss_lr_1e-2.pt\n",
            "mse_dft_nn_structure.jpg  train_loss_4layers.npy  train_loss_lr_1e-4.npy\n",
            "mse_learning_rate.jpg\t  train_loss_batch10.npy\n"
          ],
          "name": "stdout"
        }
      ]
    },
    {
      "cell_type": "markdown",
      "metadata": {
        "id": "kUL1vAQxBJxO",
        "colab_type": "text"
      },
      "source": [
        "## 1. Define the Convolutional Neural Network\n",
        "\n",
        "After you've looked at the data you're working with and, in this case, know the shapes of the images and of the keypoints, you are ready to define a convolutional neural network that can *learn* from this data.\n",
        "\n",
        "In this notebook and in `models.py`, you will:\n",
        "1. Define a CNN with images as input and keypoints as output\n",
        "2. Construct the transformed FaceKeypointsDataset, just as before\n",
        "3. Train the CNN on the training data, tracking loss\n",
        "4. See how the trained model performs on test data\n",
        "5. If necessary, modify the CNN structure and model hyperparameters, so that it performs *well* **\\***\n",
        "\n",
        "**\\*** What does *well* mean?\n",
        "\n",
        "\"Well\" means that the model's loss decreases during training **and**, when applied to test image data, the model produces keypoints that closely match the true keypoints of each face. And you'll see examples of this later in the notebook.\n",
        "\n",
        "---\n"
      ]
    },
    {
      "cell_type": "markdown",
      "metadata": {
        "id": "uoZKI52nBJxQ",
        "colab_type": "text"
      },
      "source": [
        "## CNN Architecture\n",
        "\n",
        "Recall that CNN's are defined by a few types of layers:\n",
        "* Convolutional layers\n",
        "* Maxpooling layers\n",
        "* Fully-connected layers\n",
        "\n",
        "You are required to use the above layers and encouraged to add multiple convolutional layers and things like dropout layers that may prevent overfitting. You are also encouraged to look at literature on keypoint detection, such as [this paper](https://arxiv.org/pdf/1710.00977.pdf), to help you determine the structure of your network.\n",
        "\n",
        "\n",
        "### TODO: Define your model in the provided file `models.py` file\n",
        "\n",
        "This file is mostly empty but contains the expected name and some TODO's for creating your model.\n",
        "\n",
        "---"
      ]
    },
    {
      "cell_type": "markdown",
      "metadata": {
        "id": "RoQO-rg_BJxS",
        "colab_type": "text"
      },
      "source": [
        "## PyTorch Neural Nets\n",
        "\n",
        "To define a neural network in PyTorch, you define the layers of a model in the function `__init__` and define the feedforward behavior of a network that employs those initialized layers in the function `forward`, which takes in an input image tensor, `x`. The structure of this Net class is shown below and left for you to fill in.\n",
        "\n",
        "Note: During training, PyTorch will be able to perform backpropagation by keeping track of the network's feedforward behavior and using autograd to calculate the update to the weights in the network.\n",
        "\n",
        "#### Define the Layers in ` __init__`\n",
        "As a reminder, a conv/pool layer may be defined like this (in `__init__`):\n",
        "```\n",
        "# 1 input image channel (for grayscale images), 32 output channels/feature maps, 3x3 square convolution kernel\n",
        "self.conv1 = nn.Conv2d(1, 32, 3)\n",
        "\n",
        "# maxpool that uses a square window of kernel_size=2, stride=2\n",
        "self.pool = nn.MaxPool2d(2, 2)      \n",
        "```\n",
        "\n",
        "#### Refer to Layers in `forward`\n",
        "Then referred to in the `forward` function like this, in which the conv1 layer has a ReLu activation applied to it before maxpooling is applied:\n",
        "```\n",
        "x = self.pool(F.relu(self.conv1(x)))\n",
        "```\n",
        "\n",
        "Best practice is to place any layers whose weights will change during the training process in `__init__` and refer to them in the `forward` function; any layers or functions that always behave in the same way, such as a pre-defined activation function, should appear *only* in the `forward` function."
      ]
    },
    {
      "cell_type": "markdown",
      "metadata": {
        "id": "-dqIQ1HBBJxT",
        "colab_type": "text"
      },
      "source": [
        "#### Why models.py\n",
        "\n",
        "You are tasked with defining the network in the `models.py` file so that any models you define can be saved and loaded by name in different notebooks in this project directory. For example, by defining a CNN class called `Net` in `models.py`, you can then create that same architecture in this and other notebooks by simply importing the class and instantiating a model:\n",
        "```\n",
        "    from models import Net\n",
        "    net = Net()\n",
        "```"
      ]
    },
    {
      "cell_type": "code",
      "metadata": {
        "id": "PULOuBssBJxU",
        "colab_type": "code",
        "colab": {}
      },
      "source": [
        "# import the usual resources\n",
        "import matplotlib.pyplot as plt\n",
        "import numpy as np\n",
        "\n",
        "# watch for any changes in model.py, if it changes, re-load it automatically\n",
        "%load_ext autoreload\n",
        "%autoreload 2"
      ],
      "execution_count": 0,
      "outputs": []
    },
    {
      "cell_type": "code",
      "metadata": {
        "id": "tgk-qEVABJxZ",
        "colab_type": "code",
        "colab": {}
      },
      "source": [
        "import os"
      ],
      "execution_count": 0,
      "outputs": []
    },
    {
      "cell_type": "code",
      "metadata": {
        "id": "42B09kO2BXmt",
        "colab_type": "code",
        "outputId": "2e3738b3-9a98-4c69-b044-ee2f23a52dd0",
        "colab": {
          "base_uri": "https://localhost:8080/",
          "height": 118
        }
      },
      "source": [
        "# We can save data into google drive and access them from here. But it is faster\n",
        "# to clone a copy from git: \n",
        "!git clone https://github.com/udacity/P1_Facial_Keypoints.git\n",
        "\n",
        "data_path = './P1_Facial_Keypoints/data'"
      ],
      "execution_count": 0,
      "outputs": [
        {
          "output_type": "stream",
          "text": [
            "Cloning into 'P1_Facial_Keypoints'...\n",
            "remote: Enumerating objects: 5981, done.\u001b[K\n",
            "remote: Total 5981 (delta 0), reused 0 (delta 0), pack-reused 5981\u001b[K\n",
            "Receiving objects: 100% (5981/5981), 329.49 MiB | 42.87 MiB/s, done.\n",
            "Resolving deltas: 100% (124/124), done.\n",
            "Checking out files: 100% (5803/5803), done.\n"
          ],
          "name": "stdout"
        }
      ]
    },
    {
      "cell_type": "code",
      "metadata": {
        "id": "FqkGLoTyjMTf",
        "colab_type": "code",
        "outputId": "d5ee3d56-8df4-41b6-96a0-5135d0d9fc0e",
        "colab": {
          "base_uri": "https://localhost:8080/",
          "height": 50
        }
      },
      "source": [
        "# Run the model definition code: \n",
        "# %run /content/gdrive/My\\ Drive/prj1_keypoints/models_3layers_cnn.py\n",
        "%run /content/gdrive/My\\ Drive/prj1_keypoints/models.py\n",
        "%run /content/gdrive/My\\ Drive/prj1_keypoints/data_load.py"
      ],
      "execution_count": 0,
      "outputs": [
        {
          "output_type": "stream",
          "text": [
            "/usr/local/lib/python3.6/dist-packages/torch/nn/functional.py:1339: UserWarning: nn.functional.tanh is deprecated. Use torch.tanh instead.\n",
            "  warnings.warn(\"nn.functional.tanh is deprecated. Use torch.tanh instead.\")\n"
          ],
          "name": "stderr"
        }
      ]
    },
    {
      "cell_type": "code",
      "metadata": {
        "id": "IiMWLM18BJxa",
        "colab_type": "code",
        "outputId": "413f3785-77ad-4784-82b0-55046472010e",
        "colab": {
          "base_uri": "https://localhost:8080/",
          "height": 336
        }
      },
      "source": [
        "## TODO: Define the Net in models.py\n",
        "\n",
        "import torch\n",
        "import torch.nn as nn\n",
        "import torch.nn.functional as F\n",
        "\n",
        "## TODO: Once you've define the network, you can instantiate it\n",
        "# one example conv layer has been provided for you\n",
        "\n",
        "#%load models.py\n",
        "#from models import Net\n",
        "\n",
        "net = Net()\n",
        "print(net)"
      ],
      "execution_count": 0,
      "outputs": [
        {
          "output_type": "stream",
          "text": [
            "Net(\n",
            "  (conv1): Conv2d(1, 32, kernel_size=(5, 5), stride=(1, 1))\n",
            "  (pool1): MaxPool2d(kernel_size=2, stride=2, padding=0, dilation=1, ceil_mode=False)\n",
            "  (drop1): Dropout2d(p=0.1, inplace=False)\n",
            "  (conv2): Conv2d(32, 64, kernel_size=(3, 3), stride=(1, 1))\n",
            "  (pool2): MaxPool2d(kernel_size=2, stride=2, padding=0, dilation=1, ceil_mode=False)\n",
            "  (drop2): Dropout2d(p=0.2, inplace=False)\n",
            "  (conv3): Conv2d(64, 128, kernel_size=(2, 2), stride=(1, 1))\n",
            "  (pool3): MaxPool2d(kernel_size=2, stride=2, padding=0, dilation=1, ceil_mode=False)\n",
            "  (drop3): Dropout2d(p=0.3, inplace=False)\n",
            "  (conv4): Conv2d(128, 256, kernel_size=(1, 1), stride=(1, 1))\n",
            "  (pool4): MaxPool2d(kernel_size=2, stride=2, padding=0, dilation=1, ceil_mode=False)\n",
            "  (drop4): Dropout2d(p=0.4, inplace=False)\n",
            "  (fc1): Linear(in_features=43264, out_features=256, bias=True)\n",
            "  (drop5): Dropout2d(p=0.5, inplace=False)\n",
            "  (fc2): Linear(in_features=256, out_features=256, bias=True)\n",
            "  (drop6): Dropout2d(p=0.6, inplace=False)\n",
            "  (fc3): Linear(in_features=256, out_features=136, bias=True)\n",
            ")\n"
          ],
          "name": "stdout"
        }
      ]
    },
    {
      "cell_type": "markdown",
      "metadata": {
        "collapsed": true,
        "id": "6OY43-0uBJxc",
        "colab_type": "text"
      },
      "source": [
        "## 2. Transform the dataset \n",
        "\n",
        "To prepare for training, create a transformed dataset of images and keypoints.\n",
        "\n",
        "### TODO: Define a data transform\n",
        "\n",
        "In PyTorch, a convolutional neural network expects a torch image of a consistent size as input. For efficient training, and so your model's loss does not blow up during training, it is also suggested that you normalize the input images and keypoints. The necessary transforms have been defined in `data_load.py` and you **do not** need to modify these; take a look at this file (you'll see the same transforms that were defined and applied in Notebook 1).\n",
        "\n",
        "To define the data transform below, use a [composition](http://pytorch.org/tutorials/beginner/data_loading_tutorial.html#compose-transforms) of:\n",
        "1. Rescaling and/or cropping the data, such that you are left with a square image (the suggested size is 224x224px)\n",
        "2. Normalizing the images and keypoints; turning each RGB image into a grayscale image with a color range of [0, 1] and transforming the given keypoints into a range of [-1, 1]\n",
        "3. Turning these images and keypoints into Tensors\n",
        "\n",
        "These transformations have been defined in `data_load.py`, but it's up to you to call them and create a `data_transform` below. **This transform will be applied to the training data and, later, the test data**. It will change how you go about displaying these images and keypoints, but these steps are essential for efficient training.\n",
        "\n",
        "As a note, should you want to perform data augmentation (which is optional in this project), and randomly rotate or shift these images, a square image size will be useful; rotating a 224x224 image by 90 degrees will result in the same shape of output."
      ]
    },
    {
      "cell_type": "code",
      "metadata": {
        "id": "2vJdHnkjBJxd",
        "colab_type": "code",
        "colab": {}
      },
      "source": [
        "from torch.utils.data import Dataset, DataLoader\n",
        "from torchvision import transforms, utils\n",
        "\n",
        "# # the dataset we created in Notebook 1 is copied in the helper file `data_load.py`\n",
        "# # Since we have run the data_load.py, no need to load them again here. \n",
        "\n",
        "# from data_load import FacialKeypointsDataset\n",
        "# # the transforms we defined in Notebook 1 are in the helper file `data_load.py`\n",
        "# from data_load import Rescale, RandomCrop, Normalize, ToTensor\n",
        "\n",
        "\n",
        "## TODO: define the data_transform using transforms.Compose([all tx's, . , .])\n",
        "# order matters! i.e. rescaling should come before a smaller crop\n",
        "data_transform = transforms.Compose([Rescale(250), RandomCrop(224), Normalize(), ToTensor()])\n",
        "\n",
        "# testing that you've defined a transform\n",
        "assert(data_transform is not None), 'Define a data_transform'"
      ],
      "execution_count": 0,
      "outputs": []
    },
    {
      "cell_type": "code",
      "metadata": {
        "id": "aOzWaqwqBJxf",
        "colab_type": "code",
        "colab": {}
      },
      "source": [
        "# import pandas as pd\n",
        "\n",
        "# new_name = 'training_small_sample.csv'\n",
        "\n",
        "# train_file = os.path.join(data_path, 'training_frames_keypoints.csv')\n",
        "# df = pd.read_csv(train_file)\n",
        "\n",
        "# n_samples = 10\n",
        "# df_new = df.iloc[:n_samples, :]\n",
        "# df_new.to_csv(os.path.join(data_path, new_name))"
      ],
      "execution_count": 0,
      "outputs": []
    },
    {
      "cell_type": "code",
      "metadata": {
        "id": "zJ_R9l7IBJxi",
        "colab_type": "code",
        "outputId": "5e722225-7709-4516-b138-2023ecd1ec46",
        "colab": {
          "base_uri": "https://localhost:8080/",
          "height": 134
        }
      },
      "source": [
        "# create the transformed dataset\n",
        "# transformed_dataset = FacialKeypointsDataset(csv_file='data/training_frames_keypoints.csv',\n",
        "#                                              root_dir='data/training/',\n",
        "#                                              transform=data_transform)\n",
        "transformed_dataset = FacialKeypointsDataset(csv_file=os.path.join(data_path, 'training_frames_keypoints.csv'),\n",
        "                                             root_dir=os.path.join(data_path, 'training/'),\n",
        "                                             transform=data_transform,\n",
        "                                             n_samples=None)\n",
        "\n",
        "\n",
        "\n",
        "print('Number of images: ', len(transformed_dataset))\n",
        "\n",
        "# iterate through the transformed dataset and print some stats about the first few samples\n",
        "for i in range(4):\n",
        "    sample = transformed_dataset[i]\n",
        "    print(i, sample['image'].size(), sample['keypoints'].size())"
      ],
      "execution_count": 0,
      "outputs": [
        {
          "output_type": "stream",
          "text": [
            "Number of images:  3462\n",
            "0 torch.Size([1, 224, 224]) torch.Size([68, 2])\n",
            "1 torch.Size([1, 224, 224]) torch.Size([68, 2])\n",
            "2 torch.Size([1, 224, 224]) torch.Size([68, 2])\n",
            "3 torch.Size([1, 224, 224]) torch.Size([68, 2])\n"
          ],
          "name": "stdout"
        },
        {
          "output_type": "stream",
          "text": [
            "/content/gdrive/My Drive/prj1_keypoints/data_load.py:43: FutureWarning: Method .as_matrix will be removed in a future version. Use .values instead.\n",
            "  key_pts = self.key_pts_frame.iloc[idx, 1:].as_matrix()\n"
          ],
          "name": "stderr"
        }
      ]
    },
    {
      "cell_type": "code",
      "metadata": {
        "id": "ATwb2VQfBJxl",
        "colab_type": "code",
        "outputId": "87525b1b-e53b-4d04-f8c3-94e56b4fc93f",
        "colab": {
          "base_uri": "https://localhost:8080/",
          "height": 261
        }
      },
      "source": [
        "print(type(transformed_dataset.key_pts_frame))\n",
        "transformed_dataset.key_pts_frame.head()"
      ],
      "execution_count": 0,
      "outputs": [
        {
          "output_type": "stream",
          "text": [
            "<class 'pandas.core.frame.DataFrame'>\n"
          ],
          "name": "stdout"
        },
        {
          "output_type": "execute_result",
          "data": {
            "text/html": [
              "<div>\n",
              "<style scoped>\n",
              "    .dataframe tbody tr th:only-of-type {\n",
              "        vertical-align: middle;\n",
              "    }\n",
              "\n",
              "    .dataframe tbody tr th {\n",
              "        vertical-align: top;\n",
              "    }\n",
              "\n",
              "    .dataframe thead th {\n",
              "        text-align: right;\n",
              "    }\n",
              "</style>\n",
              "<table border=\"1\" class=\"dataframe\">\n",
              "  <thead>\n",
              "    <tr style=\"text-align: right;\">\n",
              "      <th></th>\n",
              "      <th>Unnamed: 0</th>\n",
              "      <th>0</th>\n",
              "      <th>1</th>\n",
              "      <th>2</th>\n",
              "      <th>3</th>\n",
              "      <th>4</th>\n",
              "      <th>5</th>\n",
              "      <th>6</th>\n",
              "      <th>7</th>\n",
              "      <th>8</th>\n",
              "      <th>9</th>\n",
              "      <th>10</th>\n",
              "      <th>11</th>\n",
              "      <th>12</th>\n",
              "      <th>13</th>\n",
              "      <th>14</th>\n",
              "      <th>15</th>\n",
              "      <th>16</th>\n",
              "      <th>17</th>\n",
              "      <th>18</th>\n",
              "      <th>19</th>\n",
              "      <th>20</th>\n",
              "      <th>21</th>\n",
              "      <th>22</th>\n",
              "      <th>23</th>\n",
              "      <th>24</th>\n",
              "      <th>25</th>\n",
              "      <th>26</th>\n",
              "      <th>27</th>\n",
              "      <th>28</th>\n",
              "      <th>29</th>\n",
              "      <th>30</th>\n",
              "      <th>31</th>\n",
              "      <th>32</th>\n",
              "      <th>33</th>\n",
              "      <th>34</th>\n",
              "      <th>35</th>\n",
              "      <th>36</th>\n",
              "      <th>37</th>\n",
              "      <th>38</th>\n",
              "      <th>...</th>\n",
              "      <th>96</th>\n",
              "      <th>97</th>\n",
              "      <th>98</th>\n",
              "      <th>99</th>\n",
              "      <th>100</th>\n",
              "      <th>101</th>\n",
              "      <th>102</th>\n",
              "      <th>103</th>\n",
              "      <th>104</th>\n",
              "      <th>105</th>\n",
              "      <th>106</th>\n",
              "      <th>107</th>\n",
              "      <th>108</th>\n",
              "      <th>109</th>\n",
              "      <th>110</th>\n",
              "      <th>111</th>\n",
              "      <th>112</th>\n",
              "      <th>113</th>\n",
              "      <th>114</th>\n",
              "      <th>115</th>\n",
              "      <th>116</th>\n",
              "      <th>117</th>\n",
              "      <th>118</th>\n",
              "      <th>119</th>\n",
              "      <th>120</th>\n",
              "      <th>121</th>\n",
              "      <th>122</th>\n",
              "      <th>123</th>\n",
              "      <th>124</th>\n",
              "      <th>125</th>\n",
              "      <th>126</th>\n",
              "      <th>127</th>\n",
              "      <th>128</th>\n",
              "      <th>129</th>\n",
              "      <th>130</th>\n",
              "      <th>131</th>\n",
              "      <th>132</th>\n",
              "      <th>133</th>\n",
              "      <th>134</th>\n",
              "      <th>135</th>\n",
              "    </tr>\n",
              "  </thead>\n",
              "  <tbody>\n",
              "    <tr>\n",
              "      <th>0</th>\n",
              "      <td>Luis_Fonsi_21.jpg</td>\n",
              "      <td>45.0</td>\n",
              "      <td>98.0</td>\n",
              "      <td>47.0</td>\n",
              "      <td>106.0</td>\n",
              "      <td>49.0</td>\n",
              "      <td>110.0</td>\n",
              "      <td>53.0</td>\n",
              "      <td>119.0</td>\n",
              "      <td>56.0</td>\n",
              "      <td>125.0</td>\n",
              "      <td>62.0</td>\n",
              "      <td>130.0</td>\n",
              "      <td>66.0</td>\n",
              "      <td>134.0</td>\n",
              "      <td>73.0</td>\n",
              "      <td>136.0</td>\n",
              "      <td>81.0</td>\n",
              "      <td>139.0</td>\n",
              "      <td>92.0</td>\n",
              "      <td>134.0</td>\n",
              "      <td>96.0</td>\n",
              "      <td>130.0</td>\n",
              "      <td>98.0</td>\n",
              "      <td>126.0</td>\n",
              "      <td>102.0</td>\n",
              "      <td>120.0</td>\n",
              "      <td>102.0</td>\n",
              "      <td>111.0</td>\n",
              "      <td>104.0</td>\n",
              "      <td>105.0</td>\n",
              "      <td>104.0</td>\n",
              "      <td>99.0</td>\n",
              "      <td>102.0</td>\n",
              "      <td>90.0</td>\n",
              "      <td>51.0</td>\n",
              "      <td>89.0</td>\n",
              "      <td>56.0</td>\n",
              "      <td>87.0</td>\n",
              "      <td>60.0</td>\n",
              "      <td>...</td>\n",
              "      <td>68.0</td>\n",
              "      <td>119.0</td>\n",
              "      <td>73.0</td>\n",
              "      <td>117.0</td>\n",
              "      <td>77.0</td>\n",
              "      <td>115.0</td>\n",
              "      <td>79.0</td>\n",
              "      <td>117.0</td>\n",
              "      <td>81.0</td>\n",
              "      <td>115.0</td>\n",
              "      <td>85.0</td>\n",
              "      <td>117.0</td>\n",
              "      <td>90.0</td>\n",
              "      <td>117.0</td>\n",
              "      <td>87.0</td>\n",
              "      <td>122.0</td>\n",
              "      <td>85.0</td>\n",
              "      <td>124.0</td>\n",
              "      <td>81.0</td>\n",
              "      <td>124.0</td>\n",
              "      <td>77.0</td>\n",
              "      <td>124.0</td>\n",
              "      <td>73.0</td>\n",
              "      <td>121.0</td>\n",
              "      <td>70.0</td>\n",
              "      <td>119.0</td>\n",
              "      <td>77.0</td>\n",
              "      <td>119.0</td>\n",
              "      <td>79.0</td>\n",
              "      <td>119.0</td>\n",
              "      <td>83.0</td>\n",
              "      <td>119.0</td>\n",
              "      <td>90.0</td>\n",
              "      <td>117.0</td>\n",
              "      <td>83.0</td>\n",
              "      <td>119.0</td>\n",
              "      <td>81.0</td>\n",
              "      <td>122.0</td>\n",
              "      <td>77.0</td>\n",
              "      <td>122.0</td>\n",
              "    </tr>\n",
              "    <tr>\n",
              "      <th>1</th>\n",
              "      <td>Lincoln_Chafee_52.jpg</td>\n",
              "      <td>41.0</td>\n",
              "      <td>83.0</td>\n",
              "      <td>43.0</td>\n",
              "      <td>91.0</td>\n",
              "      <td>45.0</td>\n",
              "      <td>100.0</td>\n",
              "      <td>47.0</td>\n",
              "      <td>108.0</td>\n",
              "      <td>51.0</td>\n",
              "      <td>119.0</td>\n",
              "      <td>58.0</td>\n",
              "      <td>130.0</td>\n",
              "      <td>64.0</td>\n",
              "      <td>136.0</td>\n",
              "      <td>73.0</td>\n",
              "      <td>141.0</td>\n",
              "      <td>85.0</td>\n",
              "      <td>143.0</td>\n",
              "      <td>96.0</td>\n",
              "      <td>137.0</td>\n",
              "      <td>102.0</td>\n",
              "      <td>131.0</td>\n",
              "      <td>107.0</td>\n",
              "      <td>124.0</td>\n",
              "      <td>109.0</td>\n",
              "      <td>114.0</td>\n",
              "      <td>111.0</td>\n",
              "      <td>105.0</td>\n",
              "      <td>111.0</td>\n",
              "      <td>97.0</td>\n",
              "      <td>111.0</td>\n",
              "      <td>88.0</td>\n",
              "      <td>111.0</td>\n",
              "      <td>78.0</td>\n",
              "      <td>51.0</td>\n",
              "      <td>83.0</td>\n",
              "      <td>56.0</td>\n",
              "      <td>81.0</td>\n",
              "      <td>62.0</td>\n",
              "      <td>...</td>\n",
              "      <td>70.0</td>\n",
              "      <td>122.0</td>\n",
              "      <td>75.0</td>\n",
              "      <td>122.0</td>\n",
              "      <td>81.0</td>\n",
              "      <td>120.0</td>\n",
              "      <td>83.0</td>\n",
              "      <td>120.0</td>\n",
              "      <td>85.0</td>\n",
              "      <td>120.0</td>\n",
              "      <td>90.0</td>\n",
              "      <td>120.0</td>\n",
              "      <td>94.0</td>\n",
              "      <td>120.0</td>\n",
              "      <td>90.0</td>\n",
              "      <td>124.0</td>\n",
              "      <td>87.0</td>\n",
              "      <td>126.0</td>\n",
              "      <td>83.0</td>\n",
              "      <td>126.0</td>\n",
              "      <td>79.0</td>\n",
              "      <td>126.0</td>\n",
              "      <td>75.0</td>\n",
              "      <td>124.0</td>\n",
              "      <td>70.0</td>\n",
              "      <td>122.0</td>\n",
              "      <td>79.0</td>\n",
              "      <td>122.0</td>\n",
              "      <td>83.0</td>\n",
              "      <td>122.0</td>\n",
              "      <td>85.0</td>\n",
              "      <td>122.0</td>\n",
              "      <td>94.0</td>\n",
              "      <td>120.0</td>\n",
              "      <td>85.0</td>\n",
              "      <td>122.0</td>\n",
              "      <td>83.0</td>\n",
              "      <td>122.0</td>\n",
              "      <td>79.0</td>\n",
              "      <td>122.0</td>\n",
              "    </tr>\n",
              "    <tr>\n",
              "      <th>2</th>\n",
              "      <td>Valerie_Harper_30.jpg</td>\n",
              "      <td>56.0</td>\n",
              "      <td>69.0</td>\n",
              "      <td>56.0</td>\n",
              "      <td>77.0</td>\n",
              "      <td>56.0</td>\n",
              "      <td>86.0</td>\n",
              "      <td>56.0</td>\n",
              "      <td>94.0</td>\n",
              "      <td>58.0</td>\n",
              "      <td>103.0</td>\n",
              "      <td>60.0</td>\n",
              "      <td>111.0</td>\n",
              "      <td>62.0</td>\n",
              "      <td>116.0</td>\n",
              "      <td>67.0</td>\n",
              "      <td>122.0</td>\n",
              "      <td>75.0</td>\n",
              "      <td>127.0</td>\n",
              "      <td>86.0</td>\n",
              "      <td>127.0</td>\n",
              "      <td>96.0</td>\n",
              "      <td>123.0</td>\n",
              "      <td>105.0</td>\n",
              "      <td>121.0</td>\n",
              "      <td>113.0</td>\n",
              "      <td>114.0</td>\n",
              "      <td>118.0</td>\n",
              "      <td>106.0</td>\n",
              "      <td>122.0</td>\n",
              "      <td>100.0</td>\n",
              "      <td>124.0</td>\n",
              "      <td>91.0</td>\n",
              "      <td>128.0</td>\n",
              "      <td>81.0</td>\n",
              "      <td>58.0</td>\n",
              "      <td>56.0</td>\n",
              "      <td>62.0</td>\n",
              "      <td>54.0</td>\n",
              "      <td>67.0</td>\n",
              "      <td>...</td>\n",
              "      <td>67.0</td>\n",
              "      <td>103.0</td>\n",
              "      <td>69.0</td>\n",
              "      <td>101.0</td>\n",
              "      <td>73.0</td>\n",
              "      <td>101.0</td>\n",
              "      <td>75.0</td>\n",
              "      <td>101.0</td>\n",
              "      <td>77.0</td>\n",
              "      <td>101.0</td>\n",
              "      <td>84.0</td>\n",
              "      <td>103.0</td>\n",
              "      <td>88.0</td>\n",
              "      <td>108.0</td>\n",
              "      <td>82.0</td>\n",
              "      <td>110.0</td>\n",
              "      <td>77.0</td>\n",
              "      <td>110.0</td>\n",
              "      <td>75.0</td>\n",
              "      <td>110.0</td>\n",
              "      <td>71.0</td>\n",
              "      <td>110.0</td>\n",
              "      <td>69.0</td>\n",
              "      <td>107.0</td>\n",
              "      <td>67.0</td>\n",
              "      <td>103.0</td>\n",
              "      <td>73.0</td>\n",
              "      <td>103.0</td>\n",
              "      <td>75.0</td>\n",
              "      <td>105.0</td>\n",
              "      <td>79.0</td>\n",
              "      <td>105.0</td>\n",
              "      <td>86.0</td>\n",
              "      <td>108.0</td>\n",
              "      <td>77.0</td>\n",
              "      <td>105.0</td>\n",
              "      <td>75.0</td>\n",
              "      <td>105.0</td>\n",
              "      <td>73.0</td>\n",
              "      <td>105.0</td>\n",
              "    </tr>\n",
              "    <tr>\n",
              "      <th>3</th>\n",
              "      <td>Angelo_Reyes_22.jpg</td>\n",
              "      <td>61.0</td>\n",
              "      <td>80.0</td>\n",
              "      <td>58.0</td>\n",
              "      <td>95.0</td>\n",
              "      <td>58.0</td>\n",
              "      <td>108.0</td>\n",
              "      <td>58.0</td>\n",
              "      <td>120.0</td>\n",
              "      <td>58.0</td>\n",
              "      <td>132.0</td>\n",
              "      <td>61.0</td>\n",
              "      <td>141.0</td>\n",
              "      <td>64.0</td>\n",
              "      <td>148.0</td>\n",
              "      <td>73.0</td>\n",
              "      <td>157.0</td>\n",
              "      <td>85.0</td>\n",
              "      <td>163.0</td>\n",
              "      <td>101.0</td>\n",
              "      <td>163.0</td>\n",
              "      <td>116.0</td>\n",
              "      <td>164.0</td>\n",
              "      <td>128.0</td>\n",
              "      <td>161.0</td>\n",
              "      <td>137.0</td>\n",
              "      <td>155.0</td>\n",
              "      <td>144.0</td>\n",
              "      <td>143.0</td>\n",
              "      <td>150.0</td>\n",
              "      <td>134.0</td>\n",
              "      <td>156.0</td>\n",
              "      <td>121.0</td>\n",
              "      <td>162.0</td>\n",
              "      <td>109.0</td>\n",
              "      <td>70.0</td>\n",
              "      <td>68.0</td>\n",
              "      <td>76.0</td>\n",
              "      <td>65.0</td>\n",
              "      <td>85.0</td>\n",
              "      <td>...</td>\n",
              "      <td>76.0</td>\n",
              "      <td>129.0</td>\n",
              "      <td>82.0</td>\n",
              "      <td>130.0</td>\n",
              "      <td>88.0</td>\n",
              "      <td>127.0</td>\n",
              "      <td>91.0</td>\n",
              "      <td>130.0</td>\n",
              "      <td>98.0</td>\n",
              "      <td>130.0</td>\n",
              "      <td>104.0</td>\n",
              "      <td>133.0</td>\n",
              "      <td>110.0</td>\n",
              "      <td>139.0</td>\n",
              "      <td>101.0</td>\n",
              "      <td>142.0</td>\n",
              "      <td>95.0</td>\n",
              "      <td>145.0</td>\n",
              "      <td>88.0</td>\n",
              "      <td>142.0</td>\n",
              "      <td>82.0</td>\n",
              "      <td>142.0</td>\n",
              "      <td>79.0</td>\n",
              "      <td>139.0</td>\n",
              "      <td>76.0</td>\n",
              "      <td>129.0</td>\n",
              "      <td>85.0</td>\n",
              "      <td>133.0</td>\n",
              "      <td>91.0</td>\n",
              "      <td>133.0</td>\n",
              "      <td>98.0</td>\n",
              "      <td>136.0</td>\n",
              "      <td>107.0</td>\n",
              "      <td>139.0</td>\n",
              "      <td>95.0</td>\n",
              "      <td>139.0</td>\n",
              "      <td>91.0</td>\n",
              "      <td>139.0</td>\n",
              "      <td>85.0</td>\n",
              "      <td>136.0</td>\n",
              "    </tr>\n",
              "    <tr>\n",
              "      <th>4</th>\n",
              "      <td>Kristen_Breitweiser_11.jpg</td>\n",
              "      <td>58.0</td>\n",
              "      <td>94.0</td>\n",
              "      <td>58.0</td>\n",
              "      <td>104.0</td>\n",
              "      <td>60.0</td>\n",
              "      <td>113.0</td>\n",
              "      <td>62.0</td>\n",
              "      <td>121.0</td>\n",
              "      <td>67.0</td>\n",
              "      <td>130.0</td>\n",
              "      <td>71.0</td>\n",
              "      <td>136.0</td>\n",
              "      <td>75.0</td>\n",
              "      <td>138.0</td>\n",
              "      <td>81.0</td>\n",
              "      <td>141.0</td>\n",
              "      <td>92.0</td>\n",
              "      <td>143.0</td>\n",
              "      <td>105.0</td>\n",
              "      <td>139.0</td>\n",
              "      <td>113.0</td>\n",
              "      <td>135.0</td>\n",
              "      <td>122.0</td>\n",
              "      <td>129.0</td>\n",
              "      <td>126.0</td>\n",
              "      <td>122.0</td>\n",
              "      <td>128.0</td>\n",
              "      <td>112.0</td>\n",
              "      <td>130.0</td>\n",
              "      <td>103.0</td>\n",
              "      <td>130.0</td>\n",
              "      <td>95.0</td>\n",
              "      <td>130.0</td>\n",
              "      <td>86.0</td>\n",
              "      <td>58.0</td>\n",
              "      <td>81.0</td>\n",
              "      <td>60.0</td>\n",
              "      <td>74.0</td>\n",
              "      <td>64.0</td>\n",
              "      <td>...</td>\n",
              "      <td>75.0</td>\n",
              "      <td>121.0</td>\n",
              "      <td>79.0</td>\n",
              "      <td>117.0</td>\n",
              "      <td>84.0</td>\n",
              "      <td>115.0</td>\n",
              "      <td>86.0</td>\n",
              "      <td>115.0</td>\n",
              "      <td>90.0</td>\n",
              "      <td>113.0</td>\n",
              "      <td>96.0</td>\n",
              "      <td>115.0</td>\n",
              "      <td>103.0</td>\n",
              "      <td>118.0</td>\n",
              "      <td>98.0</td>\n",
              "      <td>122.0</td>\n",
              "      <td>92.0</td>\n",
              "      <td>124.0</td>\n",
              "      <td>88.0</td>\n",
              "      <td>124.0</td>\n",
              "      <td>84.0</td>\n",
              "      <td>126.0</td>\n",
              "      <td>79.0</td>\n",
              "      <td>124.0</td>\n",
              "      <td>77.0</td>\n",
              "      <td>121.0</td>\n",
              "      <td>84.0</td>\n",
              "      <td>117.0</td>\n",
              "      <td>88.0</td>\n",
              "      <td>117.0</td>\n",
              "      <td>92.0</td>\n",
              "      <td>117.0</td>\n",
              "      <td>103.0</td>\n",
              "      <td>118.0</td>\n",
              "      <td>92.0</td>\n",
              "      <td>120.0</td>\n",
              "      <td>88.0</td>\n",
              "      <td>122.0</td>\n",
              "      <td>84.0</td>\n",
              "      <td>122.0</td>\n",
              "    </tr>\n",
              "  </tbody>\n",
              "</table>\n",
              "<p>5 rows × 137 columns</p>\n",
              "</div>"
            ],
            "text/plain": [
              "                   Unnamed: 0     0     1     2  ...   132    133   134    135\n",
              "0           Luis_Fonsi_21.jpg  45.0  98.0  47.0  ...  81.0  122.0  77.0  122.0\n",
              "1       Lincoln_Chafee_52.jpg  41.0  83.0  43.0  ...  83.0  122.0  79.0  122.0\n",
              "2       Valerie_Harper_30.jpg  56.0  69.0  56.0  ...  75.0  105.0  73.0  105.0\n",
              "3         Angelo_Reyes_22.jpg  61.0  80.0  58.0  ...  91.0  139.0  85.0  136.0\n",
              "4  Kristen_Breitweiser_11.jpg  58.0  94.0  58.0  ...  88.0  122.0  84.0  122.0\n",
              "\n",
              "[5 rows x 137 columns]"
            ]
          },
          "metadata": {
            "tags": []
          },
          "execution_count": 13
        }
      ]
    },
    {
      "cell_type": "markdown",
      "metadata": {
        "id": "3FNk_YQ6BJxo",
        "colab_type": "text"
      },
      "source": [
        "## Batching and loading data\n",
        "\n",
        "Next, having defined the transformed dataset, we can use PyTorch's DataLoader class to load the training data in batches of whatever size as well as to shuffle the data for training the model. You can read more about the parameters of the DataLoader, in [this documentation](http://pytorch.org/docs/master/data.html).\n",
        "\n",
        "#### Batch size\n",
        "Decide on a good batch size for training your model. Try both small and large batch sizes and note how the loss decreases as the model trains.\n",
        "\n",
        "**Note for Windows users**: Please change the `num_workers` to 0 or you may face some issues with your DataLoader failing."
      ]
    },
    {
      "cell_type": "code",
      "metadata": {
        "id": "nMkZytdsBJxo",
        "colab_type": "code",
        "colab": {}
      },
      "source": [
        "# load training data in batches\n",
        "# batch_size = 10\n",
        "batch_size = 64\n",
        "\n",
        "train_loader = DataLoader(transformed_dataset, \n",
        "                          batch_size=batch_size,\n",
        "                          shuffle=True, \n",
        "                          num_workers=4)\n"
      ],
      "execution_count": 0,
      "outputs": []
    },
    {
      "cell_type": "markdown",
      "metadata": {
        "id": "bq8LwjK4BJxs",
        "colab_type": "text"
      },
      "source": [
        "## Before training\n",
        "\n",
        "Take a look at how this model performs before it trains. You should see that the keypoints it predicts start off in one spot and don't match the keypoints on a face at all! It's interesting to visualize this behavior so that you can compare it to the model after training and see how the model has improved.\n",
        "\n",
        "#### Load in the test dataset\n",
        "\n",
        "The test dataset is one that this model has *not* seen before, meaning it has not trained with these images. We'll load in this test data and before and after training, see how your model performs on this set!\n",
        "\n",
        "To visualize this test data, we have to go through some un-transformation steps to turn our images into python images from tensors and to turn our keypoints back into a recognizable range. "
      ]
    },
    {
      "cell_type": "code",
      "metadata": {
        "id": "a4al3kayBJxs",
        "colab_type": "code",
        "colab": {}
      },
      "source": [
        "# load in the test data, using the dataset class\n",
        "# AND apply the data_transform you defined above\n",
        "\n",
        "# create the test dataset\n",
        "# test_dataset = FacialKeypointsDataset(csv_file='data/test_frames_keypoints.csv',\n",
        "#                                              root_dir='data/test/',\n",
        "#                                              transform=data_transform)\n",
        "\n",
        "test_dataset = FacialKeypointsDataset(csv_file=os.path.join(data_path, 'test_frames_keypoints.csv'),\n",
        "                                             root_dir=os.path.join(data_path, 'test/'),\n",
        "                                             transform=data_transform)"
      ],
      "execution_count": 0,
      "outputs": []
    },
    {
      "cell_type": "code",
      "metadata": {
        "id": "Yh9M9TzaBJxw",
        "colab_type": "code",
        "colab": {}
      },
      "source": [
        "# load test data in batches\n",
        "\n",
        "# Let's just use the same batch size as the training dataset.\n",
        "# batch_size = 10\n",
        "# batch_size = 64\n",
        "\n",
        "test_loader = DataLoader(test_dataset, \n",
        "                          batch_size=batch_size,\n",
        "                          shuffle=True, \n",
        "                          num_workers=4)"
      ],
      "execution_count": 0,
      "outputs": []
    },
    {
      "cell_type": "markdown",
      "metadata": {
        "id": "_AopAvBsBJx0",
        "colab_type": "text"
      },
      "source": [
        "## 3. Apply the model on a test sample\n",
        "\n",
        "To test the model on a test sample of data, you have to follow these steps:\n",
        "1. Extract the image and ground truth keypoints from a sample\n",
        "2. Make sure the image is a FloatTensor, which the model expects.\n",
        "3. Forward pass the image through the net to get the predicted, output keypoints.\n",
        "\n",
        "This function test how the network performs on the first batch of test data. It returns the images, the transformed images, the predicted keypoints (produced by the model), and the ground truth keypoints."
      ]
    },
    {
      "cell_type": "code",
      "metadata": {
        "id": "7UXt7ON0BJx1",
        "colab_type": "code",
        "colab": {}
      },
      "source": [
        "# test the model on a batch of test images\n",
        "\n",
        "def net_sample_output():\n",
        "    \n",
        "    # iterate through the test dataset\n",
        "    for i, sample in enumerate(test_loader):\n",
        "        \n",
        "        # get sample data: images and ground truth keypoints\n",
        "        images = sample['image']\n",
        "        key_pts = sample['keypoints']\n",
        "\n",
        "        # convert images to FloatTensors\n",
        "        images = images.type(torch.FloatTensor)\n",
        "\n",
        "        # forward pass to get net output\n",
        "        output_pts = net(images)\n",
        "        \n",
        "        # reshape to batch_size x 68 x 2 pts\n",
        "        output_pts = output_pts.view(output_pts.size()[0], 68, -1)\n",
        "        \n",
        "        # break after first image is tested\n",
        "        if i == 0:\n",
        "            return images, output_pts, key_pts            "
      ],
      "execution_count": 0,
      "outputs": []
    },
    {
      "cell_type": "code",
      "metadata": {
        "id": "dnaq2YJUJ6_X",
        "colab_type": "code",
        "outputId": "38b8ace5-35fd-4357-a0d1-5724b5bb458a",
        "colab": {
          "base_uri": "https://localhost:8080/",
          "height": 151
        }
      },
      "source": [
        "#type(train_loader[0])\n",
        "for i, sample in enumerate(train_loader):\n",
        "    images = sample['image']\n",
        "    key_pnts = sample['keypoints']\n",
        "\n",
        "    if i == 0:\n",
        "        break"
      ],
      "execution_count": 0,
      "outputs": [
        {
          "output_type": "stream",
          "text": [
            "/content/gdrive/My Drive/prj1_keypoints/data_load.py:43: FutureWarning: Method .as_matrix will be removed in a future version. Use .values instead.\n",
            "  key_pts = self.key_pts_frame.iloc[idx, 1:].as_matrix()\n",
            "/content/gdrive/My Drive/prj1_keypoints/data_load.py:43: FutureWarning: Method .as_matrix will be removed in a future version. Use .values instead.\n",
            "  key_pts = self.key_pts_frame.iloc[idx, 1:].as_matrix()\n",
            "/content/gdrive/My Drive/prj1_keypoints/data_load.py:43: FutureWarning: Method .as_matrix will be removed in a future version. Use .values instead.\n",
            "  key_pts = self.key_pts_frame.iloc[idx, 1:].as_matrix()\n",
            "/content/gdrive/My Drive/prj1_keypoints/data_load.py:43: FutureWarning: Method .as_matrix will be removed in a future version. Use .values instead.\n",
            "  key_pts = self.key_pts_frame.iloc[idx, 1:].as_matrix()\n"
          ],
          "name": "stderr"
        }
      ]
    },
    {
      "cell_type": "code",
      "metadata": {
        "id": "ZR6mwrmKK_JR",
        "colab_type": "code",
        "outputId": "011cafe2-3618-484e-c2ac-d591f8efba91",
        "colab": {
          "base_uri": "https://localhost:8080/",
          "height": 319
        }
      },
      "source": [
        "train_keypts = key_pnts.data.numpy()\n",
        "ind = 0\n",
        "\n",
        "# Display the range of key points x/y:\n",
        "print(train_keypts[ind].min())\n",
        "print(train_keypts[ind].max())\n",
        "# Here is an untransform:\n",
        "kpts2show = train_keypts[ind] * 50. + 100.\n",
        "\n",
        "image = images[ind].data   # get the image from it's wrapper\n",
        "image = image.numpy()   # convert to numpy array from a Tensor\n",
        "image = np.transpose(image, (1, 2, 0)) \n",
        "image = np.squeeze(image)\n",
        "\n",
        "plt.imshow(image, cmap='gray')\n",
        "plt.scatter(kpts2show[:, 0], kpts2show[:, 1])"
      ],
      "execution_count": 0,
      "outputs": [
        {
          "output_type": "stream",
          "text": [
            "-1.6120512820512818\n",
            "1.641652892561983\n"
          ],
          "name": "stdout"
        },
        {
          "output_type": "execute_result",
          "data": {
            "text/plain": [
              "<matplotlib.collections.PathCollection at 0x7fecece3f470>"
            ]
          },
          "metadata": {
            "tags": []
          },
          "execution_count": 35
        },
        {
          "output_type": "display_data",
          "data": {
            "image/png": "[encoded data removed]",
            "text/plain": [
              "<Figure size 432x288 with 1 Axes>"
            ]
          },
          "metadata": {
            "tags": []
          }
        }
      ]
    },
    {
      "cell_type": "markdown",
      "metadata": {
        "id": "O9V--6zSBJx3",
        "colab_type": "text"
      },
      "source": [
        "#### Debugging tips\n",
        "\n",
        "If you get a size or dimension error here, make sure that your network outputs the expected number of keypoints! Or if you get a Tensor type error, look into changing the above code that casts the data into float types: `images = images.type(torch.FloatTensor)`."
      ]
    },
    {
      "cell_type": "code",
      "metadata": {
        "id": "R4ei0OgYBJx4",
        "colab_type": "code",
        "outputId": "ab4f56c4-147b-4a98-9862-4412bd7bd6c4",
        "colab": {
          "base_uri": "https://localhost:8080/",
          "height": 235
        }
      },
      "source": [
        "# call the above function\n",
        "# returns: test images, test predicted keypoints, test ground truth keypoints\n",
        "test_images, test_outputs, gt_pts = net_sample_output()\n",
        "\n",
        "# print out the dimensions of the data to see if they make sense\n",
        "print(test_images.data.size())\n",
        "print(test_outputs.data.size())\n",
        "print(gt_pts.size())"
      ],
      "execution_count": 0,
      "outputs": [
        {
          "output_type": "stream",
          "text": [
            "/content/gdrive/My Drive/prj1_keypoints/data_load.py:43: FutureWarning: Method .as_matrix will be removed in a future version. Use .values instead.\n",
            "  key_pts = self.key_pts_frame.iloc[idx, 1:].as_matrix()\n",
            "/content/gdrive/My Drive/prj1_keypoints/data_load.py:43: FutureWarning: Method .as_matrix will be removed in a future version. Use .values instead.\n",
            "  key_pts = self.key_pts_frame.iloc[idx, 1:].as_matrix()\n",
            "/content/gdrive/My Drive/prj1_keypoints/data_load.py:43: FutureWarning: Method .as_matrix will be removed in a future version. Use .values instead.\n",
            "  key_pts = self.key_pts_frame.iloc[idx, 1:].as_matrix()\n",
            "/content/gdrive/My Drive/prj1_keypoints/data_load.py:43: FutureWarning: Method .as_matrix will be removed in a future version. Use .values instead.\n",
            "  key_pts = self.key_pts_frame.iloc[idx, 1:].as_matrix()\n"
          ],
          "name": "stderr"
        },
        {
          "output_type": "stream",
          "text": [
            "torch.Size([64, 1, 224, 224])\n",
            "torch.Size([64, 68, 2])\n",
            "torch.Size([64, 68, 2])\n"
          ],
          "name": "stdout"
        },
        {
          "output_type": "stream",
          "text": [
            "/usr/local/lib/python3.6/dist-packages/torch/nn/functional.py:1339: UserWarning: nn.functional.tanh is deprecated. Use torch.tanh instead.\n",
            "  warnings.warn(\"nn.functional.tanh is deprecated. Use torch.tanh instead.\")\n"
          ],
          "name": "stderr"
        }
      ]
    },
    {
      "cell_type": "markdown",
      "metadata": {
        "id": "hm6rpM4tBJx6",
        "colab_type": "text"
      },
      "source": [
        "## Visualize the predicted keypoints\n",
        "\n",
        "Once we've had the model produce some predicted output keypoints, we can visualize these points in a way that's similar to how we've displayed this data before, only this time, we have to \"un-transform\" the image/keypoint data to display it.\n",
        "\n",
        "Note that I've defined a *new* function, `show_all_keypoints` that displays a grayscale image, its predicted keypoints and its ground truth keypoints (if provided)."
      ]
    },
    {
      "cell_type": "code",
      "metadata": {
        "id": "elANchKFBJx8",
        "colab_type": "code",
        "colab": {}
      },
      "source": [
        "def show_all_keypoints(image, predicted_key_pts, gt_pts=None):\n",
        "    \"\"\"Show image with predicted keypoints\"\"\"\n",
        "    # image is grayscale\n",
        "    plt.imshow(image, cmap='gray')\n",
        "    plt.scatter(predicted_key_pts[:, 0], predicted_key_pts[:, 1], s=20, marker='.', c='m')\n",
        "    # plot ground truth points as green pts\n",
        "    if gt_pts is not None:\n",
        "        plt.scatter(gt_pts[:, 0], gt_pts[:, 1], s=20, marker='.', c='g')\n"
      ],
      "execution_count": 0,
      "outputs": []
    },
    {
      "cell_type": "markdown",
      "metadata": {
        "id": "qlXl3NsvBJx-",
        "colab_type": "text"
      },
      "source": [
        "#### Un-transformation\n",
        "\n",
        "Next, you'll see a helper function. `visualize_output` that takes in a batch of images, predicted keypoints, and ground truth keypoints and displays a set of those images and their true/predicted keypoints.\n",
        "\n",
        "This function's main role is to take batches of image and keypoint data (the input and output of your CNN), and transform them into numpy images and un-normalized keypoints (x, y) for normal display. The un-transformation process turns keypoints and images into numpy arrays from Tensors *and* it undoes the keypoint normalization done in the Normalize() transform; it's assumed that you applied these transformations when you loaded your test data."
      ]
    },
    {
      "cell_type": "code",
      "metadata": {
        "id": "ZIvtlnLbBJx_",
        "colab_type": "code",
        "colab": {}
      },
      "source": [
        "# visualize the output\n",
        "# by default this shows a batch of 10 images\n",
        "def visualize_output(test_images, test_outputs, gt_pts=None, batch_size=10):\n",
        "\n",
        "    for i in range(batch_size):\n",
        "        plt.figure(figsize=(20,10))\n",
        "        ax = plt.subplot(1, batch_size, i+1)\n",
        "\n",
        "        # un-transform the image data\n",
        "        image = test_images[i].data   # get the image from it's wrapper\n",
        "        image = image.numpy()   # convert to numpy array from a Tensor\n",
        "        image = np.transpose(image, (1, 2, 0))   # transpose to go from torch to numpy image\n",
        "\n",
        "        # un-transform the predicted key_pts data\n",
        "        predicted_key_pts = test_outputs[i].data\n",
        "        predicted_key_pts = predicted_key_pts.numpy()\n",
        "        # undo normalization of keypoints  \n",
        "        predicted_key_pts = predicted_key_pts*50.0+100\n",
        "        \n",
        "        # plot ground truth points for comparison, if they exist\n",
        "        ground_truth_pts = None\n",
        "        if gt_pts is not None:\n",
        "            ground_truth_pts = gt_pts[i]         \n",
        "            ground_truth_pts = ground_truth_pts*50.0+100\n",
        "        \n",
        "        # call show_all_keypoints\n",
        "        show_all_keypoints(np.squeeze(image), predicted_key_pts, ground_truth_pts)\n",
        "            \n",
        "        plt.axis('off')\n",
        "\n",
        "    plt.show()\n",
        "    \n",
        "# call it\n",
        "# visualize_output(test_images, test_outputs, gt_pts)"
      ],
      "execution_count": 0,
      "outputs": []
    },
    {
      "cell_type": "code",
      "metadata": {
        "id": "Ew5TS0XzBJyE",
        "colab_type": "code",
        "outputId": "b6b7864a-3784-4906-88fc-628bf25b64f2",
        "colab": {
          "base_uri": "https://localhost:8080/",
          "height": 50
        }
      },
      "source": [
        "np_test_rst = test_outputs[0].data.numpy()\n",
        "print(np_test_rst.max())\n",
        "print(np_test_rst.min())"
      ],
      "execution_count": 0,
      "outputs": [
        {
          "output_type": "stream",
          "text": [
            "0.08321767\n",
            "-0.10690868\n"
          ],
          "name": "stdout"
        }
      ]
    },
    {
      "cell_type": "code",
      "metadata": {
        "id": "wtEMP5ysrjK_",
        "colab_type": "code",
        "outputId": "b8166a00-0dbd-43fd-b81e-00615ebfedd6",
        "colab": {
          "base_uri": "https://localhost:8080/",
          "height": 50
        }
      },
      "source": [
        "print(gt_pts.max())\n",
        "print(gt_pts.min())"
      ],
      "execution_count": 0,
      "outputs": [
        {
          "output_type": "stream",
          "text": [
            "tensor(2.8717, dtype=torch.float64)\n",
            "tensor(-2.1421, dtype=torch.float64)\n"
          ],
          "name": "stdout"
        }
      ]
    },
    {
      "cell_type": "code",
      "metadata": {
        "id": "gS9QcoAisTGo",
        "colab_type": "code",
        "outputId": "e72c3025-9eee-4870-c157-4df61711bffb",
        "colab": {
          "base_uri": "https://localhost:8080/",
          "height": 34
        }
      },
      "source": [
        "image = test_images[0].data   # get the image from it's wrapper\n",
        "image = image.numpy()   # convert to numpy array from a Tensor\n",
        "image = np.transpose(image, (1, 2, 0))   # transpose to go from torch to numpy image\n",
        "print(image.shape)"
      ],
      "execution_count": 0,
      "outputs": [
        {
          "output_type": "stream",
          "text": [
            "(224, 224, 1)\n"
          ],
          "name": "stdout"
        }
      ]
    },
    {
      "cell_type": "code",
      "metadata": {
        "id": "4DPXxtKnvZuY",
        "colab_type": "code",
        "outputId": "13b388d2-16e3-4f5b-c38e-5976d57e2e55",
        "colab": {
          "base_uri": "https://localhost:8080/",
          "height": 286
        }
      },
      "source": [
        "image = np.squeeze(image)\n",
        "\n",
        "plt.imshow(image, cmap='gray')\n",
        "plt.scatter(100, 100, s=40, marker='o')"
      ],
      "execution_count": 0,
      "outputs": [
        {
          "output_type": "execute_result",
          "data": {
            "text/plain": [
              "<matplotlib.collections.PathCollection at 0x7fde07f446d8>"
            ]
          },
          "metadata": {
            "tags": []
          },
          "execution_count": 42
        },
        {
          "output_type": "display_data",
          "data": {
            "image/png": "[encoded data removed]",
            "text/plain": [
              "<Figure size 432x288 with 1 Axes>"
            ]
          },
          "metadata": {
            "tags": []
          }
        }
      ]
    },
    {
      "cell_type": "markdown",
      "metadata": {
        "id": "efZcAIPFBJyH",
        "colab_type": "text"
      },
      "source": [
        "## 4. Training\n",
        "\n",
        "#### Loss function\n",
        "Training a network to predict keypoints is different than training a network to predict a class; instead of outputting a distribution of classes and using cross entropy loss, you may want to choose a loss function that is suited for regression, which directly compares a predicted value and target value. Read about the various kinds of loss functions (like MSE or L1/SmoothL1 loss) in [this documentation](http://pytorch.org/docs/master/_modules/torch/nn/modules/loss.html).\n",
        "\n",
        "### TODO: Define the loss and optimization\n",
        "\n",
        "Next, you'll define how the model will train by deciding on the loss function and optimizer.\n",
        "\n",
        "---"
      ]
    },
    {
      "cell_type": "code",
      "metadata": {
        "id": "5pPTvZ8uBJyI",
        "colab_type": "code",
        "colab": {}
      },
      "source": [
        "## TODO: Define the loss and optimization\n",
        "import torch.optim as optim\n",
        "\n",
        "criterion = nn.MSELoss()\n",
        "\n",
        "optimizer = optim.Adam(params=net.parameters(), lr=0.01)"
      ],
      "execution_count": 0,
      "outputs": []
    },
    {
      "cell_type": "markdown",
      "metadata": {
        "id": "HQac6TF_BJyL",
        "colab_type": "text"
      },
      "source": [
        "## Training and Initial Observation\n",
        "\n",
        "Now, you'll train on your batched training data from `train_loader` for a number of epochs. \n",
        "\n",
        "To quickly observe how your model is training and decide on whether or not you should modify it's structure or hyperparameters, you're encouraged to start off with just one or two epochs at first. As you train, note how your the model's loss behaves over time: does it decrease quickly at first and then slow down? Does it take a while to decrease in the first place? What happens if you change the batch size of your training data or modify your loss function? etc. \n",
        "\n",
        "Use these initial observations to make changes to your model and decide on the best architecture before you train for many epochs and create a final model."
      ]
    },
    {
      "cell_type": "code",
      "metadata": {
        "id": "aRraukbrBJyO",
        "colab_type": "code",
        "colab": {}
      },
      "source": [
        "def train_net(n_epochs):\n",
        "\n",
        "    # prepare the net for training\n",
        "    net.train()\n",
        "    loss_list = []\n",
        "\n",
        "    for epoch in range(n_epochs):  # loop over the dataset multiple times\n",
        "        \n",
        "        running_loss = 0.0\n",
        "\n",
        "        # train on batches of data, assumes you already have train_loader\n",
        "        for batch_i, data in enumerate(train_loader):\n",
        "            # get the input images and their corresponding labels\n",
        "            images = data['image']\n",
        "            key_pts = data['keypoints']\n",
        "\n",
        "            # flatten pts\n",
        "            key_pts = key_pts.view(key_pts.size(0), -1)\n",
        "\n",
        "            # convert variables to floats for regression loss\n",
        "            key_pts = key_pts.type(torch.FloatTensor)\n",
        "            images = images.type(torch.FloatTensor)\n",
        "\n",
        "            # forward pass to get outputs\n",
        "            output_pts = net(images)\n",
        "\n",
        "            # calculate the loss between predicted and target keypoints\n",
        "            loss = criterion(output_pts, key_pts)\n",
        "\n",
        "            # zero the parameter (weight) gradients\n",
        "            optimizer.zero_grad()\n",
        "            \n",
        "            # backward pass to calculate the weight gradients\n",
        "            loss.backward()\n",
        "\n",
        "            # update the weights\n",
        "            optimizer.step()\n",
        "            \n",
        "            # print('Epoch: {}, Batch: {}, Avg. Loss: {}'.format(epoch + 1, batch_i+1, loss.item()/1000))\n",
        "\n",
        "            # print loss statistics\n",
        "            # to convert loss into a scalar and add it to the running_loss, use .item()\n",
        "            running_loss += loss.item()            \n",
        "            loss_list.append(loss.item())\n",
        "\n",
        "            if batch_i % 10 == 9:    # print every 10 batches\n",
        "                file_name = '/content/gdrive/My Drive/prj1_keypoints/train_loss_lr_1e-2'\n",
        "                np.save(file_name, np.array(loss_list))\n",
        "                \n",
        "                print('Epoch: {}, Batch: {}, Avg. Loss: {}'.format(epoch + 1, batch_i+1, running_loss/1000))    \n",
        "                running_loss = 0.0\n",
        "\n",
        "            # file_name = '/content/gdrive/My Drive/prj1_keypoints/train_loss_3layers'\n",
        "            # np.save(file_name, np.array(loss_list))               \n",
        "            # print('Epoch: {}, Batch: {}, Avg. Loss: {}'.format(epoch + 1, batch_i+1, running_loss/1000))    \n",
        "            # running_loss = 0.0\n",
        "\n",
        "        torch.save({\n",
        "            'model_state_dict': net.state_dict(),\n",
        "            'optimizer_state_dict': optimizer.state_dict(),\n",
        "            'epoch': epoch,\n",
        "            }, '/content/gdrive/My Drive/prj1_keypoints/train_loss_lr_1e-2.pt')\n",
        "            \n",
        "    return loss_list"
      ],
      "execution_count": 0,
      "outputs": []
    },
    {
      "cell_type": "code",
      "metadata": {
        "id": "DJIFUHt6BJyS",
        "colab_type": "code",
        "outputId": "b451023a-d0f0-4b28-e249-2f403215665f",
        "colab": {
          "base_uri": "https://localhost:8080/",
          "height": 1000
        }
      },
      "source": [
        "# train your network\n",
        "import datetime\n",
        "\n",
        "t1 = datetime.datetime.now()\n",
        "\n",
        "n_epochs = 100 # start small, and increase when you've decided on your model structure and hyperparams\n",
        "loss_list = train_net(n_epochs)\n",
        "\n",
        "t2 = datetime.datetime.now()\n",
        "print(\"Training time: {}s\".format(t2 - t1))"
      ],
      "execution_count": 0,
      "outputs": [
        {
          "output_type": "stream",
          "text": [
            "/content/gdrive/My Drive/prj1_keypoints/data_load.py:43: FutureWarning: Method .as_matrix will be removed in a future version. Use .values instead.\n",
            "  key_pts = self.key_pts_frame.iloc[idx, 1:].as_matrix()\n",
            "/content/gdrive/My Drive/prj1_keypoints/data_load.py:43: FutureWarning: Method .as_matrix will be removed in a future version. Use .values instead.\n",
            "  key_pts = self.key_pts_frame.iloc[idx, 1:].as_matrix()\n",
            "/content/gdrive/My Drive/prj1_keypoints/data_load.py:43: FutureWarning: Method .as_matrix will be removed in a future version. Use .values instead.\n",
            "  key_pts = self.key_pts_frame.iloc[idx, 1:].as_matrix()\n",
            "/content/gdrive/My Drive/prj1_keypoints/data_load.py:43: FutureWarning: Method .as_matrix will be removed in a future version. Use .values instead.\n",
            "  key_pts = self.key_pts_frame.iloc[idx, 1:].as_matrix()\n",
            "/usr/local/lib/python3.6/dist-packages/torch/nn/functional.py:1339: UserWarning: nn.functional.tanh is deprecated. Use torch.tanh instead.\n",
            "  warnings.warn(\"nn.functional.tanh is deprecated. Use torch.tanh instead.\")\n"
          ],
          "name": "stderr"
        },
        {
          "output_type": "stream",
          "text": [
            "Epoch: 1, Batch: 10, Avg. Loss: 0.004418715193867683\n",
            "Epoch: 1, Batch: 20, Avg. Loss: 0.0021435351818799974\n",
            "Epoch: 1, Batch: 30, Avg. Loss: 0.0023988150656223295\n",
            "Epoch: 1, Batch: 40, Avg. Loss: 0.0019344750195741654\n",
            "Epoch: 1, Batch: 50, Avg. Loss: 0.002157131537795067\n"
          ],
          "name": "stdout"
        },
        {
          "output_type": "stream",
          "text": [
            "/content/gdrive/My Drive/prj1_keypoints/data_load.py:43: FutureWarning: Method .as_matrix will be removed in a future version. Use .values instead.\n",
            "  key_pts = self.key_pts_frame.iloc[idx, 1:].as_matrix()\n",
            "/content/gdrive/My Drive/prj1_keypoints/data_load.py:43: FutureWarning: Method .as_matrix will be removed in a future version. Use .values instead.\n",
            "  key_pts = self.key_pts_frame.iloc[idx, 1:].as_matrix()\n",
            "/content/gdrive/My Drive/prj1_keypoints/data_load.py:43: FutureWarning: Method .as_matrix will be removed in a future version. Use .values instead.\n",
            "  key_pts = self.key_pts_frame.iloc[idx, 1:].as_matrix()\n",
            "/content/gdrive/My Drive/prj1_keypoints/data_load.py:43: FutureWarning: Method .as_matrix will be removed in a future version. Use .values instead.\n",
            "  key_pts = self.key_pts_frame.iloc[idx, 1:].as_matrix()\n"
          ],
          "name": "stderr"
        },
        {
          "output_type": "stream",
          "text": [
            "Epoch: 2, Batch: 10, Avg. Loss: 0.001990592584013939\n",
            "Epoch: 2, Batch: 20, Avg. Loss: 0.0020662536323070527\n",
            "Epoch: 2, Batch: 30, Avg. Loss: 0.0020208133906126024\n",
            "Epoch: 2, Batch: 40, Avg. Loss: 0.0018607168197631837\n",
            "Epoch: 2, Batch: 50, Avg. Loss: 0.0021240517050027845\n"
          ],
          "name": "stdout"
        },
        {
          "output_type": "stream",
          "text": [
            "/content/gdrive/My Drive/prj1_keypoints/data_load.py:43: FutureWarning: Method .as_matrix will be removed in a future version. Use .values instead.\n",
            "  key_pts = self.key_pts_frame.iloc[idx, 1:].as_matrix()\n",
            "/content/gdrive/My Drive/prj1_keypoints/data_load.py:43: FutureWarning: Method .as_matrix will be removed in a future version. Use .values instead.\n",
            "  key_pts = self.key_pts_frame.iloc[idx, 1:].as_matrix()\n",
            "/content/gdrive/My Drive/prj1_keypoints/data_load.py:43: FutureWarning: Method .as_matrix will be removed in a future version. Use .values instead.\n",
            "  key_pts = self.key_pts_frame.iloc[idx, 1:].as_matrix()\n",
            "/content/gdrive/My Drive/prj1_keypoints/data_load.py:43: FutureWarning: Method .as_matrix will be removed in a future version. Use .values instead.\n",
            "  key_pts = self.key_pts_frame.iloc[idx, 1:].as_matrix()\n"
          ],
          "name": "stderr"
        },
        {
          "output_type": "stream",
          "text": [
            "Epoch: 3, Batch: 10, Avg. Loss: 0.0020464871674776078\n",
            "Epoch: 3, Batch: 20, Avg. Loss: 0.001930871844291687\n",
            "Epoch: 3, Batch: 30, Avg. Loss: 0.0017923492342233657\n",
            "Epoch: 3, Batch: 40, Avg. Loss: 0.0022187650799751282\n",
            "Epoch: 3, Batch: 50, Avg. Loss: 0.002255033105611801\n"
          ],
          "name": "stdout"
        },
        {
          "output_type": "stream",
          "text": [
            "/content/gdrive/My Drive/prj1_keypoints/data_load.py:43: FutureWarning: Method .as_matrix will be removed in a future version. Use .values instead.\n",
            "  key_pts = self.key_pts_frame.iloc[idx, 1:].as_matrix()\n",
            "/content/gdrive/My Drive/prj1_keypoints/data_load.py:43: FutureWarning: Method .as_matrix will be removed in a future version. Use .values instead.\n",
            "  key_pts = self.key_pts_frame.iloc[idx, 1:].as_matrix()\n",
            "/content/gdrive/My Drive/prj1_keypoints/data_load.py:43: FutureWarning: Method .as_matrix will be removed in a future version. Use .values instead.\n",
            "  key_pts = self.key_pts_frame.iloc[idx, 1:].as_matrix()\n",
            "/content/gdrive/My Drive/prj1_keypoints/data_load.py:43: FutureWarning: Method .as_matrix will be removed in a future version. Use .values instead.\n",
            "  key_pts = self.key_pts_frame.iloc[idx, 1:].as_matrix()\n"
          ],
          "name": "stderr"
        },
        {
          "output_type": "stream",
          "text": [
            "Epoch: 4, Batch: 10, Avg. Loss: 0.002167435184121132\n",
            "Epoch: 4, Batch: 20, Avg. Loss: 0.002140852838754654\n",
            "Epoch: 4, Batch: 30, Avg. Loss: 0.0019156479984521865\n",
            "Epoch: 4, Batch: 40, Avg. Loss: 0.0019104976952075959\n",
            "Epoch: 4, Batch: 50, Avg. Loss: 0.0020012964606285094\n"
          ],
          "name": "stdout"
        },
        {
          "output_type": "stream",
          "text": [
            "/content/gdrive/My Drive/prj1_keypoints/data_load.py:43: FutureWarning: Method .as_matrix will be removed in a future version. Use .values instead.\n",
            "  key_pts = self.key_pts_frame.iloc[idx, 1:].as_matrix()\n",
            "/content/gdrive/My Drive/prj1_keypoints/data_load.py:43: FutureWarning: Method .as_matrix will be removed in a future version. Use .values instead.\n",
            "  key_pts = self.key_pts_frame.iloc[idx, 1:].as_matrix()\n",
            "/content/gdrive/My Drive/prj1_keypoints/data_load.py:43: FutureWarning: Method .as_matrix will be removed in a future version. Use .values instead.\n",
            "  key_pts = self.key_pts_frame.iloc[idx, 1:].as_matrix()\n",
            "/content/gdrive/My Drive/prj1_keypoints/data_load.py:43: FutureWarning: Method .as_matrix will be removed in a future version. Use .values instead.\n",
            "  key_pts = self.key_pts_frame.iloc[idx, 1:].as_matrix()\n"
          ],
          "name": "stderr"
        },
        {
          "output_type": "stream",
          "text": [
            "Epoch: 5, Batch: 10, Avg. Loss: 0.0019444088488817215\n",
            "Epoch: 5, Batch: 20, Avg. Loss: 0.0021653550416231154\n",
            "Epoch: 5, Batch: 30, Avg. Loss: 0.001878908857703209\n",
            "Epoch: 5, Batch: 40, Avg. Loss: 0.0018852254301309586\n",
            "Epoch: 5, Batch: 50, Avg. Loss: 0.00206564936041832\n"
          ],
          "name": "stdout"
        },
        {
          "output_type": "stream",
          "text": [
            "/content/gdrive/My Drive/prj1_keypoints/data_load.py:43: FutureWarning: Method .as_matrix will be removed in a future version. Use .values instead.\n",
            "  key_pts = self.key_pts_frame.iloc[idx, 1:].as_matrix()\n",
            "/content/gdrive/My Drive/prj1_keypoints/data_load.py:43: FutureWarning: Method .as_matrix will be removed in a future version. Use .values instead.\n",
            "  key_pts = self.key_pts_frame.iloc[idx, 1:].as_matrix()\n",
            "/content/gdrive/My Drive/prj1_keypoints/data_load.py:43: FutureWarning: Method .as_matrix will be removed in a future version. Use .values instead.\n",
            "  key_pts = self.key_pts_frame.iloc[idx, 1:].as_matrix()\n",
            "/content/gdrive/My Drive/prj1_keypoints/data_load.py:43: FutureWarning: Method .as_matrix will be removed in a future version. Use .values instead.\n",
            "  key_pts = self.key_pts_frame.iloc[idx, 1:].as_matrix()\n"
          ],
          "name": "stderr"
        },
        {
          "output_type": "stream",
          "text": [
            "Epoch: 6, Batch: 10, Avg. Loss: 0.0019482792168855666\n",
            "Epoch: 6, Batch: 20, Avg. Loss: 0.0020984525084495544\n",
            "Epoch: 6, Batch: 30, Avg. Loss: 0.0020751726925373076\n",
            "Epoch: 6, Batch: 40, Avg. Loss: 0.0018827272057533263\n",
            "Epoch: 6, Batch: 50, Avg. Loss: 0.0018979140520095825\n"
          ],
          "name": "stdout"
        },
        {
          "output_type": "stream",
          "text": [
            "/content/gdrive/My Drive/prj1_keypoints/data_load.py:43: FutureWarning: Method .as_matrix will be removed in a future version. Use .values instead.\n",
            "  key_pts = self.key_pts_frame.iloc[idx, 1:].as_matrix()\n",
            "/content/gdrive/My Drive/prj1_keypoints/data_load.py:43: FutureWarning: Method .as_matrix will be removed in a future version. Use .values instead.\n",
            "  key_pts = self.key_pts_frame.iloc[idx, 1:].as_matrix()\n",
            "/content/gdrive/My Drive/prj1_keypoints/data_load.py:43: FutureWarning: Method .as_matrix will be removed in a future version. Use .values instead.\n",
            "  key_pts = self.key_pts_frame.iloc[idx, 1:].as_matrix()\n",
            "/content/gdrive/My Drive/prj1_keypoints/data_load.py:43: FutureWarning: Method .as_matrix will be removed in a future version. Use .values instead.\n",
            "  key_pts = self.key_pts_frame.iloc[idx, 1:].as_matrix()\n"
          ],
          "name": "stderr"
        },
        {
          "output_type": "stream",
          "text": [
            "Epoch: 7, Batch: 10, Avg. Loss: 0.001856824964284897\n",
            "Epoch: 7, Batch: 20, Avg. Loss: 0.002224280521273613\n",
            "Epoch: 7, Batch: 30, Avg. Loss: 0.001916054293513298\n",
            "Epoch: 7, Batch: 40, Avg. Loss: 0.0018420893102884292\n",
            "Epoch: 7, Batch: 50, Avg. Loss: 0.0022843030244112015\n"
          ],
          "name": "stdout"
        },
        {
          "output_type": "stream",
          "text": [
            "/content/gdrive/My Drive/prj1_keypoints/data_load.py:43: FutureWarning: Method .as_matrix will be removed in a future version. Use .values instead.\n",
            "  key_pts = self.key_pts_frame.iloc[idx, 1:].as_matrix()\n",
            "/content/gdrive/My Drive/prj1_keypoints/data_load.py:43: FutureWarning: Method .as_matrix will be removed in a future version. Use .values instead.\n",
            "  key_pts = self.key_pts_frame.iloc[idx, 1:].as_matrix()\n",
            "/content/gdrive/My Drive/prj1_keypoints/data_load.py:43: FutureWarning: Method .as_matrix will be removed in a future version. Use .values instead.\n",
            "  key_pts = self.key_pts_frame.iloc[idx, 1:].as_matrix()\n",
            "/content/gdrive/My Drive/prj1_keypoints/data_load.py:43: FutureWarning: Method .as_matrix will be removed in a future version. Use .values instead.\n",
            "  key_pts = self.key_pts_frame.iloc[idx, 1:].as_matrix()\n"
          ],
          "name": "stderr"
        },
        {
          "output_type": "stream",
          "text": [
            "Epoch: 8, Batch: 10, Avg. Loss: 0.0021567961424589156\n",
            "Epoch: 8, Batch: 20, Avg. Loss: 0.0019247080981731415\n",
            "Epoch: 8, Batch: 30, Avg. Loss: 0.0020934314280748366\n",
            "Epoch: 8, Batch: 40, Avg. Loss: 0.0019269129931926727\n",
            "Epoch: 8, Batch: 50, Avg. Loss: 0.00194315804541111\n"
          ],
          "name": "stdout"
        },
        {
          "output_type": "stream",
          "text": [
            "/content/gdrive/My Drive/prj1_keypoints/data_load.py:43: FutureWarning: Method .as_matrix will be removed in a future version. Use .values instead.\n",
            "  key_pts = self.key_pts_frame.iloc[idx, 1:].as_matrix()\n",
            "/content/gdrive/My Drive/prj1_keypoints/data_load.py:43: FutureWarning: Method .as_matrix will be removed in a future version. Use .values instead.\n",
            "  key_pts = self.key_pts_frame.iloc[idx, 1:].as_matrix()\n",
            "/content/gdrive/My Drive/prj1_keypoints/data_load.py:43: FutureWarning: Method .as_matrix will be removed in a future version. Use .values instead.\n",
            "  key_pts = self.key_pts_frame.iloc[idx, 1:].as_matrix()\n",
            "/content/gdrive/My Drive/prj1_keypoints/data_load.py:43: FutureWarning: Method .as_matrix will be removed in a future version. Use .values instead.\n",
            "  key_pts = self.key_pts_frame.iloc[idx, 1:].as_matrix()\n"
          ],
          "name": "stderr"
        },
        {
          "output_type": "stream",
          "text": [
            "Epoch: 9, Batch: 10, Avg. Loss: 0.0018654284030199051\n",
            "Epoch: 9, Batch: 20, Avg. Loss: 0.0021832479387521742\n",
            "Epoch: 9, Batch: 30, Avg. Loss: 0.002267280951142311\n",
            "Epoch: 9, Batch: 40, Avg. Loss: 0.001715609535574913\n",
            "Epoch: 9, Batch: 50, Avg. Loss: 0.0020546068847179413\n"
          ],
          "name": "stdout"
        },
        {
          "output_type": "stream",
          "text": [
            "/content/gdrive/My Drive/prj1_keypoints/data_load.py:43: FutureWarning: Method .as_matrix will be removed in a future version. Use .values instead.\n",
            "  key_pts = self.key_pts_frame.iloc[idx, 1:].as_matrix()\n",
            "/content/gdrive/My Drive/prj1_keypoints/data_load.py:43: FutureWarning: Method .as_matrix will be removed in a future version. Use .values instead.\n",
            "  key_pts = self.key_pts_frame.iloc[idx, 1:].as_matrix()\n",
            "/content/gdrive/My Drive/prj1_keypoints/data_load.py:43: FutureWarning: Method .as_matrix will be removed in a future version. Use .values instead.\n",
            "  key_pts = self.key_pts_frame.iloc[idx, 1:].as_matrix()\n",
            "/content/gdrive/My Drive/prj1_keypoints/data_load.py:43: FutureWarning: Method .as_matrix will be removed in a future version. Use .values instead.\n",
            "  key_pts = self.key_pts_frame.iloc[idx, 1:].as_matrix()\n"
          ],
          "name": "stderr"
        },
        {
          "output_type": "stream",
          "text": [
            "Epoch: 10, Batch: 10, Avg. Loss: 0.0020130873322486875\n",
            "Epoch: 10, Batch: 20, Avg. Loss: 0.0022449216693639757\n",
            "Epoch: 10, Batch: 30, Avg. Loss: 0.0019183854758739471\n",
            "Epoch: 10, Batch: 40, Avg. Loss: 0.0017999629378318786\n",
            "Epoch: 10, Batch: 50, Avg. Loss: 0.0020467054694890976\n"
          ],
          "name": "stdout"
        },
        {
          "output_type": "stream",
          "text": [
            "/content/gdrive/My Drive/prj1_keypoints/data_load.py:43: FutureWarning: Method .as_matrix will be removed in a future version. Use .values instead.\n",
            "  key_pts = self.key_pts_frame.iloc[idx, 1:].as_matrix()\n",
            "/content/gdrive/My Drive/prj1_keypoints/data_load.py:43: FutureWarning: Method .as_matrix will be removed in a future version. Use .values instead.\n",
            "  key_pts = self.key_pts_frame.iloc[idx, 1:].as_matrix()\n",
            "/content/gdrive/My Drive/prj1_keypoints/data_load.py:43: FutureWarning: Method .as_matrix will be removed in a future version. Use .values instead.\n",
            "  key_pts = self.key_pts_frame.iloc[idx, 1:].as_matrix()\n",
            "/content/gdrive/My Drive/prj1_keypoints/data_load.py:43: FutureWarning: Method .as_matrix will be removed in a future version. Use .values instead.\n",
            "  key_pts = self.key_pts_frame.iloc[idx, 1:].as_matrix()\n"
          ],
          "name": "stderr"
        },
        {
          "output_type": "stream",
          "text": [
            "Epoch: 11, Batch: 10, Avg. Loss: 0.001970724910497665\n",
            "Epoch: 11, Batch: 20, Avg. Loss: 0.0022723615616559983\n",
            "Epoch: 11, Batch: 30, Avg. Loss: 0.002131933093070984\n",
            "Epoch: 11, Batch: 40, Avg. Loss: 0.0017802268266677856\n",
            "Epoch: 11, Batch: 50, Avg. Loss: 0.001928387686610222\n"
          ],
          "name": "stdout"
        },
        {
          "output_type": "stream",
          "text": [
            "/content/gdrive/My Drive/prj1_keypoints/data_load.py:43: FutureWarning: Method .as_matrix will be removed in a future version. Use .values instead.\n",
            "  key_pts = self.key_pts_frame.iloc[idx, 1:].as_matrix()\n",
            "/content/gdrive/My Drive/prj1_keypoints/data_load.py:43: FutureWarning: Method .as_matrix will be removed in a future version. Use .values instead.\n",
            "  key_pts = self.key_pts_frame.iloc[idx, 1:].as_matrix()\n",
            "/content/gdrive/My Drive/prj1_keypoints/data_load.py:43: FutureWarning: Method .as_matrix will be removed in a future version. Use .values instead.\n",
            "  key_pts = self.key_pts_frame.iloc[idx, 1:].as_matrix()\n",
            "/content/gdrive/My Drive/prj1_keypoints/data_load.py:43: FutureWarning: Method .as_matrix will be removed in a future version. Use .values instead.\n",
            "  key_pts = self.key_pts_frame.iloc[idx, 1:].as_matrix()\n"
          ],
          "name": "stderr"
        },
        {
          "output_type": "stream",
          "text": [
            "Epoch: 12, Batch: 10, Avg. Loss: 0.002035407155752182\n",
            "Epoch: 12, Batch: 20, Avg. Loss: 0.0019263243228197099\n",
            "Epoch: 12, Batch: 30, Avg. Loss: 0.002001567006111145\n",
            "Epoch: 12, Batch: 40, Avg. Loss: 0.001829361453652382\n",
            "Epoch: 12, Batch: 50, Avg. Loss: 0.0019348218142986298\n"
          ],
          "name": "stdout"
        },
        {
          "output_type": "stream",
          "text": [
            "/content/gdrive/My Drive/prj1_keypoints/data_load.py:43: FutureWarning: Method .as_matrix will be removed in a future version. Use .values instead.\n",
            "  key_pts = self.key_pts_frame.iloc[idx, 1:].as_matrix()\n",
            "/content/gdrive/My Drive/prj1_keypoints/data_load.py:43: FutureWarning: Method .as_matrix will be removed in a future version. Use .values instead.\n",
            "  key_pts = self.key_pts_frame.iloc[idx, 1:].as_matrix()\n",
            "/content/gdrive/My Drive/prj1_keypoints/data_load.py:43: FutureWarning: Method .as_matrix will be removed in a future version. Use .values instead.\n",
            "  key_pts = self.key_pts_frame.iloc[idx, 1:].as_matrix()\n",
            "/content/gdrive/My Drive/prj1_keypoints/data_load.py:43: FutureWarning: Method .as_matrix will be removed in a future version. Use .values instead.\n",
            "  key_pts = self.key_pts_frame.iloc[idx, 1:].as_matrix()\n"
          ],
          "name": "stderr"
        },
        {
          "output_type": "stream",
          "text": [
            "Epoch: 13, Batch: 10, Avg. Loss: 0.0019747987538576125\n",
            "Epoch: 13, Batch: 20, Avg. Loss: 0.002006337270140648\n",
            "Epoch: 13, Batch: 30, Avg. Loss: 0.0021225695461034775\n",
            "Epoch: 13, Batch: 40, Avg. Loss: 0.0022145555019378663\n",
            "Epoch: 13, Batch: 50, Avg. Loss: 0.0020158613622188568\n"
          ],
          "name": "stdout"
        },
        {
          "output_type": "stream",
          "text": [
            "/content/gdrive/My Drive/prj1_keypoints/data_load.py:43: FutureWarning: Method .as_matrix will be removed in a future version. Use .values instead.\n",
            "  key_pts = self.key_pts_frame.iloc[idx, 1:].as_matrix()\n",
            "/content/gdrive/My Drive/prj1_keypoints/data_load.py:43: FutureWarning: Method .as_matrix will be removed in a future version. Use .values instead.\n",
            "  key_pts = self.key_pts_frame.iloc[idx, 1:].as_matrix()\n",
            "/content/gdrive/My Drive/prj1_keypoints/data_load.py:43: FutureWarning: Method .as_matrix will be removed in a future version. Use .values instead.\n",
            "  key_pts = self.key_pts_frame.iloc[idx, 1:].as_matrix()\n",
            "/content/gdrive/My Drive/prj1_keypoints/data_load.py:43: FutureWarning: Method .as_matrix will be removed in a future version. Use .values instead.\n",
            "  key_pts = self.key_pts_frame.iloc[idx, 1:].as_matrix()\n"
          ],
          "name": "stderr"
        },
        {
          "output_type": "stream",
          "text": [
            "Epoch: 14, Batch: 10, Avg. Loss: 0.002026460826396942\n",
            "Epoch: 14, Batch: 20, Avg. Loss: 0.002029487118124962\n",
            "Epoch: 14, Batch: 30, Avg. Loss: 0.002017692491412163\n",
            "Epoch: 14, Batch: 40, Avg. Loss: 0.0018138912618160248\n",
            "Epoch: 14, Batch: 50, Avg. Loss: 0.0020046917498111726\n"
          ],
          "name": "stdout"
        },
        {
          "output_type": "stream",
          "text": [
            "/content/gdrive/My Drive/prj1_keypoints/data_load.py:43: FutureWarning: Method .as_matrix will be removed in a future version. Use .values instead.\n",
            "  key_pts = self.key_pts_frame.iloc[idx, 1:].as_matrix()\n",
            "/content/gdrive/My Drive/prj1_keypoints/data_load.py:43: FutureWarning: Method .as_matrix will be removed in a future version. Use .values instead.\n",
            "  key_pts = self.key_pts_frame.iloc[idx, 1:].as_matrix()\n",
            "/content/gdrive/My Drive/prj1_keypoints/data_load.py:43: FutureWarning: Method .as_matrix will be removed in a future version. Use .values instead.\n",
            "  key_pts = self.key_pts_frame.iloc[idx, 1:].as_matrix()\n",
            "/content/gdrive/My Drive/prj1_keypoints/data_load.py:43: FutureWarning: Method .as_matrix will be removed in a future version. Use .values instead.\n",
            "  key_pts = self.key_pts_frame.iloc[idx, 1:].as_matrix()\n"
          ],
          "name": "stderr"
        },
        {
          "output_type": "stream",
          "text": [
            "Epoch: 15, Batch: 10, Avg. Loss: 0.0020929594933986662\n",
            "Epoch: 15, Batch: 20, Avg. Loss: 0.0018739543408155441\n",
            "Epoch: 15, Batch: 30, Avg. Loss: 0.0019590481370687484\n",
            "Epoch: 15, Batch: 40, Avg. Loss: 0.0017987751811742783\n",
            "Epoch: 15, Batch: 50, Avg. Loss: 0.001897654503583908\n"
          ],
          "name": "stdout"
        },
        {
          "output_type": "stream",
          "text": [
            "/content/gdrive/My Drive/prj1_keypoints/data_load.py:43: FutureWarning: Method .as_matrix will be removed in a future version. Use .values instead.\n",
            "  key_pts = self.key_pts_frame.iloc[idx, 1:].as_matrix()\n",
            "/content/gdrive/My Drive/prj1_keypoints/data_load.py:43: FutureWarning: Method .as_matrix will be removed in a future version. Use .values instead.\n",
            "  key_pts = self.key_pts_frame.iloc[idx, 1:].as_matrix()\n",
            "/content/gdrive/My Drive/prj1_keypoints/data_load.py:43: FutureWarning: Method .as_matrix will be removed in a future version. Use .values instead.\n",
            "  key_pts = self.key_pts_frame.iloc[idx, 1:].as_matrix()\n",
            "/content/gdrive/My Drive/prj1_keypoints/data_load.py:43: FutureWarning: Method .as_matrix will be removed in a future version. Use .values instead.\n",
            "  key_pts = self.key_pts_frame.iloc[idx, 1:].as_matrix()\n"
          ],
          "name": "stderr"
        },
        {
          "output_type": "stream",
          "text": [
            "Epoch: 16, Batch: 10, Avg. Loss: 0.0021241603046655653\n",
            "Epoch: 16, Batch: 20, Avg. Loss: 0.0020623882412910462\n",
            "Epoch: 16, Batch: 30, Avg. Loss: 0.0018560151308774947\n",
            "Epoch: 16, Batch: 40, Avg. Loss: 0.0018935191184282303\n",
            "Epoch: 16, Batch: 50, Avg. Loss: 0.0019281354397535325\n"
          ],
          "name": "stdout"
        },
        {
          "output_type": "stream",
          "text": [
            "/content/gdrive/My Drive/prj1_keypoints/data_load.py:43: FutureWarning: Method .as_matrix will be removed in a future version. Use .values instead.\n",
            "  key_pts = self.key_pts_frame.iloc[idx, 1:].as_matrix()\n",
            "/content/gdrive/My Drive/prj1_keypoints/data_load.py:43: FutureWarning: Method .as_matrix will be removed in a future version. Use .values instead.\n",
            "  key_pts = self.key_pts_frame.iloc[idx, 1:].as_matrix()\n",
            "/content/gdrive/My Drive/prj1_keypoints/data_load.py:43: FutureWarning: Method .as_matrix will be removed in a future version. Use .values instead.\n",
            "  key_pts = self.key_pts_frame.iloc[idx, 1:].as_matrix()\n",
            "/content/gdrive/My Drive/prj1_keypoints/data_load.py:43: FutureWarning: Method .as_matrix will be removed in a future version. Use .values instead.\n",
            "  key_pts = self.key_pts_frame.iloc[idx, 1:].as_matrix()\n"
          ],
          "name": "stderr"
        },
        {
          "output_type": "stream",
          "text": [
            "Epoch: 17, Batch: 10, Avg. Loss: 0.0021545160114765168\n",
            "Epoch: 17, Batch: 20, Avg. Loss: 0.002001260444521904\n",
            "Epoch: 17, Batch: 30, Avg. Loss: 0.002053417846560478\n",
            "Epoch: 17, Batch: 40, Avg. Loss: 0.0020134248584508896\n",
            "Epoch: 17, Batch: 50, Avg. Loss: 0.0019102528244256973\n"
          ],
          "name": "stdout"
        },
        {
          "output_type": "stream",
          "text": [
            "/content/gdrive/My Drive/prj1_keypoints/data_load.py:43: FutureWarning: Method .as_matrix will be removed in a future version. Use .values instead.\n",
            "  key_pts = self.key_pts_frame.iloc[idx, 1:].as_matrix()\n",
            "/content/gdrive/My Drive/prj1_keypoints/data_load.py:43: FutureWarning: Method .as_matrix will be removed in a future version. Use .values instead.\n",
            "  key_pts = self.key_pts_frame.iloc[idx, 1:].as_matrix()\n",
            "/content/gdrive/My Drive/prj1_keypoints/data_load.py:43: FutureWarning: Method .as_matrix will be removed in a future version. Use .values instead.\n",
            "  key_pts = self.key_pts_frame.iloc[idx, 1:].as_matrix()\n",
            "/content/gdrive/My Drive/prj1_keypoints/data_load.py:43: FutureWarning: Method .as_matrix will be removed in a future version. Use .values instead.\n",
            "  key_pts = self.key_pts_frame.iloc[idx, 1:].as_matrix()\n"
          ],
          "name": "stderr"
        },
        {
          "output_type": "stream",
          "text": [
            "Epoch: 18, Batch: 10, Avg. Loss: 0.002014699101448059\n",
            "Epoch: 18, Batch: 20, Avg. Loss: 0.001871146559715271\n",
            "Epoch: 18, Batch: 30, Avg. Loss: 0.0021432109773159027\n",
            "Epoch: 18, Batch: 40, Avg. Loss: 0.0019337062537670136\n",
            "Epoch: 18, Batch: 50, Avg. Loss: 0.0020348623096942903\n"
          ],
          "name": "stdout"
        },
        {
          "output_type": "stream",
          "text": [
            "/content/gdrive/My Drive/prj1_keypoints/data_load.py:43: FutureWarning: Method .as_matrix will be removed in a future version. Use .values instead.\n",
            "  key_pts = self.key_pts_frame.iloc[idx, 1:].as_matrix()\n",
            "/content/gdrive/My Drive/prj1_keypoints/data_load.py:43: FutureWarning: Method .as_matrix will be removed in a future version. Use .values instead.\n",
            "  key_pts = self.key_pts_frame.iloc[idx, 1:].as_matrix()\n",
            "/content/gdrive/My Drive/prj1_keypoints/data_load.py:43: FutureWarning: Method .as_matrix will be removed in a future version. Use .values instead.\n",
            "  key_pts = self.key_pts_frame.iloc[idx, 1:].as_matrix()\n",
            "/content/gdrive/My Drive/prj1_keypoints/data_load.py:43: FutureWarning: Method .as_matrix will be removed in a future version. Use .values instead.\n",
            "  key_pts = self.key_pts_frame.iloc[idx, 1:].as_matrix()\n"
          ],
          "name": "stderr"
        },
        {
          "output_type": "stream",
          "text": [
            "Epoch: 19, Batch: 10, Avg. Loss: 0.0019359671920537948\n",
            "Epoch: 19, Batch: 20, Avg. Loss: 0.0019104442745447158\n",
            "Epoch: 19, Batch: 30, Avg. Loss: 0.001992267429828644\n",
            "Epoch: 19, Batch: 40, Avg. Loss: 0.0019095364660024644\n",
            "Epoch: 19, Batch: 50, Avg. Loss: 0.001975014328956604\n"
          ],
          "name": "stdout"
        },
        {
          "output_type": "stream",
          "text": [
            "/content/gdrive/My Drive/prj1_keypoints/data_load.py:43: FutureWarning: Method .as_matrix will be removed in a future version. Use .values instead.\n",
            "  key_pts = self.key_pts_frame.iloc[idx, 1:].as_matrix()\n",
            "/content/gdrive/My Drive/prj1_keypoints/data_load.py:43: FutureWarning: Method .as_matrix will be removed in a future version. Use .values instead.\n",
            "  key_pts = self.key_pts_frame.iloc[idx, 1:].as_matrix()\n",
            "/content/gdrive/My Drive/prj1_keypoints/data_load.py:43: FutureWarning: Method .as_matrix will be removed in a future version. Use .values instead.\n",
            "  key_pts = self.key_pts_frame.iloc[idx, 1:].as_matrix()\n",
            "/content/gdrive/My Drive/prj1_keypoints/data_load.py:43: FutureWarning: Method .as_matrix will be removed in a future version. Use .values instead.\n",
            "  key_pts = self.key_pts_frame.iloc[idx, 1:].as_matrix()\n"
          ],
          "name": "stderr"
        },
        {
          "output_type": "stream",
          "text": [
            "Epoch: 20, Batch: 10, Avg. Loss: 0.0018106198906898499\n",
            "Epoch: 20, Batch: 20, Avg. Loss: 0.0019620151668787\n",
            "Epoch: 20, Batch: 30, Avg. Loss: 0.0019175187349319458\n",
            "Epoch: 20, Batch: 40, Avg. Loss: 0.0019050780981779097\n",
            "Epoch: 20, Batch: 50, Avg. Loss: 0.0018629949986934662\n"
          ],
          "name": "stdout"
        },
        {
          "output_type": "stream",
          "text": [
            "/content/gdrive/My Drive/prj1_keypoints/data_load.py:43: FutureWarning: Method .as_matrix will be removed in a future version. Use .values instead.\n",
            "  key_pts = self.key_pts_frame.iloc[idx, 1:].as_matrix()\n",
            "/content/gdrive/My Drive/prj1_keypoints/data_load.py:43: FutureWarning: Method .as_matrix will be removed in a future version. Use .values instead.\n",
            "  key_pts = self.key_pts_frame.iloc[idx, 1:].as_matrix()\n",
            "/content/gdrive/My Drive/prj1_keypoints/data_load.py:43: FutureWarning: Method .as_matrix will be removed in a future version. Use .values instead.\n",
            "  key_pts = self.key_pts_frame.iloc[idx, 1:].as_matrix()\n",
            "/content/gdrive/My Drive/prj1_keypoints/data_load.py:43: FutureWarning: Method .as_matrix will be removed in a future version. Use .values instead.\n",
            "  key_pts = self.key_pts_frame.iloc[idx, 1:].as_matrix()\n"
          ],
          "name": "stderr"
        },
        {
          "output_type": "stream",
          "text": [
            "Epoch: 21, Batch: 10, Avg. Loss: 0.001865039572119713\n",
            "Epoch: 21, Batch: 20, Avg. Loss: 0.0021571979224681856\n",
            "Epoch: 21, Batch: 30, Avg. Loss: 0.0020020171403884886\n",
            "Epoch: 21, Batch: 40, Avg. Loss: 0.0018603680282831192\n",
            "Epoch: 21, Batch: 50, Avg. Loss: 0.0019549514800310135\n"
          ],
          "name": "stdout"
        },
        {
          "output_type": "stream",
          "text": [
            "/content/gdrive/My Drive/prj1_keypoints/data_load.py:43: FutureWarning: Method .as_matrix will be removed in a future version. Use .values instead.\n",
            "  key_pts = self.key_pts_frame.iloc[idx, 1:].as_matrix()\n",
            "/content/gdrive/My Drive/prj1_keypoints/data_load.py:43: FutureWarning: Method .as_matrix will be removed in a future version. Use .values instead.\n",
            "  key_pts = self.key_pts_frame.iloc[idx, 1:].as_matrix()\n",
            "/content/gdrive/My Drive/prj1_keypoints/data_load.py:43: FutureWarning: Method .as_matrix will be removed in a future version. Use .values instead.\n",
            "  key_pts = self.key_pts_frame.iloc[idx, 1:].as_matrix()\n",
            "/content/gdrive/My Drive/prj1_keypoints/data_load.py:43: FutureWarning: Method .as_matrix will be removed in a future version. Use .values instead.\n",
            "  key_pts = self.key_pts_frame.iloc[idx, 1:].as_matrix()\n"
          ],
          "name": "stderr"
        },
        {
          "output_type": "stream",
          "text": [
            "Epoch: 22, Batch: 10, Avg. Loss: 0.00201737742125988\n",
            "Epoch: 22, Batch: 20, Avg. Loss: 0.0019224031418561935\n",
            "Epoch: 22, Batch: 30, Avg. Loss: 0.0019458454996347427\n",
            "Epoch: 22, Batch: 40, Avg. Loss: 0.0019287404716014861\n",
            "Epoch: 22, Batch: 50, Avg. Loss: 0.0020320750176906588\n"
          ],
          "name": "stdout"
        },
        {
          "output_type": "stream",
          "text": [
            "/content/gdrive/My Drive/prj1_keypoints/data_load.py:43: FutureWarning: Method .as_matrix will be removed in a future version. Use .values instead.\n",
            "  key_pts = self.key_pts_frame.iloc[idx, 1:].as_matrix()\n",
            "/content/gdrive/My Drive/prj1_keypoints/data_load.py:43: FutureWarning: Method .as_matrix will be removed in a future version. Use .values instead.\n",
            "  key_pts = self.key_pts_frame.iloc[idx, 1:].as_matrix()\n",
            "/content/gdrive/My Drive/prj1_keypoints/data_load.py:43: FutureWarning: Method .as_matrix will be removed in a future version. Use .values instead.\n",
            "  key_pts = self.key_pts_frame.iloc[idx, 1:].as_matrix()\n",
            "/content/gdrive/My Drive/prj1_keypoints/data_load.py:43: FutureWarning: Method .as_matrix will be removed in a future version. Use .values instead.\n",
            "  key_pts = self.key_pts_frame.iloc[idx, 1:].as_matrix()\n"
          ],
          "name": "stderr"
        },
        {
          "output_type": "stream",
          "text": [
            "Epoch: 23, Batch: 10, Avg. Loss: 0.001829147771000862\n",
            "Epoch: 23, Batch: 20, Avg. Loss: 0.0021926538944244383\n",
            "Epoch: 23, Batch: 30, Avg. Loss: 0.0020910822749137877\n",
            "Epoch: 23, Batch: 40, Avg. Loss: 0.001763964906334877\n",
            "Epoch: 23, Batch: 50, Avg. Loss: 0.001936361089348793\n"
          ],
          "name": "stdout"
        },
        {
          "output_type": "stream",
          "text": [
            "/content/gdrive/My Drive/prj1_keypoints/data_load.py:43: FutureWarning: Method .as_matrix will be removed in a future version. Use .values instead.\n",
            "  key_pts = self.key_pts_frame.iloc[idx, 1:].as_matrix()\n",
            "/content/gdrive/My Drive/prj1_keypoints/data_load.py:43: FutureWarning: Method .as_matrix will be removed in a future version. Use .values instead.\n",
            "  key_pts = self.key_pts_frame.iloc[idx, 1:].as_matrix()\n",
            "/content/gdrive/My Drive/prj1_keypoints/data_load.py:43: FutureWarning: Method .as_matrix will be removed in a future version. Use .values instead.\n",
            "  key_pts = self.key_pts_frame.iloc[idx, 1:].as_matrix()\n",
            "/content/gdrive/My Drive/prj1_keypoints/data_load.py:43: FutureWarning: Method .as_matrix will be removed in a future version. Use .values instead.\n",
            "  key_pts = self.key_pts_frame.iloc[idx, 1:].as_matrix()\n"
          ],
          "name": "stderr"
        },
        {
          "output_type": "stream",
          "text": [
            "Epoch: 24, Batch: 10, Avg. Loss: 0.001946825236082077\n",
            "Epoch: 24, Batch: 20, Avg. Loss: 0.002113043427467346\n",
            "Epoch: 24, Batch: 30, Avg. Loss: 0.0020752956569194793\n",
            "Epoch: 24, Batch: 40, Avg. Loss: 0.0019066264480352402\n",
            "Epoch: 24, Batch: 50, Avg. Loss: 0.0020487397611141205\n"
          ],
          "name": "stdout"
        },
        {
          "output_type": "stream",
          "text": [
            "/content/gdrive/My Drive/prj1_keypoints/data_load.py:43: FutureWarning: Method .as_matrix will be removed in a future version. Use .values instead.\n",
            "  key_pts = self.key_pts_frame.iloc[idx, 1:].as_matrix()\n",
            "/content/gdrive/My Drive/prj1_keypoints/data_load.py:43: FutureWarning: Method .as_matrix will be removed in a future version. Use .values instead.\n",
            "  key_pts = self.key_pts_frame.iloc[idx, 1:].as_matrix()\n",
            "/content/gdrive/My Drive/prj1_keypoints/data_load.py:43: FutureWarning: Method .as_matrix will be removed in a future version. Use .values instead.\n",
            "  key_pts = self.key_pts_frame.iloc[idx, 1:].as_matrix()\n",
            "/content/gdrive/My Drive/prj1_keypoints/data_load.py:43: FutureWarning: Method .as_matrix will be removed in a future version. Use .values instead.\n",
            "  key_pts = self.key_pts_frame.iloc[idx, 1:].as_matrix()\n"
          ],
          "name": "stderr"
        },
        {
          "output_type": "stream",
          "text": [
            "Epoch: 25, Batch: 10, Avg. Loss: 0.0019450102895498275\n",
            "Epoch: 25, Batch: 20, Avg. Loss: 0.0020824557840824127\n",
            "Epoch: 25, Batch: 30, Avg. Loss: 0.002220922961831093\n",
            "Epoch: 25, Batch: 40, Avg. Loss: 0.0018615079075098037\n",
            "Epoch: 25, Batch: 50, Avg. Loss: 0.0020524671375751497\n"
          ],
          "name": "stdout"
        },
        {
          "output_type": "stream",
          "text": [
            "/content/gdrive/My Drive/prj1_keypoints/data_load.py:43: FutureWarning: Method .as_matrix will be removed in a future version. Use .values instead.\n",
            "  key_pts = self.key_pts_frame.iloc[idx, 1:].as_matrix()\n",
            "/content/gdrive/My Drive/prj1_keypoints/data_load.py:43: FutureWarning: Method .as_matrix will be removed in a future version. Use .values instead.\n",
            "  key_pts = self.key_pts_frame.iloc[idx, 1:].as_matrix()\n",
            "/content/gdrive/My Drive/prj1_keypoints/data_load.py:43: FutureWarning: Method .as_matrix will be removed in a future version. Use .values instead.\n",
            "  key_pts = self.key_pts_frame.iloc[idx, 1:].as_matrix()\n",
            "/content/gdrive/My Drive/prj1_keypoints/data_load.py:43: FutureWarning: Method .as_matrix will be removed in a future version. Use .values instead.\n",
            "  key_pts = self.key_pts_frame.iloc[idx, 1:].as_matrix()\n"
          ],
          "name": "stderr"
        },
        {
          "output_type": "stream",
          "text": [
            "Epoch: 26, Batch: 10, Avg. Loss: 0.00187498040497303\n",
            "Epoch: 26, Batch: 20, Avg. Loss: 0.0018267265558242797\n",
            "Epoch: 26, Batch: 30, Avg. Loss: 0.0020650587379932406\n",
            "Epoch: 26, Batch: 40, Avg. Loss: 0.0020032767057418825\n",
            "Epoch: 26, Batch: 50, Avg. Loss: 0.0019571920931339263\n"
          ],
          "name": "stdout"
        },
        {
          "output_type": "stream",
          "text": [
            "/content/gdrive/My Drive/prj1_keypoints/data_load.py:43: FutureWarning: Method .as_matrix will be removed in a future version. Use .values instead.\n",
            "  key_pts = self.key_pts_frame.iloc[idx, 1:].as_matrix()\n",
            "/content/gdrive/My Drive/prj1_keypoints/data_load.py:43: FutureWarning: Method .as_matrix will be removed in a future version. Use .values instead.\n",
            "  key_pts = self.key_pts_frame.iloc[idx, 1:].as_matrix()\n",
            "/content/gdrive/My Drive/prj1_keypoints/data_load.py:43: FutureWarning: Method .as_matrix will be removed in a future version. Use .values instead.\n",
            "  key_pts = self.key_pts_frame.iloc[idx, 1:].as_matrix()\n",
            "/content/gdrive/My Drive/prj1_keypoints/data_load.py:43: FutureWarning: Method .as_matrix will be removed in a future version. Use .values instead.\n",
            "  key_pts = self.key_pts_frame.iloc[idx, 1:].as_matrix()\n"
          ],
          "name": "stderr"
        },
        {
          "output_type": "stream",
          "text": [
            "Epoch: 27, Batch: 10, Avg. Loss: 0.002428007438778877\n",
            "Epoch: 27, Batch: 20, Avg. Loss: 0.002010376751422882\n",
            "Epoch: 27, Batch: 30, Avg. Loss: 0.00198828986287117\n",
            "Epoch: 27, Batch: 40, Avg. Loss: 0.0019156980365514756\n",
            "Epoch: 27, Batch: 50, Avg. Loss: 0.002033195570111275\n"
          ],
          "name": "stdout"
        },
        {
          "output_type": "stream",
          "text": [
            "/content/gdrive/My Drive/prj1_keypoints/data_load.py:43: FutureWarning: Method .as_matrix will be removed in a future version. Use .values instead.\n",
            "  key_pts = self.key_pts_frame.iloc[idx, 1:].as_matrix()\n",
            "/content/gdrive/My Drive/prj1_keypoints/data_load.py:43: FutureWarning: Method .as_matrix will be removed in a future version. Use .values instead.\n",
            "  key_pts = self.key_pts_frame.iloc[idx, 1:].as_matrix()\n",
            "/content/gdrive/My Drive/prj1_keypoints/data_load.py:43: FutureWarning: Method .as_matrix will be removed in a future version. Use .values instead.\n",
            "  key_pts = self.key_pts_frame.iloc[idx, 1:].as_matrix()\n",
            "/content/gdrive/My Drive/prj1_keypoints/data_load.py:43: FutureWarning: Method .as_matrix will be removed in a future version. Use .values instead.\n",
            "  key_pts = self.key_pts_frame.iloc[idx, 1:].as_matrix()\n"
          ],
          "name": "stderr"
        },
        {
          "output_type": "stream",
          "text": [
            "Epoch: 28, Batch: 10, Avg. Loss: 0.0018677083402872086\n",
            "Epoch: 28, Batch: 20, Avg. Loss: 0.001848889723420143\n",
            "Epoch: 28, Batch: 30, Avg. Loss: 0.002087838754057884\n",
            "Epoch: 28, Batch: 40, Avg. Loss: 0.002017028197646141\n",
            "Epoch: 28, Batch: 50, Avg. Loss: 0.002008393421769142\n"
          ],
          "name": "stdout"
        },
        {
          "output_type": "stream",
          "text": [
            "/content/gdrive/My Drive/prj1_keypoints/data_load.py:43: FutureWarning: Method .as_matrix will be removed in a future version. Use .values instead.\n",
            "  key_pts = self.key_pts_frame.iloc[idx, 1:].as_matrix()\n",
            "/content/gdrive/My Drive/prj1_keypoints/data_load.py:43: FutureWarning: Method .as_matrix will be removed in a future version. Use .values instead.\n",
            "  key_pts = self.key_pts_frame.iloc[idx, 1:].as_matrix()\n",
            "/content/gdrive/My Drive/prj1_keypoints/data_load.py:43: FutureWarning: Method .as_matrix will be removed in a future version. Use .values instead.\n",
            "  key_pts = self.key_pts_frame.iloc[idx, 1:].as_matrix()\n",
            "/content/gdrive/My Drive/prj1_keypoints/data_load.py:43: FutureWarning: Method .as_matrix will be removed in a future version. Use .values instead.\n",
            "  key_pts = self.key_pts_frame.iloc[idx, 1:].as_matrix()\n"
          ],
          "name": "stderr"
        },
        {
          "output_type": "stream",
          "text": [
            "Epoch: 29, Batch: 10, Avg. Loss: 0.0018452416360378266\n",
            "Epoch: 29, Batch: 20, Avg. Loss: 0.0023178596794605254\n",
            "Epoch: 29, Batch: 30, Avg. Loss: 0.002147690713405609\n",
            "Epoch: 29, Batch: 40, Avg. Loss: 0.0019480227082967758\n",
            "Epoch: 29, Batch: 50, Avg. Loss: 0.0020311524122953416\n"
          ],
          "name": "stdout"
        },
        {
          "output_type": "stream",
          "text": [
            "/content/gdrive/My Drive/prj1_keypoints/data_load.py:43: FutureWarning: Method .as_matrix will be removed in a future version. Use .values instead.\n",
            "  key_pts = self.key_pts_frame.iloc[idx, 1:].as_matrix()\n",
            "/content/gdrive/My Drive/prj1_keypoints/data_load.py:43: FutureWarning: Method .as_matrix will be removed in a future version. Use .values instead.\n",
            "  key_pts = self.key_pts_frame.iloc[idx, 1:].as_matrix()\n",
            "/content/gdrive/My Drive/prj1_keypoints/data_load.py:43: FutureWarning: Method .as_matrix will be removed in a future version. Use .values instead.\n",
            "  key_pts = self.key_pts_frame.iloc[idx, 1:].as_matrix()\n",
            "/content/gdrive/My Drive/prj1_keypoints/data_load.py:43: FutureWarning: Method .as_matrix will be removed in a future version. Use .values instead.\n",
            "  key_pts = self.key_pts_frame.iloc[idx, 1:].as_matrix()\n"
          ],
          "name": "stderr"
        },
        {
          "output_type": "stream",
          "text": [
            "Epoch: 30, Batch: 10, Avg. Loss: 0.0019344307482242584\n",
            "Epoch: 30, Batch: 20, Avg. Loss: 0.0019687682539224626\n",
            "Epoch: 30, Batch: 30, Avg. Loss: 0.001840459793806076\n",
            "Epoch: 30, Batch: 40, Avg. Loss: 0.0018067245632410048\n",
            "Epoch: 30, Batch: 50, Avg. Loss: 0.0022589994817972183\n"
          ],
          "name": "stdout"
        },
        {
          "output_type": "stream",
          "text": [
            "/content/gdrive/My Drive/prj1_keypoints/data_load.py:43: FutureWarning: Method .as_matrix will be removed in a future version. Use .values instead.\n",
            "  key_pts = self.key_pts_frame.iloc[idx, 1:].as_matrix()\n",
            "/content/gdrive/My Drive/prj1_keypoints/data_load.py:43: FutureWarning: Method .as_matrix will be removed in a future version. Use .values instead.\n",
            "  key_pts = self.key_pts_frame.iloc[idx, 1:].as_matrix()\n",
            "/content/gdrive/My Drive/prj1_keypoints/data_load.py:43: FutureWarning: Method .as_matrix will be removed in a future version. Use .values instead.\n",
            "  key_pts = self.key_pts_frame.iloc[idx, 1:].as_matrix()\n",
            "/content/gdrive/My Drive/prj1_keypoints/data_load.py:43: FutureWarning: Method .as_matrix will be removed in a future version. Use .values instead.\n",
            "  key_pts = self.key_pts_frame.iloc[idx, 1:].as_matrix()\n"
          ],
          "name": "stderr"
        },
        {
          "output_type": "stream",
          "text": [
            "Epoch: 31, Batch: 10, Avg. Loss: 0.0018737460225820542\n",
            "Epoch: 31, Batch: 20, Avg. Loss: 0.0019198323786258698\n",
            "Epoch: 31, Batch: 30, Avg. Loss: 0.0019953000396490095\n",
            "Epoch: 31, Batch: 40, Avg. Loss: 0.0018084875196218491\n",
            "Epoch: 31, Batch: 50, Avg. Loss: 0.0019470065534114838\n"
          ],
          "name": "stdout"
        },
        {
          "output_type": "stream",
          "text": [
            "/content/gdrive/My Drive/prj1_keypoints/data_load.py:43: FutureWarning: Method .as_matrix will be removed in a future version. Use .values instead.\n",
            "  key_pts = self.key_pts_frame.iloc[idx, 1:].as_matrix()\n",
            "/content/gdrive/My Drive/prj1_keypoints/data_load.py:43: FutureWarning: Method .as_matrix will be removed in a future version. Use .values instead.\n",
            "  key_pts = self.key_pts_frame.iloc[idx, 1:].as_matrix()\n",
            "/content/gdrive/My Drive/prj1_keypoints/data_load.py:43: FutureWarning: Method .as_matrix will be removed in a future version. Use .values instead.\n",
            "  key_pts = self.key_pts_frame.iloc[idx, 1:].as_matrix()\n",
            "/content/gdrive/My Drive/prj1_keypoints/data_load.py:43: FutureWarning: Method .as_matrix will be removed in a future version. Use .values instead.\n",
            "  key_pts = self.key_pts_frame.iloc[idx, 1:].as_matrix()\n"
          ],
          "name": "stderr"
        },
        {
          "output_type": "stream",
          "text": [
            "Epoch: 32, Batch: 10, Avg. Loss: 0.0018183277398347855\n",
            "Epoch: 32, Batch: 20, Avg. Loss: 0.002134634256362915\n",
            "Epoch: 32, Batch: 30, Avg. Loss: 0.00209349100291729\n",
            "Epoch: 32, Batch: 40, Avg. Loss: 0.0018994751423597337\n",
            "Epoch: 32, Batch: 50, Avg. Loss: 0.002054798066616058\n"
          ],
          "name": "stdout"
        },
        {
          "output_type": "stream",
          "text": [
            "/content/gdrive/My Drive/prj1_keypoints/data_load.py:43: FutureWarning: Method .as_matrix will be removed in a future version. Use .values instead.\n",
            "  key_pts = self.key_pts_frame.iloc[idx, 1:].as_matrix()\n",
            "/content/gdrive/My Drive/prj1_keypoints/data_load.py:43: FutureWarning: Method .as_matrix will be removed in a future version. Use .values instead.\n",
            "  key_pts = self.key_pts_frame.iloc[idx, 1:].as_matrix()\n",
            "/content/gdrive/My Drive/prj1_keypoints/data_load.py:43: FutureWarning: Method .as_matrix will be removed in a future version. Use .values instead.\n",
            "  key_pts = self.key_pts_frame.iloc[idx, 1:].as_matrix()\n",
            "/content/gdrive/My Drive/prj1_keypoints/data_load.py:43: FutureWarning: Method .as_matrix will be removed in a future version. Use .values instead.\n",
            "  key_pts = self.key_pts_frame.iloc[idx, 1:].as_matrix()\n"
          ],
          "name": "stderr"
        },
        {
          "output_type": "stream",
          "text": [
            "Epoch: 33, Batch: 10, Avg. Loss: 0.0021359223276376724\n",
            "Epoch: 33, Batch: 20, Avg. Loss: 0.002648177072405815\n",
            "Epoch: 33, Batch: 30, Avg. Loss: 0.0020167808681726455\n",
            "Epoch: 33, Batch: 40, Avg. Loss: 0.0017940966039896012\n",
            "Epoch: 33, Batch: 50, Avg. Loss: 0.001915700763463974\n"
          ],
          "name": "stdout"
        },
        {
          "output_type": "stream",
          "text": [
            "/content/gdrive/My Drive/prj1_keypoints/data_load.py:43: FutureWarning: Method .as_matrix will be removed in a future version. Use .values instead.\n",
            "  key_pts = self.key_pts_frame.iloc[idx, 1:].as_matrix()\n",
            "/content/gdrive/My Drive/prj1_keypoints/data_load.py:43: FutureWarning: Method .as_matrix will be removed in a future version. Use .values instead.\n",
            "  key_pts = self.key_pts_frame.iloc[idx, 1:].as_matrix()\n",
            "/content/gdrive/My Drive/prj1_keypoints/data_load.py:43: FutureWarning: Method .as_matrix will be removed in a future version. Use .values instead.\n",
            "  key_pts = self.key_pts_frame.iloc[idx, 1:].as_matrix()\n",
            "/content/gdrive/My Drive/prj1_keypoints/data_load.py:43: FutureWarning: Method .as_matrix will be removed in a future version. Use .values instead.\n",
            "  key_pts = self.key_pts_frame.iloc[idx, 1:].as_matrix()\n"
          ],
          "name": "stderr"
        },
        {
          "output_type": "stream",
          "text": [
            "Epoch: 34, Batch: 10, Avg. Loss: 0.001916314497590065\n",
            "Epoch: 34, Batch: 20, Avg. Loss: 0.0018212206214666367\n",
            "Epoch: 34, Batch: 30, Avg. Loss: 0.001827796757221222\n",
            "Epoch: 34, Batch: 40, Avg. Loss: 0.0019426457434892654\n",
            "Epoch: 34, Batch: 50, Avg. Loss: 0.0018977410569787025\n"
          ],
          "name": "stdout"
        },
        {
          "output_type": "stream",
          "text": [
            "/content/gdrive/My Drive/prj1_keypoints/data_load.py:43: FutureWarning: Method .as_matrix will be removed in a future version. Use .values instead.\n",
            "  key_pts = self.key_pts_frame.iloc[idx, 1:].as_matrix()\n",
            "/content/gdrive/My Drive/prj1_keypoints/data_load.py:43: FutureWarning: Method .as_matrix will be removed in a future version. Use .values instead.\n",
            "  key_pts = self.key_pts_frame.iloc[idx, 1:].as_matrix()\n",
            "/content/gdrive/My Drive/prj1_keypoints/data_load.py:43: FutureWarning: Method .as_matrix will be removed in a future version. Use .values instead.\n",
            "  key_pts = self.key_pts_frame.iloc[idx, 1:].as_matrix()\n",
            "/content/gdrive/My Drive/prj1_keypoints/data_load.py:43: FutureWarning: Method .as_matrix will be removed in a future version. Use .values instead.\n",
            "  key_pts = self.key_pts_frame.iloc[idx, 1:].as_matrix()\n"
          ],
          "name": "stderr"
        },
        {
          "output_type": "stream",
          "text": [
            "Epoch: 35, Batch: 10, Avg. Loss: 0.0017859001904726027\n",
            "Epoch: 35, Batch: 20, Avg. Loss: 0.0019210638105869294\n",
            "Epoch: 35, Batch: 30, Avg. Loss: 0.0020222077667713164\n",
            "Epoch: 35, Batch: 40, Avg. Loss: 0.0019160458445549012\n",
            "Epoch: 35, Batch: 50, Avg. Loss: 0.0018650552034378052\n"
          ],
          "name": "stdout"
        },
        {
          "output_type": "stream",
          "text": [
            "/content/gdrive/My Drive/prj1_keypoints/data_load.py:43: FutureWarning: Method .as_matrix will be removed in a future version. Use .values instead.\n",
            "  key_pts = self.key_pts_frame.iloc[idx, 1:].as_matrix()\n",
            "/content/gdrive/My Drive/prj1_keypoints/data_load.py:43: FutureWarning: Method .as_matrix will be removed in a future version. Use .values instead.\n",
            "  key_pts = self.key_pts_frame.iloc[idx, 1:].as_matrix()\n",
            "/content/gdrive/My Drive/prj1_keypoints/data_load.py:43: FutureWarning: Method .as_matrix will be removed in a future version. Use .values instead.\n",
            "  key_pts = self.key_pts_frame.iloc[idx, 1:].as_matrix()\n",
            "/content/gdrive/My Drive/prj1_keypoints/data_load.py:43: FutureWarning: Method .as_matrix will be removed in a future version. Use .values instead.\n",
            "  key_pts = self.key_pts_frame.iloc[idx, 1:].as_matrix()\n"
          ],
          "name": "stderr"
        },
        {
          "output_type": "stream",
          "text": [
            "Epoch: 36, Batch: 10, Avg. Loss: 0.0020461906343698503\n",
            "Epoch: 36, Batch: 20, Avg. Loss: 0.0022550747990608216\n",
            "Epoch: 36, Batch: 30, Avg. Loss: 0.002051925614476204\n",
            "Epoch: 36, Batch: 40, Avg. Loss: 0.002045659586787224\n",
            "Epoch: 36, Batch: 50, Avg. Loss: 0.0018711837381124496\n"
          ],
          "name": "stdout"
        },
        {
          "output_type": "stream",
          "text": [
            "/content/gdrive/My Drive/prj1_keypoints/data_load.py:43: FutureWarning: Method .as_matrix will be removed in a future version. Use .values instead.\n",
            "  key_pts = self.key_pts_frame.iloc[idx, 1:].as_matrix()\n",
            "/content/gdrive/My Drive/prj1_keypoints/data_load.py:43: FutureWarning: Method .as_matrix will be removed in a future version. Use .values instead.\n",
            "  key_pts = self.key_pts_frame.iloc[idx, 1:].as_matrix()\n",
            "/content/gdrive/My Drive/prj1_keypoints/data_load.py:43: FutureWarning: Method .as_matrix will be removed in a future version. Use .values instead.\n",
            "  key_pts = self.key_pts_frame.iloc[idx, 1:].as_matrix()\n",
            "/content/gdrive/My Drive/prj1_keypoints/data_load.py:43: FutureWarning: Method .as_matrix will be removed in a future version. Use .values instead.\n",
            "  key_pts = self.key_pts_frame.iloc[idx, 1:].as_matrix()\n"
          ],
          "name": "stderr"
        },
        {
          "output_type": "stream",
          "text": [
            "Epoch: 37, Batch: 10, Avg. Loss: 0.002027391418814659\n",
            "Epoch: 37, Batch: 20, Avg. Loss: 0.0019891726076602936\n",
            "Epoch: 37, Batch: 30, Avg. Loss: 0.0019196207821369172\n",
            "Epoch: 37, Batch: 40, Avg. Loss: 0.0018355835750699042\n",
            "Epoch: 37, Batch: 50, Avg. Loss: 0.0019144328385591507\n"
          ],
          "name": "stdout"
        },
        {
          "output_type": "stream",
          "text": [
            "/content/gdrive/My Drive/prj1_keypoints/data_load.py:43: FutureWarning: Method .as_matrix will be removed in a future version. Use .values instead.\n",
            "  key_pts = self.key_pts_frame.iloc[idx, 1:].as_matrix()\n",
            "/content/gdrive/My Drive/prj1_keypoints/data_load.py:43: FutureWarning: Method .as_matrix will be removed in a future version. Use .values instead.\n",
            "  key_pts = self.key_pts_frame.iloc[idx, 1:].as_matrix()\n",
            "/content/gdrive/My Drive/prj1_keypoints/data_load.py:43: FutureWarning: Method .as_matrix will be removed in a future version. Use .values instead.\n",
            "  key_pts = self.key_pts_frame.iloc[idx, 1:].as_matrix()\n",
            "/content/gdrive/My Drive/prj1_keypoints/data_load.py:43: FutureWarning: Method .as_matrix will be removed in a future version. Use .values instead.\n",
            "  key_pts = self.key_pts_frame.iloc[idx, 1:].as_matrix()\n"
          ],
          "name": "stderr"
        },
        {
          "output_type": "stream",
          "text": [
            "Epoch: 38, Batch: 10, Avg. Loss: 0.001916272796690464\n",
            "Epoch: 38, Batch: 20, Avg. Loss: 0.0019682752341032028\n",
            "Epoch: 38, Batch: 30, Avg. Loss: 0.002191228672862053\n",
            "Epoch: 38, Batch: 40, Avg. Loss: 0.0018691665083169938\n",
            "Epoch: 38, Batch: 50, Avg. Loss: 0.001954516887664795\n"
          ],
          "name": "stdout"
        },
        {
          "output_type": "stream",
          "text": [
            "/content/gdrive/My Drive/prj1_keypoints/data_load.py:43: FutureWarning: Method .as_matrix will be removed in a future version. Use .values instead.\n",
            "  key_pts = self.key_pts_frame.iloc[idx, 1:].as_matrix()\n",
            "/content/gdrive/My Drive/prj1_keypoints/data_load.py:43: FutureWarning: Method .as_matrix will be removed in a future version. Use .values instead.\n",
            "  key_pts = self.key_pts_frame.iloc[idx, 1:].as_matrix()\n",
            "/content/gdrive/My Drive/prj1_keypoints/data_load.py:43: FutureWarning: Method .as_matrix will be removed in a future version. Use .values instead.\n",
            "  key_pts = self.key_pts_frame.iloc[idx, 1:].as_matrix()\n",
            "/content/gdrive/My Drive/prj1_keypoints/data_load.py:43: FutureWarning: Method .as_matrix will be removed in a future version. Use .values instead.\n",
            "  key_pts = self.key_pts_frame.iloc[idx, 1:].as_matrix()\n"
          ],
          "name": "stderr"
        },
        {
          "output_type": "stream",
          "text": [
            "Epoch: 39, Batch: 10, Avg. Loss: 0.0020175257325172422\n",
            "Epoch: 39, Batch: 20, Avg. Loss: 0.0019204406440258026\n",
            "Epoch: 39, Batch: 30, Avg. Loss: 0.0019543921500444414\n",
            "Epoch: 39, Batch: 40, Avg. Loss: 0.0020302997678518296\n",
            "Epoch: 39, Batch: 50, Avg. Loss: 0.0019249026477336883\n"
          ],
          "name": "stdout"
        },
        {
          "output_type": "stream",
          "text": [
            "/content/gdrive/My Drive/prj1_keypoints/data_load.py:43: FutureWarning: Method .as_matrix will be removed in a future version. Use .values instead.\n",
            "  key_pts = self.key_pts_frame.iloc[idx, 1:].as_matrix()\n",
            "/content/gdrive/My Drive/prj1_keypoints/data_load.py:43: FutureWarning: Method .as_matrix will be removed in a future version. Use .values instead.\n",
            "  key_pts = self.key_pts_frame.iloc[idx, 1:].as_matrix()\n",
            "/content/gdrive/My Drive/prj1_keypoints/data_load.py:43: FutureWarning: Method .as_matrix will be removed in a future version. Use .values instead.\n",
            "  key_pts = self.key_pts_frame.iloc[idx, 1:].as_matrix()\n",
            "/content/gdrive/My Drive/prj1_keypoints/data_load.py:43: FutureWarning: Method .as_matrix will be removed in a future version. Use .values instead.\n",
            "  key_pts = self.key_pts_frame.iloc[idx, 1:].as_matrix()\n"
          ],
          "name": "stderr"
        },
        {
          "output_type": "stream",
          "text": [
            "Epoch: 40, Batch: 10, Avg. Loss: 0.001987519398331642\n",
            "Epoch: 40, Batch: 20, Avg. Loss: 0.0018478661477565766\n",
            "Epoch: 40, Batch: 30, Avg. Loss: 0.0020364158004522325\n",
            "Epoch: 40, Batch: 40, Avg. Loss: 0.0018671231716871262\n",
            "Epoch: 40, Batch: 50, Avg. Loss: 0.001986582413315773\n"
          ],
          "name": "stdout"
        },
        {
          "output_type": "stream",
          "text": [
            "/content/gdrive/My Drive/prj1_keypoints/data_load.py:43: FutureWarning: Method .as_matrix will be removed in a future version. Use .values instead.\n",
            "  key_pts = self.key_pts_frame.iloc[idx, 1:].as_matrix()\n",
            "/content/gdrive/My Drive/prj1_keypoints/data_load.py:43: FutureWarning: Method .as_matrix will be removed in a future version. Use .values instead.\n",
            "  key_pts = self.key_pts_frame.iloc[idx, 1:].as_matrix()\n",
            "/content/gdrive/My Drive/prj1_keypoints/data_load.py:43: FutureWarning: Method .as_matrix will be removed in a future version. Use .values instead.\n",
            "  key_pts = self.key_pts_frame.iloc[idx, 1:].as_matrix()\n",
            "/content/gdrive/My Drive/prj1_keypoints/data_load.py:43: FutureWarning: Method .as_matrix will be removed in a future version. Use .values instead.\n",
            "  key_pts = self.key_pts_frame.iloc[idx, 1:].as_matrix()\n"
          ],
          "name": "stderr"
        },
        {
          "output_type": "stream",
          "text": [
            "Epoch: 41, Batch: 10, Avg. Loss: 0.0019192919433116912\n",
            "Epoch: 41, Batch: 20, Avg. Loss: 0.0020007464438676834\n",
            "Epoch: 41, Batch: 30, Avg. Loss: 0.0018464817851781845\n",
            "Epoch: 41, Batch: 40, Avg. Loss: 0.002036291003227234\n",
            "Epoch: 41, Batch: 50, Avg. Loss: 0.002052490904927254\n"
          ],
          "name": "stdout"
        },
        {
          "output_type": "stream",
          "text": [
            "/content/gdrive/My Drive/prj1_keypoints/data_load.py:43: FutureWarning: Method .as_matrix will be removed in a future version. Use .values instead.\n",
            "  key_pts = self.key_pts_frame.iloc[idx, 1:].as_matrix()\n",
            "/content/gdrive/My Drive/prj1_keypoints/data_load.py:43: FutureWarning: Method .as_matrix will be removed in a future version. Use .values instead.\n",
            "  key_pts = self.key_pts_frame.iloc[idx, 1:].as_matrix()\n",
            "/content/gdrive/My Drive/prj1_keypoints/data_load.py:43: FutureWarning: Method .as_matrix will be removed in a future version. Use .values instead.\n",
            "  key_pts = self.key_pts_frame.iloc[idx, 1:].as_matrix()\n",
            "/content/gdrive/My Drive/prj1_keypoints/data_load.py:43: FutureWarning: Method .as_matrix will be removed in a future version. Use .values instead.\n",
            "  key_pts = self.key_pts_frame.iloc[idx, 1:].as_matrix()\n"
          ],
          "name": "stderr"
        },
        {
          "output_type": "stream",
          "text": [
            "Epoch: 42, Batch: 10, Avg. Loss: 0.0019261895418167115\n",
            "Epoch: 42, Batch: 20, Avg. Loss: 0.0021591147631406784\n",
            "Epoch: 42, Batch: 30, Avg. Loss: 0.0018172756731510162\n",
            "Epoch: 42, Batch: 40, Avg. Loss: 0.0019599398970603942\n",
            "Epoch: 42, Batch: 50, Avg. Loss: 0.0019622085243463515\n"
          ],
          "name": "stdout"
        },
        {
          "output_type": "stream",
          "text": [
            "/content/gdrive/My Drive/prj1_keypoints/data_load.py:43: FutureWarning: Method .as_matrix will be removed in a future version. Use .values instead.\n",
            "  key_pts = self.key_pts_frame.iloc[idx, 1:].as_matrix()\n",
            "/content/gdrive/My Drive/prj1_keypoints/data_load.py:43: FutureWarning: Method .as_matrix will be removed in a future version. Use .values instead.\n",
            "  key_pts = self.key_pts_frame.iloc[idx, 1:].as_matrix()\n",
            "/content/gdrive/My Drive/prj1_keypoints/data_load.py:43: FutureWarning: Method .as_matrix will be removed in a future version. Use .values instead.\n",
            "  key_pts = self.key_pts_frame.iloc[idx, 1:].as_matrix()\n",
            "/content/gdrive/My Drive/prj1_keypoints/data_load.py:43: FutureWarning: Method .as_matrix will be removed in a future version. Use .values instead.\n",
            "  key_pts = self.key_pts_frame.iloc[idx, 1:].as_matrix()\n"
          ],
          "name": "stderr"
        },
        {
          "output_type": "stream",
          "text": [
            "Epoch: 43, Batch: 10, Avg. Loss: 0.002035134628415108\n",
            "Epoch: 43, Batch: 20, Avg. Loss: 0.0019303750991821289\n",
            "Epoch: 43, Batch: 30, Avg. Loss: 0.0019785055220127106\n",
            "Epoch: 43, Batch: 40, Avg. Loss: 0.0018984844833612442\n",
            "Epoch: 43, Batch: 50, Avg. Loss: 0.0020096355974674224\n"
          ],
          "name": "stdout"
        },
        {
          "output_type": "stream",
          "text": [
            "/content/gdrive/My Drive/prj1_keypoints/data_load.py:43: FutureWarning: Method .as_matrix will be removed in a future version. Use .values instead.\n",
            "  key_pts = self.key_pts_frame.iloc[idx, 1:].as_matrix()\n",
            "/content/gdrive/My Drive/prj1_keypoints/data_load.py:43: FutureWarning: Method .as_matrix will be removed in a future version. Use .values instead.\n",
            "  key_pts = self.key_pts_frame.iloc[idx, 1:].as_matrix()\n",
            "/content/gdrive/My Drive/prj1_keypoints/data_load.py:43: FutureWarning: Method .as_matrix will be removed in a future version. Use .values instead.\n",
            "  key_pts = self.key_pts_frame.iloc[idx, 1:].as_matrix()\n",
            "/content/gdrive/My Drive/prj1_keypoints/data_load.py:43: FutureWarning: Method .as_matrix will be removed in a future version. Use .values instead.\n",
            "  key_pts = self.key_pts_frame.iloc[idx, 1:].as_matrix()\n"
          ],
          "name": "stderr"
        },
        {
          "output_type": "stream",
          "text": [
            "Epoch: 44, Batch: 10, Avg. Loss: 0.0019009679853916168\n",
            "Epoch: 44, Batch: 20, Avg. Loss: 0.001972370371222496\n",
            "Epoch: 44, Batch: 30, Avg. Loss: 0.0020336543321609495\n",
            "Epoch: 44, Batch: 40, Avg. Loss: 0.002096427172422409\n",
            "Epoch: 44, Batch: 50, Avg. Loss: 0.00185731041431427\n"
          ],
          "name": "stdout"
        },
        {
          "output_type": "stream",
          "text": [
            "/content/gdrive/My Drive/prj1_keypoints/data_load.py:43: FutureWarning: Method .as_matrix will be removed in a future version. Use .values instead.\n",
            "  key_pts = self.key_pts_frame.iloc[idx, 1:].as_matrix()\n",
            "/content/gdrive/My Drive/prj1_keypoints/data_load.py:43: FutureWarning: Method .as_matrix will be removed in a future version. Use .values instead.\n",
            "  key_pts = self.key_pts_frame.iloc[idx, 1:].as_matrix()\n",
            "/content/gdrive/My Drive/prj1_keypoints/data_load.py:43: FutureWarning: Method .as_matrix will be removed in a future version. Use .values instead.\n",
            "  key_pts = self.key_pts_frame.iloc[idx, 1:].as_matrix()\n",
            "/content/gdrive/My Drive/prj1_keypoints/data_load.py:43: FutureWarning: Method .as_matrix will be removed in a future version. Use .values instead.\n",
            "  key_pts = self.key_pts_frame.iloc[idx, 1:].as_matrix()\n"
          ],
          "name": "stderr"
        },
        {
          "output_type": "stream",
          "text": [
            "Epoch: 45, Batch: 10, Avg. Loss: 0.002032099664211273\n",
            "Epoch: 45, Batch: 20, Avg. Loss: 0.0019350828975439071\n",
            "Epoch: 45, Batch: 30, Avg. Loss: 0.0019713334888219834\n",
            "Epoch: 45, Batch: 40, Avg. Loss: 0.0017702839225530625\n",
            "Epoch: 45, Batch: 50, Avg. Loss: 0.002234902039170265\n"
          ],
          "name": "stdout"
        },
        {
          "output_type": "stream",
          "text": [
            "/content/gdrive/My Drive/prj1_keypoints/data_load.py:43: FutureWarning: Method .as_matrix will be removed in a future version. Use .values instead.\n",
            "  key_pts = self.key_pts_frame.iloc[idx, 1:].as_matrix()\n",
            "/content/gdrive/My Drive/prj1_keypoints/data_load.py:43: FutureWarning: Method .as_matrix will be removed in a future version. Use .values instead.\n",
            "  key_pts = self.key_pts_frame.iloc[idx, 1:].as_matrix()\n",
            "/content/gdrive/My Drive/prj1_keypoints/data_load.py:43: FutureWarning: Method .as_matrix will be removed in a future version. Use .values instead.\n",
            "  key_pts = self.key_pts_frame.iloc[idx, 1:].as_matrix()\n",
            "/content/gdrive/My Drive/prj1_keypoints/data_load.py:43: FutureWarning: Method .as_matrix will be removed in a future version. Use .values instead.\n",
            "  key_pts = self.key_pts_frame.iloc[idx, 1:].as_matrix()\n"
          ],
          "name": "stderr"
        },
        {
          "output_type": "stream",
          "text": [
            "Epoch: 46, Batch: 10, Avg. Loss: 0.001969422608613968\n",
            "Epoch: 46, Batch: 20, Avg. Loss: 0.001867841750383377\n",
            "Epoch: 46, Batch: 30, Avg. Loss: 0.001903452381491661\n",
            "Epoch: 46, Batch: 40, Avg. Loss: 0.0017331206798553466\n",
            "Epoch: 46, Batch: 50, Avg. Loss: 0.0022077140659093855\n"
          ],
          "name": "stdout"
        },
        {
          "output_type": "stream",
          "text": [
            "/content/gdrive/My Drive/prj1_keypoints/data_load.py:43: FutureWarning: Method .as_matrix will be removed in a future version. Use .values instead.\n",
            "  key_pts = self.key_pts_frame.iloc[idx, 1:].as_matrix()\n",
            "/content/gdrive/My Drive/prj1_keypoints/data_load.py:43: FutureWarning: Method .as_matrix will be removed in a future version. Use .values instead.\n",
            "  key_pts = self.key_pts_frame.iloc[idx, 1:].as_matrix()\n",
            "/content/gdrive/My Drive/prj1_keypoints/data_load.py:43: FutureWarning: Method .as_matrix will be removed in a future version. Use .values instead.\n",
            "  key_pts = self.key_pts_frame.iloc[idx, 1:].as_matrix()\n",
            "/content/gdrive/My Drive/prj1_keypoints/data_load.py:43: FutureWarning: Method .as_matrix will be removed in a future version. Use .values instead.\n",
            "  key_pts = self.key_pts_frame.iloc[idx, 1:].as_matrix()\n"
          ],
          "name": "stderr"
        },
        {
          "output_type": "stream",
          "text": [
            "Epoch: 47, Batch: 10, Avg. Loss: 0.0018589805960655213\n",
            "Epoch: 47, Batch: 20, Avg. Loss: 0.0021126123666763306\n",
            "Epoch: 47, Batch: 30, Avg. Loss: 0.002420393779873848\n",
            "Epoch: 47, Batch: 40, Avg. Loss: 0.001962406113743782\n",
            "Epoch: 47, Batch: 50, Avg. Loss: 0.0019677454084157946\n"
          ],
          "name": "stdout"
        },
        {
          "output_type": "stream",
          "text": [
            "/content/gdrive/My Drive/prj1_keypoints/data_load.py:43: FutureWarning: Method .as_matrix will be removed in a future version. Use .values instead.\n",
            "  key_pts = self.key_pts_frame.iloc[idx, 1:].as_matrix()\n",
            "/content/gdrive/My Drive/prj1_keypoints/data_load.py:43: FutureWarning: Method .as_matrix will be removed in a future version. Use .values instead.\n",
            "  key_pts = self.key_pts_frame.iloc[idx, 1:].as_matrix()\n",
            "/content/gdrive/My Drive/prj1_keypoints/data_load.py:43: FutureWarning: Method .as_matrix will be removed in a future version. Use .values instead.\n",
            "  key_pts = self.key_pts_frame.iloc[idx, 1:].as_matrix()\n",
            "/content/gdrive/My Drive/prj1_keypoints/data_load.py:43: FutureWarning: Method .as_matrix will be removed in a future version. Use .values instead.\n",
            "  key_pts = self.key_pts_frame.iloc[idx, 1:].as_matrix()\n"
          ],
          "name": "stderr"
        },
        {
          "output_type": "stream",
          "text": [
            "Epoch: 48, Batch: 10, Avg. Loss: 0.0017363550662994386\n",
            "Epoch: 48, Batch: 20, Avg. Loss: 0.0020556273460388182\n",
            "Epoch: 48, Batch: 30, Avg. Loss: 0.002226855933666229\n",
            "Epoch: 48, Batch: 40, Avg. Loss: 0.0019306118339300156\n",
            "Epoch: 48, Batch: 50, Avg. Loss: 0.001889318510890007\n"
          ],
          "name": "stdout"
        },
        {
          "output_type": "stream",
          "text": [
            "/content/gdrive/My Drive/prj1_keypoints/data_load.py:43: FutureWarning: Method .as_matrix will be removed in a future version. Use .values instead.\n",
            "  key_pts = self.key_pts_frame.iloc[idx, 1:].as_matrix()\n",
            "/content/gdrive/My Drive/prj1_keypoints/data_load.py:43: FutureWarning: Method .as_matrix will be removed in a future version. Use .values instead.\n",
            "  key_pts = self.key_pts_frame.iloc[idx, 1:].as_matrix()\n",
            "/content/gdrive/My Drive/prj1_keypoints/data_load.py:43: FutureWarning: Method .as_matrix will be removed in a future version. Use .values instead.\n",
            "  key_pts = self.key_pts_frame.iloc[idx, 1:].as_matrix()\n",
            "/content/gdrive/My Drive/prj1_keypoints/data_load.py:43: FutureWarning: Method .as_matrix will be removed in a future version. Use .values instead.\n",
            "  key_pts = self.key_pts_frame.iloc[idx, 1:].as_matrix()\n"
          ],
          "name": "stderr"
        },
        {
          "output_type": "stream",
          "text": [
            "Epoch: 49, Batch: 10, Avg. Loss: 0.002109672203660011\n",
            "Epoch: 49, Batch: 20, Avg. Loss: 0.0019185605347156525\n",
            "Epoch: 49, Batch: 30, Avg. Loss: 0.0019846499115228652\n",
            "Epoch: 49, Batch: 40, Avg. Loss: 0.0018418392688035964\n",
            "Epoch: 49, Batch: 50, Avg. Loss: 0.0021984835863113404\n"
          ],
          "name": "stdout"
        },
        {
          "output_type": "stream",
          "text": [
            "/content/gdrive/My Drive/prj1_keypoints/data_load.py:43: FutureWarning: Method .as_matrix will be removed in a future version. Use .values instead.\n",
            "  key_pts = self.key_pts_frame.iloc[idx, 1:].as_matrix()\n",
            "/content/gdrive/My Drive/prj1_keypoints/data_load.py:43: FutureWarning: Method .as_matrix will be removed in a future version. Use .values instead.\n",
            "  key_pts = self.key_pts_frame.iloc[idx, 1:].as_matrix()\n",
            "/content/gdrive/My Drive/prj1_keypoints/data_load.py:43: FutureWarning: Method .as_matrix will be removed in a future version. Use .values instead.\n",
            "  key_pts = self.key_pts_frame.iloc[idx, 1:].as_matrix()\n",
            "/content/gdrive/My Drive/prj1_keypoints/data_load.py:43: FutureWarning: Method .as_matrix will be removed in a future version. Use .values instead.\n",
            "  key_pts = self.key_pts_frame.iloc[idx, 1:].as_matrix()\n"
          ],
          "name": "stderr"
        },
        {
          "output_type": "stream",
          "text": [
            "Epoch: 50, Batch: 10, Avg. Loss: 0.002005377322435379\n",
            "Epoch: 50, Batch: 20, Avg. Loss: 0.001933218777179718\n",
            "Epoch: 50, Batch: 30, Avg. Loss: 0.0018641697466373443\n",
            "Epoch: 50, Batch: 40, Avg. Loss: 0.0021384004056453705\n",
            "Epoch: 50, Batch: 50, Avg. Loss: 0.001996186584234238\n"
          ],
          "name": "stdout"
        },
        {
          "output_type": "stream",
          "text": [
            "/content/gdrive/My Drive/prj1_keypoints/data_load.py:43: FutureWarning: Method .as_matrix will be removed in a future version. Use .values instead.\n",
            "  key_pts = self.key_pts_frame.iloc[idx, 1:].as_matrix()\n",
            "/content/gdrive/My Drive/prj1_keypoints/data_load.py:43: FutureWarning: Method .as_matrix will be removed in a future version. Use .values instead.\n",
            "  key_pts = self.key_pts_frame.iloc[idx, 1:].as_matrix()\n",
            "/content/gdrive/My Drive/prj1_keypoints/data_load.py:43: FutureWarning: Method .as_matrix will be removed in a future version. Use .values instead.\n",
            "  key_pts = self.key_pts_frame.iloc[idx, 1:].as_matrix()\n",
            "/content/gdrive/My Drive/prj1_keypoints/data_load.py:43: FutureWarning: Method .as_matrix will be removed in a future version. Use .values instead.\n",
            "  key_pts = self.key_pts_frame.iloc[idx, 1:].as_matrix()\n"
          ],
          "name": "stderr"
        },
        {
          "output_type": "stream",
          "text": [
            "Epoch: 51, Batch: 10, Avg. Loss: 0.0019244433045387268\n",
            "Epoch: 51, Batch: 20, Avg. Loss: 0.0020078200101852415\n",
            "Epoch: 51, Batch: 30, Avg. Loss: 0.002067344158887863\n",
            "Epoch: 51, Batch: 40, Avg. Loss: 0.0019152179062366485\n",
            "Epoch: 51, Batch: 50, Avg. Loss: 0.001997974440455437\n"
          ],
          "name": "stdout"
        },
        {
          "output_type": "stream",
          "text": [
            "/content/gdrive/My Drive/prj1_keypoints/data_load.py:43: FutureWarning: Method .as_matrix will be removed in a future version. Use .values instead.\n",
            "  key_pts = self.key_pts_frame.iloc[idx, 1:].as_matrix()\n",
            "/content/gdrive/My Drive/prj1_keypoints/data_load.py:43: FutureWarning: Method .as_matrix will be removed in a future version. Use .values instead.\n",
            "  key_pts = self.key_pts_frame.iloc[idx, 1:].as_matrix()\n",
            "/content/gdrive/My Drive/prj1_keypoints/data_load.py:43: FutureWarning: Method .as_matrix will be removed in a future version. Use .values instead.\n",
            "  key_pts = self.key_pts_frame.iloc[idx, 1:].as_matrix()\n",
            "/content/gdrive/My Drive/prj1_keypoints/data_load.py:43: FutureWarning: Method .as_matrix will be removed in a future version. Use .values instead.\n",
            "  key_pts = self.key_pts_frame.iloc[idx, 1:].as_matrix()\n"
          ],
          "name": "stderr"
        },
        {
          "output_type": "stream",
          "text": [
            "Epoch: 52, Batch: 10, Avg. Loss: 0.0018482553958892823\n",
            "Epoch: 52, Batch: 20, Avg. Loss: 0.0019270817637443542\n",
            "Epoch: 52, Batch: 30, Avg. Loss: 0.0022022992223501205\n",
            "Epoch: 52, Batch: 40, Avg. Loss: 0.002017394632101059\n",
            "Epoch: 52, Batch: 50, Avg. Loss: 0.0020076914280653\n"
          ],
          "name": "stdout"
        },
        {
          "output_type": "stream",
          "text": [
            "/content/gdrive/My Drive/prj1_keypoints/data_load.py:43: FutureWarning: Method .as_matrix will be removed in a future version. Use .values instead.\n",
            "  key_pts = self.key_pts_frame.iloc[idx, 1:].as_matrix()\n",
            "/content/gdrive/My Drive/prj1_keypoints/data_load.py:43: FutureWarning: Method .as_matrix will be removed in a future version. Use .values instead.\n",
            "  key_pts = self.key_pts_frame.iloc[idx, 1:].as_matrix()\n",
            "/content/gdrive/My Drive/prj1_keypoints/data_load.py:43: FutureWarning: Method .as_matrix will be removed in a future version. Use .values instead.\n",
            "  key_pts = self.key_pts_frame.iloc[idx, 1:].as_matrix()\n",
            "/content/gdrive/My Drive/prj1_keypoints/data_load.py:43: FutureWarning: Method .as_matrix will be removed in a future version. Use .values instead.\n",
            "  key_pts = self.key_pts_frame.iloc[idx, 1:].as_matrix()\n"
          ],
          "name": "stderr"
        },
        {
          "output_type": "stream",
          "text": [
            "Epoch: 53, Batch: 10, Avg. Loss: 0.002092520475387573\n",
            "Epoch: 53, Batch: 20, Avg. Loss: 0.0018544884920120238\n",
            "Epoch: 53, Batch: 30, Avg. Loss: 0.0018506529629230498\n",
            "Epoch: 53, Batch: 40, Avg. Loss: 0.0021585094183683394\n",
            "Epoch: 53, Batch: 50, Avg. Loss: 0.001917885109782219\n"
          ],
          "name": "stdout"
        },
        {
          "output_type": "stream",
          "text": [
            "/content/gdrive/My Drive/prj1_keypoints/data_load.py:43: FutureWarning: Method .as_matrix will be removed in a future version. Use .values instead.\n",
            "  key_pts = self.key_pts_frame.iloc[idx, 1:].as_matrix()\n",
            "/content/gdrive/My Drive/prj1_keypoints/data_load.py:43: FutureWarning: Method .as_matrix will be removed in a future version. Use .values instead.\n",
            "  key_pts = self.key_pts_frame.iloc[idx, 1:].as_matrix()\n",
            "/content/gdrive/My Drive/prj1_keypoints/data_load.py:43: FutureWarning: Method .as_matrix will be removed in a future version. Use .values instead.\n",
            "  key_pts = self.key_pts_frame.iloc[idx, 1:].as_matrix()\n",
            "/content/gdrive/My Drive/prj1_keypoints/data_load.py:43: FutureWarning: Method .as_matrix will be removed in a future version. Use .values instead.\n",
            "  key_pts = self.key_pts_frame.iloc[idx, 1:].as_matrix()\n"
          ],
          "name": "stderr"
        },
        {
          "output_type": "stream",
          "text": [
            "Epoch: 54, Batch: 10, Avg. Loss: 0.0019706471860408783\n",
            "Epoch: 54, Batch: 20, Avg. Loss: 0.0019604967832565308\n",
            "Epoch: 54, Batch: 30, Avg. Loss: 0.0018738874047994614\n",
            "Epoch: 54, Batch: 40, Avg. Loss: 0.0019112928062677383\n",
            "Epoch: 54, Batch: 50, Avg. Loss: 0.002066225975751877\n"
          ],
          "name": "stdout"
        },
        {
          "output_type": "stream",
          "text": [
            "/content/gdrive/My Drive/prj1_keypoints/data_load.py:43: FutureWarning: Method .as_matrix will be removed in a future version. Use .values instead.\n",
            "  key_pts = self.key_pts_frame.iloc[idx, 1:].as_matrix()\n",
            "/content/gdrive/My Drive/prj1_keypoints/data_load.py:43: FutureWarning: Method .as_matrix will be removed in a future version. Use .values instead.\n",
            "  key_pts = self.key_pts_frame.iloc[idx, 1:].as_matrix()\n",
            "/content/gdrive/My Drive/prj1_keypoints/data_load.py:43: FutureWarning: Method .as_matrix will be removed in a future version. Use .values instead.\n",
            "  key_pts = self.key_pts_frame.iloc[idx, 1:].as_matrix()\n",
            "/content/gdrive/My Drive/prj1_keypoints/data_load.py:43: FutureWarning: Method .as_matrix will be removed in a future version. Use .values instead.\n",
            "  key_pts = self.key_pts_frame.iloc[idx, 1:].as_matrix()\n"
          ],
          "name": "stderr"
        },
        {
          "output_type": "stream",
          "text": [
            "Epoch: 55, Batch: 10, Avg. Loss: 0.0019774270206689834\n",
            "Epoch: 55, Batch: 20, Avg. Loss: 0.0020136106461286544\n",
            "Epoch: 55, Batch: 30, Avg. Loss: 0.0018800645768642427\n",
            "Epoch: 55, Batch: 40, Avg. Loss: 0.001789883404970169\n",
            "Epoch: 55, Batch: 50, Avg. Loss: 0.0020117871165275573\n"
          ],
          "name": "stdout"
        },
        {
          "output_type": "stream",
          "text": [
            "/content/gdrive/My Drive/prj1_keypoints/data_load.py:43: FutureWarning: Method .as_matrix will be removed in a future version. Use .values instead.\n",
            "  key_pts = self.key_pts_frame.iloc[idx, 1:].as_matrix()\n",
            "/content/gdrive/My Drive/prj1_keypoints/data_load.py:43: FutureWarning: Method .as_matrix will be removed in a future version. Use .values instead.\n",
            "  key_pts = self.key_pts_frame.iloc[idx, 1:].as_matrix()\n",
            "/content/gdrive/My Drive/prj1_keypoints/data_load.py:43: FutureWarning: Method .as_matrix will be removed in a future version. Use .values instead.\n",
            "  key_pts = self.key_pts_frame.iloc[idx, 1:].as_matrix()\n",
            "/content/gdrive/My Drive/prj1_keypoints/data_load.py:43: FutureWarning: Method .as_matrix will be removed in a future version. Use .values instead.\n",
            "  key_pts = self.key_pts_frame.iloc[idx, 1:].as_matrix()\n"
          ],
          "name": "stderr"
        },
        {
          "output_type": "stream",
          "text": [
            "Epoch: 56, Batch: 10, Avg. Loss: 0.0018801912218332291\n",
            "Epoch: 56, Batch: 20, Avg. Loss: 0.002023025706410408\n",
            "Epoch: 56, Batch: 30, Avg. Loss: 0.0018654320687055588\n",
            "Epoch: 56, Batch: 40, Avg. Loss: 0.002160275660455227\n",
            "Epoch: 56, Batch: 50, Avg. Loss: 0.00190656341612339\n"
          ],
          "name": "stdout"
        },
        {
          "output_type": "stream",
          "text": [
            "/content/gdrive/My Drive/prj1_keypoints/data_load.py:43: FutureWarning: Method .as_matrix will be removed in a future version. Use .values instead.\n",
            "  key_pts = self.key_pts_frame.iloc[idx, 1:].as_matrix()\n",
            "/content/gdrive/My Drive/prj1_keypoints/data_load.py:43: FutureWarning: Method .as_matrix will be removed in a future version. Use .values instead.\n",
            "  key_pts = self.key_pts_frame.iloc[idx, 1:].as_matrix()\n",
            "/content/gdrive/My Drive/prj1_keypoints/data_load.py:43: FutureWarning: Method .as_matrix will be removed in a future version. Use .values instead.\n",
            "  key_pts = self.key_pts_frame.iloc[idx, 1:].as_matrix()\n",
            "/content/gdrive/My Drive/prj1_keypoints/data_load.py:43: FutureWarning: Method .as_matrix will be removed in a future version. Use .values instead.\n",
            "  key_pts = self.key_pts_frame.iloc[idx, 1:].as_matrix()\n"
          ],
          "name": "stderr"
        },
        {
          "output_type": "stream",
          "text": [
            "Epoch: 57, Batch: 10, Avg. Loss: 0.0019461791068315507\n",
            "Epoch: 57, Batch: 20, Avg. Loss: 0.0018805321902036667\n",
            "Epoch: 57, Batch: 30, Avg. Loss: 0.00198160582780838\n",
            "Epoch: 57, Batch: 40, Avg. Loss: 0.0019624108374118807\n",
            "Epoch: 57, Batch: 50, Avg. Loss: 0.0023065647929906845\n"
          ],
          "name": "stdout"
        },
        {
          "output_type": "stream",
          "text": [
            "/content/gdrive/My Drive/prj1_keypoints/data_load.py:43: FutureWarning: Method .as_matrix will be removed in a future version. Use .values instead.\n",
            "  key_pts = self.key_pts_frame.iloc[idx, 1:].as_matrix()\n",
            "/content/gdrive/My Drive/prj1_keypoints/data_load.py:43: FutureWarning: Method .as_matrix will be removed in a future version. Use .values instead.\n",
            "  key_pts = self.key_pts_frame.iloc[idx, 1:].as_matrix()\n",
            "/content/gdrive/My Drive/prj1_keypoints/data_load.py:43: FutureWarning: Method .as_matrix will be removed in a future version. Use .values instead.\n",
            "  key_pts = self.key_pts_frame.iloc[idx, 1:].as_matrix()\n",
            "/content/gdrive/My Drive/prj1_keypoints/data_load.py:43: FutureWarning: Method .as_matrix will be removed in a future version. Use .values instead.\n",
            "  key_pts = self.key_pts_frame.iloc[idx, 1:].as_matrix()\n"
          ],
          "name": "stderr"
        },
        {
          "output_type": "stream",
          "text": [
            "Epoch: 58, Batch: 10, Avg. Loss: 0.00189928936958313\n",
            "Epoch: 58, Batch: 20, Avg. Loss: 0.002055271148681641\n",
            "Epoch: 58, Batch: 30, Avg. Loss: 0.0018790607154369355\n",
            "Epoch: 58, Batch: 40, Avg. Loss: 0.0019409886002540587\n",
            "Epoch: 58, Batch: 50, Avg. Loss: 0.0018988310694694518\n"
          ],
          "name": "stdout"
        },
        {
          "output_type": "stream",
          "text": [
            "/content/gdrive/My Drive/prj1_keypoints/data_load.py:43: FutureWarning: Method .as_matrix will be removed in a future version. Use .values instead.\n",
            "  key_pts = self.key_pts_frame.iloc[idx, 1:].as_matrix()\n",
            "/content/gdrive/My Drive/prj1_keypoints/data_load.py:43: FutureWarning: Method .as_matrix will be removed in a future version. Use .values instead.\n",
            "  key_pts = self.key_pts_frame.iloc[idx, 1:].as_matrix()\n",
            "/content/gdrive/My Drive/prj1_keypoints/data_load.py:43: FutureWarning: Method .as_matrix will be removed in a future version. Use .values instead.\n",
            "  key_pts = self.key_pts_frame.iloc[idx, 1:].as_matrix()\n",
            "/content/gdrive/My Drive/prj1_keypoints/data_load.py:43: FutureWarning: Method .as_matrix will be removed in a future version. Use .values instead.\n",
            "  key_pts = self.key_pts_frame.iloc[idx, 1:].as_matrix()\n"
          ],
          "name": "stderr"
        },
        {
          "output_type": "stream",
          "text": [
            "Epoch: 59, Batch: 10, Avg. Loss: 0.001766843557357788\n",
            "Epoch: 59, Batch: 20, Avg. Loss: 0.002243653878569603\n",
            "Epoch: 59, Batch: 30, Avg. Loss: 0.001926727831363678\n",
            "Epoch: 59, Batch: 40, Avg. Loss: 0.0019035602882504464\n",
            "Epoch: 59, Batch: 50, Avg. Loss: 0.002055826559662819\n"
          ],
          "name": "stdout"
        },
        {
          "output_type": "stream",
          "text": [
            "/content/gdrive/My Drive/prj1_keypoints/data_load.py:43: FutureWarning: Method .as_matrix will be removed in a future version. Use .values instead.\n",
            "  key_pts = self.key_pts_frame.iloc[idx, 1:].as_matrix()\n",
            "/content/gdrive/My Drive/prj1_keypoints/data_load.py:43: FutureWarning: Method .as_matrix will be removed in a future version. Use .values instead.\n",
            "  key_pts = self.key_pts_frame.iloc[idx, 1:].as_matrix()\n",
            "/content/gdrive/My Drive/prj1_keypoints/data_load.py:43: FutureWarning: Method .as_matrix will be removed in a future version. Use .values instead.\n",
            "  key_pts = self.key_pts_frame.iloc[idx, 1:].as_matrix()\n",
            "/content/gdrive/My Drive/prj1_keypoints/data_load.py:43: FutureWarning: Method .as_matrix will be removed in a future version. Use .values instead.\n",
            "  key_pts = self.key_pts_frame.iloc[idx, 1:].as_matrix()\n"
          ],
          "name": "stderr"
        },
        {
          "output_type": "stream",
          "text": [
            "Epoch: 60, Batch: 10, Avg. Loss: 0.0018999449014663696\n",
            "Epoch: 60, Batch: 20, Avg. Loss: 0.0017906713485717773\n",
            "Epoch: 60, Batch: 30, Avg. Loss: 0.0019286083430051803\n",
            "Epoch: 60, Batch: 40, Avg. Loss: 0.0017249034494161606\n",
            "Epoch: 60, Batch: 50, Avg. Loss: 0.001940675064921379\n"
          ],
          "name": "stdout"
        },
        {
          "output_type": "stream",
          "text": [
            "/content/gdrive/My Drive/prj1_keypoints/data_load.py:43: FutureWarning: Method .as_matrix will be removed in a future version. Use .values instead.\n",
            "  key_pts = self.key_pts_frame.iloc[idx, 1:].as_matrix()\n",
            "/content/gdrive/My Drive/prj1_keypoints/data_load.py:43: FutureWarning: Method .as_matrix will be removed in a future version. Use .values instead.\n",
            "  key_pts = self.key_pts_frame.iloc[idx, 1:].as_matrix()\n",
            "/content/gdrive/My Drive/prj1_keypoints/data_load.py:43: FutureWarning: Method .as_matrix will be removed in a future version. Use .values instead.\n",
            "  key_pts = self.key_pts_frame.iloc[idx, 1:].as_matrix()\n",
            "/content/gdrive/My Drive/prj1_keypoints/data_load.py:43: FutureWarning: Method .as_matrix will be removed in a future version. Use .values instead.\n",
            "  key_pts = self.key_pts_frame.iloc[idx, 1:].as_matrix()\n"
          ],
          "name": "stderr"
        },
        {
          "output_type": "stream",
          "text": [
            "Epoch: 61, Batch: 10, Avg. Loss: 0.001945159211754799\n",
            "Epoch: 61, Batch: 20, Avg. Loss: 0.0019774932116270066\n",
            "Epoch: 61, Batch: 30, Avg. Loss: 0.002146923765540123\n",
            "Epoch: 61, Batch: 40, Avg. Loss: 0.0017781681269407271\n",
            "Epoch: 61, Batch: 50, Avg. Loss: 0.0018437881171703338\n"
          ],
          "name": "stdout"
        },
        {
          "output_type": "stream",
          "text": [
            "/content/gdrive/My Drive/prj1_keypoints/data_load.py:43: FutureWarning: Method .as_matrix will be removed in a future version. Use .values instead.\n",
            "  key_pts = self.key_pts_frame.iloc[idx, 1:].as_matrix()\n",
            "/content/gdrive/My Drive/prj1_keypoints/data_load.py:43: FutureWarning: Method .as_matrix will be removed in a future version. Use .values instead.\n",
            "  key_pts = self.key_pts_frame.iloc[idx, 1:].as_matrix()\n",
            "/content/gdrive/My Drive/prj1_keypoints/data_load.py:43: FutureWarning: Method .as_matrix will be removed in a future version. Use .values instead.\n",
            "  key_pts = self.key_pts_frame.iloc[idx, 1:].as_matrix()\n",
            "/content/gdrive/My Drive/prj1_keypoints/data_load.py:43: FutureWarning: Method .as_matrix will be removed in a future version. Use .values instead.\n",
            "  key_pts = self.key_pts_frame.iloc[idx, 1:].as_matrix()\n"
          ],
          "name": "stderr"
        },
        {
          "output_type": "stream",
          "text": [
            "Epoch: 62, Batch: 10, Avg. Loss: 0.00182042533159256\n",
            "Epoch: 62, Batch: 20, Avg. Loss: 0.0018307794332504273\n",
            "Epoch: 62, Batch: 30, Avg. Loss: 0.0016946895718574523\n",
            "Epoch: 62, Batch: 40, Avg. Loss: 0.0018568085730075836\n",
            "Epoch: 62, Batch: 50, Avg. Loss: 0.001955204114317894\n"
          ],
          "name": "stdout"
        },
        {
          "output_type": "stream",
          "text": [
            "/content/gdrive/My Drive/prj1_keypoints/data_load.py:43: FutureWarning: Method .as_matrix will be removed in a future version. Use .values instead.\n",
            "  key_pts = self.key_pts_frame.iloc[idx, 1:].as_matrix()\n",
            "/content/gdrive/My Drive/prj1_keypoints/data_load.py:43: FutureWarning: Method .as_matrix will be removed in a future version. Use .values instead.\n",
            "  key_pts = self.key_pts_frame.iloc[idx, 1:].as_matrix()\n",
            "/content/gdrive/My Drive/prj1_keypoints/data_load.py:43: FutureWarning: Method .as_matrix will be removed in a future version. Use .values instead.\n",
            "  key_pts = self.key_pts_frame.iloc[idx, 1:].as_matrix()\n",
            "/content/gdrive/My Drive/prj1_keypoints/data_load.py:43: FutureWarning: Method .as_matrix will be removed in a future version. Use .values instead.\n",
            "  key_pts = self.key_pts_frame.iloc[idx, 1:].as_matrix()\n"
          ],
          "name": "stderr"
        },
        {
          "output_type": "stream",
          "text": [
            "Epoch: 63, Batch: 10, Avg. Loss: 0.002000340059399605\n",
            "Epoch: 63, Batch: 20, Avg. Loss: 0.0019829657077789307\n",
            "Epoch: 63, Batch: 30, Avg. Loss: 0.001926061898469925\n",
            "Epoch: 63, Batch: 40, Avg. Loss: 0.002117721617221832\n",
            "Epoch: 63, Batch: 50, Avg. Loss: 0.0020279591530561448\n"
          ],
          "name": "stdout"
        },
        {
          "output_type": "stream",
          "text": [
            "/content/gdrive/My Drive/prj1_keypoints/data_load.py:43: FutureWarning: Method .as_matrix will be removed in a future version. Use .values instead.\n",
            "  key_pts = self.key_pts_frame.iloc[idx, 1:].as_matrix()\n",
            "/content/gdrive/My Drive/prj1_keypoints/data_load.py:43: FutureWarning: Method .as_matrix will be removed in a future version. Use .values instead.\n",
            "  key_pts = self.key_pts_frame.iloc[idx, 1:].as_matrix()\n",
            "/content/gdrive/My Drive/prj1_keypoints/data_load.py:43: FutureWarning: Method .as_matrix will be removed in a future version. Use .values instead.\n",
            "  key_pts = self.key_pts_frame.iloc[idx, 1:].as_matrix()\n",
            "/content/gdrive/My Drive/prj1_keypoints/data_load.py:43: FutureWarning: Method .as_matrix will be removed in a future version. Use .values instead.\n",
            "  key_pts = self.key_pts_frame.iloc[idx, 1:].as_matrix()\n"
          ],
          "name": "stderr"
        },
        {
          "output_type": "stream",
          "text": [
            "Epoch: 64, Batch: 10, Avg. Loss: 0.002068425938487053\n",
            "Epoch: 64, Batch: 20, Avg. Loss: 0.0019415911585092544\n",
            "Epoch: 64, Batch: 30, Avg. Loss: 0.0021815314143896103\n",
            "Epoch: 64, Batch: 40, Avg. Loss: 0.001860341429710388\n",
            "Epoch: 64, Batch: 50, Avg. Loss: 0.00221549029648304\n"
          ],
          "name": "stdout"
        },
        {
          "output_type": "stream",
          "text": [
            "/content/gdrive/My Drive/prj1_keypoints/data_load.py:43: FutureWarning: Method .as_matrix will be removed in a future version. Use .values instead.\n",
            "  key_pts = self.key_pts_frame.iloc[idx, 1:].as_matrix()\n",
            "/content/gdrive/My Drive/prj1_keypoints/data_load.py:43: FutureWarning: Method .as_matrix will be removed in a future version. Use .values instead.\n",
            "  key_pts = self.key_pts_frame.iloc[idx, 1:].as_matrix()\n",
            "/content/gdrive/My Drive/prj1_keypoints/data_load.py:43: FutureWarning: Method .as_matrix will be removed in a future version. Use .values instead.\n",
            "  key_pts = self.key_pts_frame.iloc[idx, 1:].as_matrix()\n",
            "/content/gdrive/My Drive/prj1_keypoints/data_load.py:43: FutureWarning: Method .as_matrix will be removed in a future version. Use .values instead.\n",
            "  key_pts = self.key_pts_frame.iloc[idx, 1:].as_matrix()\n"
          ],
          "name": "stderr"
        },
        {
          "output_type": "stream",
          "text": [
            "Epoch: 65, Batch: 10, Avg. Loss: 0.002000839188694954\n",
            "Epoch: 65, Batch: 20, Avg. Loss: 0.0020228234976530073\n",
            "Epoch: 65, Batch: 30, Avg. Loss: 0.002118927642703056\n",
            "Epoch: 65, Batch: 40, Avg. Loss: 0.0019228773564100266\n",
            "Epoch: 65, Batch: 50, Avg. Loss: 0.0021101797074079514\n"
          ],
          "name": "stdout"
        },
        {
          "output_type": "stream",
          "text": [
            "/content/gdrive/My Drive/prj1_keypoints/data_load.py:43: FutureWarning: Method .as_matrix will be removed in a future version. Use .values instead.\n",
            "  key_pts = self.key_pts_frame.iloc[idx, 1:].as_matrix()\n",
            "/content/gdrive/My Drive/prj1_keypoints/data_load.py:43: FutureWarning: Method .as_matrix will be removed in a future version. Use .values instead.\n",
            "  key_pts = self.key_pts_frame.iloc[idx, 1:].as_matrix()\n",
            "/content/gdrive/My Drive/prj1_keypoints/data_load.py:43: FutureWarning: Method .as_matrix will be removed in a future version. Use .values instead.\n",
            "  key_pts = self.key_pts_frame.iloc[idx, 1:].as_matrix()\n",
            "/content/gdrive/My Drive/prj1_keypoints/data_load.py:43: FutureWarning: Method .as_matrix will be removed in a future version. Use .values instead.\n",
            "  key_pts = self.key_pts_frame.iloc[idx, 1:].as_matrix()\n"
          ],
          "name": "stderr"
        },
        {
          "output_type": "stream",
          "text": [
            "Epoch: 66, Batch: 10, Avg. Loss: 0.0021521458476781844\n",
            "Epoch: 66, Batch: 20, Avg. Loss: 0.001882393568754196\n",
            "Epoch: 66, Batch: 30, Avg. Loss: 0.0020547915250062943\n",
            "Epoch: 66, Batch: 40, Avg. Loss: 0.0019404311776161194\n",
            "Epoch: 66, Batch: 50, Avg. Loss: 0.0018718669414520264\n"
          ],
          "name": "stdout"
        },
        {
          "output_type": "stream",
          "text": [
            "/content/gdrive/My Drive/prj1_keypoints/data_load.py:43: FutureWarning: Method .as_matrix will be removed in a future version. Use .values instead.\n",
            "  key_pts = self.key_pts_frame.iloc[idx, 1:].as_matrix()\n",
            "/content/gdrive/My Drive/prj1_keypoints/data_load.py:43: FutureWarning: Method .as_matrix will be removed in a future version. Use .values instead.\n",
            "  key_pts = self.key_pts_frame.iloc[idx, 1:].as_matrix()\n",
            "/content/gdrive/My Drive/prj1_keypoints/data_load.py:43: FutureWarning: Method .as_matrix will be removed in a future version. Use .values instead.\n",
            "  key_pts = self.key_pts_frame.iloc[idx, 1:].as_matrix()\n",
            "/content/gdrive/My Drive/prj1_keypoints/data_load.py:43: FutureWarning: Method .as_matrix will be removed in a future version. Use .values instead.\n",
            "  key_pts = self.key_pts_frame.iloc[idx, 1:].as_matrix()\n"
          ],
          "name": "stderr"
        },
        {
          "output_type": "stream",
          "text": [
            "Epoch: 67, Batch: 10, Avg. Loss: 0.001910875529050827\n",
            "Epoch: 67, Batch: 20, Avg. Loss: 0.0018671965897083282\n",
            "Epoch: 67, Batch: 30, Avg. Loss: 0.0018562696427106857\n",
            "Epoch: 67, Batch: 40, Avg. Loss: 0.0020432426929473876\n",
            "Epoch: 67, Batch: 50, Avg. Loss: 0.0019923989027738572\n"
          ],
          "name": "stdout"
        },
        {
          "output_type": "stream",
          "text": [
            "/content/gdrive/My Drive/prj1_keypoints/data_load.py:43: FutureWarning: Method .as_matrix will be removed in a future version. Use .values instead.\n",
            "  key_pts = self.key_pts_frame.iloc[idx, 1:].as_matrix()\n",
            "/content/gdrive/My Drive/prj1_keypoints/data_load.py:43: FutureWarning: Method .as_matrix will be removed in a future version. Use .values instead.\n",
            "  key_pts = self.key_pts_frame.iloc[idx, 1:].as_matrix()\n",
            "/content/gdrive/My Drive/prj1_keypoints/data_load.py:43: FutureWarning: Method .as_matrix will be removed in a future version. Use .values instead.\n",
            "  key_pts = self.key_pts_frame.iloc[idx, 1:].as_matrix()\n",
            "/content/gdrive/My Drive/prj1_keypoints/data_load.py:43: FutureWarning: Method .as_matrix will be removed in a future version. Use .values instead.\n",
            "  key_pts = self.key_pts_frame.iloc[idx, 1:].as_matrix()\n"
          ],
          "name": "stderr"
        },
        {
          "output_type": "stream",
          "text": [
            "Epoch: 68, Batch: 10, Avg. Loss: 0.001966888636350632\n",
            "Epoch: 68, Batch: 20, Avg. Loss: 0.0019201171845197678\n",
            "Epoch: 68, Batch: 30, Avg. Loss: 0.0020269472002983095\n",
            "Epoch: 68, Batch: 40, Avg. Loss: 0.0018043985366821289\n",
            "Epoch: 68, Batch: 50, Avg. Loss: 0.0019748749136924743\n"
          ],
          "name": "stdout"
        },
        {
          "output_type": "stream",
          "text": [
            "/content/gdrive/My Drive/prj1_keypoints/data_load.py:43: FutureWarning: Method .as_matrix will be removed in a future version. Use .values instead.\n",
            "  key_pts = self.key_pts_frame.iloc[idx, 1:].as_matrix()\n",
            "/content/gdrive/My Drive/prj1_keypoints/data_load.py:43: FutureWarning: Method .as_matrix will be removed in a future version. Use .values instead.\n",
            "  key_pts = self.key_pts_frame.iloc[idx, 1:].as_matrix()\n",
            "/content/gdrive/My Drive/prj1_keypoints/data_load.py:43: FutureWarning: Method .as_matrix will be removed in a future version. Use .values instead.\n",
            "  key_pts = self.key_pts_frame.iloc[idx, 1:].as_matrix()\n",
            "/content/gdrive/My Drive/prj1_keypoints/data_load.py:43: FutureWarning: Method .as_matrix will be removed in a future version. Use .values instead.\n",
            "  key_pts = self.key_pts_frame.iloc[idx, 1:].as_matrix()\n"
          ],
          "name": "stderr"
        },
        {
          "output_type": "stream",
          "text": [
            "Epoch: 69, Batch: 10, Avg. Loss: 0.0019059429466724395\n",
            "Epoch: 69, Batch: 20, Avg. Loss: 0.0020087238103151323\n",
            "Epoch: 69, Batch: 30, Avg. Loss: 0.0018748741149902345\n",
            "Epoch: 69, Batch: 40, Avg. Loss: 0.0018446418941020966\n",
            "Epoch: 69, Batch: 50, Avg. Loss: 0.0021101735532283784\n"
          ],
          "name": "stdout"
        },
        {
          "output_type": "stream",
          "text": [
            "/content/gdrive/My Drive/prj1_keypoints/data_load.py:43: FutureWarning: Method .as_matrix will be removed in a future version. Use .values instead.\n",
            "  key_pts = self.key_pts_frame.iloc[idx, 1:].as_matrix()\n",
            "/content/gdrive/My Drive/prj1_keypoints/data_load.py:43: FutureWarning: Method .as_matrix will be removed in a future version. Use .values instead.\n",
            "  key_pts = self.key_pts_frame.iloc[idx, 1:].as_matrix()\n",
            "/content/gdrive/My Drive/prj1_keypoints/data_load.py:43: FutureWarning: Method .as_matrix will be removed in a future version. Use .values instead.\n",
            "  key_pts = self.key_pts_frame.iloc[idx, 1:].as_matrix()\n",
            "/content/gdrive/My Drive/prj1_keypoints/data_load.py:43: FutureWarning: Method .as_matrix will be removed in a future version. Use .values instead.\n",
            "  key_pts = self.key_pts_frame.iloc[idx, 1:].as_matrix()\n"
          ],
          "name": "stderr"
        },
        {
          "output_type": "stream",
          "text": [
            "Epoch: 70, Batch: 10, Avg. Loss: 0.0020674695521593093\n",
            "Epoch: 70, Batch: 20, Avg. Loss: 0.0019034415632486344\n",
            "Epoch: 70, Batch: 30, Avg. Loss: 0.0018417725414037705\n",
            "Epoch: 70, Batch: 40, Avg. Loss: 0.0020054516047239303\n",
            "Epoch: 70, Batch: 50, Avg. Loss: 0.0021862588077783585\n"
          ],
          "name": "stdout"
        },
        {
          "output_type": "stream",
          "text": [
            "/content/gdrive/My Drive/prj1_keypoints/data_load.py:43: FutureWarning: Method .as_matrix will be removed in a future version. Use .values instead.\n",
            "  key_pts = self.key_pts_frame.iloc[idx, 1:].as_matrix()\n",
            "/content/gdrive/My Drive/prj1_keypoints/data_load.py:43: FutureWarning: Method .as_matrix will be removed in a future version. Use .values instead.\n",
            "  key_pts = self.key_pts_frame.iloc[idx, 1:].as_matrix()\n",
            "/content/gdrive/My Drive/prj1_keypoints/data_load.py:43: FutureWarning: Method .as_matrix will be removed in a future version. Use .values instead.\n",
            "  key_pts = self.key_pts_frame.iloc[idx, 1:].as_matrix()\n",
            "/content/gdrive/My Drive/prj1_keypoints/data_load.py:43: FutureWarning: Method .as_matrix will be removed in a future version. Use .values instead.\n",
            "  key_pts = self.key_pts_frame.iloc[idx, 1:].as_matrix()\n"
          ],
          "name": "stderr"
        },
        {
          "output_type": "stream",
          "text": [
            "Epoch: 71, Batch: 10, Avg. Loss: 0.001949453756213188\n",
            "Epoch: 71, Batch: 20, Avg. Loss: 0.0020215338319540025\n",
            "Epoch: 71, Batch: 30, Avg. Loss: 0.0019220544546842576\n",
            "Epoch: 71, Batch: 40, Avg. Loss: 0.0018846044689416884\n",
            "Epoch: 71, Batch: 50, Avg. Loss: 0.002117572069168091\n"
          ],
          "name": "stdout"
        },
        {
          "output_type": "stream",
          "text": [
            "/content/gdrive/My Drive/prj1_keypoints/data_load.py:43: FutureWarning: Method .as_matrix will be removed in a future version. Use .values instead.\n",
            "  key_pts = self.key_pts_frame.iloc[idx, 1:].as_matrix()\n",
            "/content/gdrive/My Drive/prj1_keypoints/data_load.py:43: FutureWarning: Method .as_matrix will be removed in a future version. Use .values instead.\n",
            "  key_pts = self.key_pts_frame.iloc[idx, 1:].as_matrix()\n",
            "/content/gdrive/My Drive/prj1_keypoints/data_load.py:43: FutureWarning: Method .as_matrix will be removed in a future version. Use .values instead.\n",
            "  key_pts = self.key_pts_frame.iloc[idx, 1:].as_matrix()\n",
            "/content/gdrive/My Drive/prj1_keypoints/data_load.py:43: FutureWarning: Method .as_matrix will be removed in a future version. Use .values instead.\n",
            "  key_pts = self.key_pts_frame.iloc[idx, 1:].as_matrix()\n"
          ],
          "name": "stderr"
        },
        {
          "output_type": "stream",
          "text": [
            "Epoch: 72, Batch: 10, Avg. Loss: 0.002105844393372536\n",
            "Epoch: 72, Batch: 20, Avg. Loss: 0.001793740674853325\n",
            "Epoch: 72, Batch: 30, Avg. Loss: 0.0020482608377933504\n",
            "Epoch: 72, Batch: 40, Avg. Loss: 0.0018754500150680543\n",
            "Epoch: 72, Batch: 50, Avg. Loss: 0.0018764598220586777\n"
          ],
          "name": "stdout"
        },
        {
          "output_type": "stream",
          "text": [
            "/content/gdrive/My Drive/prj1_keypoints/data_load.py:43: FutureWarning: Method .as_matrix will be removed in a future version. Use .values instead.\n",
            "  key_pts = self.key_pts_frame.iloc[idx, 1:].as_matrix()\n",
            "/content/gdrive/My Drive/prj1_keypoints/data_load.py:43: FutureWarning: Method .as_matrix will be removed in a future version. Use .values instead.\n",
            "  key_pts = self.key_pts_frame.iloc[idx, 1:].as_matrix()\n",
            "/content/gdrive/My Drive/prj1_keypoints/data_load.py:43: FutureWarning: Method .as_matrix will be removed in a future version. Use .values instead.\n",
            "  key_pts = self.key_pts_frame.iloc[idx, 1:].as_matrix()\n",
            "/content/gdrive/My Drive/prj1_keypoints/data_load.py:43: FutureWarning: Method .as_matrix will be removed in a future version. Use .values instead.\n",
            "  key_pts = self.key_pts_frame.iloc[idx, 1:].as_matrix()\n"
          ],
          "name": "stderr"
        },
        {
          "output_type": "stream",
          "text": [
            "Epoch: 73, Batch: 10, Avg. Loss: 0.001835330531001091\n",
            "Epoch: 73, Batch: 20, Avg. Loss: 0.0018923568576574325\n",
            "Epoch: 73, Batch: 30, Avg. Loss: 0.002058838203549385\n",
            "Epoch: 73, Batch: 40, Avg. Loss: 0.001805774822831154\n",
            "Epoch: 73, Batch: 50, Avg. Loss: 0.002146731644868851\n"
          ],
          "name": "stdout"
        },
        {
          "output_type": "stream",
          "text": [
            "/content/gdrive/My Drive/prj1_keypoints/data_load.py:43: FutureWarning: Method .as_matrix will be removed in a future version. Use .values instead.\n",
            "  key_pts = self.key_pts_frame.iloc[idx, 1:].as_matrix()\n",
            "/content/gdrive/My Drive/prj1_keypoints/data_load.py:43: FutureWarning: Method .as_matrix will be removed in a future version. Use .values instead.\n",
            "  key_pts = self.key_pts_frame.iloc[idx, 1:].as_matrix()\n",
            "/content/gdrive/My Drive/prj1_keypoints/data_load.py:43: FutureWarning: Method .as_matrix will be removed in a future version. Use .values instead.\n",
            "  key_pts = self.key_pts_frame.iloc[idx, 1:].as_matrix()\n",
            "/content/gdrive/My Drive/prj1_keypoints/data_load.py:43: FutureWarning: Method .as_matrix will be removed in a future version. Use .values instead.\n",
            "  key_pts = self.key_pts_frame.iloc[idx, 1:].as_matrix()\n"
          ],
          "name": "stderr"
        },
        {
          "output_type": "stream",
          "text": [
            "Epoch: 74, Batch: 10, Avg. Loss: 0.0021262198984622954\n",
            "Epoch: 74, Batch: 20, Avg. Loss: 0.002005706548690796\n",
            "Epoch: 74, Batch: 30, Avg. Loss: 0.0020258082747459413\n",
            "Epoch: 74, Batch: 40, Avg. Loss: 0.0019310779571533204\n",
            "Epoch: 74, Batch: 50, Avg. Loss: 0.001854015827178955\n"
          ],
          "name": "stdout"
        },
        {
          "output_type": "stream",
          "text": [
            "/content/gdrive/My Drive/prj1_keypoints/data_load.py:43: FutureWarning: Method .as_matrix will be removed in a future version. Use .values instead.\n",
            "  key_pts = self.key_pts_frame.iloc[idx, 1:].as_matrix()\n",
            "/content/gdrive/My Drive/prj1_keypoints/data_load.py:43: FutureWarning: Method .as_matrix will be removed in a future version. Use .values instead.\n",
            "  key_pts = self.key_pts_frame.iloc[idx, 1:].as_matrix()\n",
            "/content/gdrive/My Drive/prj1_keypoints/data_load.py:43: FutureWarning: Method .as_matrix will be removed in a future version. Use .values instead.\n",
            "  key_pts = self.key_pts_frame.iloc[idx, 1:].as_matrix()\n",
            "/content/gdrive/My Drive/prj1_keypoints/data_load.py:43: FutureWarning: Method .as_matrix will be removed in a future version. Use .values instead.\n",
            "  key_pts = self.key_pts_frame.iloc[idx, 1:].as_matrix()\n"
          ],
          "name": "stderr"
        },
        {
          "output_type": "stream",
          "text": [
            "Epoch: 75, Batch: 10, Avg. Loss: 0.0018455416411161422\n",
            "Epoch: 75, Batch: 20, Avg. Loss: 0.0024375485479831696\n",
            "Epoch: 75, Batch: 30, Avg. Loss: 0.0018946967422962188\n",
            "Epoch: 75, Batch: 40, Avg. Loss: 0.0019481862336397171\n",
            "Epoch: 75, Batch: 50, Avg. Loss: 0.001892318457365036\n"
          ],
          "name": "stdout"
        },
        {
          "output_type": "stream",
          "text": [
            "/content/gdrive/My Drive/prj1_keypoints/data_load.py:43: FutureWarning: Method .as_matrix will be removed in a future version. Use .values instead.\n",
            "  key_pts = self.key_pts_frame.iloc[idx, 1:].as_matrix()\n",
            "/content/gdrive/My Drive/prj1_keypoints/data_load.py:43: FutureWarning: Method .as_matrix will be removed in a future version. Use .values instead.\n",
            "  key_pts = self.key_pts_frame.iloc[idx, 1:].as_matrix()\n",
            "/content/gdrive/My Drive/prj1_keypoints/data_load.py:43: FutureWarning: Method .as_matrix will be removed in a future version. Use .values instead.\n",
            "  key_pts = self.key_pts_frame.iloc[idx, 1:].as_matrix()\n",
            "/content/gdrive/My Drive/prj1_keypoints/data_load.py:43: FutureWarning: Method .as_matrix will be removed in a future version. Use .values instead.\n",
            "  key_pts = self.key_pts_frame.iloc[idx, 1:].as_matrix()\n"
          ],
          "name": "stderr"
        },
        {
          "output_type": "stream",
          "text": [
            "Epoch: 76, Batch: 10, Avg. Loss: 0.00214347979426384\n",
            "Epoch: 76, Batch: 20, Avg. Loss: 0.0018936054855585099\n",
            "Epoch: 76, Batch: 30, Avg. Loss: 0.0018848650157451629\n",
            "Epoch: 76, Batch: 40, Avg. Loss: 0.0020074972361326217\n",
            "Epoch: 76, Batch: 50, Avg. Loss: 0.0018771031200885773\n"
          ],
          "name": "stdout"
        },
        {
          "output_type": "stream",
          "text": [
            "/content/gdrive/My Drive/prj1_keypoints/data_load.py:43: FutureWarning: Method .as_matrix will be removed in a future version. Use .values instead.\n",
            "  key_pts = self.key_pts_frame.iloc[idx, 1:].as_matrix()\n",
            "/content/gdrive/My Drive/prj1_keypoints/data_load.py:43: FutureWarning: Method .as_matrix will be removed in a future version. Use .values instead.\n",
            "  key_pts = self.key_pts_frame.iloc[idx, 1:].as_matrix()\n",
            "/content/gdrive/My Drive/prj1_keypoints/data_load.py:43: FutureWarning: Method .as_matrix will be removed in a future version. Use .values instead.\n",
            "  key_pts = self.key_pts_frame.iloc[idx, 1:].as_matrix()\n",
            "/content/gdrive/My Drive/prj1_keypoints/data_load.py:43: FutureWarning: Method .as_matrix will be removed in a future version. Use .values instead.\n",
            "  key_pts = self.key_pts_frame.iloc[idx, 1:].as_matrix()\n"
          ],
          "name": "stderr"
        },
        {
          "output_type": "stream",
          "text": [
            "Epoch: 77, Batch: 10, Avg. Loss: 0.0019407835453748702\n",
            "Epoch: 77, Batch: 20, Avg. Loss: 0.0019409510344266892\n",
            "Epoch: 77, Batch: 30, Avg. Loss: 0.0017747365087270738\n",
            "Epoch: 77, Batch: 40, Avg. Loss: 0.001961474448442459\n",
            "Epoch: 77, Batch: 50, Avg. Loss: 0.0020399715900421144\n"
          ],
          "name": "stdout"
        },
        {
          "output_type": "stream",
          "text": [
            "/content/gdrive/My Drive/prj1_keypoints/data_load.py:43: FutureWarning: Method .as_matrix will be removed in a future version. Use .values instead.\n",
            "  key_pts = self.key_pts_frame.iloc[idx, 1:].as_matrix()\n",
            "/content/gdrive/My Drive/prj1_keypoints/data_load.py:43: FutureWarning: Method .as_matrix will be removed in a future version. Use .values instead.\n",
            "  key_pts = self.key_pts_frame.iloc[idx, 1:].as_matrix()\n",
            "/content/gdrive/My Drive/prj1_keypoints/data_load.py:43: FutureWarning: Method .as_matrix will be removed in a future version. Use .values instead.\n",
            "  key_pts = self.key_pts_frame.iloc[idx, 1:].as_matrix()\n",
            "/content/gdrive/My Drive/prj1_keypoints/data_load.py:43: FutureWarning: Method .as_matrix will be removed in a future version. Use .values instead.\n",
            "  key_pts = self.key_pts_frame.iloc[idx, 1:].as_matrix()\n"
          ],
          "name": "stderr"
        },
        {
          "output_type": "stream",
          "text": [
            "Epoch: 78, Batch: 10, Avg. Loss: 0.0019066110551357268\n",
            "Epoch: 78, Batch: 20, Avg. Loss: 0.001878197893500328\n",
            "Epoch: 78, Batch: 30, Avg. Loss: 0.001962287575006485\n",
            "Epoch: 78, Batch: 40, Avg. Loss: 0.00198308365046978\n",
            "Epoch: 78, Batch: 50, Avg. Loss: 0.0018932998478412629\n"
          ],
          "name": "stdout"
        },
        {
          "output_type": "stream",
          "text": [
            "/content/gdrive/My Drive/prj1_keypoints/data_load.py:43: FutureWarning: Method .as_matrix will be removed in a future version. Use .values instead.\n",
            "  key_pts = self.key_pts_frame.iloc[idx, 1:].as_matrix()\n",
            "/content/gdrive/My Drive/prj1_keypoints/data_load.py:43: FutureWarning: Method .as_matrix will be removed in a future version. Use .values instead.\n",
            "  key_pts = self.key_pts_frame.iloc[idx, 1:].as_matrix()\n",
            "/content/gdrive/My Drive/prj1_keypoints/data_load.py:43: FutureWarning: Method .as_matrix will be removed in a future version. Use .values instead.\n",
            "  key_pts = self.key_pts_frame.iloc[idx, 1:].as_matrix()\n",
            "/content/gdrive/My Drive/prj1_keypoints/data_load.py:43: FutureWarning: Method .as_matrix will be removed in a future version. Use .values instead.\n",
            "  key_pts = self.key_pts_frame.iloc[idx, 1:].as_matrix()\n"
          ],
          "name": "stderr"
        },
        {
          "output_type": "stream",
          "text": [
            "Epoch: 79, Batch: 10, Avg. Loss: 0.0019413946270942688\n",
            "Epoch: 79, Batch: 20, Avg. Loss: 0.0018896005302667619\n",
            "Epoch: 79, Batch: 30, Avg. Loss: 0.001805207744240761\n",
            "Epoch: 79, Batch: 40, Avg. Loss: 0.0018795387148857117\n",
            "Epoch: 79, Batch: 50, Avg. Loss: 0.002016708165407181\n"
          ],
          "name": "stdout"
        },
        {
          "output_type": "stream",
          "text": [
            "/content/gdrive/My Drive/prj1_keypoints/data_load.py:43: FutureWarning: Method .as_matrix will be removed in a future version. Use .values instead.\n",
            "  key_pts = self.key_pts_frame.iloc[idx, 1:].as_matrix()\n",
            "/content/gdrive/My Drive/prj1_keypoints/data_load.py:43: FutureWarning: Method .as_matrix will be removed in a future version. Use .values instead.\n",
            "  key_pts = self.key_pts_frame.iloc[idx, 1:].as_matrix()\n",
            "/content/gdrive/My Drive/prj1_keypoints/data_load.py:43: FutureWarning: Method .as_matrix will be removed in a future version. Use .values instead.\n",
            "  key_pts = self.key_pts_frame.iloc[idx, 1:].as_matrix()\n",
            "/content/gdrive/My Drive/prj1_keypoints/data_load.py:43: FutureWarning: Method .as_matrix will be removed in a future version. Use .values instead.\n",
            "  key_pts = self.key_pts_frame.iloc[idx, 1:].as_matrix()\n"
          ],
          "name": "stderr"
        },
        {
          "output_type": "stream",
          "text": [
            "Epoch: 80, Batch: 10, Avg. Loss: 0.0022665105909109116\n",
            "Epoch: 80, Batch: 20, Avg. Loss: 0.0020131461173295974\n",
            "Epoch: 80, Batch: 30, Avg. Loss: 0.0019349166601896285\n",
            "Epoch: 80, Batch: 40, Avg. Loss: 0.001958056569099426\n",
            "Epoch: 80, Batch: 50, Avg. Loss: 0.0019580730199813844\n"
          ],
          "name": "stdout"
        },
        {
          "output_type": "stream",
          "text": [
            "/content/gdrive/My Drive/prj1_keypoints/data_load.py:43: FutureWarning: Method .as_matrix will be removed in a future version. Use .values instead.\n",
            "  key_pts = self.key_pts_frame.iloc[idx, 1:].as_matrix()\n",
            "/content/gdrive/My Drive/prj1_keypoints/data_load.py:43: FutureWarning: Method .as_matrix will be removed in a future version. Use .values instead.\n",
            "  key_pts = self.key_pts_frame.iloc[idx, 1:].as_matrix()\n",
            "/content/gdrive/My Drive/prj1_keypoints/data_load.py:43: FutureWarning: Method .as_matrix will be removed in a future version. Use .values instead.\n",
            "  key_pts = self.key_pts_frame.iloc[idx, 1:].as_matrix()\n",
            "/content/gdrive/My Drive/prj1_keypoints/data_load.py:43: FutureWarning: Method .as_matrix will be removed in a future version. Use .values instead.\n",
            "  key_pts = self.key_pts_frame.iloc[idx, 1:].as_matrix()\n"
          ],
          "name": "stderr"
        },
        {
          "output_type": "stream",
          "text": [
            "Epoch: 81, Batch: 10, Avg. Loss: 0.001913300722837448\n",
            "Epoch: 81, Batch: 20, Avg. Loss: 0.0019368441253900528\n",
            "Epoch: 81, Batch: 30, Avg. Loss: 0.0020522513836622237\n",
            "Epoch: 81, Batch: 40, Avg. Loss: 0.0019928711503744124\n",
            "Epoch: 81, Batch: 50, Avg. Loss: 0.0020104080736637114\n"
          ],
          "name": "stdout"
        },
        {
          "output_type": "stream",
          "text": [
            "/content/gdrive/My Drive/prj1_keypoints/data_load.py:43: FutureWarning: Method .as_matrix will be removed in a future version. Use .values instead.\n",
            "  key_pts = self.key_pts_frame.iloc[idx, 1:].as_matrix()\n",
            "/content/gdrive/My Drive/prj1_keypoints/data_load.py:43: FutureWarning: Method .as_matrix will be removed in a future version. Use .values instead.\n",
            "  key_pts = self.key_pts_frame.iloc[idx, 1:].as_matrix()\n",
            "/content/gdrive/My Drive/prj1_keypoints/data_load.py:43: FutureWarning: Method .as_matrix will be removed in a future version. Use .values instead.\n",
            "  key_pts = self.key_pts_frame.iloc[idx, 1:].as_matrix()\n",
            "/content/gdrive/My Drive/prj1_keypoints/data_load.py:43: FutureWarning: Method .as_matrix will be removed in a future version. Use .values instead.\n",
            "  key_pts = self.key_pts_frame.iloc[idx, 1:].as_matrix()\n"
          ],
          "name": "stderr"
        },
        {
          "output_type": "stream",
          "text": [
            "Epoch: 82, Batch: 10, Avg. Loss: 0.0019926576763391493\n",
            "Epoch: 82, Batch: 20, Avg. Loss: 0.0018826693147420883\n",
            "Epoch: 82, Batch: 30, Avg. Loss: 0.002211761549115181\n",
            "Epoch: 82, Batch: 40, Avg. Loss: 0.0018634225130081178\n",
            "Epoch: 82, Batch: 50, Avg. Loss: 0.0019584675282239912\n"
          ],
          "name": "stdout"
        },
        {
          "output_type": "stream",
          "text": [
            "/content/gdrive/My Drive/prj1_keypoints/data_load.py:43: FutureWarning: Method .as_matrix will be removed in a future version. Use .values instead.\n",
            "  key_pts = self.key_pts_frame.iloc[idx, 1:].as_matrix()\n",
            "/content/gdrive/My Drive/prj1_keypoints/data_load.py:43: FutureWarning: Method .as_matrix will be removed in a future version. Use .values instead.\n",
            "  key_pts = self.key_pts_frame.iloc[idx, 1:].as_matrix()\n",
            "/content/gdrive/My Drive/prj1_keypoints/data_load.py:43: FutureWarning: Method .as_matrix will be removed in a future version. Use .values instead.\n",
            "  key_pts = self.key_pts_frame.iloc[idx, 1:].as_matrix()\n",
            "/content/gdrive/My Drive/prj1_keypoints/data_load.py:43: FutureWarning: Method .as_matrix will be removed in a future version. Use .values instead.\n",
            "  key_pts = self.key_pts_frame.iloc[idx, 1:].as_matrix()\n"
          ],
          "name": "stderr"
        },
        {
          "output_type": "stream",
          "text": [
            "Epoch: 83, Batch: 10, Avg. Loss: 0.001886435568332672\n",
            "Epoch: 83, Batch: 20, Avg. Loss: 0.0018851843625307084\n",
            "Epoch: 83, Batch: 30, Avg. Loss: 0.002206974923610687\n",
            "Epoch: 83, Batch: 40, Avg. Loss: 0.0019198520630598068\n",
            "Epoch: 83, Batch: 50, Avg. Loss: 0.001956672504544258\n"
          ],
          "name": "stdout"
        },
        {
          "output_type": "stream",
          "text": [
            "/content/gdrive/My Drive/prj1_keypoints/data_load.py:43: FutureWarning: Method .as_matrix will be removed in a future version. Use .values instead.\n",
            "  key_pts = self.key_pts_frame.iloc[idx, 1:].as_matrix()\n",
            "/content/gdrive/My Drive/prj1_keypoints/data_load.py:43: FutureWarning: Method .as_matrix will be removed in a future version. Use .values instead.\n",
            "  key_pts = self.key_pts_frame.iloc[idx, 1:].as_matrix()\n",
            "/content/gdrive/My Drive/prj1_keypoints/data_load.py:43: FutureWarning: Method .as_matrix will be removed in a future version. Use .values instead.\n",
            "  key_pts = self.key_pts_frame.iloc[idx, 1:].as_matrix()\n",
            "/content/gdrive/My Drive/prj1_keypoints/data_load.py:43: FutureWarning: Method .as_matrix will be removed in a future version. Use .values instead.\n",
            "  key_pts = self.key_pts_frame.iloc[idx, 1:].as_matrix()\n"
          ],
          "name": "stderr"
        },
        {
          "output_type": "stream",
          "text": [
            "Epoch: 84, Batch: 10, Avg. Loss: 0.0020134575515985487\n",
            "Epoch: 84, Batch: 20, Avg. Loss: 0.0019374446272850036\n",
            "Epoch: 84, Batch: 30, Avg. Loss: 0.0018686236143112182\n",
            "Epoch: 84, Batch: 40, Avg. Loss: 0.0017283416390419006\n",
            "Epoch: 84, Batch: 50, Avg. Loss: 0.002051305368542671\n"
          ],
          "name": "stdout"
        },
        {
          "output_type": "stream",
          "text": [
            "/content/gdrive/My Drive/prj1_keypoints/data_load.py:43: FutureWarning: Method .as_matrix will be removed in a future version. Use .values instead.\n",
            "  key_pts = self.key_pts_frame.iloc[idx, 1:].as_matrix()\n",
            "/content/gdrive/My Drive/prj1_keypoints/data_load.py:43: FutureWarning: Method .as_matrix will be removed in a future version. Use .values instead.\n",
            "  key_pts = self.key_pts_frame.iloc[idx, 1:].as_matrix()\n",
            "/content/gdrive/My Drive/prj1_keypoints/data_load.py:43: FutureWarning: Method .as_matrix will be removed in a future version. Use .values instead.\n",
            "  key_pts = self.key_pts_frame.iloc[idx, 1:].as_matrix()\n",
            "/content/gdrive/My Drive/prj1_keypoints/data_load.py:43: FutureWarning: Method .as_matrix will be removed in a future version. Use .values instead.\n",
            "  key_pts = self.key_pts_frame.iloc[idx, 1:].as_matrix()\n"
          ],
          "name": "stderr"
        },
        {
          "output_type": "stream",
          "text": [
            "Epoch: 85, Batch: 10, Avg. Loss: 0.0018624803870916366\n",
            "Epoch: 85, Batch: 20, Avg. Loss: 0.0019450249820947647\n",
            "Epoch: 85, Batch: 30, Avg. Loss: 0.0019361244440078734\n",
            "Epoch: 85, Batch: 40, Avg. Loss: 0.001875469759106636\n",
            "Epoch: 85, Batch: 50, Avg. Loss: 0.00178239656239748\n"
          ],
          "name": "stdout"
        },
        {
          "output_type": "stream",
          "text": [
            "/content/gdrive/My Drive/prj1_keypoints/data_load.py:43: FutureWarning: Method .as_matrix will be removed in a future version. Use .values instead.\n",
            "  key_pts = self.key_pts_frame.iloc[idx, 1:].as_matrix()\n",
            "/content/gdrive/My Drive/prj1_keypoints/data_load.py:43: FutureWarning: Method .as_matrix will be removed in a future version. Use .values instead.\n",
            "  key_pts = self.key_pts_frame.iloc[idx, 1:].as_matrix()\n",
            "/content/gdrive/My Drive/prj1_keypoints/data_load.py:43: FutureWarning: Method .as_matrix will be removed in a future version. Use .values instead.\n",
            "  key_pts = self.key_pts_frame.iloc[idx, 1:].as_matrix()\n",
            "/content/gdrive/My Drive/prj1_keypoints/data_load.py:43: FutureWarning: Method .as_matrix will be removed in a future version. Use .values instead.\n",
            "  key_pts = self.key_pts_frame.iloc[idx, 1:].as_matrix()\n"
          ],
          "name": "stderr"
        },
        {
          "output_type": "stream",
          "text": [
            "Epoch: 86, Batch: 10, Avg. Loss: 0.0020043394565582274\n",
            "Epoch: 86, Batch: 20, Avg. Loss: 0.0021017029881477355\n",
            "Epoch: 86, Batch: 30, Avg. Loss: 0.0020361273139715193\n",
            "Epoch: 86, Batch: 40, Avg. Loss: 0.001746917739510536\n",
            "Epoch: 86, Batch: 50, Avg. Loss: 0.0019997952729463577\n"
          ],
          "name": "stdout"
        },
        {
          "output_type": "stream",
          "text": [
            "/content/gdrive/My Drive/prj1_keypoints/data_load.py:43: FutureWarning: Method .as_matrix will be removed in a future version. Use .values instead.\n",
            "  key_pts = self.key_pts_frame.iloc[idx, 1:].as_matrix()\n",
            "/content/gdrive/My Drive/prj1_keypoints/data_load.py:43: FutureWarning: Method .as_matrix will be removed in a future version. Use .values instead.\n",
            "  key_pts = self.key_pts_frame.iloc[idx, 1:].as_matrix()\n",
            "/content/gdrive/My Drive/prj1_keypoints/data_load.py:43: FutureWarning: Method .as_matrix will be removed in a future version. Use .values instead.\n",
            "  key_pts = self.key_pts_frame.iloc[idx, 1:].as_matrix()\n",
            "/content/gdrive/My Drive/prj1_keypoints/data_load.py:43: FutureWarning: Method .as_matrix will be removed in a future version. Use .values instead.\n",
            "  key_pts = self.key_pts_frame.iloc[idx, 1:].as_matrix()\n"
          ],
          "name": "stderr"
        },
        {
          "output_type": "stream",
          "text": [
            "Epoch: 87, Batch: 10, Avg. Loss: 0.0019355571269989013\n",
            "Epoch: 87, Batch: 20, Avg. Loss: 0.0018940145671367645\n",
            "Epoch: 87, Batch: 30, Avg. Loss: 0.001837939664721489\n",
            "Epoch: 87, Batch: 40, Avg. Loss: 0.0018092261999845506\n",
            "Epoch: 87, Batch: 50, Avg. Loss: 0.002011968344449997\n"
          ],
          "name": "stdout"
        },
        {
          "output_type": "stream",
          "text": [
            "/content/gdrive/My Drive/prj1_keypoints/data_load.py:43: FutureWarning: Method .as_matrix will be removed in a future version. Use .values instead.\n",
            "  key_pts = self.key_pts_frame.iloc[idx, 1:].as_matrix()\n",
            "/content/gdrive/My Drive/prj1_keypoints/data_load.py:43: FutureWarning: Method .as_matrix will be removed in a future version. Use .values instead.\n",
            "  key_pts = self.key_pts_frame.iloc[idx, 1:].as_matrix()\n",
            "/content/gdrive/My Drive/prj1_keypoints/data_load.py:43: FutureWarning: Method .as_matrix will be removed in a future version. Use .values instead.\n",
            "  key_pts = self.key_pts_frame.iloc[idx, 1:].as_matrix()\n",
            "/content/gdrive/My Drive/prj1_keypoints/data_load.py:43: FutureWarning: Method .as_matrix will be removed in a future version. Use .values instead.\n",
            "  key_pts = self.key_pts_frame.iloc[idx, 1:].as_matrix()\n"
          ],
          "name": "stderr"
        },
        {
          "output_type": "stream",
          "text": [
            "Epoch: 88, Batch: 10, Avg. Loss: 0.0022653436660766604\n",
            "Epoch: 88, Batch: 20, Avg. Loss: 0.0019517445117235184\n",
            "Epoch: 88, Batch: 30, Avg. Loss: 0.0019794920682907106\n",
            "Epoch: 88, Batch: 40, Avg. Loss: 0.0019028927832841873\n",
            "Epoch: 88, Batch: 50, Avg. Loss: 0.0021586290895938874\n"
          ],
          "name": "stdout"
        },
        {
          "output_type": "stream",
          "text": [
            "/content/gdrive/My Drive/prj1_keypoints/data_load.py:43: FutureWarning: Method .as_matrix will be removed in a future version. Use .values instead.\n",
            "  key_pts = self.key_pts_frame.iloc[idx, 1:].as_matrix()\n",
            "/content/gdrive/My Drive/prj1_keypoints/data_load.py:43: FutureWarning: Method .as_matrix will be removed in a future version. Use .values instead.\n",
            "  key_pts = self.key_pts_frame.iloc[idx, 1:].as_matrix()\n",
            "/content/gdrive/My Drive/prj1_keypoints/data_load.py:43: FutureWarning: Method .as_matrix will be removed in a future version. Use .values instead.\n",
            "  key_pts = self.key_pts_frame.iloc[idx, 1:].as_matrix()\n",
            "/content/gdrive/My Drive/prj1_keypoints/data_load.py:43: FutureWarning: Method .as_matrix will be removed in a future version. Use .values instead.\n",
            "  key_pts = self.key_pts_frame.iloc[idx, 1:].as_matrix()\n"
          ],
          "name": "stderr"
        },
        {
          "output_type": "stream",
          "text": [
            "Epoch: 89, Batch: 10, Avg. Loss: 0.0021057215332984922\n",
            "Epoch: 89, Batch: 20, Avg. Loss: 0.002064416900277138\n",
            "Epoch: 89, Batch: 30, Avg. Loss: 0.0020171229243278505\n",
            "Epoch: 89, Batch: 40, Avg. Loss: 0.0019598302245140077\n",
            "Epoch: 89, Batch: 50, Avg. Loss: 0.002091966524720192\n"
          ],
          "name": "stdout"
        },
        {
          "output_type": "stream",
          "text": [
            "/content/gdrive/My Drive/prj1_keypoints/data_load.py:43: FutureWarning: Method .as_matrix will be removed in a future version. Use .values instead.\n",
            "  key_pts = self.key_pts_frame.iloc[idx, 1:].as_matrix()\n",
            "/content/gdrive/My Drive/prj1_keypoints/data_load.py:43: FutureWarning: Method .as_matrix will be removed in a future version. Use .values instead.\n",
            "  key_pts = self.key_pts_frame.iloc[idx, 1:].as_matrix()\n",
            "/content/gdrive/My Drive/prj1_keypoints/data_load.py:43: FutureWarning: Method .as_matrix will be removed in a future version. Use .values instead.\n",
            "  key_pts = self.key_pts_frame.iloc[idx, 1:].as_matrix()\n",
            "/content/gdrive/My Drive/prj1_keypoints/data_load.py:43: FutureWarning: Method .as_matrix will be removed in a future version. Use .values instead.\n",
            "  key_pts = self.key_pts_frame.iloc[idx, 1:].as_matrix()\n"
          ],
          "name": "stderr"
        },
        {
          "output_type": "stream",
          "text": [
            "Epoch: 90, Batch: 10, Avg. Loss: 0.0019757570475339888\n",
            "Epoch: 90, Batch: 20, Avg. Loss: 0.0019239253848791122\n",
            "Epoch: 90, Batch: 30, Avg. Loss: 0.0020040820389986037\n",
            "Epoch: 90, Batch: 40, Avg. Loss: 0.0019838283807039263\n",
            "Epoch: 90, Batch: 50, Avg. Loss: 0.0022001426219940183\n"
          ],
          "name": "stdout"
        },
        {
          "output_type": "stream",
          "text": [
            "/content/gdrive/My Drive/prj1_keypoints/data_load.py:43: FutureWarning: Method .as_matrix will be removed in a future version. Use .values instead.\n",
            "  key_pts = self.key_pts_frame.iloc[idx, 1:].as_matrix()\n",
            "/content/gdrive/My Drive/prj1_keypoints/data_load.py:43: FutureWarning: Method .as_matrix will be removed in a future version. Use .values instead.\n",
            "  key_pts = self.key_pts_frame.iloc[idx, 1:].as_matrix()\n",
            "/content/gdrive/My Drive/prj1_keypoints/data_load.py:43: FutureWarning: Method .as_matrix will be removed in a future version. Use .values instead.\n",
            "  key_pts = self.key_pts_frame.iloc[idx, 1:].as_matrix()\n",
            "/content/gdrive/My Drive/prj1_keypoints/data_load.py:43: FutureWarning: Method .as_matrix will be removed in a future version. Use .values instead.\n",
            "  key_pts = self.key_pts_frame.iloc[idx, 1:].as_matrix()\n"
          ],
          "name": "stderr"
        },
        {
          "output_type": "stream",
          "text": [
            "Epoch: 91, Batch: 10, Avg. Loss: 0.002000824436545372\n",
            "Epoch: 91, Batch: 20, Avg. Loss: 0.0022306090593338015\n",
            "Epoch: 91, Batch: 30, Avg. Loss: 0.0021200486570596695\n",
            "Epoch: 91, Batch: 40, Avg. Loss: 0.0017513328194618226\n",
            "Epoch: 91, Batch: 50, Avg. Loss: 0.00189743173122406\n"
          ],
          "name": "stdout"
        },
        {
          "output_type": "stream",
          "text": [
            "/content/gdrive/My Drive/prj1_keypoints/data_load.py:43: FutureWarning: Method .as_matrix will be removed in a future version. Use .values instead.\n",
            "  key_pts = self.key_pts_frame.iloc[idx, 1:].as_matrix()\n",
            "/content/gdrive/My Drive/prj1_keypoints/data_load.py:43: FutureWarning: Method .as_matrix will be removed in a future version. Use .values instead.\n",
            "  key_pts = self.key_pts_frame.iloc[idx, 1:].as_matrix()\n",
            "/content/gdrive/My Drive/prj1_keypoints/data_load.py:43: FutureWarning: Method .as_matrix will be removed in a future version. Use .values instead.\n",
            "  key_pts = self.key_pts_frame.iloc[idx, 1:].as_matrix()\n",
            "/content/gdrive/My Drive/prj1_keypoints/data_load.py:43: FutureWarning: Method .as_matrix will be removed in a future version. Use .values instead.\n",
            "  key_pts = self.key_pts_frame.iloc[idx, 1:].as_matrix()\n"
          ],
          "name": "stderr"
        },
        {
          "output_type": "stream",
          "text": [
            "Epoch: 92, Batch: 10, Avg. Loss: 0.002089706838130951\n",
            "Epoch: 92, Batch: 20, Avg. Loss: 0.002197044253349304\n",
            "Epoch: 92, Batch: 30, Avg. Loss: 0.0018564884215593338\n",
            "Epoch: 92, Batch: 40, Avg. Loss: 0.0017911189049482346\n",
            "Epoch: 92, Batch: 50, Avg. Loss: 0.0018714670091867446\n"
          ],
          "name": "stdout"
        },
        {
          "output_type": "stream",
          "text": [
            "/content/gdrive/My Drive/prj1_keypoints/data_load.py:43: FutureWarning: Method .as_matrix will be removed in a future version. Use .values instead.\n",
            "  key_pts = self.key_pts_frame.iloc[idx, 1:].as_matrix()\n",
            "/content/gdrive/My Drive/prj1_keypoints/data_load.py:43: FutureWarning: Method .as_matrix will be removed in a future version. Use .values instead.\n",
            "  key_pts = self.key_pts_frame.iloc[idx, 1:].as_matrix()\n",
            "/content/gdrive/My Drive/prj1_keypoints/data_load.py:43: FutureWarning: Method .as_matrix will be removed in a future version. Use .values instead.\n",
            "  key_pts = self.key_pts_frame.iloc[idx, 1:].as_matrix()\n",
            "/content/gdrive/My Drive/prj1_keypoints/data_load.py:43: FutureWarning: Method .as_matrix will be removed in a future version. Use .values instead.\n",
            "  key_pts = self.key_pts_frame.iloc[idx, 1:].as_matrix()\n"
          ],
          "name": "stderr"
        },
        {
          "output_type": "stream",
          "text": [
            "Epoch: 93, Batch: 10, Avg. Loss: 0.002159971058368683\n",
            "Epoch: 93, Batch: 20, Avg. Loss: 0.001809022605419159\n",
            "Epoch: 93, Batch: 30, Avg. Loss: 0.0019900731295347212\n",
            "Epoch: 93, Batch: 40, Avg. Loss: 0.0018679950535297394\n",
            "Epoch: 93, Batch: 50, Avg. Loss: 0.0019254734218120575\n"
          ],
          "name": "stdout"
        },
        {
          "output_type": "stream",
          "text": [
            "/content/gdrive/My Drive/prj1_keypoints/data_load.py:43: FutureWarning: Method .as_matrix will be removed in a future version. Use .values instead.\n",
            "  key_pts = self.key_pts_frame.iloc[idx, 1:].as_matrix()\n",
            "/content/gdrive/My Drive/prj1_keypoints/data_load.py:43: FutureWarning: Method .as_matrix will be removed in a future version. Use .values instead.\n",
            "  key_pts = self.key_pts_frame.iloc[idx, 1:].as_matrix()\n",
            "/content/gdrive/My Drive/prj1_keypoints/data_load.py:43: FutureWarning: Method .as_matrix will be removed in a future version. Use .values instead.\n",
            "  key_pts = self.key_pts_frame.iloc[idx, 1:].as_matrix()\n",
            "/content/gdrive/My Drive/prj1_keypoints/data_load.py:43: FutureWarning: Method .as_matrix will be removed in a future version. Use .values instead.\n",
            "  key_pts = self.key_pts_frame.iloc[idx, 1:].as_matrix()\n"
          ],
          "name": "stderr"
        },
        {
          "output_type": "stream",
          "text": [
            "Epoch: 94, Batch: 10, Avg. Loss: 0.0019175400137901306\n",
            "Epoch: 94, Batch: 20, Avg. Loss: 0.0019376100301742554\n",
            "Epoch: 94, Batch: 30, Avg. Loss: 0.0020003400892019273\n",
            "Epoch: 94, Batch: 40, Avg. Loss: 0.001745312362909317\n",
            "Epoch: 94, Batch: 50, Avg. Loss: 0.001966448038816452\n"
          ],
          "name": "stdout"
        },
        {
          "output_type": "stream",
          "text": [
            "/content/gdrive/My Drive/prj1_keypoints/data_load.py:43: FutureWarning: Method .as_matrix will be removed in a future version. Use .values instead.\n",
            "  key_pts = self.key_pts_frame.iloc[idx, 1:].as_matrix()\n",
            "/content/gdrive/My Drive/prj1_keypoints/data_load.py:43: FutureWarning: Method .as_matrix will be removed in a future version. Use .values instead.\n",
            "  key_pts = self.key_pts_frame.iloc[idx, 1:].as_matrix()\n",
            "/content/gdrive/My Drive/prj1_keypoints/data_load.py:43: FutureWarning: Method .as_matrix will be removed in a future version. Use .values instead.\n",
            "  key_pts = self.key_pts_frame.iloc[idx, 1:].as_matrix()\n",
            "/content/gdrive/My Drive/prj1_keypoints/data_load.py:43: FutureWarning: Method .as_matrix will be removed in a future version. Use .values instead.\n",
            "  key_pts = self.key_pts_frame.iloc[idx, 1:].as_matrix()\n"
          ],
          "name": "stderr"
        },
        {
          "output_type": "stream",
          "text": [
            "Epoch: 95, Batch: 10, Avg. Loss: 0.001953532114624977\n",
            "Epoch: 95, Batch: 20, Avg. Loss: 0.0019344564080238343\n",
            "Epoch: 95, Batch: 30, Avg. Loss: 0.0020330097526311875\n",
            "Epoch: 95, Batch: 40, Avg. Loss: 0.001972533628344536\n",
            "Epoch: 95, Batch: 50, Avg. Loss: 0.0018504370152950286\n"
          ],
          "name": "stdout"
        },
        {
          "output_type": "stream",
          "text": [
            "/content/gdrive/My Drive/prj1_keypoints/data_load.py:43: FutureWarning: Method .as_matrix will be removed in a future version. Use .values instead.\n",
            "  key_pts = self.key_pts_frame.iloc[idx, 1:].as_matrix()\n",
            "/content/gdrive/My Drive/prj1_keypoints/data_load.py:43: FutureWarning: Method .as_matrix will be removed in a future version. Use .values instead.\n",
            "  key_pts = self.key_pts_frame.iloc[idx, 1:].as_matrix()\n",
            "/content/gdrive/My Drive/prj1_keypoints/data_load.py:43: FutureWarning: Method .as_matrix will be removed in a future version. Use .values instead.\n",
            "  key_pts = self.key_pts_frame.iloc[idx, 1:].as_matrix()\n",
            "/content/gdrive/My Drive/prj1_keypoints/data_load.py:43: FutureWarning: Method .as_matrix will be removed in a future version. Use .values instead.\n",
            "  key_pts = self.key_pts_frame.iloc[idx, 1:].as_matrix()\n"
          ],
          "name": "stderr"
        },
        {
          "output_type": "stream",
          "text": [
            "Epoch: 96, Batch: 10, Avg. Loss: 0.0021751613169908525\n",
            "Epoch: 96, Batch: 20, Avg. Loss: 0.0019105522036552429\n",
            "Epoch: 96, Batch: 30, Avg. Loss: 0.001974652498960495\n",
            "Epoch: 96, Batch: 40, Avg. Loss: 0.0018458612412214279\n",
            "Epoch: 96, Batch: 50, Avg. Loss: 0.0018786326646804809\n"
          ],
          "name": "stdout"
        },
        {
          "output_type": "stream",
          "text": [
            "/content/gdrive/My Drive/prj1_keypoints/data_load.py:43: FutureWarning: Method .as_matrix will be removed in a future version. Use .values instead.\n",
            "  key_pts = self.key_pts_frame.iloc[idx, 1:].as_matrix()\n",
            "/content/gdrive/My Drive/prj1_keypoints/data_load.py:43: FutureWarning: Method .as_matrix will be removed in a future version. Use .values instead.\n",
            "  key_pts = self.key_pts_frame.iloc[idx, 1:].as_matrix()\n",
            "/content/gdrive/My Drive/prj1_keypoints/data_load.py:43: FutureWarning: Method .as_matrix will be removed in a future version. Use .values instead.\n",
            "  key_pts = self.key_pts_frame.iloc[idx, 1:].as_matrix()\n",
            "/content/gdrive/My Drive/prj1_keypoints/data_load.py:43: FutureWarning: Method .as_matrix will be removed in a future version. Use .values instead.\n",
            "  key_pts = self.key_pts_frame.iloc[idx, 1:].as_matrix()\n"
          ],
          "name": "stderr"
        },
        {
          "output_type": "stream",
          "text": [
            "Epoch: 97, Batch: 10, Avg. Loss: 0.002009024456143379\n",
            "Epoch: 97, Batch: 20, Avg. Loss: 0.0018757097572088242\n",
            "Epoch: 97, Batch: 30, Avg. Loss: 0.0017656963467597962\n",
            "Epoch: 97, Batch: 40, Avg. Loss: 0.0020153805166482925\n",
            "Epoch: 97, Batch: 50, Avg. Loss: 0.0019442109614610673\n"
          ],
          "name": "stdout"
        },
        {
          "output_type": "stream",
          "text": [
            "/content/gdrive/My Drive/prj1_keypoints/data_load.py:43: FutureWarning: Method .as_matrix will be removed in a future version. Use .values instead.\n",
            "  key_pts = self.key_pts_frame.iloc[idx, 1:].as_matrix()\n",
            "/content/gdrive/My Drive/prj1_keypoints/data_load.py:43: FutureWarning: Method .as_matrix will be removed in a future version. Use .values instead.\n",
            "  key_pts = self.key_pts_frame.iloc[idx, 1:].as_matrix()\n",
            "/content/gdrive/My Drive/prj1_keypoints/data_load.py:43: FutureWarning: Method .as_matrix will be removed in a future version. Use .values instead.\n",
            "  key_pts = self.key_pts_frame.iloc[idx, 1:].as_matrix()\n",
            "/content/gdrive/My Drive/prj1_keypoints/data_load.py:43: FutureWarning: Method .as_matrix will be removed in a future version. Use .values instead.\n",
            "  key_pts = self.key_pts_frame.iloc[idx, 1:].as_matrix()\n"
          ],
          "name": "stderr"
        },
        {
          "output_type": "stream",
          "text": [
            "Epoch: 98, Batch: 10, Avg. Loss: 0.001955461338162422\n",
            "Epoch: 98, Batch: 20, Avg. Loss: 0.0018920833468437195\n",
            "Epoch: 98, Batch: 30, Avg. Loss: 0.0018588833063840867\n",
            "Epoch: 98, Batch: 40, Avg. Loss: 0.0018700741529464721\n",
            "Epoch: 98, Batch: 50, Avg. Loss: 0.00194671668112278\n"
          ],
          "name": "stdout"
        },
        {
          "output_type": "stream",
          "text": [
            "/content/gdrive/My Drive/prj1_keypoints/data_load.py:43: FutureWarning: Method .as_matrix will be removed in a future version. Use .values instead.\n",
            "  key_pts = self.key_pts_frame.iloc[idx, 1:].as_matrix()\n",
            "/content/gdrive/My Drive/prj1_keypoints/data_load.py:43: FutureWarning: Method .as_matrix will be removed in a future version. Use .values instead.\n",
            "  key_pts = self.key_pts_frame.iloc[idx, 1:].as_matrix()\n",
            "/content/gdrive/My Drive/prj1_keypoints/data_load.py:43: FutureWarning: Method .as_matrix will be removed in a future version. Use .values instead.\n",
            "  key_pts = self.key_pts_frame.iloc[idx, 1:].as_matrix()\n",
            "/content/gdrive/My Drive/prj1_keypoints/data_load.py:43: FutureWarning: Method .as_matrix will be removed in a future version. Use .values instead.\n",
            "  key_pts = self.key_pts_frame.iloc[idx, 1:].as_matrix()\n"
          ],
          "name": "stderr"
        },
        {
          "output_type": "stream",
          "text": [
            "Epoch: 99, Batch: 10, Avg. Loss: 0.0018920949101448059\n",
            "Epoch: 99, Batch: 20, Avg. Loss: 0.0019600323885679244\n",
            "Epoch: 99, Batch: 30, Avg. Loss: 0.0021053412556648254\n",
            "Epoch: 99, Batch: 40, Avg. Loss: 0.0018694211840629578\n",
            "Epoch: 99, Batch: 50, Avg. Loss: 0.0020702373534440995\n"
          ],
          "name": "stdout"
        },
        {
          "output_type": "stream",
          "text": [
            "/content/gdrive/My Drive/prj1_keypoints/data_load.py:43: FutureWarning: Method .as_matrix will be removed in a future version. Use .values instead.\n",
            "  key_pts = self.key_pts_frame.iloc[idx, 1:].as_matrix()\n",
            "/content/gdrive/My Drive/prj1_keypoints/data_load.py:43: FutureWarning: Method .as_matrix will be removed in a future version. Use .values instead.\n",
            "  key_pts = self.key_pts_frame.iloc[idx, 1:].as_matrix()\n",
            "/content/gdrive/My Drive/prj1_keypoints/data_load.py:43: FutureWarning: Method .as_matrix will be removed in a future version. Use .values instead.\n",
            "  key_pts = self.key_pts_frame.iloc[idx, 1:].as_matrix()\n",
            "/content/gdrive/My Drive/prj1_keypoints/data_load.py:43: FutureWarning: Method .as_matrix will be removed in a future version. Use .values instead.\n",
            "  key_pts = self.key_pts_frame.iloc[idx, 1:].as_matrix()\n"
          ],
          "name": "stderr"
        },
        {
          "output_type": "stream",
          "text": [
            "Epoch: 100, Batch: 10, Avg. Loss: 0.0019306217283010484\n",
            "Epoch: 100, Batch: 20, Avg. Loss: 0.0018041333705186844\n",
            "Epoch: 100, Batch: 30, Avg. Loss: 0.0019763376116752624\n",
            "Epoch: 100, Batch: 40, Avg. Loss: 0.002139744818210602\n",
            "Epoch: 100, Batch: 50, Avg. Loss: 0.002246969968080521\n",
            "Training time: 10:35:55.965009s\n"
          ],
          "name": "stdout"
        }
      ]
    },
    {
      "cell_type": "code",
      "metadata": {
        "id": "rtFomabbBJyY",
        "colab_type": "code",
        "colab": {}
      },
      "source": [
        "# def loss_hist_by_epoch(loss_10_batch):\n",
        "#     # Convert the loss every 10 batches to the average loss per epoch (340 batches)\n",
        "#     pnts_per_epoch = 34\n",
        "#     n_pnt = loss_10_batch.shape[0]\n",
        "    \n",
        "#     loss_per_epoch = []\n",
        "#     i_start = 0\n",
        "#     while i_start < n_pnt-1:\n",
        "#         i_end = i_start + pnts_per_epoch\n",
        "#         loss_per_epoch.append(loss_10_batch[i_start:i_end].mean())\n",
        "#         i_start = i_end\n",
        "        \n",
        "#     return loss_per_epoch\n",
        "    \n",
        "# plt.plot(loss_hist_by_epoch(loss_hist))\n",
        "# plt.xlabel('Epoch')\n",
        "# plt.ylabel('1000 x MSE')"
      ],
      "execution_count": 0,
      "outputs": []
    },
    {
      "cell_type": "code",
      "metadata": {
        "id": "nW5cqvVxSJdM",
        "colab_type": "code",
        "outputId": "1611129b-a1e3-42fe-fed1-d2843781f186",
        "colab": {
          "base_uri": "https://localhost:8080/",
          "height": 295
        }
      },
      "source": [
        "file_name1 = '/content/gdrive/My Drive/prj1_keypoints/train_loss_4layers.npy'\n",
        "loss1 = np.load(file_name1)\n",
        "\n",
        "file_name2 = '/content/gdrive/My Drive/prj1_keypoints/train_loss_3layers.npy'\n",
        "loss2 = np.load(file_name2)\n",
        "\n",
        "plt.plot(np.mean(loss1.reshape(-1, 10), axis=1), 'b-o')\n",
        "plt.plot(np.mean(loss2.reshape(-1, 10), axis=1), 'r-o')\n",
        "plt.legend({\"4 layers\", '3 layers'})\n",
        "plt.xlabel(\"epochs\")\n",
        "plt.ylabel(\"MSE\")\n",
        "plt.title(\"Training Error using Different Network Strcuture\")\n",
        "plt.savefig(os.path.join(gdrive_path, 'mse_dft_nn_structure.jpg'))"
      ],
      "execution_count": 0,
      "outputs": [
        {
          "output_type": "display_data",
          "data": {
            "image/png": "[encoded data removed]",
            "text/plain": [
              "<Figure size 432x288 with 1 Axes>"
            ]
          },
          "metadata": {
            "tags": []
          }
        }
      ]
    },
    {
      "cell_type": "code",
      "metadata": {
        "id": "xyvHSF54VOyG",
        "colab_type": "code",
        "colab": {}
      },
      "source": [
        "def loss_per_epoch(fname_batch_loss, n_total_samples, batch_size):\n",
        "    loss_per_batch = np.load(fname_batch_loss)\n",
        "\n",
        "    n_batches_per_epoch = np.ceil(n_total_samples / batch_size).astype(int)\n",
        "\n",
        "    loss_per_epoch = []\n",
        "    i = 0\n",
        "    while i < loss_per_batch.shape[0]:\n",
        "        if i + n_batches_per_epoch <= loss_per_batch.shape[0]:\n",
        "            lossp = np.mean(loss_per_batch[i:i+n_batches_per_epoch])\n",
        "            i += n_batches_per_epoch\n",
        "        else:\n",
        "            lossp = np.mean(loss_per_batch[i:])\n",
        "            break\n",
        "        loss_per_epoch.append(lossp)\n",
        "\n",
        "    return loss_per_epoch"
      ],
      "execution_count": 0,
      "outputs": []
    },
    {
      "cell_type": "code",
      "metadata": {
        "id": "PttMfX7DI8MP",
        "colab_type": "code",
        "colab": {}
      },
      "source": [
        "# ========================================\n",
        "## Case 1: Batch size = 10\n",
        "# ========================================\n",
        "\n",
        "fname_batch_loss = '/content/gdrive/My Drive/prj1_keypoints/train_loss_batch10.npy'\n",
        "n_total_samples = 3462\n",
        "loss_hist = loss_per_epoch(fname_batch_loss, n_total_samples, batch_size=10)\n",
        "\n",
        "# plt.plot(loss_hist)\n",
        "# plt.xlabel('Epoch')\n",
        "# plt.ylabel('1000 x MSE')"
      ],
      "execution_count": 0,
      "outputs": []
    },
    {
      "cell_type": "code",
      "metadata": {
        "id": "CGjSK6pZcBqZ",
        "colab_type": "code",
        "outputId": "91600102-3b86-4611-da45-3ce98af35c23",
        "colab": {
          "base_uri": "https://localhost:8080/",
          "height": 295
        }
      },
      "source": [
        "# ========================================\n",
        "## Case 2: Batch size = 64\n",
        "# ========================================\n",
        "\n",
        "fname_batch_loss = '/content/gdrive/My Drive/prj1_keypoints/train_loss_batch64.npy'\n",
        "n_total_samples = 3462\n",
        "loss_hist2 = loss_per_epoch(fname_batch_loss, n_total_samples, batch_size=64)\n",
        "\n",
        "plt.plot(loss_hist, 'b')\n",
        "plt.plot(loss_hist2, 'r')\n",
        "plt.xlabel('Epoch')\n",
        "plt.ylabel('1000 x MSE')\n",
        "plt.legend({'batch size = 10', 'batch size = 64'})\n",
        "plt.title('Training Error with Different Batch Size')\n",
        "\n",
        "plt.savefig(os.path.join(gdrive_path, 'mse_vs_batch_size.jpg'))"
      ],
      "execution_count": 0,
      "outputs": [
        {
          "output_type": "display_data",
          "data": {
            "image/png": "[encoded data removed]",
            "text/plain": [
              "<Figure size 432x288 with 1 Axes>"
            ]
          },
          "metadata": {
            "tags": []
          }
        }
      ]
    },
    {
      "cell_type": "code",
      "metadata": {
        "id": "03R3Q7QIWu27",
        "colab_type": "code",
        "outputId": "6777ec47-e9e5-488d-e580-068046367f6d",
        "colab": {
          "base_uri": "https://localhost:8080/",
          "height": 283
        }
      },
      "source": [
        "# ========================================\n",
        "## Case 3: Batch size = 64. learning rate = 1e-4\n",
        "# ========================================\n",
        "import numpy as np\n",
        "\n",
        "fname_batch_loss = '/content/gdrive/My Drive/prj1_keypoints/train_loss_lr_1e-4.npy'\n",
        "n_total_samples = 3462\n",
        "loss_hist = loss_per_epoch(fname_batch_loss, n_total_samples, batch_size=64)\n",
        "\n",
        "fname_batch_loss = '/content/gdrive/My Drive/prj1_keypoints/train_loss_batch64.npy'\n",
        "loss_lr_default = loss_per_epoch(fname_batch_loss, n_total_samples, batch_size=64)\n",
        "\n",
        "fname_batch_loss = '/content/gdrive/My Drive/prj1_keypoints/train_loss_lr_1e-2.npy'\n",
        "loss_lr_2 = loss_per_epoch(fname_batch_loss, n_total_samples, batch_size=64)\n",
        "\n",
        "plt.plot(loss_hist, 'b')\n",
        "plt.plot(loss_lr_default, 'r')\n",
        "plt.plot(loss_lr_2, 'g')\n",
        "plt.xlabel('Epoch')\n",
        "plt.ylabel('1000 x MSE')\n",
        "plt.legend({'r = 1e-4', 'r = 1e-3', 'r = 1e-2'})\n",
        "plt.savefig(os.path.join(gdrive_path, 'mse_learning_rate.jpg'))"
      ],
      "execution_count": 0,
      "outputs": [
        {
          "output_type": "display_data",
          "data": {
            "image/png": "[encoded data removed]",
            "text/plain": [
              "<Figure size 432x288 with 1 Axes>"
            ]
          },
          "metadata": {
            "tags": []
          }
        }
      ]
    },
    {
      "cell_type": "markdown",
      "metadata": {
        "id": "sFSxsYF_BJya",
        "colab_type": "text"
      },
      "source": [
        "## 5. Test data\n",
        "\n",
        "See how your model performs on previously unseen, test data. We've already loaded and transformed this data, similar to the training data. Next, run your trained model on these images to see what kind of keypoints are produced. You should be able to see if your model is fitting each new face it sees, if the points are distributed randomly, or if the points have actually overfitted the training data and do not generalize."
      ]
    },
    {
      "cell_type": "code",
      "metadata": {
        "id": "mhyFZ_C6ED5g",
        "colab_type": "code",
        "outputId": "750dbe03-bd11-4848-ca22-0b0da27a712d",
        "colab": {
          "base_uri": "https://localhost:8080/",
          "height": 336
        }
      },
      "source": [
        "# I add this cell to load the pre-trained model: \n",
        "model_path = '/content/gdrive/My Drive/prj1_keypoints/train_loss_lr_1e-2.pt'\n",
        "checkpoint = torch.load(model_path)\n",
        "\n",
        "net.load_state_dict(checkpoint['model_state_dict'])\n",
        "net.eval()"
      ],
      "execution_count": 36,
      "outputs": [
        {
          "output_type": "execute_result",
          "data": {
            "text/plain": [
              "Net(\n",
              "  (conv1): Conv2d(1, 32, kernel_size=(5, 5), stride=(1, 1))\n",
              "  (pool1): MaxPool2d(kernel_size=2, stride=2, padding=0, dilation=1, ceil_mode=False)\n",
              "  (drop1): Dropout2d(p=0.1, inplace=False)\n",
              "  (conv2): Conv2d(32, 64, kernel_size=(3, 3), stride=(1, 1))\n",
              "  (pool2): MaxPool2d(kernel_size=2, stride=2, padding=0, dilation=1, ceil_mode=False)\n",
              "  (drop2): Dropout2d(p=0.2, inplace=False)\n",
              "  (conv3): Conv2d(64, 128, kernel_size=(2, 2), stride=(1, 1))\n",
              "  (pool3): MaxPool2d(kernel_size=2, stride=2, padding=0, dilation=1, ceil_mode=False)\n",
              "  (drop3): Dropout2d(p=0.3, inplace=False)\n",
              "  (conv4): Conv2d(128, 256, kernel_size=(1, 1), stride=(1, 1))\n",
              "  (pool4): MaxPool2d(kernel_size=2, stride=2, padding=0, dilation=1, ceil_mode=False)\n",
              "  (drop4): Dropout2d(p=0.4, inplace=False)\n",
              "  (fc1): Linear(in_features=43264, out_features=256, bias=True)\n",
              "  (drop5): Dropout2d(p=0.5, inplace=False)\n",
              "  (fc2): Linear(in_features=256, out_features=256, bias=True)\n",
              "  (drop6): Dropout2d(p=0.6, inplace=False)\n",
              "  (fc3): Linear(in_features=256, out_features=136, bias=True)\n",
              ")"
            ]
          },
          "metadata": {
            "tags": []
          },
          "execution_count": 36
        }
      ]
    },
    {
      "cell_type": "code",
      "metadata": {
        "id": "FhzGGAcRBJyb",
        "colab_type": "code",
        "outputId": "1d48aceb-4f28-41d1-cce2-163e69b0f2c7",
        "colab": {
          "base_uri": "https://localhost:8080/",
          "height": 235
        }
      },
      "source": [
        "# get a sample of test data again\n",
        "test_images, test_outputs, gt_pts = net_sample_output()\n",
        "\n",
        "print(test_images.data.size())\n",
        "print(test_outputs.data.size())\n",
        "print(gt_pts.size())"
      ],
      "execution_count": 46,
      "outputs": [
        {
          "output_type": "stream",
          "text": [
            "/content/gdrive/My Drive/prj1_keypoints/data_load.py:43: FutureWarning: Method .as_matrix will be removed in a future version. Use .values instead.\n",
            "  key_pts = self.key_pts_frame.iloc[idx, 1:].as_matrix()\n",
            "/content/gdrive/My Drive/prj1_keypoints/data_load.py:43: FutureWarning: Method .as_matrix will be removed in a future version. Use .values instead.\n",
            "  key_pts = self.key_pts_frame.iloc[idx, 1:].as_matrix()\n",
            "/content/gdrive/My Drive/prj1_keypoints/data_load.py:43: FutureWarning: Method .as_matrix will be removed in a future version. Use .values instead.\n",
            "  key_pts = self.key_pts_frame.iloc[idx, 1:].as_matrix()\n",
            "/content/gdrive/My Drive/prj1_keypoints/data_load.py:43: FutureWarning: Method .as_matrix will be removed in a future version. Use .values instead.\n",
            "  key_pts = self.key_pts_frame.iloc[idx, 1:].as_matrix()\n"
          ],
          "name": "stderr"
        },
        {
          "output_type": "stream",
          "text": [
            "torch.Size([64, 1, 224, 224])\n",
            "torch.Size([64, 68, 2])\n",
            "torch.Size([64, 68, 2])\n"
          ],
          "name": "stdout"
        },
        {
          "output_type": "stream",
          "text": [
            "/usr/local/lib/python3.6/dist-packages/torch/nn/functional.py:1339: UserWarning: nn.functional.tanh is deprecated. Use torch.tanh instead.\n",
            "  warnings.warn(\"nn.functional.tanh is deprecated. Use torch.tanh instead.\")\n"
          ],
          "name": "stderr"
        }
      ]
    },
    {
      "cell_type": "code",
      "metadata": {
        "id": "Ti7ysQLgBJyd",
        "colab_type": "code",
        "colab": {}
      },
      "source": [
        "def untransform_keypoints(output_pnts):\n",
        "    # Convert the output from the neural network back into meaningful point locations\n",
        "    \n",
        "    output_pnts = output_pnts.view(output_pnts.size()[0], 68, -1)\n",
        "    output_pnts = output_pnts.data\n",
        "    output_pnts = output_pnts.numpy()\n",
        "    # print(output_pnts.shape)\n",
        "    output_pnts = output_pnts * 50. + 100.\n",
        "    \n",
        "    return output_pnts"
      ],
      "execution_count": 0,
      "outputs": []
    },
    {
      "cell_type": "code",
      "metadata": {
        "id": "VqJVUTa0BJyi",
        "colab_type": "code",
        "colab": {
          "base_uri": "https://localhost:8080/",
          "height": 34
        },
        "outputId": "f6820e17-340f-4d9e-f155-497609329ec6"
      },
      "source": [
        "#test_outputs.shape\n",
        "#untransform_keypoints(test_outputs[0])"
      ],
      "execution_count": 41,
      "outputs": [
        {
          "output_type": "execute_result",
          "data": {
            "text/plain": [
              "torch.Size([64, 68, 2])"
            ]
          },
          "metadata": {
            "tags": []
          },
          "execution_count": 41
        }
      ]
    },
    {
      "cell_type": "code",
      "metadata": {
        "id": "e6U_M7GmBJyj",
        "colab_type": "code",
        "outputId": "cd42d8de-738a-4ae1-d9fa-c2759e1fd349",
        "colab": {
          "base_uri": "https://localhost:8080/",
          "height": 1000
        }
      },
      "source": [
        "## TODO: visualize your test output\n",
        "# you can use the same function as before, by un-commenting the line below:\n",
        "\n",
        "visualize_output(test_images, test_outputs, gt_pts)"
      ],
      "execution_count": 50,
      "outputs": [
        {
          "output_type": "display_data",
          "data": {
            "image/png": "[encoded data removed]",
            "text/plain": [
              "<Figure size 1440x720 with 1 Axes>"
            ]
          },
          "metadata": {
            "tags": []
          }
        },
        {
          "output_type": "display_data",
          "data": {
            "image/png": "[encoded data removed]",
            "text/plain": [
              "<Figure size 1440x720 with 1 Axes>"
            ]
          },
          "metadata": {
            "tags": []
          }
        },
        {
          "output_type": "display_data",
          "data": {
            "image/png": "[encoded data removed]",
            "text/plain": [
              "<Figure size 1440x720 with 1 Axes>"
            ]
          },
          "metadata": {
            "tags": []
          }
        },
        {
          "output_type": "display_data",
          "data": {
            "image/png": "[encoded data removed]",
            "text/plain": [
              "<Figure size 1440x720 with 1 Axes>"
            ]
          },
          "metadata": {
            "tags": []
          }
        },
        {
          "output_type": "display_data",
          "data": {
            "image/png": "[encoded data removed]",
            "text/plain": [
              "<Figure size 1440x720 with 1 Axes>"
            ]
          },
          "metadata": {
            "tags": []
          }
        },
        {
          "output_type": "display_data",
          "data": {
            "image/png": "[encoded data removed]",
            "text/plain": [
              "<Figure size 1440x720 with 1 Axes>"
            ]
          },
          "metadata": {
            "tags": []
          }
        },
        {
          "output_type": "display_data",
          "data": {
            "image/png": "[encoded data removed]",
            "text/plain": [
              "<Figure size 1440x720 with 1 Axes>"
            ]
          },
          "metadata": {
            "tags": []
          }
        },
        {
          "output_type": "display_data",
          "data": {
            "image/png": "[encoded data removed]",
            "text/plain": [
              "<Figure size 1440x720 with 1 Axes>"
            ]
          },
          "metadata": {
            "tags": []
          }
        },
        {
          "output_type": "display_data",
          "data": {
            "image/png": "[encoded data removed]",
            "text/plain": [
              "<Figure size 1440x720 with 1 Axes>"
            ]
          },
          "metadata": {
            "tags": []
          }
        },
        {
          "output_type": "display_data",
          "data": {
            "image/png": "[encoded data removed]",
            "text/plain": [
              "<Figure size 1440x720 with 1 Axes>"
            ]
          },
          "metadata": {
            "tags": []
          }
        }
      ]
    },
    {
      "cell_type": "markdown",
      "metadata": {
        "id": "0HFxDbuWBJyl",
        "colab_type": "text"
      },
      "source": [
        "Once you've found a good model (or two), save your model so you can load it and use it later!"
      ]
    },
    {
      "cell_type": "code",
      "metadata": {
        "id": "i_Mnw42ABJym",
        "colab_type": "code",
        "colab": {}
      },
      "source": [
        "## TODO: change the name to something uniqe for each new model\n",
        "# model_dir = 'saved_models/'\n",
        "model_dir = gdrive_path\n",
        "model_name = 'keypoints_model_1.pt'\n",
        "\n",
        "# after training, save your model parameters in the dir 'saved_models'\n",
        "torch.save(net.state_dict(), model_dir+model_name)"
      ],
      "execution_count": 0,
      "outputs": []
    },
    {
      "cell_type": "markdown",
      "metadata": {
        "id": "6dwS3I7JBJyo",
        "colab_type": "text"
      },
      "source": [
        "After you've trained a well-performing model, answer the following questions so that we have some insight into your training and architecture selection process. Answering all questions is required to pass this project."
      ]
    },
    {
      "cell_type": "markdown",
      "metadata": {
        "id": "pVXm0vQXBJyp",
        "colab_type": "text"
      },
      "source": [
        "### Question 1: What optimization and loss functions did you choose and why?\n"
      ]
    },
    {
      "cell_type": "markdown",
      "metadata": {
        "id": "Rgj90uhWBJyq",
        "colab_type": "text"
      },
      "source": [
        "**Answer**: \n",
        "In this project, Adam (ADAptive Moment estimation) optimier was used for optimization. Adam optimizer combines the advantages of Adaptive Gradient Algorithm and Root Mean Square Propagation (RMSProp), which make the change of weights adaptive in different parameter direction. \n",
        "\n",
        "The Mean Square Error (MSE) was used as the loss function. Keypoint prediction is a regression problem with a target variable continuous in the range of (-1, 1) (after normalization). MSE is able to capture the model accuracy by taking into account the distance between the observations and the estiamtes.  "
      ]
    },
    {
      "cell_type": "markdown",
      "metadata": {
        "id": "tF4nEAc7BJyr",
        "colab_type": "text"
      },
      "source": [
        "### Question 2: What kind of network architecture did you start with and how did it change as you tried different architectures? Did you decide to add more convolutional layers or any layers to avoid overfitting the data?"
      ]
    },
    {
      "cell_type": "markdown",
      "metadata": {
        "id": "Xeu-X71LBJys",
        "colab_type": "text"
      },
      "source": [
        "**Answer**: \n",
        "I started with a network made up of three convolutional layers followed by two fully connected (FC) layers. Later, I added one more convolutioon layer and one more FC layer, and add max pooling layer and dropout layer after each convolution layer. A summary of the network configuration is as the following:\n",
        "\n",
        "```\n",
        "Net(\n",
        "  (conv1): Conv2d(1, 32, kernel_size=(5, 5), stride=(1, 1))\n",
        "  (pool1): MaxPool2d(kernel_size=2, stride=2, padding=0, dilation=1, ceil_mode=False)\n",
        "  (drop1): Dropout2d(p=0.1, inplace=False)\n",
        "  (conv2): Conv2d(32, 64, kernel_size=(3, 3), stride=(1, 1))\n",
        "  (pool2): MaxPool2d(kernel_size=2, stride=2, padding=0, dilation=1, ceil_mode=False)\n",
        "  (drop2): Dropout2d(p=0.2, inplace=False)\n",
        "  (conv3): Conv2d(64, 128, kernel_size=(2, 2), stride=(1, 1))\n",
        "  (pool3): MaxPool2d(kernel_size=2, stride=2, padding=0, dilation=1, ceil_mode=False)\n",
        "  (drop3): Dropout2d(p=0.3, inplace=False)\n",
        "  (conv4): Conv2d(128, 256, kernel_size=(1, 1), stride=(1, 1))\n",
        "  (pool4): MaxPool2d(kernel_size=2, stride=2, padding=0, dilation=1, ceil_mode=False)\n",
        "  (drop4): Dropout2d(p=0.4, inplace=False)\n",
        "  (fc1): Linear(in_features=43264, out_features=256, bias=True)\n",
        "  (drop5): Dropout2d(p=0.5, inplace=False)\n",
        "  (fc2): Linear(in_features=256, out_features=256, bias=True)\n",
        "  (drop6): Dropout2d(p=0.6, inplace=False)\n",
        "  (fc3): Linear(in_features=256, out_features=136, bias=True)\n",
        ")\n",
        "```\n",
        "\n",
        "\n",
        "\n",
        "To avoid overfitting, additional drop-out layers were applied after the max-pooling (for the convolutional layers) and after the activation layers (for the fully-connected layers). The drop-out rate (percentage of weights to be zeroed) increased from 0.1 in the first layer to 0.5 to the last layer."
      ]
    },
    {
      "cell_type": "markdown",
      "metadata": {
        "id": "bGimr49kBJyt",
        "colab_type": "text"
      },
      "source": [
        "### Question 3: How did you decide on the number of epochs and batch_size to train your model?"
      ]
    },
    {
      "cell_type": "markdown",
      "metadata": {
        "id": "sy4CtcqkBJyv",
        "colab_type": "text"
      },
      "source": [
        "**Answer**: I experimented different batch size and found that the loss converged faster to the minimum when the batch size was 64 (compared with a batch size of 10). The maximum number of epoches was set to be 100 as the loss does not change much after 100 epoches.    "
      ]
    },
    {
      "cell_type": "markdown",
      "metadata": {
        "id": "AutE4MHiBJyv",
        "colab_type": "text"
      },
      "source": [
        "## 6. Feature Visualization\n",
        "\n",
        "Sometimes, neural networks are thought of as a black box, given some input, they learn to produce some output. CNN's are actually learning to recognize a variety of spatial patterns and you can visualize what each convolutional layer has been trained to recognize by looking at the weights that make up each convolutional kernel and applying those one at a time to a sample image. This technique is called feature visualization and it's useful for understanding the inner workings of a CNN."
      ]
    },
    {
      "cell_type": "markdown",
      "metadata": {
        "id": "_Tw6o1z7BJyx",
        "colab_type": "text"
      },
      "source": [
        "In the cell below, you can see how to extract a single filter (by index) from your first convolutional layer. The filter should appear as a grayscale grid."
      ]
    },
    {
      "cell_type": "code",
      "metadata": {
        "id": "Eu_4S58zBJyy",
        "colab_type": "code",
        "outputId": "6f382d41-3934-4a1a-f712-236e0024d058",
        "colab": {
          "base_uri": "https://localhost:8080/",
          "height": 474
        }
      },
      "source": [
        "# Get the weights in the first conv layer, \"conv1\"\n",
        "# if necessary, change this to reflect the name of your first conv layer\n",
        "weights1 = net.conv1.weight.data\n",
        "\n",
        "w = weights1.numpy()\n",
        "\n",
        "filter_index = 0\n",
        "print(w[filter_index][0])\n",
        "print(w[filter_index][0].shape)\n",
        "\n",
        "# display the filter weights\n",
        "fig, axes = plt.subplots(nrows=2, ncols=5, figsize=(15, 6))\n",
        "for i, ax in enumerate(axes.flat):\n",
        "    ax.imshow(w[i][0], cmap='gray')"
      ],
      "execution_count": 0,
      "outputs": [
        {
          "output_type": "stream",
          "text": [
            "[[ 0.01568463 -0.01187259  0.0655783   0.10778157 -0.14298102]\n",
            " [-0.03667989  0.03631062  0.03718168 -0.1463554  -0.16609268]\n",
            " [-0.15301849 -0.20291583 -0.23966706 -0.02251185  0.09229859]\n",
            " [-0.11624502 -0.03497806  0.10291873  0.07981873 -0.2165847 ]\n",
            " [-0.00517659 -0.14390753  0.08552428 -0.00303818  0.04910647]]\n",
            "(5, 5)\n"
          ],
          "name": "stdout"
        },
        {
          "output_type": "display_data",
          "data": {
            "image/png": "[encoded data removed]",
            "text/plain": [
              "<Figure size 1080x432 with 10 Axes>"
            ]
          },
          "metadata": {
            "tags": []
          }
        }
      ]
    },
    {
      "cell_type": "markdown",
      "metadata": {
        "id": "-loefTkDBJy0",
        "colab_type": "text"
      },
      "source": [
        "## Feature maps\n",
        "\n",
        "Each CNN has at least one convolutional layer that is composed of stacked filters (also known as convolutional kernels). As a CNN trains, it learns what weights to include in it's convolutional kernels and when these kernels are applied to some input image, they produce a set of **feature maps**. So, feature maps are just sets of filtered images; they are the images produced by applying a convolutional kernel to an input image. These maps show us the features that the different layers of the neural network learn to extract. For example, you might imagine a convolutional kernel that detects the vertical edges of a face or another one that detects the corners of eyes. You can see what kind of features each of these kernels detects by applying them to an image. One such example is shown below; from the way it brings out the lines in an the image, you might characterize this as an edge detection filter.\n",
        "\n",
        "<img src='images/feature_map_ex.png' width=50% height=50%/>\n",
        "\n",
        "\n",
        "Next, choose a test image and filter it with one of the convolutional kernels in your trained CNN; look at the filtered output to get an idea what that particular kernel detects.\n",
        "\n",
        "### TODO: Filter an image to see the effect of a convolutional kernel\n",
        "---"
      ]
    },
    {
      "cell_type": "code",
      "metadata": {
        "id": "G3_YLgt1BJy0",
        "colab_type": "code",
        "outputId": "69fd840f-e379-44be-ed46-d5f9f761037a",
        "colab": {
          "base_uri": "https://localhost:8080/",
          "height": 336
        }
      },
      "source": [
        "##TODO: load in and display any image from the transformed test dataset\n",
        "img_index = 3\n",
        "# img_sample = test_images[img_index][0]\n",
        "# print(img_sample.shape)\n",
        "# print(type(img_sample))\n",
        "\n",
        "image = test_images[img_index].data   # get the image from it's wrapper\n",
        "image = image.numpy()   # convert to numpy array from a Tensor\n",
        "\n",
        "print(image.shape)\n",
        "print(\"The min value:\", np.amin(image))\n",
        "print(\"The max value:\", np.amax(image))\n",
        "plt.imshow(image[0], cmap='gray')\n",
        "\n",
        "\n",
        "## TODO: Using cv's filter2D function,\n",
        "## apply a specific set of filter weights (like the one displayed above) to the test image"
      ],
      "execution_count": 0,
      "outputs": [
        {
          "output_type": "stream",
          "text": [
            "(1, 224, 224)\n",
            "The min value: 0.05882353\n",
            "The max value: 0.9372549\n"
          ],
          "name": "stdout"
        },
        {
          "output_type": "execute_result",
          "data": {
            "text/plain": [
              "<matplotlib.image.AxesImage at 0x7f869faa40b8>"
            ]
          },
          "metadata": {
            "tags": []
          },
          "execution_count": 38
        },
        {
          "output_type": "display_data",
          "data": {
            "image/png": "[encoded data removed]",
            "text/plain": [
              "<Figure size 432x288 with 1 Axes>"
            ]
          },
          "metadata": {
            "tags": []
          }
        }
      ]
    },
    {
      "cell_type": "code",
      "metadata": {
        "id": "gTU6tYlXBJy2",
        "colab_type": "code",
        "colab": {}
      },
      "source": [
        "import cv2"
      ],
      "execution_count": 0,
      "outputs": []
    },
    {
      "cell_type": "code",
      "metadata": {
        "id": "QBMlFauABJy4",
        "colab_type": "code",
        "outputId": "e866d2ca-8535-4793-f4b3-d8f330fd574e",
        "colab": {
          "base_uri": "https://localhost:8080/",
          "height": 374
        }
      },
      "source": [
        "fig, axes = plt.subplots(nrows=2, ncols=5, figsize=(15, 6))\n",
        "for ind, ax in enumerate(axes.flat):\n",
        "    filtered = cv2.filter2D(src=image, ddepth=-1, kernel=w[ind][0])\n",
        "    ax.imshow(filtered[0], cmap='gray')"
      ],
      "execution_count": 0,
      "outputs": [
        {
          "output_type": "display_data",
          "data": {
            "image/png": "[encoded data removed]",
            "text/plain": [
              "<Figure size 1080x432 with 10 Axes>"
            ]
          },
          "metadata": {
            "tags": []
          }
        }
      ]
    },
    {
      "cell_type": "code",
      "metadata": {
        "id": "7K7jhou9BJy7",
        "colab_type": "code",
        "outputId": "2f0f95c5-293e-4ea5-f63f-537ff9da10d7",
        "colab": {
          "base_uri": "https://localhost:8080/",
          "height": 34
        }
      },
      "source": [
        "w.shape"
      ],
      "execution_count": 0,
      "outputs": [
        {
          "output_type": "execute_result",
          "data": {
            "text/plain": [
              "(32, 1, 5, 5)"
            ]
          },
          "metadata": {
            "tags": []
          },
          "execution_count": 41
        }
      ]
    },
    {
      "cell_type": "markdown",
      "metadata": {
        "id": "unjLGEZDBJy9",
        "colab_type": "text"
      },
      "source": [
        "### Question 4: Choose one filter from your trained CNN and apply it to a test image; what purpose do you think it plays? What kind of feature do you think it detects?\n"
      ]
    },
    {
      "cell_type": "markdown",
      "metadata": {
        "id": "ogyA-l05BJy9",
        "colab_type": "text"
      },
      "source": [
        "**Answer**: (does it detect vertical lines or does it blur out noise, etc.) write your answer here"
      ]
    },
    {
      "cell_type": "markdown",
      "metadata": {
        "id": "GumHaTcNBJy-",
        "colab_type": "text"
      },
      "source": [
        "---\n",
        "## Moving on!\n",
        "\n",
        "Now that you've defined and trained your model (and saved the best model), you are ready to move on to the last notebook, which combines a face detector with your saved model to create a facial keypoint detection system that can predict the keypoints on *any* face in an image!"
      ]
    }
  ]
}