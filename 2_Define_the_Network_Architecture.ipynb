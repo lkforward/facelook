{
  "nbformat": 4,
  "nbformat_minor": 0,
  "metadata": {
    "kernelspec": {
      "name": "python3",
      "display_name": "Python 3"
    },
    "language_info": {
      "codemirror_mode": {
        "name": "ipython",
        "version": 3
      },
      "file_extension": ".py",
      "mimetype": "text/x-python",
      "name": "python",
      "nbconvert_exporter": "python",
      "pygments_lexer": "ipython3",
      "version": "3.6.3"
    },
    "colab": {
      "name": "2. Define the Network Architecture.ipynb",
      "provenance": []
    },
    "accelerator": "GPU"
  },
  "cells": [
    {
      "cell_type": "code",
      "metadata": {
        "id": "qlJYVkblZtez",
        "colab_type": "code",
        "colab": {
          "base_uri": "https://localhost:8080/",
          "height": 34
        },
        "outputId": "0d4d1609-b73e-4719-9446-89b56a1bd82f"
      },
      "source": [
        "# Check to see that we are using the GPU\n",
        "import tensorflow as tf\n",
        "tf.test.gpu_device_name()"
      ],
      "execution_count": 2,
      "outputs": [
        {
          "output_type": "execute_result",
          "data": {
            "text/plain": [
              "'/device:GPU:0'"
            ]
          },
          "metadata": {
            "tags": []
          },
          "execution_count": 2
        }
      ]
    },
    {
      "cell_type": "code",
      "metadata": {
        "id": "rj2fNvSeL63C",
        "colab_type": "code",
        "colab": {
          "base_uri": "https://localhost:8080/",
          "height": 121
        },
        "outputId": "3e16a898-7501-447f-d151-13441232b482"
      },
      "source": [
        "# Amount google drive\n",
        "from google.colab import drive\n",
        "drive.mount('/content/gdrive')"
      ],
      "execution_count": 3,
      "outputs": [
        {
          "output_type": "stream",
          "text": [
            "Go to this URL in a browser: https://accounts.google.com/o/oauth2/auth?client_id=947318989803-6bn6qk8qdgf4n4g3pfee6491hc0brc4i.apps.googleusercontent.com&redirect_uri=urn%3Aietf%3Awg%3Aoauth%3A2.0%3Aoob&scope=email%20https%3A%2F%2Fwww.googleapis.com%2Fauth%2Fdocs.test%20https%3A%2F%2Fwww.googleapis.com%2Fauth%2Fdrive%20https%3A%2F%2Fwww.googleapis.com%2Fauth%2Fdrive.photos.readonly%20https%3A%2F%2Fwww.googleapis.com%2Fauth%2Fpeopleapi.readonly&response_type=code\n",
            "\n",
            "Enter your authorization code:\n",
            "··········\n",
            "Mounted at /content/gdrive\n"
          ],
          "name": "stdout"
        }
      ]
    },
    {
      "cell_type": "code",
      "metadata": {
        "id": "6bp4NrbnMgAf",
        "colab_type": "code",
        "colab": {}
      },
      "source": [
        "# Experiment write/read from the amounted drive: \n",
        "import numpy as np\n",
        "\n",
        "test_file = '/content/gdrive/My Drive/save_test.npy'\n",
        "a = np.zeros((4,4))\n",
        "np.save(test_file, a)"
      ],
      "execution_count": 0,
      "outputs": []
    },
    {
      "cell_type": "code",
      "metadata": {
        "id": "ZZ324oBWN2OO",
        "colab_type": "code",
        "colab": {
          "base_uri": "https://localhost:8080/",
          "height": 168
        },
        "outputId": "84291338-3e5a-489e-f6e7-9a4ec50ab777"
      },
      "source": [
        "# You can always ls:\n",
        "!ls /content/gdrive/My\\ Drive"
      ],
      "execution_count": 4,
      "outputs": [
        {
          "output_type": "stream",
          "text": [
            "'Colab Notebooks'\n",
            "'Copy of T.F. Newport 0212 Invitation.gform'\n",
            "'Getting started.pdf'\n",
            " GU_mesh14_95x.zip\n",
            " GU_mesh14_95y.zip\n",
            " IMG_1075.JPG\n",
            " prj1_keypoints\n",
            " save_test.npy\n",
            "'T.F. Newport 0212 Invitation.gform'\n"
          ],
          "name": "stdout"
        }
      ]
    },
    {
      "cell_type": "code",
      "metadata": {
        "id": "Jutqea5ON8pT",
        "colab_type": "code",
        "colab": {
          "base_uri": "https://localhost:8080/",
          "height": 84
        },
        "outputId": "2b989801-740b-46d4-822a-65aa7a3652ac"
      },
      "source": [
        "# Load it back:\n",
        "ap = np.load(test_file)\n",
        "ap"
      ],
      "execution_count": 15,
      "outputs": [
        {
          "output_type": "execute_result",
          "data": {
            "text/plain": [
              "array([[0., 0., 0., 0.],\n",
              "       [0., 0., 0., 0.],\n",
              "       [0., 0., 0., 0.],\n",
              "       [0., 0., 0., 0.]])"
            ]
          },
          "metadata": {
            "tags": []
          },
          "execution_count": 15
        }
      ]
    },
    {
      "cell_type": "markdown",
      "metadata": {
        "id": "kUL1vAQxBJxO",
        "colab_type": "text"
      },
      "source": [
        "## 1. Define the Convolutional Neural Network\n",
        "\n",
        "After you've looked at the data you're working with and, in this case, know the shapes of the images and of the keypoints, you are ready to define a convolutional neural network that can *learn* from this data.\n",
        "\n",
        "In this notebook and in `models.py`, you will:\n",
        "1. Define a CNN with images as input and keypoints as output\n",
        "2. Construct the transformed FaceKeypointsDataset, just as before\n",
        "3. Train the CNN on the training data, tracking loss\n",
        "4. See how the trained model performs on test data\n",
        "5. If necessary, modify the CNN structure and model hyperparameters, so that it performs *well* **\\***\n",
        "\n",
        "**\\*** What does *well* mean?\n",
        "\n",
        "\"Well\" means that the model's loss decreases during training **and**, when applied to test image data, the model produces keypoints that closely match the true keypoints of each face. And you'll see examples of this later in the notebook.\n",
        "\n",
        "---\n"
      ]
    },
    {
      "cell_type": "markdown",
      "metadata": {
        "id": "uoZKI52nBJxQ",
        "colab_type": "text"
      },
      "source": [
        "## CNN Architecture\n",
        "\n",
        "Recall that CNN's are defined by a few types of layers:\n",
        "* Convolutional layers\n",
        "* Maxpooling layers\n",
        "* Fully-connected layers\n",
        "\n",
        "You are required to use the above layers and encouraged to add multiple convolutional layers and things like dropout layers that may prevent overfitting. You are also encouraged to look at literature on keypoint detection, such as [this paper](https://arxiv.org/pdf/1710.00977.pdf), to help you determine the structure of your network.\n",
        "\n",
        "\n",
        "### TODO: Define your model in the provided file `models.py` file\n",
        "\n",
        "This file is mostly empty but contains the expected name and some TODO's for creating your model.\n",
        "\n",
        "---"
      ]
    },
    {
      "cell_type": "markdown",
      "metadata": {
        "id": "RoQO-rg_BJxS",
        "colab_type": "text"
      },
      "source": [
        "## PyTorch Neural Nets\n",
        "\n",
        "To define a neural network in PyTorch, you define the layers of a model in the function `__init__` and define the feedforward behavior of a network that employs those initialized layers in the function `forward`, which takes in an input image tensor, `x`. The structure of this Net class is shown below and left for you to fill in.\n",
        "\n",
        "Note: During training, PyTorch will be able to perform backpropagation by keeping track of the network's feedforward behavior and using autograd to calculate the update to the weights in the network.\n",
        "\n",
        "#### Define the Layers in ` __init__`\n",
        "As a reminder, a conv/pool layer may be defined like this (in `__init__`):\n",
        "```\n",
        "# 1 input image channel (for grayscale images), 32 output channels/feature maps, 3x3 square convolution kernel\n",
        "self.conv1 = nn.Conv2d(1, 32, 3)\n",
        "\n",
        "# maxpool that uses a square window of kernel_size=2, stride=2\n",
        "self.pool = nn.MaxPool2d(2, 2)      \n",
        "```\n",
        "\n",
        "#### Refer to Layers in `forward`\n",
        "Then referred to in the `forward` function like this, in which the conv1 layer has a ReLu activation applied to it before maxpooling is applied:\n",
        "```\n",
        "x = self.pool(F.relu(self.conv1(x)))\n",
        "```\n",
        "\n",
        "Best practice is to place any layers whose weights will change during the training process in `__init__` and refer to them in the `forward` function; any layers or functions that always behave in the same way, such as a pre-defined activation function, should appear *only* in the `forward` function."
      ]
    },
    {
      "cell_type": "markdown",
      "metadata": {
        "id": "-dqIQ1HBBJxT",
        "colab_type": "text"
      },
      "source": [
        "#### Why models.py\n",
        "\n",
        "You are tasked with defining the network in the `models.py` file so that any models you define can be saved and loaded by name in different notebooks in this project directory. For example, by defining a CNN class called `Net` in `models.py`, you can then create that same architecture in this and other notebooks by simply importing the class and instantiating a model:\n",
        "```\n",
        "    from models import Net\n",
        "    net = Net()\n",
        "```"
      ]
    },
    {
      "cell_type": "code",
      "metadata": {
        "id": "PULOuBssBJxU",
        "colab_type": "code",
        "colab": {}
      },
      "source": [
        "# import the usual resources\n",
        "import matplotlib.pyplot as plt\n",
        "import numpy as np\n",
        "\n",
        "# watch for any changes in model.py, if it changes, re-load it automatically\n",
        "%load_ext autoreload\n",
        "%autoreload 2"
      ],
      "execution_count": 0,
      "outputs": []
    },
    {
      "cell_type": "code",
      "metadata": {
        "id": "tgk-qEVABJxZ",
        "colab_type": "code",
        "colab": {}
      },
      "source": [
        "import os"
      ],
      "execution_count": 0,
      "outputs": []
    },
    {
      "cell_type": "code",
      "metadata": {
        "id": "42B09kO2BXmt",
        "colab_type": "code",
        "colab": {
          "base_uri": "https://localhost:8080/",
          "height": 118
        },
        "outputId": "357536b8-6669-4879-9a32-897f5a20c687"
      },
      "source": [
        "# We can save data into google drive and access them from here. But it is faster\n",
        "# to clone a copy from git: \n",
        "!git clone https://github.com/udacity/P1_Facial_Keypoints.git\n",
        "\n",
        "data_path = './P1_Facial_Keypoints/data'"
      ],
      "execution_count": 6,
      "outputs": [
        {
          "output_type": "stream",
          "text": [
            "Cloning into 'P1_Facial_Keypoints'...\n",
            "remote: Enumerating objects: 5981, done.\u001b[K\n",
            "remote: Total 5981 (delta 0), reused 0 (delta 0), pack-reused 5981\u001b[K\n",
            "Receiving objects: 100% (5981/5981), 329.49 MiB | 13.58 MiB/s, done.\n",
            "Resolving deltas: 100% (124/124), done.\n",
            "Checking out files: 100% (5803/5803), done.\n"
          ],
          "name": "stdout"
        }
      ]
    },
    {
      "cell_type": "code",
      "metadata": {
        "id": "Vwt4i5hzTh06",
        "colab_type": "code",
        "colab": {
          "base_uri": "https://localhost:8080/",
          "height": 34
        },
        "outputId": "1fe5d761-ea2a-4416-b68c-dd851b0cbe04"
      },
      "source": [
        "!ls /content/gdrive/My\\ Drive/prj1_keypoints"
      ],
      "execution_count": 5,
      "outputs": [
        {
          "output_type": "stream",
          "text": [
            "data_load.py  models.py  train_loss_batch10.npy  train_loss_batch64.npy\n"
          ],
          "name": "stdout"
        }
      ]
    },
    {
      "cell_type": "code",
      "metadata": {
        "id": "FqkGLoTyjMTf",
        "colab_type": "code",
        "colab": {
          "base_uri": "https://localhost:8080/",
          "height": 50
        },
        "outputId": "d034d49f-f1e0-479e-b8d7-aa4fa76945d3"
      },
      "source": [
        "# Run the model definition code: \n",
        "%run /content/gdrive/My\\ Drive/prj1_keypoints/models.py\n",
        "%run /content/gdrive/My\\ Drive/prj1_keypoints/data_load.py"
      ],
      "execution_count": 8,
      "outputs": [
        {
          "output_type": "stream",
          "text": [
            "/usr/local/lib/python3.6/dist-packages/torch/nn/functional.py:1339: UserWarning: nn.functional.tanh is deprecated. Use torch.tanh instead.\n",
            "  warnings.warn(\"nn.functional.tanh is deprecated. Use torch.tanh instead.\")\n"
          ],
          "name": "stderr"
        }
      ]
    },
    {
      "cell_type": "code",
      "metadata": {
        "id": "IiMWLM18BJxa",
        "colab_type": "code",
        "colab": {
          "base_uri": "https://localhost:8080/",
          "height": 336
        },
        "outputId": "31f99a69-44be-4361-b52e-b46e94d3c3ec"
      },
      "source": [
        "## TODO: Define the Net in models.py\n",
        "\n",
        "import torch\n",
        "import torch.nn as nn\n",
        "import torch.nn.functional as F\n",
        "\n",
        "## TODO: Once you've define the network, you can instantiate it\n",
        "# one example conv layer has been provided for you\n",
        "\n",
        "#%load models.py\n",
        "#from models import Net\n",
        "\n",
        "net = Net()\n",
        "print(net)"
      ],
      "execution_count": 9,
      "outputs": [
        {
          "output_type": "stream",
          "text": [
            "Net(\n",
            "  (conv1): Conv2d(1, 32, kernel_size=(5, 5), stride=(1, 1))\n",
            "  (pool1): MaxPool2d(kernel_size=2, stride=2, padding=0, dilation=1, ceil_mode=False)\n",
            "  (drop1): Dropout2d(p=0.1, inplace=False)\n",
            "  (conv2): Conv2d(32, 64, kernel_size=(3, 3), stride=(1, 1))\n",
            "  (pool2): MaxPool2d(kernel_size=2, stride=2, padding=0, dilation=1, ceil_mode=False)\n",
            "  (drop2): Dropout2d(p=0.2, inplace=False)\n",
            "  (conv3): Conv2d(64, 128, kernel_size=(2, 2), stride=(1, 1))\n",
            "  (pool3): MaxPool2d(kernel_size=2, stride=2, padding=0, dilation=1, ceil_mode=False)\n",
            "  (drop3): Dropout2d(p=0.3, inplace=False)\n",
            "  (conv4): Conv2d(128, 256, kernel_size=(1, 1), stride=(1, 1))\n",
            "  (pool4): MaxPool2d(kernel_size=2, stride=2, padding=0, dilation=1, ceil_mode=False)\n",
            "  (drop4): Dropout2d(p=0.4, inplace=False)\n",
            "  (fc1): Linear(in_features=43264, out_features=256, bias=True)\n",
            "  (drop5): Dropout2d(p=0.5, inplace=False)\n",
            "  (fc2): Linear(in_features=256, out_features=256, bias=True)\n",
            "  (drop6): Dropout2d(p=0.6, inplace=False)\n",
            "  (fc3): Linear(in_features=256, out_features=136, bias=True)\n",
            ")\n"
          ],
          "name": "stdout"
        }
      ]
    },
    {
      "cell_type": "markdown",
      "metadata": {
        "collapsed": true,
        "id": "6OY43-0uBJxc",
        "colab_type": "text"
      },
      "source": [
        "## 2. Transform the dataset \n",
        "\n",
        "To prepare for training, create a transformed dataset of images and keypoints.\n",
        "\n",
        "### TODO: Define a data transform\n",
        "\n",
        "In PyTorch, a convolutional neural network expects a torch image of a consistent size as input. For efficient training, and so your model's loss does not blow up during training, it is also suggested that you normalize the input images and keypoints. The necessary transforms have been defined in `data_load.py` and you **do not** need to modify these; take a look at this file (you'll see the same transforms that were defined and applied in Notebook 1).\n",
        "\n",
        "To define the data transform below, use a [composition](http://pytorch.org/tutorials/beginner/data_loading_tutorial.html#compose-transforms) of:\n",
        "1. Rescaling and/or cropping the data, such that you are left with a square image (the suggested size is 224x224px)\n",
        "2. Normalizing the images and keypoints; turning each RGB image into a grayscale image with a color range of [0, 1] and transforming the given keypoints into a range of [-1, 1]\n",
        "3. Turning these images and keypoints into Tensors\n",
        "\n",
        "These transformations have been defined in `data_load.py`, but it's up to you to call them and create a `data_transform` below. **This transform will be applied to the training data and, later, the test data**. It will change how you go about displaying these images and keypoints, but these steps are essential for efficient training.\n",
        "\n",
        "As a note, should you want to perform data augmentation (which is optional in this project), and randomly rotate or shift these images, a square image size will be useful; rotating a 224x224 image by 90 degrees will result in the same shape of output."
      ]
    },
    {
      "cell_type": "code",
      "metadata": {
        "id": "2vJdHnkjBJxd",
        "colab_type": "code",
        "colab": {}
      },
      "source": [
        "from torch.utils.data import Dataset, DataLoader\n",
        "from torchvision import transforms, utils\n",
        "\n",
        "# # the dataset we created in Notebook 1 is copied in the helper file `data_load.py`\n",
        "# # Since we have run the data_load.py, no need to load them again here. \n",
        "\n",
        "# from data_load import FacialKeypointsDataset\n",
        "# # the transforms we defined in Notebook 1 are in the helper file `data_load.py`\n",
        "# from data_load import Rescale, RandomCrop, Normalize, ToTensor\n",
        "\n",
        "\n",
        "## TODO: define the data_transform using transforms.Compose([all tx's, . , .])\n",
        "# order matters! i.e. rescaling should come before a smaller crop\n",
        "data_transform = transforms.Compose([Rescale(250), RandomCrop(224), Normalize(), ToTensor()])\n",
        "\n",
        "# testing that you've defined a transform\n",
        "assert(data_transform is not None), 'Define a data_transform'"
      ],
      "execution_count": 0,
      "outputs": []
    },
    {
      "cell_type": "code",
      "metadata": {
        "id": "aOzWaqwqBJxf",
        "colab_type": "code",
        "colab": {}
      },
      "source": [
        "# import pandas as pd\n",
        "\n",
        "# new_name = 'training_small_sample.csv'\n",
        "\n",
        "# train_file = os.path.join(data_path, 'training_frames_keypoints.csv')\n",
        "# df = pd.read_csv(train_file)\n",
        "\n",
        "# n_samples = 10\n",
        "# df_new = df.iloc[:n_samples, :]\n",
        "# df_new.to_csv(os.path.join(data_path, new_name))"
      ],
      "execution_count": 0,
      "outputs": []
    },
    {
      "cell_type": "code",
      "metadata": {
        "id": "zJ_R9l7IBJxi",
        "colab_type": "code",
        "colab": {
          "base_uri": "https://localhost:8080/",
          "height": 154
        },
        "outputId": "5d2d4a05-8b06-4160-dca9-cfeab4ae8b76"
      },
      "source": [
        "# create the transformed dataset\n",
        "# transformed_dataset = FacialKeypointsDataset(csv_file='data/training_frames_keypoints.csv',\n",
        "#                                              root_dir='data/training/',\n",
        "#                                              transform=data_transform)\n",
        "transformed_dataset = FacialKeypointsDataset(csv_file=os.path.join(data_path, 'training_frames_keypoints.csv'),\n",
        "                                             root_dir=os.path.join(data_path, 'training/'),\n",
        "                                             transform=data_transform,\n",
        "                                             n_samples=None)\n",
        "\n",
        "\n",
        "\n",
        "print('Number of images: ', len(transformed_dataset))\n",
        "\n",
        "# iterate through the transformed dataset and print some stats about the first few samples\n",
        "for i in range(4):\n",
        "    sample = transformed_dataset[i]\n",
        "    print(i, sample['image'].size(), sample['keypoints'].size())"
      ],
      "execution_count": 12,
      "outputs": [
        {
          "output_type": "stream",
          "text": [
            "Number of images:  3462\n",
            "0 torch.Size([1, 224, 224]) torch.Size([68, 2])\n",
            "1 torch.Size([1, 224, 224]) torch.Size([68, 2])\n",
            "2 torch.Size([1, 224, 224]) torch.Size([68, 2])\n",
            "3 torch.Size([1, 224, 224]) torch.Size([68, 2])\n"
          ],
          "name": "stdout"
        },
        {
          "output_type": "stream",
          "text": [
            "/content/gdrive/My Drive/prj1_keypoints/data_load.py:43: FutureWarning: Method .as_matrix will be removed in a future version. Use .values instead.\n",
            "  key_pts = self.key_pts_frame.iloc[idx, 1:].as_matrix()\n"
          ],
          "name": "stderr"
        }
      ]
    },
    {
      "cell_type": "code",
      "metadata": {
        "id": "ATwb2VQfBJxl",
        "colab_type": "code",
        "colab": {
          "base_uri": "https://localhost:8080/",
          "height": 244
        },
        "outputId": "bec775c8-49a8-4090-b923-9dbd71ef6fe5"
      },
      "source": [
        "type(transformed_dataset.key_pts_frame)\n",
        "transformed_dataset.key_pts_frame.head()"
      ],
      "execution_count": 13,
      "outputs": [
        {
          "output_type": "execute_result",
          "data": {
            "text/html": [
              "<div>\n",
              "<style scoped>\n",
              "    .dataframe tbody tr th:only-of-type {\n",
              "        vertical-align: middle;\n",
              "    }\n",
              "\n",
              "    .dataframe tbody tr th {\n",
              "        vertical-align: top;\n",
              "    }\n",
              "\n",
              "    .dataframe thead th {\n",
              "        text-align: right;\n",
              "    }\n",
              "</style>\n",
              "<table border=\"1\" class=\"dataframe\">\n",
              "  <thead>\n",
              "    <tr style=\"text-align: right;\">\n",
              "      <th></th>\n",
              "      <th>Unnamed: 0</th>\n",
              "      <th>0</th>\n",
              "      <th>1</th>\n",
              "      <th>2</th>\n",
              "      <th>3</th>\n",
              "      <th>4</th>\n",
              "      <th>5</th>\n",
              "      <th>6</th>\n",
              "      <th>7</th>\n",
              "      <th>8</th>\n",
              "      <th>9</th>\n",
              "      <th>10</th>\n",
              "      <th>11</th>\n",
              "      <th>12</th>\n",
              "      <th>13</th>\n",
              "      <th>14</th>\n",
              "      <th>15</th>\n",
              "      <th>16</th>\n",
              "      <th>17</th>\n",
              "      <th>18</th>\n",
              "      <th>19</th>\n",
              "      <th>20</th>\n",
              "      <th>21</th>\n",
              "      <th>22</th>\n",
              "      <th>23</th>\n",
              "      <th>24</th>\n",
              "      <th>25</th>\n",
              "      <th>26</th>\n",
              "      <th>27</th>\n",
              "      <th>28</th>\n",
              "      <th>29</th>\n",
              "      <th>30</th>\n",
              "      <th>31</th>\n",
              "      <th>32</th>\n",
              "      <th>33</th>\n",
              "      <th>34</th>\n",
              "      <th>35</th>\n",
              "      <th>36</th>\n",
              "      <th>37</th>\n",
              "      <th>38</th>\n",
              "      <th>...</th>\n",
              "      <th>96</th>\n",
              "      <th>97</th>\n",
              "      <th>98</th>\n",
              "      <th>99</th>\n",
              "      <th>100</th>\n",
              "      <th>101</th>\n",
              "      <th>102</th>\n",
              "      <th>103</th>\n",
              "      <th>104</th>\n",
              "      <th>105</th>\n",
              "      <th>106</th>\n",
              "      <th>107</th>\n",
              "      <th>108</th>\n",
              "      <th>109</th>\n",
              "      <th>110</th>\n",
              "      <th>111</th>\n",
              "      <th>112</th>\n",
              "      <th>113</th>\n",
              "      <th>114</th>\n",
              "      <th>115</th>\n",
              "      <th>116</th>\n",
              "      <th>117</th>\n",
              "      <th>118</th>\n",
              "      <th>119</th>\n",
              "      <th>120</th>\n",
              "      <th>121</th>\n",
              "      <th>122</th>\n",
              "      <th>123</th>\n",
              "      <th>124</th>\n",
              "      <th>125</th>\n",
              "      <th>126</th>\n",
              "      <th>127</th>\n",
              "      <th>128</th>\n",
              "      <th>129</th>\n",
              "      <th>130</th>\n",
              "      <th>131</th>\n",
              "      <th>132</th>\n",
              "      <th>133</th>\n",
              "      <th>134</th>\n",
              "      <th>135</th>\n",
              "    </tr>\n",
              "  </thead>\n",
              "  <tbody>\n",
              "    <tr>\n",
              "      <th>0</th>\n",
              "      <td>Luis_Fonsi_21.jpg</td>\n",
              "      <td>45.0</td>\n",
              "      <td>98.0</td>\n",
              "      <td>47.0</td>\n",
              "      <td>106.0</td>\n",
              "      <td>49.0</td>\n",
              "      <td>110.0</td>\n",
              "      <td>53.0</td>\n",
              "      <td>119.0</td>\n",
              "      <td>56.0</td>\n",
              "      <td>125.0</td>\n",
              "      <td>62.0</td>\n",
              "      <td>130.0</td>\n",
              "      <td>66.0</td>\n",
              "      <td>134.0</td>\n",
              "      <td>73.0</td>\n",
              "      <td>136.0</td>\n",
              "      <td>81.0</td>\n",
              "      <td>139.0</td>\n",
              "      <td>92.0</td>\n",
              "      <td>134.0</td>\n",
              "      <td>96.0</td>\n",
              "      <td>130.0</td>\n",
              "      <td>98.0</td>\n",
              "      <td>126.0</td>\n",
              "      <td>102.0</td>\n",
              "      <td>120.0</td>\n",
              "      <td>102.0</td>\n",
              "      <td>111.0</td>\n",
              "      <td>104.0</td>\n",
              "      <td>105.0</td>\n",
              "      <td>104.0</td>\n",
              "      <td>99.0</td>\n",
              "      <td>102.0</td>\n",
              "      <td>90.0</td>\n",
              "      <td>51.0</td>\n",
              "      <td>89.0</td>\n",
              "      <td>56.0</td>\n",
              "      <td>87.0</td>\n",
              "      <td>60.0</td>\n",
              "      <td>...</td>\n",
              "      <td>68.0</td>\n",
              "      <td>119.0</td>\n",
              "      <td>73.0</td>\n",
              "      <td>117.0</td>\n",
              "      <td>77.0</td>\n",
              "      <td>115.0</td>\n",
              "      <td>79.0</td>\n",
              "      <td>117.0</td>\n",
              "      <td>81.0</td>\n",
              "      <td>115.0</td>\n",
              "      <td>85.0</td>\n",
              "      <td>117.0</td>\n",
              "      <td>90.0</td>\n",
              "      <td>117.0</td>\n",
              "      <td>87.0</td>\n",
              "      <td>122.0</td>\n",
              "      <td>85.0</td>\n",
              "      <td>124.0</td>\n",
              "      <td>81.0</td>\n",
              "      <td>124.0</td>\n",
              "      <td>77.0</td>\n",
              "      <td>124.0</td>\n",
              "      <td>73.0</td>\n",
              "      <td>121.0</td>\n",
              "      <td>70.0</td>\n",
              "      <td>119.0</td>\n",
              "      <td>77.0</td>\n",
              "      <td>119.0</td>\n",
              "      <td>79.0</td>\n",
              "      <td>119.0</td>\n",
              "      <td>83.0</td>\n",
              "      <td>119.0</td>\n",
              "      <td>90.0</td>\n",
              "      <td>117.0</td>\n",
              "      <td>83.0</td>\n",
              "      <td>119.0</td>\n",
              "      <td>81.0</td>\n",
              "      <td>122.0</td>\n",
              "      <td>77.0</td>\n",
              "      <td>122.0</td>\n",
              "    </tr>\n",
              "    <tr>\n",
              "      <th>1</th>\n",
              "      <td>Lincoln_Chafee_52.jpg</td>\n",
              "      <td>41.0</td>\n",
              "      <td>83.0</td>\n",
              "      <td>43.0</td>\n",
              "      <td>91.0</td>\n",
              "      <td>45.0</td>\n",
              "      <td>100.0</td>\n",
              "      <td>47.0</td>\n",
              "      <td>108.0</td>\n",
              "      <td>51.0</td>\n",
              "      <td>119.0</td>\n",
              "      <td>58.0</td>\n",
              "      <td>130.0</td>\n",
              "      <td>64.0</td>\n",
              "      <td>136.0</td>\n",
              "      <td>73.0</td>\n",
              "      <td>141.0</td>\n",
              "      <td>85.0</td>\n",
              "      <td>143.0</td>\n",
              "      <td>96.0</td>\n",
              "      <td>137.0</td>\n",
              "      <td>102.0</td>\n",
              "      <td>131.0</td>\n",
              "      <td>107.0</td>\n",
              "      <td>124.0</td>\n",
              "      <td>109.0</td>\n",
              "      <td>114.0</td>\n",
              "      <td>111.0</td>\n",
              "      <td>105.0</td>\n",
              "      <td>111.0</td>\n",
              "      <td>97.0</td>\n",
              "      <td>111.0</td>\n",
              "      <td>88.0</td>\n",
              "      <td>111.0</td>\n",
              "      <td>78.0</td>\n",
              "      <td>51.0</td>\n",
              "      <td>83.0</td>\n",
              "      <td>56.0</td>\n",
              "      <td>81.0</td>\n",
              "      <td>62.0</td>\n",
              "      <td>...</td>\n",
              "      <td>70.0</td>\n",
              "      <td>122.0</td>\n",
              "      <td>75.0</td>\n",
              "      <td>122.0</td>\n",
              "      <td>81.0</td>\n",
              "      <td>120.0</td>\n",
              "      <td>83.0</td>\n",
              "      <td>120.0</td>\n",
              "      <td>85.0</td>\n",
              "      <td>120.0</td>\n",
              "      <td>90.0</td>\n",
              "      <td>120.0</td>\n",
              "      <td>94.0</td>\n",
              "      <td>120.0</td>\n",
              "      <td>90.0</td>\n",
              "      <td>124.0</td>\n",
              "      <td>87.0</td>\n",
              "      <td>126.0</td>\n",
              "      <td>83.0</td>\n",
              "      <td>126.0</td>\n",
              "      <td>79.0</td>\n",
              "      <td>126.0</td>\n",
              "      <td>75.0</td>\n",
              "      <td>124.0</td>\n",
              "      <td>70.0</td>\n",
              "      <td>122.0</td>\n",
              "      <td>79.0</td>\n",
              "      <td>122.0</td>\n",
              "      <td>83.0</td>\n",
              "      <td>122.0</td>\n",
              "      <td>85.0</td>\n",
              "      <td>122.0</td>\n",
              "      <td>94.0</td>\n",
              "      <td>120.0</td>\n",
              "      <td>85.0</td>\n",
              "      <td>122.0</td>\n",
              "      <td>83.0</td>\n",
              "      <td>122.0</td>\n",
              "      <td>79.0</td>\n",
              "      <td>122.0</td>\n",
              "    </tr>\n",
              "    <tr>\n",
              "      <th>2</th>\n",
              "      <td>Valerie_Harper_30.jpg</td>\n",
              "      <td>56.0</td>\n",
              "      <td>69.0</td>\n",
              "      <td>56.0</td>\n",
              "      <td>77.0</td>\n",
              "      <td>56.0</td>\n",
              "      <td>86.0</td>\n",
              "      <td>56.0</td>\n",
              "      <td>94.0</td>\n",
              "      <td>58.0</td>\n",
              "      <td>103.0</td>\n",
              "      <td>60.0</td>\n",
              "      <td>111.0</td>\n",
              "      <td>62.0</td>\n",
              "      <td>116.0</td>\n",
              "      <td>67.0</td>\n",
              "      <td>122.0</td>\n",
              "      <td>75.0</td>\n",
              "      <td>127.0</td>\n",
              "      <td>86.0</td>\n",
              "      <td>127.0</td>\n",
              "      <td>96.0</td>\n",
              "      <td>123.0</td>\n",
              "      <td>105.0</td>\n",
              "      <td>121.0</td>\n",
              "      <td>113.0</td>\n",
              "      <td>114.0</td>\n",
              "      <td>118.0</td>\n",
              "      <td>106.0</td>\n",
              "      <td>122.0</td>\n",
              "      <td>100.0</td>\n",
              "      <td>124.0</td>\n",
              "      <td>91.0</td>\n",
              "      <td>128.0</td>\n",
              "      <td>81.0</td>\n",
              "      <td>58.0</td>\n",
              "      <td>56.0</td>\n",
              "      <td>62.0</td>\n",
              "      <td>54.0</td>\n",
              "      <td>67.0</td>\n",
              "      <td>...</td>\n",
              "      <td>67.0</td>\n",
              "      <td>103.0</td>\n",
              "      <td>69.0</td>\n",
              "      <td>101.0</td>\n",
              "      <td>73.0</td>\n",
              "      <td>101.0</td>\n",
              "      <td>75.0</td>\n",
              "      <td>101.0</td>\n",
              "      <td>77.0</td>\n",
              "      <td>101.0</td>\n",
              "      <td>84.0</td>\n",
              "      <td>103.0</td>\n",
              "      <td>88.0</td>\n",
              "      <td>108.0</td>\n",
              "      <td>82.0</td>\n",
              "      <td>110.0</td>\n",
              "      <td>77.0</td>\n",
              "      <td>110.0</td>\n",
              "      <td>75.0</td>\n",
              "      <td>110.0</td>\n",
              "      <td>71.0</td>\n",
              "      <td>110.0</td>\n",
              "      <td>69.0</td>\n",
              "      <td>107.0</td>\n",
              "      <td>67.0</td>\n",
              "      <td>103.0</td>\n",
              "      <td>73.0</td>\n",
              "      <td>103.0</td>\n",
              "      <td>75.0</td>\n",
              "      <td>105.0</td>\n",
              "      <td>79.0</td>\n",
              "      <td>105.0</td>\n",
              "      <td>86.0</td>\n",
              "      <td>108.0</td>\n",
              "      <td>77.0</td>\n",
              "      <td>105.0</td>\n",
              "      <td>75.0</td>\n",
              "      <td>105.0</td>\n",
              "      <td>73.0</td>\n",
              "      <td>105.0</td>\n",
              "    </tr>\n",
              "    <tr>\n",
              "      <th>3</th>\n",
              "      <td>Angelo_Reyes_22.jpg</td>\n",
              "      <td>61.0</td>\n",
              "      <td>80.0</td>\n",
              "      <td>58.0</td>\n",
              "      <td>95.0</td>\n",
              "      <td>58.0</td>\n",
              "      <td>108.0</td>\n",
              "      <td>58.0</td>\n",
              "      <td>120.0</td>\n",
              "      <td>58.0</td>\n",
              "      <td>132.0</td>\n",
              "      <td>61.0</td>\n",
              "      <td>141.0</td>\n",
              "      <td>64.0</td>\n",
              "      <td>148.0</td>\n",
              "      <td>73.0</td>\n",
              "      <td>157.0</td>\n",
              "      <td>85.0</td>\n",
              "      <td>163.0</td>\n",
              "      <td>101.0</td>\n",
              "      <td>163.0</td>\n",
              "      <td>116.0</td>\n",
              "      <td>164.0</td>\n",
              "      <td>128.0</td>\n",
              "      <td>161.0</td>\n",
              "      <td>137.0</td>\n",
              "      <td>155.0</td>\n",
              "      <td>144.0</td>\n",
              "      <td>143.0</td>\n",
              "      <td>150.0</td>\n",
              "      <td>134.0</td>\n",
              "      <td>156.0</td>\n",
              "      <td>121.0</td>\n",
              "      <td>162.0</td>\n",
              "      <td>109.0</td>\n",
              "      <td>70.0</td>\n",
              "      <td>68.0</td>\n",
              "      <td>76.0</td>\n",
              "      <td>65.0</td>\n",
              "      <td>85.0</td>\n",
              "      <td>...</td>\n",
              "      <td>76.0</td>\n",
              "      <td>129.0</td>\n",
              "      <td>82.0</td>\n",
              "      <td>130.0</td>\n",
              "      <td>88.0</td>\n",
              "      <td>127.0</td>\n",
              "      <td>91.0</td>\n",
              "      <td>130.0</td>\n",
              "      <td>98.0</td>\n",
              "      <td>130.0</td>\n",
              "      <td>104.0</td>\n",
              "      <td>133.0</td>\n",
              "      <td>110.0</td>\n",
              "      <td>139.0</td>\n",
              "      <td>101.0</td>\n",
              "      <td>142.0</td>\n",
              "      <td>95.0</td>\n",
              "      <td>145.0</td>\n",
              "      <td>88.0</td>\n",
              "      <td>142.0</td>\n",
              "      <td>82.0</td>\n",
              "      <td>142.0</td>\n",
              "      <td>79.0</td>\n",
              "      <td>139.0</td>\n",
              "      <td>76.0</td>\n",
              "      <td>129.0</td>\n",
              "      <td>85.0</td>\n",
              "      <td>133.0</td>\n",
              "      <td>91.0</td>\n",
              "      <td>133.0</td>\n",
              "      <td>98.0</td>\n",
              "      <td>136.0</td>\n",
              "      <td>107.0</td>\n",
              "      <td>139.0</td>\n",
              "      <td>95.0</td>\n",
              "      <td>139.0</td>\n",
              "      <td>91.0</td>\n",
              "      <td>139.0</td>\n",
              "      <td>85.0</td>\n",
              "      <td>136.0</td>\n",
              "    </tr>\n",
              "    <tr>\n",
              "      <th>4</th>\n",
              "      <td>Kristen_Breitweiser_11.jpg</td>\n",
              "      <td>58.0</td>\n",
              "      <td>94.0</td>\n",
              "      <td>58.0</td>\n",
              "      <td>104.0</td>\n",
              "      <td>60.0</td>\n",
              "      <td>113.0</td>\n",
              "      <td>62.0</td>\n",
              "      <td>121.0</td>\n",
              "      <td>67.0</td>\n",
              "      <td>130.0</td>\n",
              "      <td>71.0</td>\n",
              "      <td>136.0</td>\n",
              "      <td>75.0</td>\n",
              "      <td>138.0</td>\n",
              "      <td>81.0</td>\n",
              "      <td>141.0</td>\n",
              "      <td>92.0</td>\n",
              "      <td>143.0</td>\n",
              "      <td>105.0</td>\n",
              "      <td>139.0</td>\n",
              "      <td>113.0</td>\n",
              "      <td>135.0</td>\n",
              "      <td>122.0</td>\n",
              "      <td>129.0</td>\n",
              "      <td>126.0</td>\n",
              "      <td>122.0</td>\n",
              "      <td>128.0</td>\n",
              "      <td>112.0</td>\n",
              "      <td>130.0</td>\n",
              "      <td>103.0</td>\n",
              "      <td>130.0</td>\n",
              "      <td>95.0</td>\n",
              "      <td>130.0</td>\n",
              "      <td>86.0</td>\n",
              "      <td>58.0</td>\n",
              "      <td>81.0</td>\n",
              "      <td>60.0</td>\n",
              "      <td>74.0</td>\n",
              "      <td>64.0</td>\n",
              "      <td>...</td>\n",
              "      <td>75.0</td>\n",
              "      <td>121.0</td>\n",
              "      <td>79.0</td>\n",
              "      <td>117.0</td>\n",
              "      <td>84.0</td>\n",
              "      <td>115.0</td>\n",
              "      <td>86.0</td>\n",
              "      <td>115.0</td>\n",
              "      <td>90.0</td>\n",
              "      <td>113.0</td>\n",
              "      <td>96.0</td>\n",
              "      <td>115.0</td>\n",
              "      <td>103.0</td>\n",
              "      <td>118.0</td>\n",
              "      <td>98.0</td>\n",
              "      <td>122.0</td>\n",
              "      <td>92.0</td>\n",
              "      <td>124.0</td>\n",
              "      <td>88.0</td>\n",
              "      <td>124.0</td>\n",
              "      <td>84.0</td>\n",
              "      <td>126.0</td>\n",
              "      <td>79.0</td>\n",
              "      <td>124.0</td>\n",
              "      <td>77.0</td>\n",
              "      <td>121.0</td>\n",
              "      <td>84.0</td>\n",
              "      <td>117.0</td>\n",
              "      <td>88.0</td>\n",
              "      <td>117.0</td>\n",
              "      <td>92.0</td>\n",
              "      <td>117.0</td>\n",
              "      <td>103.0</td>\n",
              "      <td>118.0</td>\n",
              "      <td>92.0</td>\n",
              "      <td>120.0</td>\n",
              "      <td>88.0</td>\n",
              "      <td>122.0</td>\n",
              "      <td>84.0</td>\n",
              "      <td>122.0</td>\n",
              "    </tr>\n",
              "  </tbody>\n",
              "</table>\n",
              "<p>5 rows × 137 columns</p>\n",
              "</div>"
            ],
            "text/plain": [
              "                   Unnamed: 0     0     1     2  ...   132    133   134    135\n",
              "0           Luis_Fonsi_21.jpg  45.0  98.0  47.0  ...  81.0  122.0  77.0  122.0\n",
              "1       Lincoln_Chafee_52.jpg  41.0  83.0  43.0  ...  83.0  122.0  79.0  122.0\n",
              "2       Valerie_Harper_30.jpg  56.0  69.0  56.0  ...  75.0  105.0  73.0  105.0\n",
              "3         Angelo_Reyes_22.jpg  61.0  80.0  58.0  ...  91.0  139.0  85.0  136.0\n",
              "4  Kristen_Breitweiser_11.jpg  58.0  94.0  58.0  ...  88.0  122.0  84.0  122.0\n",
              "\n",
              "[5 rows x 137 columns]"
            ]
          },
          "metadata": {
            "tags": []
          },
          "execution_count": 13
        }
      ]
    },
    {
      "cell_type": "markdown",
      "metadata": {
        "id": "3FNk_YQ6BJxo",
        "colab_type": "text"
      },
      "source": [
        "## Batching and loading data\n",
        "\n",
        "Next, having defined the transformed dataset, we can use PyTorch's DataLoader class to load the training data in batches of whatever size as well as to shuffle the data for training the model. You can read more about the parameters of the DataLoader, in [this documentation](http://pytorch.org/docs/master/data.html).\n",
        "\n",
        "#### Batch size\n",
        "Decide on a good batch size for training your model. Try both small and large batch sizes and note how the loss decreases as the model trains.\n",
        "\n",
        "**Note for Windows users**: Please change the `num_workers` to 0 or you may face some issues with your DataLoader failing."
      ]
    },
    {
      "cell_type": "code",
      "metadata": {
        "id": "nMkZytdsBJxo",
        "colab_type": "code",
        "colab": {}
      },
      "source": [
        "# load training data in batches\n",
        "# batch_size = 10\n",
        "batch_size = 64\n",
        "\n",
        "train_loader = DataLoader(transformed_dataset, \n",
        "                          batch_size=batch_size,\n",
        "                          shuffle=True, \n",
        "                          num_workers=4)\n"
      ],
      "execution_count": 0,
      "outputs": []
    },
    {
      "cell_type": "markdown",
      "metadata": {
        "id": "bq8LwjK4BJxs",
        "colab_type": "text"
      },
      "source": [
        "## Before training\n",
        "\n",
        "Take a look at how this model performs before it trains. You should see that the keypoints it predicts start off in one spot and don't match the keypoints on a face at all! It's interesting to visualize this behavior so that you can compare it to the model after training and see how the model has improved.\n",
        "\n",
        "#### Load in the test dataset\n",
        "\n",
        "The test dataset is one that this model has *not* seen before, meaning it has not trained with these images. We'll load in this test data and before and after training, see how your model performs on this set!\n",
        "\n",
        "To visualize this test data, we have to go through some un-transformation steps to turn our images into python images from tensors and to turn our keypoints back into a recognizable range. "
      ]
    },
    {
      "cell_type": "code",
      "metadata": {
        "id": "a4al3kayBJxs",
        "colab_type": "code",
        "colab": {}
      },
      "source": [
        "# load in the test data, using the dataset class\n",
        "# AND apply the data_transform you defined above\n",
        "\n",
        "# create the test dataset\n",
        "# test_dataset = FacialKeypointsDataset(csv_file='data/test_frames_keypoints.csv',\n",
        "#                                              root_dir='data/test/',\n",
        "#                                              transform=data_transform)\n",
        "\n",
        "test_dataset = FacialKeypointsDataset(csv_file=os.path.join(data_path, 'test_frames_keypoints.csv'),\n",
        "                                             root_dir=os.path.join(data_path, 'test/'),\n",
        "                                             transform=data_transform)"
      ],
      "execution_count": 0,
      "outputs": []
    },
    {
      "cell_type": "code",
      "metadata": {
        "id": "Yh9M9TzaBJxw",
        "colab_type": "code",
        "colab": {}
      },
      "source": [
        "# load test data in batches\n",
        "\n",
        "# Let's just use the same batch size as the training dataset.\n",
        "# batch_size = 10\n",
        "# batch_size = 64\n",
        "\n",
        "test_loader = DataLoader(test_dataset, \n",
        "                          batch_size=batch_size,\n",
        "                          shuffle=True, \n",
        "                          num_workers=4)"
      ],
      "execution_count": 0,
      "outputs": []
    },
    {
      "cell_type": "markdown",
      "metadata": {
        "id": "_AopAvBsBJx0",
        "colab_type": "text"
      },
      "source": [
        "## 3. Apply the model on a test sample\n",
        "\n",
        "To test the model on a test sample of data, you have to follow these steps:\n",
        "1. Extract the image and ground truth keypoints from a sample\n",
        "2. Make sure the image is a FloatTensor, which the model expects.\n",
        "3. Forward pass the image through the net to get the predicted, output keypoints.\n",
        "\n",
        "This function test how the network performs on the first batch of test data. It returns the images, the transformed images, the predicted keypoints (produced by the model), and the ground truth keypoints."
      ]
    },
    {
      "cell_type": "code",
      "metadata": {
        "id": "7UXt7ON0BJx1",
        "colab_type": "code",
        "colab": {}
      },
      "source": [
        "# test the model on a batch of test images\n",
        "\n",
        "def net_sample_output():\n",
        "    \n",
        "    # iterate through the test dataset\n",
        "    for i, sample in enumerate(test_loader):\n",
        "        \n",
        "        # get sample data: images and ground truth keypoints\n",
        "        images = sample['image']\n",
        "        key_pts = sample['keypoints']\n",
        "\n",
        "        # convert images to FloatTensors\n",
        "        images = images.type(torch.FloatTensor)\n",
        "\n",
        "        # forward pass to get net output\n",
        "        output_pts = net(images)\n",
        "        \n",
        "        # reshape to batch_size x 68 x 2 pts\n",
        "        output_pts = output_pts.view(output_pts.size()[0], 68, -1)\n",
        "        \n",
        "        # break after first image is tested\n",
        "        if i == 0:\n",
        "            return images, output_pts, key_pts\n",
        "            "
      ],
      "execution_count": 0,
      "outputs": []
    },
    {
      "cell_type": "markdown",
      "metadata": {
        "id": "O9V--6zSBJx3",
        "colab_type": "text"
      },
      "source": [
        "#### Debugging tips\n",
        "\n",
        "If you get a size or dimension error here, make sure that your network outputs the expected number of keypoints! Or if you get a Tensor type error, look into changing the above code that casts the data into float types: `images = images.type(torch.FloatTensor)`."
      ]
    },
    {
      "cell_type": "code",
      "metadata": {
        "id": "R4ei0OgYBJx4",
        "colab_type": "code",
        "colab": {
          "base_uri": "https://localhost:8080/",
          "height": 255
        },
        "outputId": "5ce5821f-9226-4f33-b2e0-44bd5f3cab36"
      },
      "source": [
        "# call the above function\n",
        "# returns: test images, test predicted keypoints, test ground truth keypoints\n",
        "test_images, test_outputs, gt_pts = net_sample_output()\n",
        "\n",
        "# print out the dimensions of the data to see if they make sense\n",
        "print(test_images.data.size())\n",
        "print(test_outputs.data.size())\n",
        "print(gt_pts.size())"
      ],
      "execution_count": 18,
      "outputs": [
        {
          "output_type": "stream",
          "text": [
            "/content/gdrive/My Drive/prj1_keypoints/data_load.py:43: FutureWarning: Method .as_matrix will be removed in a future version. Use .values instead.\n",
            "  key_pts = self.key_pts_frame.iloc[idx, 1:].as_matrix()\n",
            "/content/gdrive/My Drive/prj1_keypoints/data_load.py:43: FutureWarning: Method .as_matrix will be removed in a future version. Use .values instead.\n",
            "  key_pts = self.key_pts_frame.iloc[idx, 1:].as_matrix()\n",
            "/content/gdrive/My Drive/prj1_keypoints/data_load.py:43: FutureWarning: Method .as_matrix will be removed in a future version. Use .values instead.\n",
            "  key_pts = self.key_pts_frame.iloc[idx, 1:].as_matrix()\n",
            "/content/gdrive/My Drive/prj1_keypoints/data_load.py:43: FutureWarning: Method .as_matrix will be removed in a future version. Use .values instead.\n",
            "  key_pts = self.key_pts_frame.iloc[idx, 1:].as_matrix()\n"
          ],
          "name": "stderr"
        },
        {
          "output_type": "stream",
          "text": [
            "torch.Size([64, 1, 224, 224])\n",
            "torch.Size([64, 68, 2])\n",
            "torch.Size([64, 68, 2])\n"
          ],
          "name": "stdout"
        },
        {
          "output_type": "stream",
          "text": [
            "/usr/local/lib/python3.6/dist-packages/torch/nn/functional.py:1339: UserWarning: nn.functional.tanh is deprecated. Use torch.tanh instead.\n",
            "  warnings.warn(\"nn.functional.tanh is deprecated. Use torch.tanh instead.\")\n"
          ],
          "name": "stderr"
        }
      ]
    },
    {
      "cell_type": "markdown",
      "metadata": {
        "id": "hm6rpM4tBJx6",
        "colab_type": "text"
      },
      "source": [
        "## Visualize the predicted keypoints\n",
        "\n",
        "Once we've had the model produce some predicted output keypoints, we can visualize these points in a way that's similar to how we've displayed this data before, only this time, we have to \"un-transform\" the image/keypoint data to display it.\n",
        "\n",
        "Note that I've defined a *new* function, `show_all_keypoints` that displays a grayscale image, its predicted keypoints and its ground truth keypoints (if provided)."
      ]
    },
    {
      "cell_type": "code",
      "metadata": {
        "id": "elANchKFBJx8",
        "colab_type": "code",
        "colab": {}
      },
      "source": [
        "def show_all_keypoints(image, predicted_key_pts, gt_pts=None):\n",
        "    \"\"\"Show image with predicted keypoints\"\"\"\n",
        "    # image is grayscale\n",
        "    plt.imshow(image, cmap='gray')\n",
        "    plt.scatter(predicted_key_pts[:, 0], predicted_key_pts[:, 1], s=20, marker='.', c='m')\n",
        "    # plot ground truth points as green pts\n",
        "    if gt_pts is not None:\n",
        "        plt.scatter(gt_pts[:, 0], gt_pts[:, 1], s=20, marker='.', c='g')\n"
      ],
      "execution_count": 0,
      "outputs": []
    },
    {
      "cell_type": "markdown",
      "metadata": {
        "id": "qlXl3NsvBJx-",
        "colab_type": "text"
      },
      "source": [
        "#### Un-transformation\n",
        "\n",
        "Next, you'll see a helper function. `visualize_output` that takes in a batch of images, predicted keypoints, and ground truth keypoints and displays a set of those images and their true/predicted keypoints.\n",
        "\n",
        "This function's main role is to take batches of image and keypoint data (the input and output of your CNN), and transform them into numpy images and un-normalized keypoints (x, y) for normal display. The un-transformation process turns keypoints and images into numpy arrays from Tensors *and* it undoes the keypoint normalization done in the Normalize() transform; it's assumed that you applied these transformations when you loaded your test data."
      ]
    },
    {
      "cell_type": "code",
      "metadata": {
        "id": "ZIvtlnLbBJx_",
        "colab_type": "code",
        "colab": {
          "base_uri": "https://localhost:8080/",
          "height": 1000
        },
        "outputId": "cd5b03a0-e8ce-45e4-eb75-8e369cbb9181"
      },
      "source": [
        "# visualize the output\n",
        "# by default this shows a batch of 10 images\n",
        "def visualize_output(test_images, test_outputs, gt_pts=None, batch_size=10):\n",
        "\n",
        "    for i in range(batch_size):\n",
        "        plt.figure(figsize=(20,10))\n",
        "        ax = plt.subplot(1, batch_size, i+1)\n",
        "\n",
        "        # un-transform the image data\n",
        "        image = test_images[i].data   # get the image from it's wrapper\n",
        "        image = image.numpy()   # convert to numpy array from a Tensor\n",
        "        image = np.transpose(image, (1, 2, 0))   # transpose to go from torch to numpy image\n",
        "\n",
        "        # un-transform the predicted key_pts data\n",
        "        predicted_key_pts = test_outputs[i].data\n",
        "        predicted_key_pts = predicted_key_pts.numpy()\n",
        "        # undo normalization of keypoints  \n",
        "        predicted_key_pts = predicted_key_pts*50.0+100\n",
        "        \n",
        "        # plot ground truth points for comparison, if they exist\n",
        "        ground_truth_pts = None\n",
        "        if gt_pts is not None:\n",
        "            ground_truth_pts = gt_pts[i]         \n",
        "            ground_truth_pts = ground_truth_pts*50.0+100\n",
        "        \n",
        "        # call show_all_keypoints\n",
        "        show_all_keypoints(np.squeeze(image), predicted_key_pts, ground_truth_pts)\n",
        "            \n",
        "        plt.axis('off')\n",
        "\n",
        "    plt.show()\n",
        "    \n",
        "# call it\n",
        "visualize_output(test_images, test_outputs, gt_pts)"
      ],
      "execution_count": 20,
      "outputs": [
        {
          "output_type": "display_data",
          "data": {
            "image/png": "[encoded data removed]",
            "text/plain": [
              "<Figure size 1440x720 with 1 Axes>"
            ]
          },
          "metadata": {
            "tags": []
          }
        },
        {
          "output_type": "display_data",
          "data": {
            "image/png": "[encoded data removed]",
            "text/plain": [
              "<Figure size 1440x720 with 1 Axes>"
            ]
          },
          "metadata": {
            "tags": []
          }
        },
        {
          "output_type": "display_data",
          "data": {
            "image/png": "[encoded data removed]",
            "text/plain": [
              "<Figure size 1440x720 with 1 Axes>"
            ]
          },
          "metadata": {
            "tags": []
          }
        },
        {
          "output_type": "display_data",
          "data": {
            "image/png": "[encoded data removed]",
            "text/plain": [
              "<Figure size 1440x720 with 1 Axes>"
            ]
          },
          "metadata": {
            "tags": []
          }
        },
        {
          "output_type": "display_data",
          "data": {
            "image/png": "[encoded data removed]",
            "text/plain": [
              "<Figure size 1440x720 with 1 Axes>"
            ]
          },
          "metadata": {
            "tags": []
          }
        },
        {
          "output_type": "display_data",
          "data": {
            "image/png": "[encoded data removed]",
            "text/plain": [
              "<Figure size 1440x720 with 1 Axes>"
            ]
          },
          "metadata": {
            "tags": []
          }
        },
        {
          "output_type": "display_data",
          "data": {
            "image/png": "[encoded data removed]",
            "text/plain": [
              "<Figure size 1440x720 with 1 Axes>"
            ]
          },
          "metadata": {
            "tags": []
          }
        },
        {
          "output_type": "display_data",
          "data": {
            "image/png": "[encoded data removed]",
            "text/plain": [
              "<Figure size 1440x720 with 1 Axes>"
            ]
          },
          "metadata": {
            "tags": []
          }
        },
        {
          "output_type": "display_data",
          "data": {
            "image/png": "[encoded data removed]",
            "text/plain": [
              "<Figure size 1440x720 with 1 Axes>"
            ]
          },
          "metadata": {
            "tags": []
          }
        },
        {
          "output_type": "display_data",
          "data": {
            "image/png": "[encoded data removed]",
            "text/plain": [
              "<Figure size 1440x720 with 1 Axes>"
            ]
          },
          "metadata": {
            "tags": []
          }
        }
      ]
    },
    {
      "cell_type": "code",
      "metadata": {
        "id": "Ew5TS0XzBJyE",
        "colab_type": "code",
        "colab": {
          "base_uri": "https://localhost:8080/",
          "height": 50
        },
        "outputId": "53303162-7f91-4467-f9bf-6c42a7d9d0e9"
      },
      "source": [
        "np_test_rst = test_outputs[0].data.numpy()\n",
        "print(np_test_rst.max())\n",
        "print(np_test_rst.min())"
      ],
      "execution_count": 21,
      "outputs": [
        {
          "output_type": "stream",
          "text": [
            "0.091393195\n",
            "-0.09660698\n"
          ],
          "name": "stdout"
        }
      ]
    },
    {
      "cell_type": "markdown",
      "metadata": {
        "id": "efZcAIPFBJyH",
        "colab_type": "text"
      },
      "source": [
        "## 4. Training\n",
        "\n",
        "#### Loss function\n",
        "Training a network to predict keypoints is different than training a network to predict a class; instead of outputting a distribution of classes and using cross entropy loss, you may want to choose a loss function that is suited for regression, which directly compares a predicted value and target value. Read about the various kinds of loss functions (like MSE or L1/SmoothL1 loss) in [this documentation](http://pytorch.org/docs/master/_modules/torch/nn/modules/loss.html).\n",
        "\n",
        "### TODO: Define the loss and optimization\n",
        "\n",
        "Next, you'll define how the model will train by deciding on the loss function and optimizer.\n",
        "\n",
        "---"
      ]
    },
    {
      "cell_type": "code",
      "metadata": {
        "id": "5pPTvZ8uBJyI",
        "colab_type": "code",
        "colab": {}
      },
      "source": [
        "## TODO: Define the loss and optimization\n",
        "import torch.optim as optim\n",
        "\n",
        "criterion = nn.MSELoss()\n",
        "\n",
        "optimizer = optim.Adam(params=net.parameters())\n"
      ],
      "execution_count": 0,
      "outputs": []
    },
    {
      "cell_type": "markdown",
      "metadata": {
        "id": "HQac6TF_BJyL",
        "colab_type": "text"
      },
      "source": [
        "## Training and Initial Observation\n",
        "\n",
        "Now, you'll train on your batched training data from `train_loader` for a number of epochs. \n",
        "\n",
        "To quickly observe how your model is training and decide on whether or not you should modify it's structure or hyperparameters, you're encouraged to start off with just one or two epochs at first. As you train, note how your the model's loss behaves over time: does it decrease quickly at first and then slow down? Does it take a while to decrease in the first place? What happens if you change the batch size of your training data or modify your loss function? etc. \n",
        "\n",
        "Use these initial observations to make changes to your model and decide on the best architecture before you train for many epochs and create a final model."
      ]
    },
    {
      "cell_type": "code",
      "metadata": {
        "id": "aRraukbrBJyO",
        "colab_type": "code",
        "colab": {}
      },
      "source": [
        "def train_net(n_epochs):\n",
        "\n",
        "    # prepare the net for training\n",
        "    net.train()\n",
        "    loss_list = []\n",
        "\n",
        "    for epoch in range(n_epochs):  # loop over the dataset multiple times\n",
        "        \n",
        "        running_loss = 0.0\n",
        "\n",
        "        # train on batches of data, assumes you already have train_loader\n",
        "        for batch_i, data in enumerate(train_loader):\n",
        "            # get the input images and their corresponding labels\n",
        "            images = data['image']\n",
        "            key_pts = data['keypoints']\n",
        "\n",
        "            # flatten pts\n",
        "            key_pts = key_pts.view(key_pts.size(0), -1)\n",
        "\n",
        "            # convert variables to floats for regression loss\n",
        "            key_pts = key_pts.type(torch.FloatTensor)\n",
        "            images = images.type(torch.FloatTensor)\n",
        "\n",
        "            # forward pass to get outputs\n",
        "            output_pts = net(images)\n",
        "\n",
        "            # calculate the loss between predicted and target keypoints\n",
        "            loss = criterion(output_pts, key_pts)\n",
        "\n",
        "            # zero the parameter (weight) gradients\n",
        "            optimizer.zero_grad()\n",
        "            \n",
        "            # backward pass to calculate the weight gradients\n",
        "            loss.backward()\n",
        "\n",
        "            # update the weights\n",
        "            optimizer.step()\n",
        "            \n",
        "            # print('Epoch: {}, Batch: {}, Avg. Loss: {}'.format(epoch + 1, batch_i+1, loss.item()/1000))\n",
        "\n",
        "            # print loss statistics\n",
        "            # to convert loss into a scalar and add it to the running_loss, use .item()\n",
        "            running_loss += loss.item()\n",
        "            \n",
        "            loss_list.append(loss.item())\n",
        "            # if len(loss_list) % 100 == 99: \n",
        "\n",
        "            if batch_i % 10 == 9:    # print every 10 batches\n",
        "                file_name = '/content/gdrive/My Drive/prj1_keypoints/train_loss_batch{}'.format(batch_size)\n",
        "                np.save(file_name, np.array(loss_list))\n",
        "                \n",
        "                print('Epoch: {}, Batch: {}, Avg. Loss: {}'.format(epoch + 1, batch_i+1, running_loss/1000))    \n",
        "                running_loss = 0.0\n",
        "            \n",
        "    return loss_list\n"
      ],
      "execution_count": 0,
      "outputs": []
    },
    {
      "cell_type": "code",
      "metadata": {
        "id": "DJIFUHt6BJyS",
        "colab_type": "code",
        "colab": {
          "base_uri": "https://localhost:8080/",
          "height": 1000
        },
        "outputId": "91ca9ce2-90d4-4f13-9d4f-85d15d7383f8"
      },
      "source": [
        "# train your network\n",
        "import datetime\n",
        "\n",
        "t1 = datetime.datetime.now()\n",
        "\n",
        "n_epochs = 100 # start small, and increase when you've decided on your model structure and hyperparams\n",
        "loss_list = train_net(n_epochs)\n",
        "\n",
        "t2 = datetime.datetime.now()\n",
        "print(\"Training time: {}s\".format(t2 - t1))"
      ],
      "execution_count": 19,
      "outputs": [
        {
          "output_type": "stream",
          "text": [
            "/content/gdrive/My Drive/prj1_keypoints/data_load.py:43: FutureWarning: Method .as_matrix will be removed in a future version. Use .values instead.\n",
            "  key_pts = self.key_pts_frame.iloc[idx, 1:].as_matrix()\n",
            "/content/gdrive/My Drive/prj1_keypoints/data_load.py:43: FutureWarning: Method .as_matrix will be removed in a future version. Use .values instead.\n",
            "  key_pts = self.key_pts_frame.iloc[idx, 1:].as_matrix()\n",
            "/content/gdrive/My Drive/prj1_keypoints/data_load.py:43: FutureWarning: Method .as_matrix will be removed in a future version. Use .values instead.\n",
            "  key_pts = self.key_pts_frame.iloc[idx, 1:].as_matrix()\n",
            "/content/gdrive/My Drive/prj1_keypoints/data_load.py:43: FutureWarning: Method .as_matrix will be removed in a future version. Use .values instead.\n",
            "  key_pts = self.key_pts_frame.iloc[idx, 1:].as_matrix()\n",
            "/usr/local/lib/python3.6/dist-packages/torch/nn/functional.py:1339: UserWarning: nn.functional.tanh is deprecated. Use torch.tanh instead.\n",
            "  warnings.warn(\"nn.functional.tanh is deprecated. Use torch.tanh instead.\")\n"
          ],
          "name": "stderr"
        },
        {
          "output_type": "stream",
          "text": [
            "Epoch: 1, Batch: 10, Avg. Loss: 0.004590869963169098\n",
            "Epoch: 1, Batch: 20, Avg. Loss: 0.0028139511942863464\n",
            "Epoch: 1, Batch: 30, Avg. Loss: 0.0024715936034917832\n",
            "Epoch: 1, Batch: 40, Avg. Loss: 0.0022347710132598875\n",
            "Epoch: 1, Batch: 50, Avg. Loss: 0.002655272588133812\n"
          ],
          "name": "stdout"
        },
        {
          "output_type": "stream",
          "text": [
            "/content/gdrive/My Drive/prj1_keypoints/data_load.py:43: FutureWarning: Method .as_matrix will be removed in a future version. Use .values instead.\n",
            "  key_pts = self.key_pts_frame.iloc[idx, 1:].as_matrix()\n",
            "/content/gdrive/My Drive/prj1_keypoints/data_load.py:43: FutureWarning: Method .as_matrix will be removed in a future version. Use .values instead.\n",
            "  key_pts = self.key_pts_frame.iloc[idx, 1:].as_matrix()\n",
            "/content/gdrive/My Drive/prj1_keypoints/data_load.py:43: FutureWarning: Method .as_matrix will be removed in a future version. Use .values instead.\n",
            "  key_pts = self.key_pts_frame.iloc[idx, 1:].as_matrix()\n",
            "/content/gdrive/My Drive/prj1_keypoints/data_load.py:43: FutureWarning: Method .as_matrix will be removed in a future version. Use .values instead.\n",
            "  key_pts = self.key_pts_frame.iloc[idx, 1:].as_matrix()\n"
          ],
          "name": "stderr"
        },
        {
          "output_type": "stream",
          "text": [
            "Epoch: 2, Batch: 10, Avg. Loss: 0.0022425135970115663\n",
            "Epoch: 2, Batch: 20, Avg. Loss: 0.002211567372083664\n",
            "Epoch: 2, Batch: 30, Avg. Loss: 0.0021077356636524202\n",
            "Epoch: 2, Batch: 40, Avg. Loss: 0.0021920055449008943\n",
            "Epoch: 2, Batch: 50, Avg. Loss: 0.00221382962167263\n"
          ],
          "name": "stdout"
        },
        {
          "output_type": "stream",
          "text": [
            "/content/gdrive/My Drive/prj1_keypoints/data_load.py:43: FutureWarning: Method .as_matrix will be removed in a future version. Use .values instead.\n",
            "  key_pts = self.key_pts_frame.iloc[idx, 1:].as_matrix()\n",
            "/content/gdrive/My Drive/prj1_keypoints/data_load.py:43: FutureWarning: Method .as_matrix will be removed in a future version. Use .values instead.\n",
            "  key_pts = self.key_pts_frame.iloc[idx, 1:].as_matrix()\n",
            "/content/gdrive/My Drive/prj1_keypoints/data_load.py:43: FutureWarning: Method .as_matrix will be removed in a future version. Use .values instead.\n",
            "  key_pts = self.key_pts_frame.iloc[idx, 1:].as_matrix()\n",
            "/content/gdrive/My Drive/prj1_keypoints/data_load.py:43: FutureWarning: Method .as_matrix will be removed in a future version. Use .values instead.\n",
            "  key_pts = self.key_pts_frame.iloc[idx, 1:].as_matrix()\n"
          ],
          "name": "stderr"
        },
        {
          "output_type": "stream",
          "text": [
            "Epoch: 3, Batch: 10, Avg. Loss: 0.0021350517868995666\n",
            "Epoch: 3, Batch: 20, Avg. Loss: 0.002119272693991661\n",
            "Epoch: 3, Batch: 30, Avg. Loss: 0.0019566361755132674\n",
            "Epoch: 3, Batch: 40, Avg. Loss: 0.0018910799920558929\n",
            "Epoch: 3, Batch: 50, Avg. Loss: 0.0022643425762653353\n"
          ],
          "name": "stdout"
        },
        {
          "output_type": "stream",
          "text": [
            "/content/gdrive/My Drive/prj1_keypoints/data_load.py:43: FutureWarning: Method .as_matrix will be removed in a future version. Use .values instead.\n",
            "  key_pts = self.key_pts_frame.iloc[idx, 1:].as_matrix()\n",
            "/content/gdrive/My Drive/prj1_keypoints/data_load.py:43: FutureWarning: Method .as_matrix will be removed in a future version. Use .values instead.\n",
            "  key_pts = self.key_pts_frame.iloc[idx, 1:].as_matrix()\n",
            "/content/gdrive/My Drive/prj1_keypoints/data_load.py:43: FutureWarning: Method .as_matrix will be removed in a future version. Use .values instead.\n",
            "  key_pts = self.key_pts_frame.iloc[idx, 1:].as_matrix()\n",
            "/content/gdrive/My Drive/prj1_keypoints/data_load.py:43: FutureWarning: Method .as_matrix will be removed in a future version. Use .values instead.\n",
            "  key_pts = self.key_pts_frame.iloc[idx, 1:].as_matrix()\n"
          ],
          "name": "stderr"
        },
        {
          "output_type": "stream",
          "text": [
            "Epoch: 4, Batch: 10, Avg. Loss: 0.00193428373336792\n",
            "Epoch: 4, Batch: 20, Avg. Loss: 0.001979287087917328\n",
            "Epoch: 4, Batch: 30, Avg. Loss: 0.002409580662846565\n",
            "Epoch: 4, Batch: 40, Avg. Loss: 0.0018926953077316284\n",
            "Epoch: 4, Batch: 50, Avg. Loss: 0.0020547112077474593\n"
          ],
          "name": "stdout"
        },
        {
          "output_type": "stream",
          "text": [
            "/content/gdrive/My Drive/prj1_keypoints/data_load.py:43: FutureWarning: Method .as_matrix will be removed in a future version. Use .values instead.\n",
            "  key_pts = self.key_pts_frame.iloc[idx, 1:].as_matrix()\n",
            "/content/gdrive/My Drive/prj1_keypoints/data_load.py:43: FutureWarning: Method .as_matrix will be removed in a future version. Use .values instead.\n",
            "  key_pts = self.key_pts_frame.iloc[idx, 1:].as_matrix()\n",
            "/content/gdrive/My Drive/prj1_keypoints/data_load.py:43: FutureWarning: Method .as_matrix will be removed in a future version. Use .values instead.\n",
            "  key_pts = self.key_pts_frame.iloc[idx, 1:].as_matrix()\n",
            "/content/gdrive/My Drive/prj1_keypoints/data_load.py:43: FutureWarning: Method .as_matrix will be removed in a future version. Use .values instead.\n",
            "  key_pts = self.key_pts_frame.iloc[idx, 1:].as_matrix()\n"
          ],
          "name": "stderr"
        },
        {
          "output_type": "stream",
          "text": [
            "Epoch: 5, Batch: 10, Avg. Loss: 0.002237252801656723\n",
            "Epoch: 5, Batch: 20, Avg. Loss: 0.0017543344497680665\n",
            "Epoch: 5, Batch: 30, Avg. Loss: 0.002129276752471924\n",
            "Epoch: 5, Batch: 40, Avg. Loss: 0.0017659535557031632\n",
            "Epoch: 5, Batch: 50, Avg. Loss: 0.0019156815856695175\n"
          ],
          "name": "stdout"
        },
        {
          "output_type": "stream",
          "text": [
            "/content/gdrive/My Drive/prj1_keypoints/data_load.py:43: FutureWarning: Method .as_matrix will be removed in a future version. Use .values instead.\n",
            "  key_pts = self.key_pts_frame.iloc[idx, 1:].as_matrix()\n",
            "/content/gdrive/My Drive/prj1_keypoints/data_load.py:43: FutureWarning: Method .as_matrix will be removed in a future version. Use .values instead.\n",
            "  key_pts = self.key_pts_frame.iloc[idx, 1:].as_matrix()\n",
            "/content/gdrive/My Drive/prj1_keypoints/data_load.py:43: FutureWarning: Method .as_matrix will be removed in a future version. Use .values instead.\n",
            "  key_pts = self.key_pts_frame.iloc[idx, 1:].as_matrix()\n",
            "/content/gdrive/My Drive/prj1_keypoints/data_load.py:43: FutureWarning: Method .as_matrix will be removed in a future version. Use .values instead.\n",
            "  key_pts = self.key_pts_frame.iloc[idx, 1:].as_matrix()\n"
          ],
          "name": "stderr"
        },
        {
          "output_type": "stream",
          "text": [
            "Epoch: 6, Batch: 10, Avg. Loss: 0.0018520251512527466\n",
            "Epoch: 6, Batch: 20, Avg. Loss: 0.001773100659251213\n",
            "Epoch: 6, Batch: 30, Avg. Loss: 0.002173321008682251\n",
            "Epoch: 6, Batch: 40, Avg. Loss: 0.0018829063028097152\n",
            "Epoch: 6, Batch: 50, Avg. Loss: 0.0019343021214008331\n"
          ],
          "name": "stdout"
        },
        {
          "output_type": "stream",
          "text": [
            "/content/gdrive/My Drive/prj1_keypoints/data_load.py:43: FutureWarning: Method .as_matrix will be removed in a future version. Use .values instead.\n",
            "  key_pts = self.key_pts_frame.iloc[idx, 1:].as_matrix()\n",
            "/content/gdrive/My Drive/prj1_keypoints/data_load.py:43: FutureWarning: Method .as_matrix will be removed in a future version. Use .values instead.\n",
            "  key_pts = self.key_pts_frame.iloc[idx, 1:].as_matrix()\n",
            "/content/gdrive/My Drive/prj1_keypoints/data_load.py:43: FutureWarning: Method .as_matrix will be removed in a future version. Use .values instead.\n",
            "  key_pts = self.key_pts_frame.iloc[idx, 1:].as_matrix()\n",
            "/content/gdrive/My Drive/prj1_keypoints/data_load.py:43: FutureWarning: Method .as_matrix will be removed in a future version. Use .values instead.\n",
            "  key_pts = self.key_pts_frame.iloc[idx, 1:].as_matrix()\n"
          ],
          "name": "stderr"
        },
        {
          "output_type": "stream",
          "text": [
            "Epoch: 7, Batch: 10, Avg. Loss: 0.0020593068152666093\n",
            "Epoch: 7, Batch: 20, Avg. Loss: 0.0017838528156280517\n",
            "Epoch: 7, Batch: 30, Avg. Loss: 0.0016533144265413284\n",
            "Epoch: 7, Batch: 40, Avg. Loss: 0.0017239825576543808\n",
            "Epoch: 7, Batch: 50, Avg. Loss: 0.001850571945309639\n"
          ],
          "name": "stdout"
        },
        {
          "output_type": "stream",
          "text": [
            "/content/gdrive/My Drive/prj1_keypoints/data_load.py:43: FutureWarning: Method .as_matrix will be removed in a future version. Use .values instead.\n",
            "  key_pts = self.key_pts_frame.iloc[idx, 1:].as_matrix()\n",
            "/content/gdrive/My Drive/prj1_keypoints/data_load.py:43: FutureWarning: Method .as_matrix will be removed in a future version. Use .values instead.\n",
            "  key_pts = self.key_pts_frame.iloc[idx, 1:].as_matrix()\n",
            "/content/gdrive/My Drive/prj1_keypoints/data_load.py:43: FutureWarning: Method .as_matrix will be removed in a future version. Use .values instead.\n",
            "  key_pts = self.key_pts_frame.iloc[idx, 1:].as_matrix()\n",
            "/content/gdrive/My Drive/prj1_keypoints/data_load.py:43: FutureWarning: Method .as_matrix will be removed in a future version. Use .values instead.\n",
            "  key_pts = self.key_pts_frame.iloc[idx, 1:].as_matrix()\n"
          ],
          "name": "stderr"
        },
        {
          "output_type": "stream",
          "text": [
            "Epoch: 8, Batch: 10, Avg. Loss: 0.0017438137233257293\n",
            "Epoch: 8, Batch: 20, Avg. Loss: 0.0016512012183666229\n",
            "Epoch: 8, Batch: 30, Avg. Loss: 0.002184051737189293\n",
            "Epoch: 8, Batch: 40, Avg. Loss: 0.0018772957921028136\n",
            "Epoch: 8, Batch: 50, Avg. Loss: 0.0016818139851093293\n"
          ],
          "name": "stdout"
        },
        {
          "output_type": "stream",
          "text": [
            "/content/gdrive/My Drive/prj1_keypoints/data_load.py:43: FutureWarning: Method .as_matrix will be removed in a future version. Use .values instead.\n",
            "  key_pts = self.key_pts_frame.iloc[idx, 1:].as_matrix()\n",
            "/content/gdrive/My Drive/prj1_keypoints/data_load.py:43: FutureWarning: Method .as_matrix will be removed in a future version. Use .values instead.\n",
            "  key_pts = self.key_pts_frame.iloc[idx, 1:].as_matrix()\n",
            "/content/gdrive/My Drive/prj1_keypoints/data_load.py:43: FutureWarning: Method .as_matrix will be removed in a future version. Use .values instead.\n",
            "  key_pts = self.key_pts_frame.iloc[idx, 1:].as_matrix()\n",
            "/content/gdrive/My Drive/prj1_keypoints/data_load.py:43: FutureWarning: Method .as_matrix will be removed in a future version. Use .values instead.\n",
            "  key_pts = self.key_pts_frame.iloc[idx, 1:].as_matrix()\n"
          ],
          "name": "stderr"
        },
        {
          "output_type": "stream",
          "text": [
            "Epoch: 9, Batch: 10, Avg. Loss: 0.001599570244550705\n",
            "Epoch: 9, Batch: 20, Avg. Loss: 0.0016915708631277085\n",
            "Epoch: 9, Batch: 30, Avg. Loss: 0.0018120585530996324\n",
            "Epoch: 9, Batch: 40, Avg. Loss: 0.0017368946224451064\n",
            "Epoch: 9, Batch: 50, Avg. Loss: 0.0015104755982756615\n"
          ],
          "name": "stdout"
        },
        {
          "output_type": "stream",
          "text": [
            "/content/gdrive/My Drive/prj1_keypoints/data_load.py:43: FutureWarning: Method .as_matrix will be removed in a future version. Use .values instead.\n",
            "  key_pts = self.key_pts_frame.iloc[idx, 1:].as_matrix()\n",
            "/content/gdrive/My Drive/prj1_keypoints/data_load.py:43: FutureWarning: Method .as_matrix will be removed in a future version. Use .values instead.\n",
            "  key_pts = self.key_pts_frame.iloc[idx, 1:].as_matrix()\n",
            "/content/gdrive/My Drive/prj1_keypoints/data_load.py:43: FutureWarning: Method .as_matrix will be removed in a future version. Use .values instead.\n",
            "  key_pts = self.key_pts_frame.iloc[idx, 1:].as_matrix()\n",
            "/content/gdrive/My Drive/prj1_keypoints/data_load.py:43: FutureWarning: Method .as_matrix will be removed in a future version. Use .values instead.\n",
            "  key_pts = self.key_pts_frame.iloc[idx, 1:].as_matrix()\n"
          ],
          "name": "stderr"
        },
        {
          "output_type": "stream",
          "text": [
            "Epoch: 10, Batch: 10, Avg. Loss: 0.0017127449065446854\n",
            "Epoch: 10, Batch: 20, Avg. Loss: 0.0018623326569795608\n",
            "Epoch: 10, Batch: 30, Avg. Loss: 0.0016719472408294677\n",
            "Epoch: 10, Batch: 40, Avg. Loss: 0.0015555278807878495\n",
            "Epoch: 10, Batch: 50, Avg. Loss: 0.0016198855489492417\n"
          ],
          "name": "stdout"
        },
        {
          "output_type": "stream",
          "text": [
            "/content/gdrive/My Drive/prj1_keypoints/data_load.py:43: FutureWarning: Method .as_matrix will be removed in a future version. Use .values instead.\n",
            "  key_pts = self.key_pts_frame.iloc[idx, 1:].as_matrix()\n",
            "/content/gdrive/My Drive/prj1_keypoints/data_load.py:43: FutureWarning: Method .as_matrix will be removed in a future version. Use .values instead.\n",
            "  key_pts = self.key_pts_frame.iloc[idx, 1:].as_matrix()\n",
            "/content/gdrive/My Drive/prj1_keypoints/data_load.py:43: FutureWarning: Method .as_matrix will be removed in a future version. Use .values instead.\n",
            "  key_pts = self.key_pts_frame.iloc[idx, 1:].as_matrix()\n",
            "/content/gdrive/My Drive/prj1_keypoints/data_load.py:43: FutureWarning: Method .as_matrix will be removed in a future version. Use .values instead.\n",
            "  key_pts = self.key_pts_frame.iloc[idx, 1:].as_matrix()\n"
          ],
          "name": "stderr"
        },
        {
          "output_type": "stream",
          "text": [
            "Epoch: 11, Batch: 10, Avg. Loss: 0.0015615634694695472\n",
            "Epoch: 11, Batch: 20, Avg. Loss: 0.0016652704179286957\n",
            "Epoch: 11, Batch: 30, Avg. Loss: 0.0015619402676820755\n",
            "Epoch: 11, Batch: 40, Avg. Loss: 0.001505029983818531\n",
            "Epoch: 11, Batch: 50, Avg. Loss: 0.001618032231926918\n"
          ],
          "name": "stdout"
        },
        {
          "output_type": "stream",
          "text": [
            "/content/gdrive/My Drive/prj1_keypoints/data_load.py:43: FutureWarning: Method .as_matrix will be removed in a future version. Use .values instead.\n",
            "  key_pts = self.key_pts_frame.iloc[idx, 1:].as_matrix()\n",
            "/content/gdrive/My Drive/prj1_keypoints/data_load.py:43: FutureWarning: Method .as_matrix will be removed in a future version. Use .values instead.\n",
            "  key_pts = self.key_pts_frame.iloc[idx, 1:].as_matrix()\n",
            "/content/gdrive/My Drive/prj1_keypoints/data_load.py:43: FutureWarning: Method .as_matrix will be removed in a future version. Use .values instead.\n",
            "  key_pts = self.key_pts_frame.iloc[idx, 1:].as_matrix()\n",
            "/content/gdrive/My Drive/prj1_keypoints/data_load.py:43: FutureWarning: Method .as_matrix will be removed in a future version. Use .values instead.\n",
            "  key_pts = self.key_pts_frame.iloc[idx, 1:].as_matrix()\n"
          ],
          "name": "stderr"
        },
        {
          "output_type": "stream",
          "text": [
            "Epoch: 12, Batch: 10, Avg. Loss: 0.0014017077460885049\n",
            "Epoch: 12, Batch: 20, Avg. Loss: 0.0014202621430158616\n",
            "Epoch: 12, Batch: 30, Avg. Loss: 0.001623815856873989\n",
            "Epoch: 12, Batch: 40, Avg. Loss: 0.0014081037640571595\n",
            "Epoch: 12, Batch: 50, Avg. Loss: 0.0013411917611956597\n"
          ],
          "name": "stdout"
        },
        {
          "output_type": "stream",
          "text": [
            "/content/gdrive/My Drive/prj1_keypoints/data_load.py:43: FutureWarning: Method .as_matrix will be removed in a future version. Use .values instead.\n",
            "  key_pts = self.key_pts_frame.iloc[idx, 1:].as_matrix()\n",
            "/content/gdrive/My Drive/prj1_keypoints/data_load.py:43: FutureWarning: Method .as_matrix will be removed in a future version. Use .values instead.\n",
            "  key_pts = self.key_pts_frame.iloc[idx, 1:].as_matrix()\n",
            "/content/gdrive/My Drive/prj1_keypoints/data_load.py:43: FutureWarning: Method .as_matrix will be removed in a future version. Use .values instead.\n",
            "  key_pts = self.key_pts_frame.iloc[idx, 1:].as_matrix()\n",
            "/content/gdrive/My Drive/prj1_keypoints/data_load.py:43: FutureWarning: Method .as_matrix will be removed in a future version. Use .values instead.\n",
            "  key_pts = self.key_pts_frame.iloc[idx, 1:].as_matrix()\n"
          ],
          "name": "stderr"
        },
        {
          "output_type": "stream",
          "text": [
            "Epoch: 13, Batch: 10, Avg. Loss: 0.001342007227241993\n",
            "Epoch: 13, Batch: 20, Avg. Loss: 0.0013116026371717453\n",
            "Epoch: 13, Batch: 30, Avg. Loss: 0.0014008068442344665\n",
            "Epoch: 13, Batch: 40, Avg. Loss: 0.0013578744530677795\n",
            "Epoch: 13, Batch: 50, Avg. Loss: 0.0013899902626872062\n"
          ],
          "name": "stdout"
        },
        {
          "output_type": "stream",
          "text": [
            "/content/gdrive/My Drive/prj1_keypoints/data_load.py:43: FutureWarning: Method .as_matrix will be removed in a future version. Use .values instead.\n",
            "  key_pts = self.key_pts_frame.iloc[idx, 1:].as_matrix()\n",
            "/content/gdrive/My Drive/prj1_keypoints/data_load.py:43: FutureWarning: Method .as_matrix will be removed in a future version. Use .values instead.\n",
            "  key_pts = self.key_pts_frame.iloc[idx, 1:].as_matrix()\n",
            "/content/gdrive/My Drive/prj1_keypoints/data_load.py:43: FutureWarning: Method .as_matrix will be removed in a future version. Use .values instead.\n",
            "  key_pts = self.key_pts_frame.iloc[idx, 1:].as_matrix()\n",
            "/content/gdrive/My Drive/prj1_keypoints/data_load.py:43: FutureWarning: Method .as_matrix will be removed in a future version. Use .values instead.\n",
            "  key_pts = self.key_pts_frame.iloc[idx, 1:].as_matrix()\n"
          ],
          "name": "stderr"
        },
        {
          "output_type": "stream",
          "text": [
            "Epoch: 14, Batch: 10, Avg. Loss: 0.001558767296373844\n",
            "Epoch: 14, Batch: 20, Avg. Loss: 0.0015517960339784622\n",
            "Epoch: 14, Batch: 30, Avg. Loss: 0.0014954031705856324\n",
            "Epoch: 14, Batch: 40, Avg. Loss: 0.0013856057450175286\n",
            "Epoch: 14, Batch: 50, Avg. Loss: 0.0012855309918522835\n"
          ],
          "name": "stdout"
        },
        {
          "output_type": "stream",
          "text": [
            "/content/gdrive/My Drive/prj1_keypoints/data_load.py:43: FutureWarning: Method .as_matrix will be removed in a future version. Use .values instead.\n",
            "  key_pts = self.key_pts_frame.iloc[idx, 1:].as_matrix()\n",
            "/content/gdrive/My Drive/prj1_keypoints/data_load.py:43: FutureWarning: Method .as_matrix will be removed in a future version. Use .values instead.\n",
            "  key_pts = self.key_pts_frame.iloc[idx, 1:].as_matrix()\n",
            "/content/gdrive/My Drive/prj1_keypoints/data_load.py:43: FutureWarning: Method .as_matrix will be removed in a future version. Use .values instead.\n",
            "  key_pts = self.key_pts_frame.iloc[idx, 1:].as_matrix()\n",
            "/content/gdrive/My Drive/prj1_keypoints/data_load.py:43: FutureWarning: Method .as_matrix will be removed in a future version. Use .values instead.\n",
            "  key_pts = self.key_pts_frame.iloc[idx, 1:].as_matrix()\n"
          ],
          "name": "stderr"
        },
        {
          "output_type": "stream",
          "text": [
            "Epoch: 15, Batch: 10, Avg. Loss: 0.0012558952942490578\n",
            "Epoch: 15, Batch: 20, Avg. Loss: 0.0011269114837050439\n",
            "Epoch: 15, Batch: 30, Avg. Loss: 0.001184729591012001\n",
            "Epoch: 15, Batch: 40, Avg. Loss: 0.001554018832743168\n",
            "Epoch: 15, Batch: 50, Avg. Loss: 0.0011637288630008697\n"
          ],
          "name": "stdout"
        },
        {
          "output_type": "stream",
          "text": [
            "/content/gdrive/My Drive/prj1_keypoints/data_load.py:43: FutureWarning: Method .as_matrix will be removed in a future version. Use .values instead.\n",
            "  key_pts = self.key_pts_frame.iloc[idx, 1:].as_matrix()\n",
            "/content/gdrive/My Drive/prj1_keypoints/data_load.py:43: FutureWarning: Method .as_matrix will be removed in a future version. Use .values instead.\n",
            "  key_pts = self.key_pts_frame.iloc[idx, 1:].as_matrix()\n",
            "/content/gdrive/My Drive/prj1_keypoints/data_load.py:43: FutureWarning: Method .as_matrix will be removed in a future version. Use .values instead.\n",
            "  key_pts = self.key_pts_frame.iloc[idx, 1:].as_matrix()\n",
            "/content/gdrive/My Drive/prj1_keypoints/data_load.py:43: FutureWarning: Method .as_matrix will be removed in a future version. Use .values instead.\n",
            "  key_pts = self.key_pts_frame.iloc[idx, 1:].as_matrix()\n"
          ],
          "name": "stderr"
        },
        {
          "output_type": "stream",
          "text": [
            "Epoch: 16, Batch: 10, Avg. Loss: 0.0013238822370767592\n",
            "Epoch: 16, Batch: 20, Avg. Loss: 0.00114104026556015\n",
            "Epoch: 16, Batch: 30, Avg. Loss: 0.0013153271526098252\n",
            "Epoch: 16, Batch: 40, Avg. Loss: 0.0012665001228451729\n",
            "Epoch: 16, Batch: 50, Avg. Loss: 0.0010652592182159423\n"
          ],
          "name": "stdout"
        },
        {
          "output_type": "stream",
          "text": [
            "/content/gdrive/My Drive/prj1_keypoints/data_load.py:43: FutureWarning: Method .as_matrix will be removed in a future version. Use .values instead.\n",
            "  key_pts = self.key_pts_frame.iloc[idx, 1:].as_matrix()\n",
            "/content/gdrive/My Drive/prj1_keypoints/data_load.py:43: FutureWarning: Method .as_matrix will be removed in a future version. Use .values instead.\n",
            "  key_pts = self.key_pts_frame.iloc[idx, 1:].as_matrix()\n",
            "/content/gdrive/My Drive/prj1_keypoints/data_load.py:43: FutureWarning: Method .as_matrix will be removed in a future version. Use .values instead.\n",
            "  key_pts = self.key_pts_frame.iloc[idx, 1:].as_matrix()\n",
            "/content/gdrive/My Drive/prj1_keypoints/data_load.py:43: FutureWarning: Method .as_matrix will be removed in a future version. Use .values instead.\n",
            "  key_pts = self.key_pts_frame.iloc[idx, 1:].as_matrix()\n"
          ],
          "name": "stderr"
        },
        {
          "output_type": "stream",
          "text": [
            "Epoch: 17, Batch: 10, Avg. Loss: 0.0012159297317266464\n",
            "Epoch: 17, Batch: 20, Avg. Loss: 0.0011697910726070405\n",
            "Epoch: 17, Batch: 30, Avg. Loss: 0.0011212414354085922\n",
            "Epoch: 17, Batch: 40, Avg. Loss: 0.0011978552639484406\n",
            "Epoch: 17, Batch: 50, Avg. Loss: 0.0012661257162690162\n"
          ],
          "name": "stdout"
        },
        {
          "output_type": "stream",
          "text": [
            "/content/gdrive/My Drive/prj1_keypoints/data_load.py:43: FutureWarning: Method .as_matrix will be removed in a future version. Use .values instead.\n",
            "  key_pts = self.key_pts_frame.iloc[idx, 1:].as_matrix()\n",
            "/content/gdrive/My Drive/prj1_keypoints/data_load.py:43: FutureWarning: Method .as_matrix will be removed in a future version. Use .values instead.\n",
            "  key_pts = self.key_pts_frame.iloc[idx, 1:].as_matrix()\n",
            "/content/gdrive/My Drive/prj1_keypoints/data_load.py:43: FutureWarning: Method .as_matrix will be removed in a future version. Use .values instead.\n",
            "  key_pts = self.key_pts_frame.iloc[idx, 1:].as_matrix()\n",
            "/content/gdrive/My Drive/prj1_keypoints/data_load.py:43: FutureWarning: Method .as_matrix will be removed in a future version. Use .values instead.\n",
            "  key_pts = self.key_pts_frame.iloc[idx, 1:].as_matrix()\n"
          ],
          "name": "stderr"
        },
        {
          "output_type": "stream",
          "text": [
            "Epoch: 18, Batch: 10, Avg. Loss: 0.0010659789443016052\n",
            "Epoch: 18, Batch: 20, Avg. Loss: 0.001249525561928749\n",
            "Epoch: 18, Batch: 30, Avg. Loss: 0.001223669208586216\n",
            "Epoch: 18, Batch: 40, Avg. Loss: 0.0010392446219921112\n",
            "Epoch: 18, Batch: 50, Avg. Loss: 0.0010523486435413361\n"
          ],
          "name": "stdout"
        },
        {
          "output_type": "stream",
          "text": [
            "/content/gdrive/My Drive/prj1_keypoints/data_load.py:43: FutureWarning: Method .as_matrix will be removed in a future version. Use .values instead.\n",
            "  key_pts = self.key_pts_frame.iloc[idx, 1:].as_matrix()\n",
            "/content/gdrive/My Drive/prj1_keypoints/data_load.py:43: FutureWarning: Method .as_matrix will be removed in a future version. Use .values instead.\n",
            "  key_pts = self.key_pts_frame.iloc[idx, 1:].as_matrix()\n",
            "/content/gdrive/My Drive/prj1_keypoints/data_load.py:43: FutureWarning: Method .as_matrix will be removed in a future version. Use .values instead.\n",
            "  key_pts = self.key_pts_frame.iloc[idx, 1:].as_matrix()\n",
            "/content/gdrive/My Drive/prj1_keypoints/data_load.py:43: FutureWarning: Method .as_matrix will be removed in a future version. Use .values instead.\n",
            "  key_pts = self.key_pts_frame.iloc[idx, 1:].as_matrix()\n"
          ],
          "name": "stderr"
        },
        {
          "output_type": "stream",
          "text": [
            "Epoch: 19, Batch: 10, Avg. Loss: 0.0010804156959056854\n",
            "Epoch: 19, Batch: 20, Avg. Loss: 0.0012734319195151329\n",
            "Epoch: 19, Batch: 30, Avg. Loss: 0.0011179285794496536\n",
            "Epoch: 19, Batch: 40, Avg. Loss: 0.0010186198204755782\n",
            "Epoch: 19, Batch: 50, Avg. Loss: 0.0012720612436532975\n"
          ],
          "name": "stdout"
        },
        {
          "output_type": "stream",
          "text": [
            "/content/gdrive/My Drive/prj1_keypoints/data_load.py:43: FutureWarning: Method .as_matrix will be removed in a future version. Use .values instead.\n",
            "  key_pts = self.key_pts_frame.iloc[idx, 1:].as_matrix()\n",
            "/content/gdrive/My Drive/prj1_keypoints/data_load.py:43: FutureWarning: Method .as_matrix will be removed in a future version. Use .values instead.\n",
            "  key_pts = self.key_pts_frame.iloc[idx, 1:].as_matrix()\n",
            "/content/gdrive/My Drive/prj1_keypoints/data_load.py:43: FutureWarning: Method .as_matrix will be removed in a future version. Use .values instead.\n",
            "  key_pts = self.key_pts_frame.iloc[idx, 1:].as_matrix()\n",
            "/content/gdrive/My Drive/prj1_keypoints/data_load.py:43: FutureWarning: Method .as_matrix will be removed in a future version. Use .values instead.\n",
            "  key_pts = self.key_pts_frame.iloc[idx, 1:].as_matrix()\n"
          ],
          "name": "stderr"
        },
        {
          "output_type": "stream",
          "text": [
            "Epoch: 20, Batch: 10, Avg. Loss: 0.0010010800212621688\n",
            "Epoch: 20, Batch: 20, Avg. Loss: 0.0011697636619210244\n",
            "Epoch: 20, Batch: 30, Avg. Loss: 0.0011061536446213723\n",
            "Epoch: 20, Batch: 40, Avg. Loss: 0.001025636613368988\n",
            "Epoch: 20, Batch: 50, Avg. Loss: 0.0010494011789560318\n"
          ],
          "name": "stdout"
        },
        {
          "output_type": "stream",
          "text": [
            "/content/gdrive/My Drive/prj1_keypoints/data_load.py:43: FutureWarning: Method .as_matrix will be removed in a future version. Use .values instead.\n",
            "  key_pts = self.key_pts_frame.iloc[idx, 1:].as_matrix()\n",
            "/content/gdrive/My Drive/prj1_keypoints/data_load.py:43: FutureWarning: Method .as_matrix will be removed in a future version. Use .values instead.\n",
            "  key_pts = self.key_pts_frame.iloc[idx, 1:].as_matrix()\n",
            "/content/gdrive/My Drive/prj1_keypoints/data_load.py:43: FutureWarning: Method .as_matrix will be removed in a future version. Use .values instead.\n",
            "  key_pts = self.key_pts_frame.iloc[idx, 1:].as_matrix()\n",
            "/content/gdrive/My Drive/prj1_keypoints/data_load.py:43: FutureWarning: Method .as_matrix will be removed in a future version. Use .values instead.\n",
            "  key_pts = self.key_pts_frame.iloc[idx, 1:].as_matrix()\n"
          ],
          "name": "stderr"
        },
        {
          "output_type": "stream",
          "text": [
            "Epoch: 21, Batch: 10, Avg. Loss: 0.0013485191017389298\n",
            "Epoch: 21, Batch: 20, Avg. Loss: 0.0013047120422124863\n",
            "Epoch: 21, Batch: 30, Avg. Loss: 0.0011174567118287086\n",
            "Epoch: 21, Batch: 40, Avg. Loss: 0.0013023130595684052\n",
            "Epoch: 21, Batch: 50, Avg. Loss: 0.0009746227115392684\n"
          ],
          "name": "stdout"
        },
        {
          "output_type": "stream",
          "text": [
            "/content/gdrive/My Drive/prj1_keypoints/data_load.py:43: FutureWarning: Method .as_matrix will be removed in a future version. Use .values instead.\n",
            "  key_pts = self.key_pts_frame.iloc[idx, 1:].as_matrix()\n",
            "/content/gdrive/My Drive/prj1_keypoints/data_load.py:43: FutureWarning: Method .as_matrix will be removed in a future version. Use .values instead.\n",
            "  key_pts = self.key_pts_frame.iloc[idx, 1:].as_matrix()\n",
            "/content/gdrive/My Drive/prj1_keypoints/data_load.py:43: FutureWarning: Method .as_matrix will be removed in a future version. Use .values instead.\n",
            "  key_pts = self.key_pts_frame.iloc[idx, 1:].as_matrix()\n",
            "/content/gdrive/My Drive/prj1_keypoints/data_load.py:43: FutureWarning: Method .as_matrix will be removed in a future version. Use .values instead.\n",
            "  key_pts = self.key_pts_frame.iloc[idx, 1:].as_matrix()\n"
          ],
          "name": "stderr"
        },
        {
          "output_type": "stream",
          "text": [
            "Epoch: 22, Batch: 10, Avg. Loss: 0.0010529301762580872\n",
            "Epoch: 22, Batch: 20, Avg. Loss: 0.0011158302947878837\n",
            "Epoch: 22, Batch: 30, Avg. Loss: 0.001012745551764965\n",
            "Epoch: 22, Batch: 40, Avg. Loss: 0.0011142250224947929\n",
            "Epoch: 22, Batch: 50, Avg. Loss: 0.0011311131790280341\n"
          ],
          "name": "stdout"
        },
        {
          "output_type": "stream",
          "text": [
            "/content/gdrive/My Drive/prj1_keypoints/data_load.py:43: FutureWarning: Method .as_matrix will be removed in a future version. Use .values instead.\n",
            "  key_pts = self.key_pts_frame.iloc[idx, 1:].as_matrix()\n",
            "/content/gdrive/My Drive/prj1_keypoints/data_load.py:43: FutureWarning: Method .as_matrix will be removed in a future version. Use .values instead.\n",
            "  key_pts = self.key_pts_frame.iloc[idx, 1:].as_matrix()\n",
            "/content/gdrive/My Drive/prj1_keypoints/data_load.py:43: FutureWarning: Method .as_matrix will be removed in a future version. Use .values instead.\n",
            "  key_pts = self.key_pts_frame.iloc[idx, 1:].as_matrix()\n",
            "/content/gdrive/My Drive/prj1_keypoints/data_load.py:43: FutureWarning: Method .as_matrix will be removed in a future version. Use .values instead.\n",
            "  key_pts = self.key_pts_frame.iloc[idx, 1:].as_matrix()\n"
          ],
          "name": "stderr"
        },
        {
          "output_type": "stream",
          "text": [
            "Epoch: 23, Batch: 10, Avg. Loss: 0.0009430705457925796\n",
            "Epoch: 23, Batch: 20, Avg. Loss: 0.0013474225327372552\n",
            "Epoch: 23, Batch: 30, Avg. Loss: 0.0011004901230335237\n",
            "Epoch: 23, Batch: 40, Avg. Loss: 0.001269716553390026\n",
            "Epoch: 23, Batch: 50, Avg. Loss: 0.0010144802778959275\n"
          ],
          "name": "stdout"
        },
        {
          "output_type": "stream",
          "text": [
            "/content/gdrive/My Drive/prj1_keypoints/data_load.py:43: FutureWarning: Method .as_matrix will be removed in a future version. Use .values instead.\n",
            "  key_pts = self.key_pts_frame.iloc[idx, 1:].as_matrix()\n",
            "/content/gdrive/My Drive/prj1_keypoints/data_load.py:43: FutureWarning: Method .as_matrix will be removed in a future version. Use .values instead.\n",
            "  key_pts = self.key_pts_frame.iloc[idx, 1:].as_matrix()\n",
            "/content/gdrive/My Drive/prj1_keypoints/data_load.py:43: FutureWarning: Method .as_matrix will be removed in a future version. Use .values instead.\n",
            "  key_pts = self.key_pts_frame.iloc[idx, 1:].as_matrix()\n",
            "/content/gdrive/My Drive/prj1_keypoints/data_load.py:43: FutureWarning: Method .as_matrix will be removed in a future version. Use .values instead.\n",
            "  key_pts = self.key_pts_frame.iloc[idx, 1:].as_matrix()\n"
          ],
          "name": "stderr"
        },
        {
          "output_type": "stream",
          "text": [
            "Epoch: 24, Batch: 10, Avg. Loss: 0.0009886251538991928\n",
            "Epoch: 24, Batch: 20, Avg. Loss: 0.0011447481960058213\n",
            "Epoch: 24, Batch: 30, Avg. Loss: 0.0009385306164622307\n",
            "Epoch: 24, Batch: 40, Avg. Loss: 0.0011109588220715523\n",
            "Epoch: 24, Batch: 50, Avg. Loss: 0.0011915332153439521\n"
          ],
          "name": "stdout"
        },
        {
          "output_type": "stream",
          "text": [
            "/content/gdrive/My Drive/prj1_keypoints/data_load.py:43: FutureWarning: Method .as_matrix will be removed in a future version. Use .values instead.\n",
            "  key_pts = self.key_pts_frame.iloc[idx, 1:].as_matrix()\n",
            "/content/gdrive/My Drive/prj1_keypoints/data_load.py:43: FutureWarning: Method .as_matrix will be removed in a future version. Use .values instead.\n",
            "  key_pts = self.key_pts_frame.iloc[idx, 1:].as_matrix()\n",
            "/content/gdrive/My Drive/prj1_keypoints/data_load.py:43: FutureWarning: Method .as_matrix will be removed in a future version. Use .values instead.\n",
            "  key_pts = self.key_pts_frame.iloc[idx, 1:].as_matrix()\n",
            "/content/gdrive/My Drive/prj1_keypoints/data_load.py:43: FutureWarning: Method .as_matrix will be removed in a future version. Use .values instead.\n",
            "  key_pts = self.key_pts_frame.iloc[idx, 1:].as_matrix()\n"
          ],
          "name": "stderr"
        },
        {
          "output_type": "stream",
          "text": [
            "Epoch: 25, Batch: 10, Avg. Loss: 0.0010945839509367943\n",
            "Epoch: 25, Batch: 20, Avg. Loss: 0.0012926744073629378\n",
            "Epoch: 25, Batch: 30, Avg. Loss: 0.0010534261092543602\n",
            "Epoch: 25, Batch: 40, Avg. Loss: 0.0009353694021701813\n",
            "Epoch: 25, Batch: 50, Avg. Loss: 0.0011038259118795394\n"
          ],
          "name": "stdout"
        },
        {
          "output_type": "stream",
          "text": [
            "/content/gdrive/My Drive/prj1_keypoints/data_load.py:43: FutureWarning: Method .as_matrix will be removed in a future version. Use .values instead.\n",
            "  key_pts = self.key_pts_frame.iloc[idx, 1:].as_matrix()\n",
            "/content/gdrive/My Drive/prj1_keypoints/data_load.py:43: FutureWarning: Method .as_matrix will be removed in a future version. Use .values instead.\n",
            "  key_pts = self.key_pts_frame.iloc[idx, 1:].as_matrix()\n",
            "/content/gdrive/My Drive/prj1_keypoints/data_load.py:43: FutureWarning: Method .as_matrix will be removed in a future version. Use .values instead.\n",
            "  key_pts = self.key_pts_frame.iloc[idx, 1:].as_matrix()\n",
            "/content/gdrive/My Drive/prj1_keypoints/data_load.py:43: FutureWarning: Method .as_matrix will be removed in a future version. Use .values instead.\n",
            "  key_pts = self.key_pts_frame.iloc[idx, 1:].as_matrix()\n"
          ],
          "name": "stderr"
        },
        {
          "output_type": "stream",
          "text": [
            "Epoch: 26, Batch: 10, Avg. Loss: 0.0009397503435611725\n",
            "Epoch: 26, Batch: 20, Avg. Loss: 0.0010305425748229028\n",
            "Epoch: 26, Batch: 30, Avg. Loss: 0.0010738942623138427\n",
            "Epoch: 26, Batch: 40, Avg. Loss: 0.0009803561121225358\n",
            "Epoch: 26, Batch: 50, Avg. Loss: 0.001239050917327404\n"
          ],
          "name": "stdout"
        },
        {
          "output_type": "stream",
          "text": [
            "/content/gdrive/My Drive/prj1_keypoints/data_load.py:43: FutureWarning: Method .as_matrix will be removed in a future version. Use .values instead.\n",
            "  key_pts = self.key_pts_frame.iloc[idx, 1:].as_matrix()\n",
            "/content/gdrive/My Drive/prj1_keypoints/data_load.py:43: FutureWarning: Method .as_matrix will be removed in a future version. Use .values instead.\n",
            "  key_pts = self.key_pts_frame.iloc[idx, 1:].as_matrix()\n",
            "/content/gdrive/My Drive/prj1_keypoints/data_load.py:43: FutureWarning: Method .as_matrix will be removed in a future version. Use .values instead.\n",
            "  key_pts = self.key_pts_frame.iloc[idx, 1:].as_matrix()\n",
            "/content/gdrive/My Drive/prj1_keypoints/data_load.py:43: FutureWarning: Method .as_matrix will be removed in a future version. Use .values instead.\n",
            "  key_pts = self.key_pts_frame.iloc[idx, 1:].as_matrix()\n"
          ],
          "name": "stderr"
        },
        {
          "output_type": "stream",
          "text": [
            "Epoch: 27, Batch: 10, Avg. Loss: 0.0009110470414161682\n",
            "Epoch: 27, Batch: 20, Avg. Loss: 0.0010377046391367912\n",
            "Epoch: 27, Batch: 30, Avg. Loss: 0.0011324091851711274\n",
            "Epoch: 27, Batch: 40, Avg. Loss: 0.001001278840005398\n",
            "Epoch: 27, Batch: 50, Avg. Loss: 0.0010416081547737121\n"
          ],
          "name": "stdout"
        },
        {
          "output_type": "stream",
          "text": [
            "/content/gdrive/My Drive/prj1_keypoints/data_load.py:43: FutureWarning: Method .as_matrix will be removed in a future version. Use .values instead.\n",
            "  key_pts = self.key_pts_frame.iloc[idx, 1:].as_matrix()\n",
            "/content/gdrive/My Drive/prj1_keypoints/data_load.py:43: FutureWarning: Method .as_matrix will be removed in a future version. Use .values instead.\n",
            "  key_pts = self.key_pts_frame.iloc[idx, 1:].as_matrix()\n",
            "/content/gdrive/My Drive/prj1_keypoints/data_load.py:43: FutureWarning: Method .as_matrix will be removed in a future version. Use .values instead.\n",
            "  key_pts = self.key_pts_frame.iloc[idx, 1:].as_matrix()\n",
            "/content/gdrive/My Drive/prj1_keypoints/data_load.py:43: FutureWarning: Method .as_matrix will be removed in a future version. Use .values instead.\n",
            "  key_pts = self.key_pts_frame.iloc[idx, 1:].as_matrix()\n"
          ],
          "name": "stderr"
        },
        {
          "output_type": "stream",
          "text": [
            "Epoch: 28, Batch: 10, Avg. Loss: 0.001027389921247959\n",
            "Epoch: 28, Batch: 20, Avg. Loss: 0.0009228314906358719\n",
            "Epoch: 28, Batch: 30, Avg. Loss: 0.0010914754122495652\n",
            "Epoch: 28, Batch: 40, Avg. Loss: 0.0010568300932645798\n",
            "Epoch: 28, Batch: 50, Avg. Loss: 0.0011286006644368172\n"
          ],
          "name": "stdout"
        },
        {
          "output_type": "stream",
          "text": [
            "/content/gdrive/My Drive/prj1_keypoints/data_load.py:43: FutureWarning: Method .as_matrix will be removed in a future version. Use .values instead.\n",
            "  key_pts = self.key_pts_frame.iloc[idx, 1:].as_matrix()\n",
            "/content/gdrive/My Drive/prj1_keypoints/data_load.py:43: FutureWarning: Method .as_matrix will be removed in a future version. Use .values instead.\n",
            "  key_pts = self.key_pts_frame.iloc[idx, 1:].as_matrix()\n",
            "/content/gdrive/My Drive/prj1_keypoints/data_load.py:43: FutureWarning: Method .as_matrix will be removed in a future version. Use .values instead.\n",
            "  key_pts = self.key_pts_frame.iloc[idx, 1:].as_matrix()\n",
            "/content/gdrive/My Drive/prj1_keypoints/data_load.py:43: FutureWarning: Method .as_matrix will be removed in a future version. Use .values instead.\n",
            "  key_pts = self.key_pts_frame.iloc[idx, 1:].as_matrix()\n"
          ],
          "name": "stderr"
        },
        {
          "output_type": "stream",
          "text": [
            "Epoch: 29, Batch: 10, Avg. Loss: 0.0011170907840132712\n",
            "Epoch: 29, Batch: 20, Avg. Loss: 0.0011013114899396897\n",
            "Epoch: 29, Batch: 30, Avg. Loss: 0.0010434261634945869\n",
            "Epoch: 29, Batch: 40, Avg. Loss: 0.0009242404475808143\n",
            "Epoch: 29, Batch: 50, Avg. Loss: 0.0010486617162823676\n"
          ],
          "name": "stdout"
        },
        {
          "output_type": "stream",
          "text": [
            "/content/gdrive/My Drive/prj1_keypoints/data_load.py:43: FutureWarning: Method .as_matrix will be removed in a future version. Use .values instead.\n",
            "  key_pts = self.key_pts_frame.iloc[idx, 1:].as_matrix()\n",
            "/content/gdrive/My Drive/prj1_keypoints/data_load.py:43: FutureWarning: Method .as_matrix will be removed in a future version. Use .values instead.\n",
            "  key_pts = self.key_pts_frame.iloc[idx, 1:].as_matrix()\n",
            "/content/gdrive/My Drive/prj1_keypoints/data_load.py:43: FutureWarning: Method .as_matrix will be removed in a future version. Use .values instead.\n",
            "  key_pts = self.key_pts_frame.iloc[idx, 1:].as_matrix()\n",
            "/content/gdrive/My Drive/prj1_keypoints/data_load.py:43: FutureWarning: Method .as_matrix will be removed in a future version. Use .values instead.\n",
            "  key_pts = self.key_pts_frame.iloc[idx, 1:].as_matrix()\n"
          ],
          "name": "stderr"
        },
        {
          "output_type": "stream",
          "text": [
            "Epoch: 30, Batch: 10, Avg. Loss: 0.001001519240438938\n",
            "Epoch: 30, Batch: 20, Avg. Loss: 0.0010684728398919106\n",
            "Epoch: 30, Batch: 30, Avg. Loss: 0.0008954233527183532\n",
            "Epoch: 30, Batch: 40, Avg. Loss: 0.0013418723046779632\n",
            "Epoch: 30, Batch: 50, Avg. Loss: 0.0008912143781781197\n"
          ],
          "name": "stdout"
        },
        {
          "output_type": "stream",
          "text": [
            "/content/gdrive/My Drive/prj1_keypoints/data_load.py:43: FutureWarning: Method .as_matrix will be removed in a future version. Use .values instead.\n",
            "  key_pts = self.key_pts_frame.iloc[idx, 1:].as_matrix()\n",
            "/content/gdrive/My Drive/prj1_keypoints/data_load.py:43: FutureWarning: Method .as_matrix will be removed in a future version. Use .values instead.\n",
            "  key_pts = self.key_pts_frame.iloc[idx, 1:].as_matrix()\n",
            "/content/gdrive/My Drive/prj1_keypoints/data_load.py:43: FutureWarning: Method .as_matrix will be removed in a future version. Use .values instead.\n",
            "  key_pts = self.key_pts_frame.iloc[idx, 1:].as_matrix()\n",
            "/content/gdrive/My Drive/prj1_keypoints/data_load.py:43: FutureWarning: Method .as_matrix will be removed in a future version. Use .values instead.\n",
            "  key_pts = self.key_pts_frame.iloc[idx, 1:].as_matrix()\n"
          ],
          "name": "stderr"
        },
        {
          "output_type": "stream",
          "text": [
            "Epoch: 31, Batch: 10, Avg. Loss: 0.0008908062800765037\n",
            "Epoch: 31, Batch: 20, Avg. Loss: 0.0009942696914076806\n",
            "Epoch: 31, Batch: 30, Avg. Loss: 0.0010557741895318032\n",
            "Epoch: 31, Batch: 40, Avg. Loss: 0.001049262285232544\n",
            "Epoch: 31, Batch: 50, Avg. Loss: 0.0009601632431149483\n"
          ],
          "name": "stdout"
        },
        {
          "output_type": "stream",
          "text": [
            "/content/gdrive/My Drive/prj1_keypoints/data_load.py:43: FutureWarning: Method .as_matrix will be removed in a future version. Use .values instead.\n",
            "  key_pts = self.key_pts_frame.iloc[idx, 1:].as_matrix()\n",
            "/content/gdrive/My Drive/prj1_keypoints/data_load.py:43: FutureWarning: Method .as_matrix will be removed in a future version. Use .values instead.\n",
            "  key_pts = self.key_pts_frame.iloc[idx, 1:].as_matrix()\n",
            "/content/gdrive/My Drive/prj1_keypoints/data_load.py:43: FutureWarning: Method .as_matrix will be removed in a future version. Use .values instead.\n",
            "  key_pts = self.key_pts_frame.iloc[idx, 1:].as_matrix()\n",
            "/content/gdrive/My Drive/prj1_keypoints/data_load.py:43: FutureWarning: Method .as_matrix will be removed in a future version. Use .values instead.\n",
            "  key_pts = self.key_pts_frame.iloc[idx, 1:].as_matrix()\n"
          ],
          "name": "stderr"
        },
        {
          "output_type": "stream",
          "text": [
            "Epoch: 32, Batch: 10, Avg. Loss: 0.0010783622935414314\n",
            "Epoch: 32, Batch: 20, Avg. Loss: 0.0009835570082068444\n",
            "Epoch: 32, Batch: 30, Avg. Loss: 0.0011190993040800094\n",
            "Epoch: 32, Batch: 40, Avg. Loss: 0.0010882121697068214\n",
            "Epoch: 32, Batch: 50, Avg. Loss: 0.0009623309969902039\n"
          ],
          "name": "stdout"
        },
        {
          "output_type": "stream",
          "text": [
            "/content/gdrive/My Drive/prj1_keypoints/data_load.py:43: FutureWarning: Method .as_matrix will be removed in a future version. Use .values instead.\n",
            "  key_pts = self.key_pts_frame.iloc[idx, 1:].as_matrix()\n",
            "/content/gdrive/My Drive/prj1_keypoints/data_load.py:43: FutureWarning: Method .as_matrix will be removed in a future version. Use .values instead.\n",
            "  key_pts = self.key_pts_frame.iloc[idx, 1:].as_matrix()\n",
            "/content/gdrive/My Drive/prj1_keypoints/data_load.py:43: FutureWarning: Method .as_matrix will be removed in a future version. Use .values instead.\n",
            "  key_pts = self.key_pts_frame.iloc[idx, 1:].as_matrix()\n",
            "/content/gdrive/My Drive/prj1_keypoints/data_load.py:43: FutureWarning: Method .as_matrix will be removed in a future version. Use .values instead.\n",
            "  key_pts = self.key_pts_frame.iloc[idx, 1:].as_matrix()\n"
          ],
          "name": "stderr"
        },
        {
          "output_type": "stream",
          "text": [
            "Epoch: 33, Batch: 10, Avg. Loss: 0.0009880191758275033\n",
            "Epoch: 33, Batch: 20, Avg. Loss: 0.0011060612574219704\n",
            "Epoch: 33, Batch: 30, Avg. Loss: 0.0012400862500071526\n",
            "Epoch: 33, Batch: 40, Avg. Loss: 0.0009746972769498825\n",
            "Epoch: 33, Batch: 50, Avg. Loss: 0.0009602008387446404\n"
          ],
          "name": "stdout"
        },
        {
          "output_type": "stream",
          "text": [
            "/content/gdrive/My Drive/prj1_keypoints/data_load.py:43: FutureWarning: Method .as_matrix will be removed in a future version. Use .values instead.\n",
            "  key_pts = self.key_pts_frame.iloc[idx, 1:].as_matrix()\n",
            "/content/gdrive/My Drive/prj1_keypoints/data_load.py:43: FutureWarning: Method .as_matrix will be removed in a future version. Use .values instead.\n",
            "  key_pts = self.key_pts_frame.iloc[idx, 1:].as_matrix()\n",
            "/content/gdrive/My Drive/prj1_keypoints/data_load.py:43: FutureWarning: Method .as_matrix will be removed in a future version. Use .values instead.\n",
            "  key_pts = self.key_pts_frame.iloc[idx, 1:].as_matrix()\n",
            "/content/gdrive/My Drive/prj1_keypoints/data_load.py:43: FutureWarning: Method .as_matrix will be removed in a future version. Use .values instead.\n",
            "  key_pts = self.key_pts_frame.iloc[idx, 1:].as_matrix()\n"
          ],
          "name": "stderr"
        },
        {
          "output_type": "stream",
          "text": [
            "Epoch: 34, Batch: 10, Avg. Loss: 0.0009758516401052475\n",
            "Epoch: 34, Batch: 20, Avg. Loss: 0.0010121918469667434\n",
            "Epoch: 34, Batch: 30, Avg. Loss: 0.0009648038148880005\n",
            "Epoch: 34, Batch: 40, Avg. Loss: 0.0008658399507403373\n",
            "Epoch: 34, Batch: 50, Avg. Loss: 0.0010634636580944062\n"
          ],
          "name": "stdout"
        },
        {
          "output_type": "stream",
          "text": [
            "/content/gdrive/My Drive/prj1_keypoints/data_load.py:43: FutureWarning: Method .as_matrix will be removed in a future version. Use .values instead.\n",
            "  key_pts = self.key_pts_frame.iloc[idx, 1:].as_matrix()\n",
            "/content/gdrive/My Drive/prj1_keypoints/data_load.py:43: FutureWarning: Method .as_matrix will be removed in a future version. Use .values instead.\n",
            "  key_pts = self.key_pts_frame.iloc[idx, 1:].as_matrix()\n",
            "/content/gdrive/My Drive/prj1_keypoints/data_load.py:43: FutureWarning: Method .as_matrix will be removed in a future version. Use .values instead.\n",
            "  key_pts = self.key_pts_frame.iloc[idx, 1:].as_matrix()\n",
            "/content/gdrive/My Drive/prj1_keypoints/data_load.py:43: FutureWarning: Method .as_matrix will be removed in a future version. Use .values instead.\n",
            "  key_pts = self.key_pts_frame.iloc[idx, 1:].as_matrix()\n"
          ],
          "name": "stderr"
        },
        {
          "output_type": "stream",
          "text": [
            "Epoch: 35, Batch: 10, Avg. Loss: 0.0009985195472836494\n",
            "Epoch: 35, Batch: 20, Avg. Loss: 0.0010116545855998994\n",
            "Epoch: 35, Batch: 30, Avg. Loss: 0.0009893540516495705\n",
            "Epoch: 35, Batch: 40, Avg. Loss: 0.001166948303580284\n",
            "Epoch: 35, Batch: 50, Avg. Loss: 0.000944797269999981\n"
          ],
          "name": "stdout"
        },
        {
          "output_type": "stream",
          "text": [
            "/content/gdrive/My Drive/prj1_keypoints/data_load.py:43: FutureWarning: Method .as_matrix will be removed in a future version. Use .values instead.\n",
            "  key_pts = self.key_pts_frame.iloc[idx, 1:].as_matrix()\n",
            "/content/gdrive/My Drive/prj1_keypoints/data_load.py:43: FutureWarning: Method .as_matrix will be removed in a future version. Use .values instead.\n",
            "  key_pts = self.key_pts_frame.iloc[idx, 1:].as_matrix()\n",
            "/content/gdrive/My Drive/prj1_keypoints/data_load.py:43: FutureWarning: Method .as_matrix will be removed in a future version. Use .values instead.\n",
            "  key_pts = self.key_pts_frame.iloc[idx, 1:].as_matrix()\n",
            "/content/gdrive/My Drive/prj1_keypoints/data_load.py:43: FutureWarning: Method .as_matrix will be removed in a future version. Use .values instead.\n",
            "  key_pts = self.key_pts_frame.iloc[idx, 1:].as_matrix()\n"
          ],
          "name": "stderr"
        },
        {
          "output_type": "stream",
          "text": [
            "Epoch: 36, Batch: 10, Avg. Loss: 0.0009509781301021576\n",
            "Epoch: 36, Batch: 20, Avg. Loss: 0.001039454959332943\n",
            "Epoch: 36, Batch: 30, Avg. Loss: 0.0010774706080555916\n",
            "Epoch: 36, Batch: 40, Avg. Loss: 0.001002966895699501\n",
            "Epoch: 36, Batch: 50, Avg. Loss: 0.0009299050644040107\n"
          ],
          "name": "stdout"
        },
        {
          "output_type": "stream",
          "text": [
            "/content/gdrive/My Drive/prj1_keypoints/data_load.py:43: FutureWarning: Method .as_matrix will be removed in a future version. Use .values instead.\n",
            "  key_pts = self.key_pts_frame.iloc[idx, 1:].as_matrix()\n",
            "/content/gdrive/My Drive/prj1_keypoints/data_load.py:43: FutureWarning: Method .as_matrix will be removed in a future version. Use .values instead.\n",
            "  key_pts = self.key_pts_frame.iloc[idx, 1:].as_matrix()\n",
            "/content/gdrive/My Drive/prj1_keypoints/data_load.py:43: FutureWarning: Method .as_matrix will be removed in a future version. Use .values instead.\n",
            "  key_pts = self.key_pts_frame.iloc[idx, 1:].as_matrix()\n",
            "/content/gdrive/My Drive/prj1_keypoints/data_load.py:43: FutureWarning: Method .as_matrix will be removed in a future version. Use .values instead.\n",
            "  key_pts = self.key_pts_frame.iloc[idx, 1:].as_matrix()\n"
          ],
          "name": "stderr"
        },
        {
          "output_type": "stream",
          "text": [
            "Epoch: 37, Batch: 10, Avg. Loss: 0.0010028773993253708\n",
            "Epoch: 37, Batch: 20, Avg. Loss: 0.001024021916091442\n",
            "Epoch: 37, Batch: 30, Avg. Loss: 0.0009204989895224571\n",
            "Epoch: 37, Batch: 40, Avg. Loss: 0.0010900037139654158\n",
            "Epoch: 37, Batch: 50, Avg. Loss: 0.001109104797244072\n"
          ],
          "name": "stdout"
        },
        {
          "output_type": "stream",
          "text": [
            "/content/gdrive/My Drive/prj1_keypoints/data_load.py:43: FutureWarning: Method .as_matrix will be removed in a future version. Use .values instead.\n",
            "  key_pts = self.key_pts_frame.iloc[idx, 1:].as_matrix()\n",
            "/content/gdrive/My Drive/prj1_keypoints/data_load.py:43: FutureWarning: Method .as_matrix will be removed in a future version. Use .values instead.\n",
            "  key_pts = self.key_pts_frame.iloc[idx, 1:].as_matrix()\n",
            "/content/gdrive/My Drive/prj1_keypoints/data_load.py:43: FutureWarning: Method .as_matrix will be removed in a future version. Use .values instead.\n",
            "  key_pts = self.key_pts_frame.iloc[idx, 1:].as_matrix()\n",
            "/content/gdrive/My Drive/prj1_keypoints/data_load.py:43: FutureWarning: Method .as_matrix will be removed in a future version. Use .values instead.\n",
            "  key_pts = self.key_pts_frame.iloc[idx, 1:].as_matrix()\n"
          ],
          "name": "stderr"
        },
        {
          "output_type": "stream",
          "text": [
            "Epoch: 38, Batch: 10, Avg. Loss: 0.000915537677705288\n",
            "Epoch: 38, Batch: 20, Avg. Loss: 0.000902854599058628\n",
            "Epoch: 38, Batch: 30, Avg. Loss: 0.0009918790832161904\n",
            "Epoch: 38, Batch: 40, Avg. Loss: 0.0010462539419531821\n",
            "Epoch: 38, Batch: 50, Avg. Loss: 0.001026048667728901\n"
          ],
          "name": "stdout"
        },
        {
          "output_type": "stream",
          "text": [
            "/content/gdrive/My Drive/prj1_keypoints/data_load.py:43: FutureWarning: Method .as_matrix will be removed in a future version. Use .values instead.\n",
            "  key_pts = self.key_pts_frame.iloc[idx, 1:].as_matrix()\n",
            "/content/gdrive/My Drive/prj1_keypoints/data_load.py:43: FutureWarning: Method .as_matrix will be removed in a future version. Use .values instead.\n",
            "  key_pts = self.key_pts_frame.iloc[idx, 1:].as_matrix()\n",
            "/content/gdrive/My Drive/prj1_keypoints/data_load.py:43: FutureWarning: Method .as_matrix will be removed in a future version. Use .values instead.\n",
            "  key_pts = self.key_pts_frame.iloc[idx, 1:].as_matrix()\n",
            "/content/gdrive/My Drive/prj1_keypoints/data_load.py:43: FutureWarning: Method .as_matrix will be removed in a future version. Use .values instead.\n",
            "  key_pts = self.key_pts_frame.iloc[idx, 1:].as_matrix()\n"
          ],
          "name": "stderr"
        },
        {
          "output_type": "stream",
          "text": [
            "Epoch: 39, Batch: 10, Avg. Loss: 0.0010447791069746017\n",
            "Epoch: 39, Batch: 20, Avg. Loss: 0.0009952424168586731\n",
            "Epoch: 39, Batch: 30, Avg. Loss: 0.0008482197523117065\n",
            "Epoch: 39, Batch: 40, Avg. Loss: 0.0009608079493045807\n",
            "Epoch: 39, Batch: 50, Avg. Loss: 0.000947370432317257\n"
          ],
          "name": "stdout"
        },
        {
          "output_type": "stream",
          "text": [
            "/content/gdrive/My Drive/prj1_keypoints/data_load.py:43: FutureWarning: Method .as_matrix will be removed in a future version. Use .values instead.\n",
            "  key_pts = self.key_pts_frame.iloc[idx, 1:].as_matrix()\n",
            "/content/gdrive/My Drive/prj1_keypoints/data_load.py:43: FutureWarning: Method .as_matrix will be removed in a future version. Use .values instead.\n",
            "  key_pts = self.key_pts_frame.iloc[idx, 1:].as_matrix()\n",
            "/content/gdrive/My Drive/prj1_keypoints/data_load.py:43: FutureWarning: Method .as_matrix will be removed in a future version. Use .values instead.\n",
            "  key_pts = self.key_pts_frame.iloc[idx, 1:].as_matrix()\n",
            "/content/gdrive/My Drive/prj1_keypoints/data_load.py:43: FutureWarning: Method .as_matrix will be removed in a future version. Use .values instead.\n",
            "  key_pts = self.key_pts_frame.iloc[idx, 1:].as_matrix()\n"
          ],
          "name": "stderr"
        },
        {
          "output_type": "stream",
          "text": [
            "Epoch: 40, Batch: 10, Avg. Loss: 0.0009664071872830391\n",
            "Epoch: 40, Batch: 20, Avg. Loss: 0.0008981306441128254\n",
            "Epoch: 40, Batch: 30, Avg. Loss: 0.0010280487537384032\n",
            "Epoch: 40, Batch: 40, Avg. Loss: 0.0008636380732059478\n",
            "Epoch: 40, Batch: 50, Avg. Loss: 0.0009750043302774429\n"
          ],
          "name": "stdout"
        },
        {
          "output_type": "stream",
          "text": [
            "/content/gdrive/My Drive/prj1_keypoints/data_load.py:43: FutureWarning: Method .as_matrix will be removed in a future version. Use .values instead.\n",
            "  key_pts = self.key_pts_frame.iloc[idx, 1:].as_matrix()\n",
            "/content/gdrive/My Drive/prj1_keypoints/data_load.py:43: FutureWarning: Method .as_matrix will be removed in a future version. Use .values instead.\n",
            "  key_pts = self.key_pts_frame.iloc[idx, 1:].as_matrix()\n",
            "/content/gdrive/My Drive/prj1_keypoints/data_load.py:43: FutureWarning: Method .as_matrix will be removed in a future version. Use .values instead.\n",
            "  key_pts = self.key_pts_frame.iloc[idx, 1:].as_matrix()\n",
            "/content/gdrive/My Drive/prj1_keypoints/data_load.py:43: FutureWarning: Method .as_matrix will be removed in a future version. Use .values instead.\n",
            "  key_pts = self.key_pts_frame.iloc[idx, 1:].as_matrix()\n"
          ],
          "name": "stderr"
        },
        {
          "output_type": "stream",
          "text": [
            "Epoch: 41, Batch: 10, Avg. Loss: 0.0008885579779744148\n",
            "Epoch: 41, Batch: 20, Avg. Loss: 0.0009322712346911431\n",
            "Epoch: 41, Batch: 30, Avg. Loss: 0.0008569590076804161\n",
            "Epoch: 41, Batch: 40, Avg. Loss: 0.001059818297624588\n",
            "Epoch: 41, Batch: 50, Avg. Loss: 0.0009062562882900238\n"
          ],
          "name": "stdout"
        },
        {
          "output_type": "stream",
          "text": [
            "/content/gdrive/My Drive/prj1_keypoints/data_load.py:43: FutureWarning: Method .as_matrix will be removed in a future version. Use .values instead.\n",
            "  key_pts = self.key_pts_frame.iloc[idx, 1:].as_matrix()\n",
            "/content/gdrive/My Drive/prj1_keypoints/data_load.py:43: FutureWarning: Method .as_matrix will be removed in a future version. Use .values instead.\n",
            "  key_pts = self.key_pts_frame.iloc[idx, 1:].as_matrix()\n",
            "/content/gdrive/My Drive/prj1_keypoints/data_load.py:43: FutureWarning: Method .as_matrix will be removed in a future version. Use .values instead.\n",
            "  key_pts = self.key_pts_frame.iloc[idx, 1:].as_matrix()\n",
            "/content/gdrive/My Drive/prj1_keypoints/data_load.py:43: FutureWarning: Method .as_matrix will be removed in a future version. Use .values instead.\n",
            "  key_pts = self.key_pts_frame.iloc[idx, 1:].as_matrix()\n"
          ],
          "name": "stderr"
        },
        {
          "output_type": "stream",
          "text": [
            "Epoch: 42, Batch: 10, Avg. Loss: 0.0008889863565564156\n",
            "Epoch: 42, Batch: 20, Avg. Loss: 0.0008577688187360764\n",
            "Epoch: 42, Batch: 30, Avg. Loss: 0.000957896888256073\n",
            "Epoch: 42, Batch: 40, Avg. Loss: 0.001108530767261982\n",
            "Epoch: 42, Batch: 50, Avg. Loss: 0.0009067806452512741\n"
          ],
          "name": "stdout"
        },
        {
          "output_type": "stream",
          "text": [
            "/content/gdrive/My Drive/prj1_keypoints/data_load.py:43: FutureWarning: Method .as_matrix will be removed in a future version. Use .values instead.\n",
            "  key_pts = self.key_pts_frame.iloc[idx, 1:].as_matrix()\n",
            "/content/gdrive/My Drive/prj1_keypoints/data_load.py:43: FutureWarning: Method .as_matrix will be removed in a future version. Use .values instead.\n",
            "  key_pts = self.key_pts_frame.iloc[idx, 1:].as_matrix()\n",
            "/content/gdrive/My Drive/prj1_keypoints/data_load.py:43: FutureWarning: Method .as_matrix will be removed in a future version. Use .values instead.\n",
            "  key_pts = self.key_pts_frame.iloc[idx, 1:].as_matrix()\n",
            "/content/gdrive/My Drive/prj1_keypoints/data_load.py:43: FutureWarning: Method .as_matrix will be removed in a future version. Use .values instead.\n",
            "  key_pts = self.key_pts_frame.iloc[idx, 1:].as_matrix()\n"
          ],
          "name": "stderr"
        },
        {
          "output_type": "stream",
          "text": [
            "Epoch: 43, Batch: 10, Avg. Loss: 0.0010322216972708702\n",
            "Epoch: 43, Batch: 20, Avg. Loss: 0.0008319982290267944\n",
            "Epoch: 43, Batch: 30, Avg. Loss: 0.0009955811649560928\n",
            "Epoch: 43, Batch: 40, Avg. Loss: 0.0009378373920917511\n",
            "Epoch: 43, Batch: 50, Avg. Loss: 0.0008974784538149834\n"
          ],
          "name": "stdout"
        },
        {
          "output_type": "stream",
          "text": [
            "/content/gdrive/My Drive/prj1_keypoints/data_load.py:43: FutureWarning: Method .as_matrix will be removed in a future version. Use .values instead.\n",
            "  key_pts = self.key_pts_frame.iloc[idx, 1:].as_matrix()\n",
            "/content/gdrive/My Drive/prj1_keypoints/data_load.py:43: FutureWarning: Method .as_matrix will be removed in a future version. Use .values instead.\n",
            "  key_pts = self.key_pts_frame.iloc[idx, 1:].as_matrix()\n",
            "/content/gdrive/My Drive/prj1_keypoints/data_load.py:43: FutureWarning: Method .as_matrix will be removed in a future version. Use .values instead.\n",
            "  key_pts = self.key_pts_frame.iloc[idx, 1:].as_matrix()\n",
            "/content/gdrive/My Drive/prj1_keypoints/data_load.py:43: FutureWarning: Method .as_matrix will be removed in a future version. Use .values instead.\n",
            "  key_pts = self.key_pts_frame.iloc[idx, 1:].as_matrix()\n"
          ],
          "name": "stderr"
        },
        {
          "output_type": "stream",
          "text": [
            "Epoch: 44, Batch: 10, Avg. Loss: 0.0012356998175382613\n",
            "Epoch: 44, Batch: 20, Avg. Loss: 0.0009788956567645074\n",
            "Epoch: 44, Batch: 30, Avg. Loss: 0.0009854363799095154\n",
            "Epoch: 44, Batch: 40, Avg. Loss: 0.0008334145024418831\n",
            "Epoch: 44, Batch: 50, Avg. Loss: 0.0008818724974989891\n"
          ],
          "name": "stdout"
        },
        {
          "output_type": "stream",
          "text": [
            "/content/gdrive/My Drive/prj1_keypoints/data_load.py:43: FutureWarning: Method .as_matrix will be removed in a future version. Use .values instead.\n",
            "  key_pts = self.key_pts_frame.iloc[idx, 1:].as_matrix()\n",
            "/content/gdrive/My Drive/prj1_keypoints/data_load.py:43: FutureWarning: Method .as_matrix will be removed in a future version. Use .values instead.\n",
            "  key_pts = self.key_pts_frame.iloc[idx, 1:].as_matrix()\n",
            "/content/gdrive/My Drive/prj1_keypoints/data_load.py:43: FutureWarning: Method .as_matrix will be removed in a future version. Use .values instead.\n",
            "  key_pts = self.key_pts_frame.iloc[idx, 1:].as_matrix()\n",
            "/content/gdrive/My Drive/prj1_keypoints/data_load.py:43: FutureWarning: Method .as_matrix will be removed in a future version. Use .values instead.\n",
            "  key_pts = self.key_pts_frame.iloc[idx, 1:].as_matrix()\n"
          ],
          "name": "stderr"
        },
        {
          "output_type": "stream",
          "text": [
            "Epoch: 45, Batch: 10, Avg. Loss: 0.0009992654174566268\n",
            "Epoch: 45, Batch: 20, Avg. Loss: 0.0008881577998399734\n",
            "Epoch: 45, Batch: 30, Avg. Loss: 0.0008800507709383964\n",
            "Epoch: 45, Batch: 40, Avg. Loss: 0.001096327170729637\n",
            "Epoch: 45, Batch: 50, Avg. Loss: 0.0009052624702453613\n"
          ],
          "name": "stdout"
        },
        {
          "output_type": "stream",
          "text": [
            "/content/gdrive/My Drive/prj1_keypoints/data_load.py:43: FutureWarning: Method .as_matrix will be removed in a future version. Use .values instead.\n",
            "  key_pts = self.key_pts_frame.iloc[idx, 1:].as_matrix()\n",
            "/content/gdrive/My Drive/prj1_keypoints/data_load.py:43: FutureWarning: Method .as_matrix will be removed in a future version. Use .values instead.\n",
            "  key_pts = self.key_pts_frame.iloc[idx, 1:].as_matrix()\n",
            "/content/gdrive/My Drive/prj1_keypoints/data_load.py:43: FutureWarning: Method .as_matrix will be removed in a future version. Use .values instead.\n",
            "  key_pts = self.key_pts_frame.iloc[idx, 1:].as_matrix()\n",
            "/content/gdrive/My Drive/prj1_keypoints/data_load.py:43: FutureWarning: Method .as_matrix will be removed in a future version. Use .values instead.\n",
            "  key_pts = self.key_pts_frame.iloc[idx, 1:].as_matrix()\n"
          ],
          "name": "stderr"
        },
        {
          "output_type": "stream",
          "text": [
            "Epoch: 46, Batch: 10, Avg. Loss: 0.0008432640805840492\n",
            "Epoch: 46, Batch: 20, Avg. Loss: 0.001239008828997612\n",
            "Epoch: 46, Batch: 30, Avg. Loss: 0.000927770733833313\n",
            "Epoch: 46, Batch: 40, Avg. Loss: 0.0008681695386767388\n",
            "Epoch: 46, Batch: 50, Avg. Loss: 0.0009536637291312218\n"
          ],
          "name": "stdout"
        },
        {
          "output_type": "stream",
          "text": [
            "/content/gdrive/My Drive/prj1_keypoints/data_load.py:43: FutureWarning: Method .as_matrix will be removed in a future version. Use .values instead.\n",
            "  key_pts = self.key_pts_frame.iloc[idx, 1:].as_matrix()\n",
            "/content/gdrive/My Drive/prj1_keypoints/data_load.py:43: FutureWarning: Method .as_matrix will be removed in a future version. Use .values instead.\n",
            "  key_pts = self.key_pts_frame.iloc[idx, 1:].as_matrix()\n",
            "/content/gdrive/My Drive/prj1_keypoints/data_load.py:43: FutureWarning: Method .as_matrix will be removed in a future version. Use .values instead.\n",
            "  key_pts = self.key_pts_frame.iloc[idx, 1:].as_matrix()\n",
            "/content/gdrive/My Drive/prj1_keypoints/data_load.py:43: FutureWarning: Method .as_matrix will be removed in a future version. Use .values instead.\n",
            "  key_pts = self.key_pts_frame.iloc[idx, 1:].as_matrix()\n"
          ],
          "name": "stderr"
        },
        {
          "output_type": "stream",
          "text": [
            "Epoch: 47, Batch: 10, Avg. Loss: 0.0011398306488990784\n",
            "Epoch: 47, Batch: 20, Avg. Loss: 0.0008804092332720757\n",
            "Epoch: 47, Batch: 30, Avg. Loss: 0.0009295707568526268\n",
            "Epoch: 47, Batch: 40, Avg. Loss: 0.0010951621159911156\n",
            "Epoch: 47, Batch: 50, Avg. Loss: 0.0009860756769776344\n"
          ],
          "name": "stdout"
        },
        {
          "output_type": "stream",
          "text": [
            "/content/gdrive/My Drive/prj1_keypoints/data_load.py:43: FutureWarning: Method .as_matrix will be removed in a future version. Use .values instead.\n",
            "  key_pts = self.key_pts_frame.iloc[idx, 1:].as_matrix()\n",
            "/content/gdrive/My Drive/prj1_keypoints/data_load.py:43: FutureWarning: Method .as_matrix will be removed in a future version. Use .values instead.\n",
            "  key_pts = self.key_pts_frame.iloc[idx, 1:].as_matrix()\n",
            "/content/gdrive/My Drive/prj1_keypoints/data_load.py:43: FutureWarning: Method .as_matrix will be removed in a future version. Use .values instead.\n",
            "  key_pts = self.key_pts_frame.iloc[idx, 1:].as_matrix()\n",
            "/content/gdrive/My Drive/prj1_keypoints/data_load.py:43: FutureWarning: Method .as_matrix will be removed in a future version. Use .values instead.\n",
            "  key_pts = self.key_pts_frame.iloc[idx, 1:].as_matrix()\n"
          ],
          "name": "stderr"
        },
        {
          "output_type": "stream",
          "text": [
            "Epoch: 48, Batch: 10, Avg. Loss: 0.0008629438728094101\n",
            "Epoch: 48, Batch: 20, Avg. Loss: 0.0010388341322541236\n",
            "Epoch: 48, Batch: 30, Avg. Loss: 0.0009798257648944856\n",
            "Epoch: 48, Batch: 40, Avg. Loss: 0.0008514608368277549\n",
            "Epoch: 48, Batch: 50, Avg. Loss: 0.0009294444546103477\n"
          ],
          "name": "stdout"
        },
        {
          "output_type": "stream",
          "text": [
            "/content/gdrive/My Drive/prj1_keypoints/data_load.py:43: FutureWarning: Method .as_matrix will be removed in a future version. Use .values instead.\n",
            "  key_pts = self.key_pts_frame.iloc[idx, 1:].as_matrix()\n",
            "/content/gdrive/My Drive/prj1_keypoints/data_load.py:43: FutureWarning: Method .as_matrix will be removed in a future version. Use .values instead.\n",
            "  key_pts = self.key_pts_frame.iloc[idx, 1:].as_matrix()\n",
            "/content/gdrive/My Drive/prj1_keypoints/data_load.py:43: FutureWarning: Method .as_matrix will be removed in a future version. Use .values instead.\n",
            "  key_pts = self.key_pts_frame.iloc[idx, 1:].as_matrix()\n",
            "/content/gdrive/My Drive/prj1_keypoints/data_load.py:43: FutureWarning: Method .as_matrix will be removed in a future version. Use .values instead.\n",
            "  key_pts = self.key_pts_frame.iloc[idx, 1:].as_matrix()\n"
          ],
          "name": "stderr"
        },
        {
          "output_type": "stream",
          "text": [
            "Epoch: 49, Batch: 10, Avg. Loss: 0.0009095185920596123\n",
            "Epoch: 49, Batch: 20, Avg. Loss: 0.0008660778850317001\n",
            "Epoch: 49, Batch: 30, Avg. Loss: 0.0010531416833400727\n",
            "Epoch: 49, Batch: 40, Avg. Loss: 0.0009042123705148697\n",
            "Epoch: 49, Batch: 50, Avg. Loss: 0.0011292845979332924\n"
          ],
          "name": "stdout"
        },
        {
          "output_type": "stream",
          "text": [
            "/content/gdrive/My Drive/prj1_keypoints/data_load.py:43: FutureWarning: Method .as_matrix will be removed in a future version. Use .values instead.\n",
            "  key_pts = self.key_pts_frame.iloc[idx, 1:].as_matrix()\n",
            "/content/gdrive/My Drive/prj1_keypoints/data_load.py:43: FutureWarning: Method .as_matrix will be removed in a future version. Use .values instead.\n",
            "  key_pts = self.key_pts_frame.iloc[idx, 1:].as_matrix()\n",
            "/content/gdrive/My Drive/prj1_keypoints/data_load.py:43: FutureWarning: Method .as_matrix will be removed in a future version. Use .values instead.\n",
            "  key_pts = self.key_pts_frame.iloc[idx, 1:].as_matrix()\n",
            "/content/gdrive/My Drive/prj1_keypoints/data_load.py:43: FutureWarning: Method .as_matrix will be removed in a future version. Use .values instead.\n",
            "  key_pts = self.key_pts_frame.iloc[idx, 1:].as_matrix()\n"
          ],
          "name": "stderr"
        },
        {
          "output_type": "stream",
          "text": [
            "Epoch: 50, Batch: 10, Avg. Loss: 0.0008378968760371209\n",
            "Epoch: 50, Batch: 20, Avg. Loss: 0.0010648747608065605\n",
            "Epoch: 50, Batch: 30, Avg. Loss: 0.0010091940388083458\n",
            "Epoch: 50, Batch: 40, Avg. Loss: 0.0008323970958590508\n",
            "Epoch: 50, Batch: 50, Avg. Loss: 0.0008606267645955086\n"
          ],
          "name": "stdout"
        },
        {
          "output_type": "stream",
          "text": [
            "/content/gdrive/My Drive/prj1_keypoints/data_load.py:43: FutureWarning: Method .as_matrix will be removed in a future version. Use .values instead.\n",
            "  key_pts = self.key_pts_frame.iloc[idx, 1:].as_matrix()\n",
            "/content/gdrive/My Drive/prj1_keypoints/data_load.py:43: FutureWarning: Method .as_matrix will be removed in a future version. Use .values instead.\n",
            "  key_pts = self.key_pts_frame.iloc[idx, 1:].as_matrix()\n",
            "/content/gdrive/My Drive/prj1_keypoints/data_load.py:43: FutureWarning: Method .as_matrix will be removed in a future version. Use .values instead.\n",
            "  key_pts = self.key_pts_frame.iloc[idx, 1:].as_matrix()\n",
            "/content/gdrive/My Drive/prj1_keypoints/data_load.py:43: FutureWarning: Method .as_matrix will be removed in a future version. Use .values instead.\n",
            "  key_pts = self.key_pts_frame.iloc[idx, 1:].as_matrix()\n"
          ],
          "name": "stderr"
        },
        {
          "output_type": "stream",
          "text": [
            "Epoch: 51, Batch: 10, Avg. Loss: 0.0008898936286568642\n",
            "Epoch: 51, Batch: 20, Avg. Loss: 0.000863907277584076\n",
            "Epoch: 51, Batch: 30, Avg. Loss: 0.0009243545830249786\n",
            "Epoch: 51, Batch: 40, Avg. Loss: 0.0008683393225073815\n",
            "Epoch: 51, Batch: 50, Avg. Loss: 0.0010668201074004173\n"
          ],
          "name": "stdout"
        },
        {
          "output_type": "stream",
          "text": [
            "/content/gdrive/My Drive/prj1_keypoints/data_load.py:43: FutureWarning: Method .as_matrix will be removed in a future version. Use .values instead.\n",
            "  key_pts = self.key_pts_frame.iloc[idx, 1:].as_matrix()\n",
            "/content/gdrive/My Drive/prj1_keypoints/data_load.py:43: FutureWarning: Method .as_matrix will be removed in a future version. Use .values instead.\n",
            "  key_pts = self.key_pts_frame.iloc[idx, 1:].as_matrix()\n",
            "/content/gdrive/My Drive/prj1_keypoints/data_load.py:43: FutureWarning: Method .as_matrix will be removed in a future version. Use .values instead.\n",
            "  key_pts = self.key_pts_frame.iloc[idx, 1:].as_matrix()\n",
            "/content/gdrive/My Drive/prj1_keypoints/data_load.py:43: FutureWarning: Method .as_matrix will be removed in a future version. Use .values instead.\n",
            "  key_pts = self.key_pts_frame.iloc[idx, 1:].as_matrix()\n"
          ],
          "name": "stderr"
        },
        {
          "output_type": "stream",
          "text": [
            "Epoch: 52, Batch: 10, Avg. Loss: 0.0009475246518850327\n",
            "Epoch: 52, Batch: 20, Avg. Loss: 0.0009339916706085205\n",
            "Epoch: 52, Batch: 30, Avg. Loss: 0.0009043779820203781\n",
            "Epoch: 52, Batch: 40, Avg. Loss: 0.0009527856260538101\n",
            "Epoch: 52, Batch: 50, Avg. Loss: 0.0009888900071382523\n"
          ],
          "name": "stdout"
        },
        {
          "output_type": "stream",
          "text": [
            "/content/gdrive/My Drive/prj1_keypoints/data_load.py:43: FutureWarning: Method .as_matrix will be removed in a future version. Use .values instead.\n",
            "  key_pts = self.key_pts_frame.iloc[idx, 1:].as_matrix()\n",
            "/content/gdrive/My Drive/prj1_keypoints/data_load.py:43: FutureWarning: Method .as_matrix will be removed in a future version. Use .values instead.\n",
            "  key_pts = self.key_pts_frame.iloc[idx, 1:].as_matrix()\n",
            "/content/gdrive/My Drive/prj1_keypoints/data_load.py:43: FutureWarning: Method .as_matrix will be removed in a future version. Use .values instead.\n",
            "  key_pts = self.key_pts_frame.iloc[idx, 1:].as_matrix()\n",
            "/content/gdrive/My Drive/prj1_keypoints/data_load.py:43: FutureWarning: Method .as_matrix will be removed in a future version. Use .values instead.\n",
            "  key_pts = self.key_pts_frame.iloc[idx, 1:].as_matrix()\n"
          ],
          "name": "stderr"
        },
        {
          "output_type": "stream",
          "text": [
            "Epoch: 53, Batch: 10, Avg. Loss: 0.0008061485253274441\n",
            "Epoch: 53, Batch: 20, Avg. Loss: 0.000959412470459938\n",
            "Epoch: 53, Batch: 30, Avg. Loss: 0.001026616282761097\n",
            "Epoch: 53, Batch: 40, Avg. Loss: 0.0008756304681301117\n",
            "Epoch: 53, Batch: 50, Avg. Loss: 0.0008142646178603173\n"
          ],
          "name": "stdout"
        },
        {
          "output_type": "stream",
          "text": [
            "/content/gdrive/My Drive/prj1_keypoints/data_load.py:43: FutureWarning: Method .as_matrix will be removed in a future version. Use .values instead.\n",
            "  key_pts = self.key_pts_frame.iloc[idx, 1:].as_matrix()\n",
            "/content/gdrive/My Drive/prj1_keypoints/data_load.py:43: FutureWarning: Method .as_matrix will be removed in a future version. Use .values instead.\n",
            "  key_pts = self.key_pts_frame.iloc[idx, 1:].as_matrix()\n",
            "/content/gdrive/My Drive/prj1_keypoints/data_load.py:43: FutureWarning: Method .as_matrix will be removed in a future version. Use .values instead.\n",
            "  key_pts = self.key_pts_frame.iloc[idx, 1:].as_matrix()\n",
            "/content/gdrive/My Drive/prj1_keypoints/data_load.py:43: FutureWarning: Method .as_matrix will be removed in a future version. Use .values instead.\n",
            "  key_pts = self.key_pts_frame.iloc[idx, 1:].as_matrix()\n"
          ],
          "name": "stderr"
        },
        {
          "output_type": "stream",
          "text": [
            "Epoch: 54, Batch: 10, Avg. Loss: 0.0009913217425346374\n",
            "Epoch: 54, Batch: 20, Avg. Loss: 0.0008333272933959961\n",
            "Epoch: 54, Batch: 30, Avg. Loss: 0.0009854299798607827\n",
            "Epoch: 54, Batch: 40, Avg. Loss: 0.0008071044310927391\n",
            "Epoch: 54, Batch: 50, Avg. Loss: 0.000860510990023613\n"
          ],
          "name": "stdout"
        },
        {
          "output_type": "stream",
          "text": [
            "/content/gdrive/My Drive/prj1_keypoints/data_load.py:43: FutureWarning: Method .as_matrix will be removed in a future version. Use .values instead.\n",
            "  key_pts = self.key_pts_frame.iloc[idx, 1:].as_matrix()\n",
            "/content/gdrive/My Drive/prj1_keypoints/data_load.py:43: FutureWarning: Method .as_matrix will be removed in a future version. Use .values instead.\n",
            "  key_pts = self.key_pts_frame.iloc[idx, 1:].as_matrix()\n",
            "/content/gdrive/My Drive/prj1_keypoints/data_load.py:43: FutureWarning: Method .as_matrix will be removed in a future version. Use .values instead.\n",
            "  key_pts = self.key_pts_frame.iloc[idx, 1:].as_matrix()\n",
            "/content/gdrive/My Drive/prj1_keypoints/data_load.py:43: FutureWarning: Method .as_matrix will be removed in a future version. Use .values instead.\n",
            "  key_pts = self.key_pts_frame.iloc[idx, 1:].as_matrix()\n"
          ],
          "name": "stderr"
        },
        {
          "output_type": "stream",
          "text": [
            "Epoch: 55, Batch: 10, Avg. Loss: 0.0010108820125460626\n",
            "Epoch: 55, Batch: 20, Avg. Loss: 0.0008407012894749642\n",
            "Epoch: 55, Batch: 30, Avg. Loss: 0.0010338147655129433\n",
            "Epoch: 55, Batch: 40, Avg. Loss: 0.000845664620399475\n",
            "Epoch: 55, Batch: 50, Avg. Loss: 0.0008064805343747139\n"
          ],
          "name": "stdout"
        },
        {
          "output_type": "stream",
          "text": [
            "/content/gdrive/My Drive/prj1_keypoints/data_load.py:43: FutureWarning: Method .as_matrix will be removed in a future version. Use .values instead.\n",
            "  key_pts = self.key_pts_frame.iloc[idx, 1:].as_matrix()\n",
            "/content/gdrive/My Drive/prj1_keypoints/data_load.py:43: FutureWarning: Method .as_matrix will be removed in a future version. Use .values instead.\n",
            "  key_pts = self.key_pts_frame.iloc[idx, 1:].as_matrix()\n",
            "/content/gdrive/My Drive/prj1_keypoints/data_load.py:43: FutureWarning: Method .as_matrix will be removed in a future version. Use .values instead.\n",
            "  key_pts = self.key_pts_frame.iloc[idx, 1:].as_matrix()\n",
            "/content/gdrive/My Drive/prj1_keypoints/data_load.py:43: FutureWarning: Method .as_matrix will be removed in a future version. Use .values instead.\n",
            "  key_pts = self.key_pts_frame.iloc[idx, 1:].as_matrix()\n"
          ],
          "name": "stderr"
        },
        {
          "output_type": "stream",
          "text": [
            "Epoch: 56, Batch: 10, Avg. Loss: 0.0008386356458067893\n",
            "Epoch: 56, Batch: 20, Avg. Loss: 0.0008841321468353271\n",
            "Epoch: 56, Batch: 30, Avg. Loss: 0.0009835937842726707\n",
            "Epoch: 56, Batch: 40, Avg. Loss: 0.0010696195885539054\n",
            "Epoch: 56, Batch: 50, Avg. Loss: 0.0010275822281837464\n"
          ],
          "name": "stdout"
        },
        {
          "output_type": "stream",
          "text": [
            "/content/gdrive/My Drive/prj1_keypoints/data_load.py:43: FutureWarning: Method .as_matrix will be removed in a future version. Use .values instead.\n",
            "  key_pts = self.key_pts_frame.iloc[idx, 1:].as_matrix()\n",
            "/content/gdrive/My Drive/prj1_keypoints/data_load.py:43: FutureWarning: Method .as_matrix will be removed in a future version. Use .values instead.\n",
            "  key_pts = self.key_pts_frame.iloc[idx, 1:].as_matrix()\n",
            "/content/gdrive/My Drive/prj1_keypoints/data_load.py:43: FutureWarning: Method .as_matrix will be removed in a future version. Use .values instead.\n",
            "  key_pts = self.key_pts_frame.iloc[idx, 1:].as_matrix()\n",
            "/content/gdrive/My Drive/prj1_keypoints/data_load.py:43: FutureWarning: Method .as_matrix will be removed in a future version. Use .values instead.\n",
            "  key_pts = self.key_pts_frame.iloc[idx, 1:].as_matrix()\n"
          ],
          "name": "stderr"
        },
        {
          "output_type": "stream",
          "text": [
            "Epoch: 57, Batch: 10, Avg. Loss: 0.0009411109164357185\n",
            "Epoch: 57, Batch: 20, Avg. Loss: 0.0008273357525467873\n",
            "Epoch: 57, Batch: 30, Avg. Loss: 0.0009807669520378113\n",
            "Epoch: 57, Batch: 40, Avg. Loss: 0.0009129650294780732\n",
            "Epoch: 57, Batch: 50, Avg. Loss: 0.0008095885664224625\n"
          ],
          "name": "stdout"
        },
        {
          "output_type": "stream",
          "text": [
            "/content/gdrive/My Drive/prj1_keypoints/data_load.py:43: FutureWarning: Method .as_matrix will be removed in a future version. Use .values instead.\n",
            "  key_pts = self.key_pts_frame.iloc[idx, 1:].as_matrix()\n",
            "/content/gdrive/My Drive/prj1_keypoints/data_load.py:43: FutureWarning: Method .as_matrix will be removed in a future version. Use .values instead.\n",
            "  key_pts = self.key_pts_frame.iloc[idx, 1:].as_matrix()\n",
            "/content/gdrive/My Drive/prj1_keypoints/data_load.py:43: FutureWarning: Method .as_matrix will be removed in a future version. Use .values instead.\n",
            "  key_pts = self.key_pts_frame.iloc[idx, 1:].as_matrix()\n",
            "/content/gdrive/My Drive/prj1_keypoints/data_load.py:43: FutureWarning: Method .as_matrix will be removed in a future version. Use .values instead.\n",
            "  key_pts = self.key_pts_frame.iloc[idx, 1:].as_matrix()\n"
          ],
          "name": "stderr"
        },
        {
          "output_type": "stream",
          "text": [
            "Epoch: 58, Batch: 10, Avg. Loss: 0.0007529084980487824\n",
            "Epoch: 58, Batch: 20, Avg. Loss: 0.00101058691740036\n",
            "Epoch: 58, Batch: 30, Avg. Loss: 0.0009514893889427186\n",
            "Epoch: 58, Batch: 40, Avg. Loss: 0.0011699882745742798\n",
            "Epoch: 58, Batch: 50, Avg. Loss: 0.0008813646212220192\n"
          ],
          "name": "stdout"
        },
        {
          "output_type": "stream",
          "text": [
            "/content/gdrive/My Drive/prj1_keypoints/data_load.py:43: FutureWarning: Method .as_matrix will be removed in a future version. Use .values instead.\n",
            "  key_pts = self.key_pts_frame.iloc[idx, 1:].as_matrix()\n",
            "/content/gdrive/My Drive/prj1_keypoints/data_load.py:43: FutureWarning: Method .as_matrix will be removed in a future version. Use .values instead.\n",
            "  key_pts = self.key_pts_frame.iloc[idx, 1:].as_matrix()\n",
            "/content/gdrive/My Drive/prj1_keypoints/data_load.py:43: FutureWarning: Method .as_matrix will be removed in a future version. Use .values instead.\n",
            "  key_pts = self.key_pts_frame.iloc[idx, 1:].as_matrix()\n",
            "/content/gdrive/My Drive/prj1_keypoints/data_load.py:43: FutureWarning: Method .as_matrix will be removed in a future version. Use .values instead.\n",
            "  key_pts = self.key_pts_frame.iloc[idx, 1:].as_matrix()\n"
          ],
          "name": "stderr"
        },
        {
          "output_type": "stream",
          "text": [
            "Epoch: 59, Batch: 10, Avg. Loss: 0.0009369635134935379\n",
            "Epoch: 59, Batch: 20, Avg. Loss: 0.0008654532358050346\n",
            "Epoch: 59, Batch: 30, Avg. Loss: 0.0009604621976613999\n",
            "Epoch: 59, Batch: 40, Avg. Loss: 0.000980515591800213\n",
            "Epoch: 59, Batch: 50, Avg. Loss: 0.0008550681173801422\n"
          ],
          "name": "stdout"
        },
        {
          "output_type": "stream",
          "text": [
            "/content/gdrive/My Drive/prj1_keypoints/data_load.py:43: FutureWarning: Method .as_matrix will be removed in a future version. Use .values instead.\n",
            "  key_pts = self.key_pts_frame.iloc[idx, 1:].as_matrix()\n",
            "/content/gdrive/My Drive/prj1_keypoints/data_load.py:43: FutureWarning: Method .as_matrix will be removed in a future version. Use .values instead.\n",
            "  key_pts = self.key_pts_frame.iloc[idx, 1:].as_matrix()\n",
            "/content/gdrive/My Drive/prj1_keypoints/data_load.py:43: FutureWarning: Method .as_matrix will be removed in a future version. Use .values instead.\n",
            "  key_pts = self.key_pts_frame.iloc[idx, 1:].as_matrix()\n",
            "/content/gdrive/My Drive/prj1_keypoints/data_load.py:43: FutureWarning: Method .as_matrix will be removed in a future version. Use .values instead.\n",
            "  key_pts = self.key_pts_frame.iloc[idx, 1:].as_matrix()\n"
          ],
          "name": "stderr"
        },
        {
          "output_type": "stream",
          "text": [
            "Epoch: 60, Batch: 10, Avg. Loss: 0.00088129723072052\n",
            "Epoch: 60, Batch: 20, Avg. Loss: 0.0008742375448346138\n",
            "Epoch: 60, Batch: 30, Avg. Loss: 0.0009851795956492425\n",
            "Epoch: 60, Batch: 40, Avg. Loss: 0.0009428508579730988\n",
            "Epoch: 60, Batch: 50, Avg. Loss: 0.0010073483511805535\n"
          ],
          "name": "stdout"
        },
        {
          "output_type": "stream",
          "text": [
            "/content/gdrive/My Drive/prj1_keypoints/data_load.py:43: FutureWarning: Method .as_matrix will be removed in a future version. Use .values instead.\n",
            "  key_pts = self.key_pts_frame.iloc[idx, 1:].as_matrix()\n",
            "/content/gdrive/My Drive/prj1_keypoints/data_load.py:43: FutureWarning: Method .as_matrix will be removed in a future version. Use .values instead.\n",
            "  key_pts = self.key_pts_frame.iloc[idx, 1:].as_matrix()\n",
            "/content/gdrive/My Drive/prj1_keypoints/data_load.py:43: FutureWarning: Method .as_matrix will be removed in a future version. Use .values instead.\n",
            "  key_pts = self.key_pts_frame.iloc[idx, 1:].as_matrix()\n",
            "/content/gdrive/My Drive/prj1_keypoints/data_load.py:43: FutureWarning: Method .as_matrix will be removed in a future version. Use .values instead.\n",
            "  key_pts = self.key_pts_frame.iloc[idx, 1:].as_matrix()\n"
          ],
          "name": "stderr"
        },
        {
          "output_type": "stream",
          "text": [
            "Epoch: 61, Batch: 10, Avg. Loss: 0.0008503060340881348\n",
            "Epoch: 61, Batch: 20, Avg. Loss: 0.0008756344243884087\n",
            "Epoch: 61, Batch: 30, Avg. Loss: 0.0008383614160120487\n",
            "Epoch: 61, Batch: 40, Avg. Loss: 0.0010200539082288742\n",
            "Epoch: 61, Batch: 50, Avg. Loss: 0.0008339845277369022\n"
          ],
          "name": "stdout"
        },
        {
          "output_type": "stream",
          "text": [
            "/content/gdrive/My Drive/prj1_keypoints/data_load.py:43: FutureWarning: Method .as_matrix will be removed in a future version. Use .values instead.\n",
            "  key_pts = self.key_pts_frame.iloc[idx, 1:].as_matrix()\n",
            "/content/gdrive/My Drive/prj1_keypoints/data_load.py:43: FutureWarning: Method .as_matrix will be removed in a future version. Use .values instead.\n",
            "  key_pts = self.key_pts_frame.iloc[idx, 1:].as_matrix()\n",
            "/content/gdrive/My Drive/prj1_keypoints/data_load.py:43: FutureWarning: Method .as_matrix will be removed in a future version. Use .values instead.\n",
            "  key_pts = self.key_pts_frame.iloc[idx, 1:].as_matrix()\n",
            "/content/gdrive/My Drive/prj1_keypoints/data_load.py:43: FutureWarning: Method .as_matrix will be removed in a future version. Use .values instead.\n",
            "  key_pts = self.key_pts_frame.iloc[idx, 1:].as_matrix()\n"
          ],
          "name": "stderr"
        },
        {
          "output_type": "stream",
          "text": [
            "Epoch: 62, Batch: 10, Avg. Loss: 0.0009192241877317429\n",
            "Epoch: 62, Batch: 20, Avg. Loss: 0.0010107156708836556\n",
            "Epoch: 62, Batch: 30, Avg. Loss: 0.000806243747472763\n",
            "Epoch: 62, Batch: 40, Avg. Loss: 0.000976734884083271\n",
            "Epoch: 62, Batch: 50, Avg. Loss: 0.0009005744382739067\n"
          ],
          "name": "stdout"
        },
        {
          "output_type": "stream",
          "text": [
            "/content/gdrive/My Drive/prj1_keypoints/data_load.py:43: FutureWarning: Method .as_matrix will be removed in a future version. Use .values instead.\n",
            "  key_pts = self.key_pts_frame.iloc[idx, 1:].as_matrix()\n",
            "/content/gdrive/My Drive/prj1_keypoints/data_load.py:43: FutureWarning: Method .as_matrix will be removed in a future version. Use .values instead.\n",
            "  key_pts = self.key_pts_frame.iloc[idx, 1:].as_matrix()\n",
            "/content/gdrive/My Drive/prj1_keypoints/data_load.py:43: FutureWarning: Method .as_matrix will be removed in a future version. Use .values instead.\n",
            "  key_pts = self.key_pts_frame.iloc[idx, 1:].as_matrix()\n",
            "/content/gdrive/My Drive/prj1_keypoints/data_load.py:43: FutureWarning: Method .as_matrix will be removed in a future version. Use .values instead.\n",
            "  key_pts = self.key_pts_frame.iloc[idx, 1:].as_matrix()\n"
          ],
          "name": "stderr"
        },
        {
          "output_type": "stream",
          "text": [
            "Epoch: 63, Batch: 10, Avg. Loss: 0.0009476080387830734\n",
            "Epoch: 63, Batch: 20, Avg. Loss: 0.000802332703024149\n",
            "Epoch: 63, Batch: 30, Avg. Loss: 0.0009348779693245888\n",
            "Epoch: 63, Batch: 40, Avg. Loss: 0.0008914012610912323\n",
            "Epoch: 63, Batch: 50, Avg. Loss: 0.0008956732600927353\n"
          ],
          "name": "stdout"
        },
        {
          "output_type": "stream",
          "text": [
            "/content/gdrive/My Drive/prj1_keypoints/data_load.py:43: FutureWarning: Method .as_matrix will be removed in a future version. Use .values instead.\n",
            "  key_pts = self.key_pts_frame.iloc[idx, 1:].as_matrix()\n",
            "/content/gdrive/My Drive/prj1_keypoints/data_load.py:43: FutureWarning: Method .as_matrix will be removed in a future version. Use .values instead.\n",
            "  key_pts = self.key_pts_frame.iloc[idx, 1:].as_matrix()\n",
            "/content/gdrive/My Drive/prj1_keypoints/data_load.py:43: FutureWarning: Method .as_matrix will be removed in a future version. Use .values instead.\n",
            "  key_pts = self.key_pts_frame.iloc[idx, 1:].as_matrix()\n",
            "/content/gdrive/My Drive/prj1_keypoints/data_load.py:43: FutureWarning: Method .as_matrix will be removed in a future version. Use .values instead.\n",
            "  key_pts = self.key_pts_frame.iloc[idx, 1:].as_matrix()\n"
          ],
          "name": "stderr"
        },
        {
          "output_type": "stream",
          "text": [
            "Epoch: 64, Batch: 10, Avg. Loss: 0.0008586465008556843\n",
            "Epoch: 64, Batch: 20, Avg. Loss: 0.0008631030097603798\n",
            "Epoch: 64, Batch: 30, Avg. Loss: 0.0011391613595187664\n",
            "Epoch: 64, Batch: 40, Avg. Loss: 0.0008591019138693809\n",
            "Epoch: 64, Batch: 50, Avg. Loss: 0.0009151514545083046\n"
          ],
          "name": "stdout"
        },
        {
          "output_type": "stream",
          "text": [
            "/content/gdrive/My Drive/prj1_keypoints/data_load.py:43: FutureWarning: Method .as_matrix will be removed in a future version. Use .values instead.\n",
            "  key_pts = self.key_pts_frame.iloc[idx, 1:].as_matrix()\n",
            "/content/gdrive/My Drive/prj1_keypoints/data_load.py:43: FutureWarning: Method .as_matrix will be removed in a future version. Use .values instead.\n",
            "  key_pts = self.key_pts_frame.iloc[idx, 1:].as_matrix()\n",
            "/content/gdrive/My Drive/prj1_keypoints/data_load.py:43: FutureWarning: Method .as_matrix will be removed in a future version. Use .values instead.\n",
            "  key_pts = self.key_pts_frame.iloc[idx, 1:].as_matrix()\n",
            "/content/gdrive/My Drive/prj1_keypoints/data_load.py:43: FutureWarning: Method .as_matrix will be removed in a future version. Use .values instead.\n",
            "  key_pts = self.key_pts_frame.iloc[idx, 1:].as_matrix()\n"
          ],
          "name": "stderr"
        },
        {
          "output_type": "stream",
          "text": [
            "Epoch: 65, Batch: 10, Avg. Loss: 0.0009067094400525093\n",
            "Epoch: 65, Batch: 20, Avg. Loss: 0.0010432158038020133\n",
            "Epoch: 65, Batch: 30, Avg. Loss: 0.0008753758892416954\n",
            "Epoch: 65, Batch: 40, Avg. Loss: 0.0008458823710680008\n",
            "Epoch: 65, Batch: 50, Avg. Loss: 0.0008968340307474136\n"
          ],
          "name": "stdout"
        },
        {
          "output_type": "stream",
          "text": [
            "/content/gdrive/My Drive/prj1_keypoints/data_load.py:43: FutureWarning: Method .as_matrix will be removed in a future version. Use .values instead.\n",
            "  key_pts = self.key_pts_frame.iloc[idx, 1:].as_matrix()\n",
            "/content/gdrive/My Drive/prj1_keypoints/data_load.py:43: FutureWarning: Method .as_matrix will be removed in a future version. Use .values instead.\n",
            "  key_pts = self.key_pts_frame.iloc[idx, 1:].as_matrix()\n",
            "/content/gdrive/My Drive/prj1_keypoints/data_load.py:43: FutureWarning: Method .as_matrix will be removed in a future version. Use .values instead.\n",
            "  key_pts = self.key_pts_frame.iloc[idx, 1:].as_matrix()\n",
            "/content/gdrive/My Drive/prj1_keypoints/data_load.py:43: FutureWarning: Method .as_matrix will be removed in a future version. Use .values instead.\n",
            "  key_pts = self.key_pts_frame.iloc[idx, 1:].as_matrix()\n"
          ],
          "name": "stderr"
        },
        {
          "output_type": "stream",
          "text": [
            "Epoch: 66, Batch: 10, Avg. Loss: 0.0008304142504930496\n",
            "Epoch: 66, Batch: 20, Avg. Loss: 0.0010799553990364075\n",
            "Epoch: 66, Batch: 30, Avg. Loss: 0.0009714281931519508\n",
            "Epoch: 66, Batch: 40, Avg. Loss: 0.0009478573426604271\n",
            "Epoch: 66, Batch: 50, Avg. Loss: 0.0009183532670140267\n"
          ],
          "name": "stdout"
        },
        {
          "output_type": "stream",
          "text": [
            "/content/gdrive/My Drive/prj1_keypoints/data_load.py:43: FutureWarning: Method .as_matrix will be removed in a future version. Use .values instead.\n",
            "  key_pts = self.key_pts_frame.iloc[idx, 1:].as_matrix()\n",
            "/content/gdrive/My Drive/prj1_keypoints/data_load.py:43: FutureWarning: Method .as_matrix will be removed in a future version. Use .values instead.\n",
            "  key_pts = self.key_pts_frame.iloc[idx, 1:].as_matrix()\n",
            "/content/gdrive/My Drive/prj1_keypoints/data_load.py:43: FutureWarning: Method .as_matrix will be removed in a future version. Use .values instead.\n",
            "  key_pts = self.key_pts_frame.iloc[idx, 1:].as_matrix()\n",
            "/content/gdrive/My Drive/prj1_keypoints/data_load.py:43: FutureWarning: Method .as_matrix will be removed in a future version. Use .values instead.\n",
            "  key_pts = self.key_pts_frame.iloc[idx, 1:].as_matrix()\n"
          ],
          "name": "stderr"
        },
        {
          "output_type": "stream",
          "text": [
            "Epoch: 67, Batch: 10, Avg. Loss: 0.0008316612504422665\n",
            "Epoch: 67, Batch: 20, Avg. Loss: 0.0007960834577679635\n",
            "Epoch: 67, Batch: 30, Avg. Loss: 0.0008725123926997184\n",
            "Epoch: 67, Batch: 40, Avg. Loss: 0.0008778071254491806\n",
            "Epoch: 67, Batch: 50, Avg. Loss: 0.0009697064012289047\n"
          ],
          "name": "stdout"
        },
        {
          "output_type": "stream",
          "text": [
            "/content/gdrive/My Drive/prj1_keypoints/data_load.py:43: FutureWarning: Method .as_matrix will be removed in a future version. Use .values instead.\n",
            "  key_pts = self.key_pts_frame.iloc[idx, 1:].as_matrix()\n",
            "/content/gdrive/My Drive/prj1_keypoints/data_load.py:43: FutureWarning: Method .as_matrix will be removed in a future version. Use .values instead.\n",
            "  key_pts = self.key_pts_frame.iloc[idx, 1:].as_matrix()\n",
            "/content/gdrive/My Drive/prj1_keypoints/data_load.py:43: FutureWarning: Method .as_matrix will be removed in a future version. Use .values instead.\n",
            "  key_pts = self.key_pts_frame.iloc[idx, 1:].as_matrix()\n",
            "/content/gdrive/My Drive/prj1_keypoints/data_load.py:43: FutureWarning: Method .as_matrix will be removed in a future version. Use .values instead.\n",
            "  key_pts = self.key_pts_frame.iloc[idx, 1:].as_matrix()\n"
          ],
          "name": "stderr"
        },
        {
          "output_type": "stream",
          "text": [
            "Epoch: 68, Batch: 10, Avg. Loss: 0.0008181439042091369\n",
            "Epoch: 68, Batch: 20, Avg. Loss: 0.001000097207725048\n",
            "Epoch: 68, Batch: 30, Avg. Loss: 0.0008003213293850422\n",
            "Epoch: 68, Batch: 40, Avg. Loss: 0.0008060787171125412\n",
            "Epoch: 68, Batch: 50, Avg. Loss: 0.0008917173147201538\n"
          ],
          "name": "stdout"
        },
        {
          "output_type": "stream",
          "text": [
            "/content/gdrive/My Drive/prj1_keypoints/data_load.py:43: FutureWarning: Method .as_matrix will be removed in a future version. Use .values instead.\n",
            "  key_pts = self.key_pts_frame.iloc[idx, 1:].as_matrix()\n",
            "/content/gdrive/My Drive/prj1_keypoints/data_load.py:43: FutureWarning: Method .as_matrix will be removed in a future version. Use .values instead.\n",
            "  key_pts = self.key_pts_frame.iloc[idx, 1:].as_matrix()\n",
            "/content/gdrive/My Drive/prj1_keypoints/data_load.py:43: FutureWarning: Method .as_matrix will be removed in a future version. Use .values instead.\n",
            "  key_pts = self.key_pts_frame.iloc[idx, 1:].as_matrix()\n",
            "/content/gdrive/My Drive/prj1_keypoints/data_load.py:43: FutureWarning: Method .as_matrix will be removed in a future version. Use .values instead.\n",
            "  key_pts = self.key_pts_frame.iloc[idx, 1:].as_matrix()\n"
          ],
          "name": "stderr"
        },
        {
          "output_type": "stream",
          "text": [
            "Epoch: 69, Batch: 10, Avg. Loss: 0.000900445394217968\n",
            "Epoch: 69, Batch: 20, Avg. Loss: 0.0009023003950715065\n",
            "Epoch: 69, Batch: 30, Avg. Loss: 0.0009714346006512642\n",
            "Epoch: 69, Batch: 40, Avg. Loss: 0.0008491951636970043\n",
            "Epoch: 69, Batch: 50, Avg. Loss: 0.0009237484261393547\n"
          ],
          "name": "stdout"
        },
        {
          "output_type": "stream",
          "text": [
            "/content/gdrive/My Drive/prj1_keypoints/data_load.py:43: FutureWarning: Method .as_matrix will be removed in a future version. Use .values instead.\n",
            "  key_pts = self.key_pts_frame.iloc[idx, 1:].as_matrix()\n",
            "/content/gdrive/My Drive/prj1_keypoints/data_load.py:43: FutureWarning: Method .as_matrix will be removed in a future version. Use .values instead.\n",
            "  key_pts = self.key_pts_frame.iloc[idx, 1:].as_matrix()\n",
            "/content/gdrive/My Drive/prj1_keypoints/data_load.py:43: FutureWarning: Method .as_matrix will be removed in a future version. Use .values instead.\n",
            "  key_pts = self.key_pts_frame.iloc[idx, 1:].as_matrix()\n",
            "/content/gdrive/My Drive/prj1_keypoints/data_load.py:43: FutureWarning: Method .as_matrix will be removed in a future version. Use .values instead.\n",
            "  key_pts = self.key_pts_frame.iloc[idx, 1:].as_matrix()\n"
          ],
          "name": "stderr"
        },
        {
          "output_type": "stream",
          "text": [
            "Epoch: 70, Batch: 10, Avg. Loss: 0.0009283865839242935\n",
            "Epoch: 70, Batch: 20, Avg. Loss: 0.00094877839833498\n",
            "Epoch: 70, Batch: 30, Avg. Loss: 0.000978773906826973\n",
            "Epoch: 70, Batch: 40, Avg. Loss: 0.0009575276300311089\n",
            "Epoch: 70, Batch: 50, Avg. Loss: 0.001036227747797966\n"
          ],
          "name": "stdout"
        },
        {
          "output_type": "stream",
          "text": [
            "/content/gdrive/My Drive/prj1_keypoints/data_load.py:43: FutureWarning: Method .as_matrix will be removed in a future version. Use .values instead.\n",
            "  key_pts = self.key_pts_frame.iloc[idx, 1:].as_matrix()\n",
            "/content/gdrive/My Drive/prj1_keypoints/data_load.py:43: FutureWarning: Method .as_matrix will be removed in a future version. Use .values instead.\n",
            "  key_pts = self.key_pts_frame.iloc[idx, 1:].as_matrix()\n",
            "/content/gdrive/My Drive/prj1_keypoints/data_load.py:43: FutureWarning: Method .as_matrix will be removed in a future version. Use .values instead.\n",
            "  key_pts = self.key_pts_frame.iloc[idx, 1:].as_matrix()\n",
            "/content/gdrive/My Drive/prj1_keypoints/data_load.py:43: FutureWarning: Method .as_matrix will be removed in a future version. Use .values instead.\n",
            "  key_pts = self.key_pts_frame.iloc[idx, 1:].as_matrix()\n"
          ],
          "name": "stderr"
        },
        {
          "output_type": "stream",
          "text": [
            "Epoch: 71, Batch: 10, Avg. Loss: 0.0009147494882345199\n",
            "Epoch: 71, Batch: 20, Avg. Loss: 0.000811606302857399\n",
            "Epoch: 71, Batch: 30, Avg. Loss: 0.001001683808863163\n",
            "Epoch: 71, Batch: 40, Avg. Loss: 0.0008410954587161541\n",
            "Epoch: 71, Batch: 50, Avg. Loss: 0.0008887271881103516\n"
          ],
          "name": "stdout"
        },
        {
          "output_type": "stream",
          "text": [
            "/content/gdrive/My Drive/prj1_keypoints/data_load.py:43: FutureWarning: Method .as_matrix will be removed in a future version. Use .values instead.\n",
            "  key_pts = self.key_pts_frame.iloc[idx, 1:].as_matrix()\n",
            "/content/gdrive/My Drive/prj1_keypoints/data_load.py:43: FutureWarning: Method .as_matrix will be removed in a future version. Use .values instead.\n",
            "  key_pts = self.key_pts_frame.iloc[idx, 1:].as_matrix()\n",
            "/content/gdrive/My Drive/prj1_keypoints/data_load.py:43: FutureWarning: Method .as_matrix will be removed in a future version. Use .values instead.\n",
            "  key_pts = self.key_pts_frame.iloc[idx, 1:].as_matrix()\n",
            "/content/gdrive/My Drive/prj1_keypoints/data_load.py:43: FutureWarning: Method .as_matrix will be removed in a future version. Use .values instead.\n",
            "  key_pts = self.key_pts_frame.iloc[idx, 1:].as_matrix()\n"
          ],
          "name": "stderr"
        },
        {
          "output_type": "stream",
          "text": [
            "Epoch: 72, Batch: 10, Avg. Loss: 0.0008324735835194588\n",
            "Epoch: 72, Batch: 20, Avg. Loss: 0.0008758328221738339\n",
            "Epoch: 72, Batch: 30, Avg. Loss: 0.000738415502011776\n",
            "Epoch: 72, Batch: 40, Avg. Loss: 0.0009807055033743382\n",
            "Epoch: 72, Batch: 50, Avg. Loss: 0.0008333583362400531\n"
          ],
          "name": "stdout"
        },
        {
          "output_type": "stream",
          "text": [
            "/content/gdrive/My Drive/prj1_keypoints/data_load.py:43: FutureWarning: Method .as_matrix will be removed in a future version. Use .values instead.\n",
            "  key_pts = self.key_pts_frame.iloc[idx, 1:].as_matrix()\n",
            "/content/gdrive/My Drive/prj1_keypoints/data_load.py:43: FutureWarning: Method .as_matrix will be removed in a future version. Use .values instead.\n",
            "  key_pts = self.key_pts_frame.iloc[idx, 1:].as_matrix()\n",
            "/content/gdrive/My Drive/prj1_keypoints/data_load.py:43: FutureWarning: Method .as_matrix will be removed in a future version. Use .values instead.\n",
            "  key_pts = self.key_pts_frame.iloc[idx, 1:].as_matrix()\n",
            "/content/gdrive/My Drive/prj1_keypoints/data_load.py:43: FutureWarning: Method .as_matrix will be removed in a future version. Use .values instead.\n",
            "  key_pts = self.key_pts_frame.iloc[idx, 1:].as_matrix()\n"
          ],
          "name": "stderr"
        },
        {
          "output_type": "stream",
          "text": [
            "Epoch: 73, Batch: 10, Avg. Loss: 0.0010523479580879212\n",
            "Epoch: 73, Batch: 20, Avg. Loss: 0.0007967675924301147\n",
            "Epoch: 73, Batch: 30, Avg. Loss: 0.0008980462104082107\n",
            "Epoch: 73, Batch: 40, Avg. Loss: 0.0008196985758841037\n",
            "Epoch: 73, Batch: 50, Avg. Loss: 0.0007512025088071823\n"
          ],
          "name": "stdout"
        },
        {
          "output_type": "stream",
          "text": [
            "/content/gdrive/My Drive/prj1_keypoints/data_load.py:43: FutureWarning: Method .as_matrix will be removed in a future version. Use .values instead.\n",
            "  key_pts = self.key_pts_frame.iloc[idx, 1:].as_matrix()\n",
            "/content/gdrive/My Drive/prj1_keypoints/data_load.py:43: FutureWarning: Method .as_matrix will be removed in a future version. Use .values instead.\n",
            "  key_pts = self.key_pts_frame.iloc[idx, 1:].as_matrix()\n",
            "/content/gdrive/My Drive/prj1_keypoints/data_load.py:43: FutureWarning: Method .as_matrix will be removed in a future version. Use .values instead.\n",
            "  key_pts = self.key_pts_frame.iloc[idx, 1:].as_matrix()\n",
            "/content/gdrive/My Drive/prj1_keypoints/data_load.py:43: FutureWarning: Method .as_matrix will be removed in a future version. Use .values instead.\n",
            "  key_pts = self.key_pts_frame.iloc[idx, 1:].as_matrix()\n"
          ],
          "name": "stderr"
        },
        {
          "output_type": "stream",
          "text": [
            "Epoch: 74, Batch: 10, Avg. Loss: 0.0008997387439012527\n",
            "Epoch: 74, Batch: 20, Avg. Loss: 0.0010108039677143097\n",
            "Epoch: 74, Batch: 30, Avg. Loss: 0.0008731794357299805\n",
            "Epoch: 74, Batch: 40, Avg. Loss: 0.0008882720991969108\n",
            "Epoch: 74, Batch: 50, Avg. Loss: 0.000848158024251461\n"
          ],
          "name": "stdout"
        },
        {
          "output_type": "stream",
          "text": [
            "/content/gdrive/My Drive/prj1_keypoints/data_load.py:43: FutureWarning: Method .as_matrix will be removed in a future version. Use .values instead.\n",
            "  key_pts = self.key_pts_frame.iloc[idx, 1:].as_matrix()\n",
            "/content/gdrive/My Drive/prj1_keypoints/data_load.py:43: FutureWarning: Method .as_matrix will be removed in a future version. Use .values instead.\n",
            "  key_pts = self.key_pts_frame.iloc[idx, 1:].as_matrix()\n",
            "/content/gdrive/My Drive/prj1_keypoints/data_load.py:43: FutureWarning: Method .as_matrix will be removed in a future version. Use .values instead.\n",
            "  key_pts = self.key_pts_frame.iloc[idx, 1:].as_matrix()\n",
            "/content/gdrive/My Drive/prj1_keypoints/data_load.py:43: FutureWarning: Method .as_matrix will be removed in a future version. Use .values instead.\n",
            "  key_pts = self.key_pts_frame.iloc[idx, 1:].as_matrix()\n"
          ],
          "name": "stderr"
        },
        {
          "output_type": "stream",
          "text": [
            "Epoch: 75, Batch: 10, Avg. Loss: 0.0012953825742006303\n",
            "Epoch: 75, Batch: 20, Avg. Loss: 0.000868725873529911\n",
            "Epoch: 75, Batch: 30, Avg. Loss: 0.0007898649349808692\n",
            "Epoch: 75, Batch: 40, Avg. Loss: 0.0008694057613611221\n",
            "Epoch: 75, Batch: 50, Avg. Loss: 0.000814041018486023\n"
          ],
          "name": "stdout"
        },
        {
          "output_type": "stream",
          "text": [
            "/content/gdrive/My Drive/prj1_keypoints/data_load.py:43: FutureWarning: Method .as_matrix will be removed in a future version. Use .values instead.\n",
            "  key_pts = self.key_pts_frame.iloc[idx, 1:].as_matrix()\n",
            "/content/gdrive/My Drive/prj1_keypoints/data_load.py:43: FutureWarning: Method .as_matrix will be removed in a future version. Use .values instead.\n",
            "  key_pts = self.key_pts_frame.iloc[idx, 1:].as_matrix()\n",
            "/content/gdrive/My Drive/prj1_keypoints/data_load.py:43: FutureWarning: Method .as_matrix will be removed in a future version. Use .values instead.\n",
            "  key_pts = self.key_pts_frame.iloc[idx, 1:].as_matrix()\n",
            "/content/gdrive/My Drive/prj1_keypoints/data_load.py:43: FutureWarning: Method .as_matrix will be removed in a future version. Use .values instead.\n",
            "  key_pts = self.key_pts_frame.iloc[idx, 1:].as_matrix()\n"
          ],
          "name": "stderr"
        },
        {
          "output_type": "stream",
          "text": [
            "Epoch: 76, Batch: 10, Avg. Loss: 0.0008269302807748318\n",
            "Epoch: 76, Batch: 20, Avg. Loss: 0.0008816474005579948\n",
            "Epoch: 76, Batch: 30, Avg. Loss: 0.000885700237005949\n",
            "Epoch: 76, Batch: 40, Avg. Loss: 0.0010917578861117363\n",
            "Epoch: 76, Batch: 50, Avg. Loss: 0.0010559711493551731\n"
          ],
          "name": "stdout"
        },
        {
          "output_type": "stream",
          "text": [
            "/content/gdrive/My Drive/prj1_keypoints/data_load.py:43: FutureWarning: Method .as_matrix will be removed in a future version. Use .values instead.\n",
            "  key_pts = self.key_pts_frame.iloc[idx, 1:].as_matrix()\n",
            "/content/gdrive/My Drive/prj1_keypoints/data_load.py:43: FutureWarning: Method .as_matrix will be removed in a future version. Use .values instead.\n",
            "  key_pts = self.key_pts_frame.iloc[idx, 1:].as_matrix()\n",
            "/content/gdrive/My Drive/prj1_keypoints/data_load.py:43: FutureWarning: Method .as_matrix will be removed in a future version. Use .values instead.\n",
            "  key_pts = self.key_pts_frame.iloc[idx, 1:].as_matrix()\n",
            "/content/gdrive/My Drive/prj1_keypoints/data_load.py:43: FutureWarning: Method .as_matrix will be removed in a future version. Use .values instead.\n",
            "  key_pts = self.key_pts_frame.iloc[idx, 1:].as_matrix()\n"
          ],
          "name": "stderr"
        },
        {
          "output_type": "stream",
          "text": [
            "Epoch: 77, Batch: 10, Avg. Loss: 0.0007666210457682609\n",
            "Epoch: 77, Batch: 20, Avg. Loss: 0.0008218626827001572\n",
            "Epoch: 77, Batch: 30, Avg. Loss: 0.0008074108175933361\n",
            "Epoch: 77, Batch: 40, Avg. Loss: 0.0007439598403871059\n",
            "Epoch: 77, Batch: 50, Avg. Loss: 0.0013043073937296867\n"
          ],
          "name": "stdout"
        },
        {
          "output_type": "stream",
          "text": [
            "/content/gdrive/My Drive/prj1_keypoints/data_load.py:43: FutureWarning: Method .as_matrix will be removed in a future version. Use .values instead.\n",
            "  key_pts = self.key_pts_frame.iloc[idx, 1:].as_matrix()\n",
            "/content/gdrive/My Drive/prj1_keypoints/data_load.py:43: FutureWarning: Method .as_matrix will be removed in a future version. Use .values instead.\n",
            "  key_pts = self.key_pts_frame.iloc[idx, 1:].as_matrix()\n",
            "/content/gdrive/My Drive/prj1_keypoints/data_load.py:43: FutureWarning: Method .as_matrix will be removed in a future version. Use .values instead.\n",
            "  key_pts = self.key_pts_frame.iloc[idx, 1:].as_matrix()\n",
            "/content/gdrive/My Drive/prj1_keypoints/data_load.py:43: FutureWarning: Method .as_matrix will be removed in a future version. Use .values instead.\n",
            "  key_pts = self.key_pts_frame.iloc[idx, 1:].as_matrix()\n"
          ],
          "name": "stderr"
        },
        {
          "output_type": "stream",
          "text": [
            "Epoch: 78, Batch: 10, Avg. Loss: 0.0009196392707526684\n",
            "Epoch: 78, Batch: 20, Avg. Loss: 0.0009073949754238129\n",
            "Epoch: 78, Batch: 30, Avg. Loss: 0.0011582840457558632\n",
            "Epoch: 78, Batch: 40, Avg. Loss: 0.0007819648198783398\n",
            "Epoch: 78, Batch: 50, Avg. Loss: 0.0007712519317865372\n"
          ],
          "name": "stdout"
        },
        {
          "output_type": "stream",
          "text": [
            "/content/gdrive/My Drive/prj1_keypoints/data_load.py:43: FutureWarning: Method .as_matrix will be removed in a future version. Use .values instead.\n",
            "  key_pts = self.key_pts_frame.iloc[idx, 1:].as_matrix()\n",
            "/content/gdrive/My Drive/prj1_keypoints/data_load.py:43: FutureWarning: Method .as_matrix will be removed in a future version. Use .values instead.\n",
            "  key_pts = self.key_pts_frame.iloc[idx, 1:].as_matrix()\n",
            "/content/gdrive/My Drive/prj1_keypoints/data_load.py:43: FutureWarning: Method .as_matrix will be removed in a future version. Use .values instead.\n",
            "  key_pts = self.key_pts_frame.iloc[idx, 1:].as_matrix()\n",
            "/content/gdrive/My Drive/prj1_keypoints/data_load.py:43: FutureWarning: Method .as_matrix will be removed in a future version. Use .values instead.\n",
            "  key_pts = self.key_pts_frame.iloc[idx, 1:].as_matrix()\n"
          ],
          "name": "stderr"
        },
        {
          "output_type": "stream",
          "text": [
            "Epoch: 79, Batch: 10, Avg. Loss: 0.000788033477962017\n",
            "Epoch: 79, Batch: 20, Avg. Loss: 0.0008206275254487992\n",
            "Epoch: 79, Batch: 30, Avg. Loss: 0.0010413643792271613\n",
            "Epoch: 79, Batch: 40, Avg. Loss: 0.0008374709039926529\n",
            "Epoch: 79, Batch: 50, Avg. Loss: 0.0008173231892287731\n"
          ],
          "name": "stdout"
        },
        {
          "output_type": "stream",
          "text": [
            "/content/gdrive/My Drive/prj1_keypoints/data_load.py:43: FutureWarning: Method .as_matrix will be removed in a future version. Use .values instead.\n",
            "  key_pts = self.key_pts_frame.iloc[idx, 1:].as_matrix()\n",
            "/content/gdrive/My Drive/prj1_keypoints/data_load.py:43: FutureWarning: Method .as_matrix will be removed in a future version. Use .values instead.\n",
            "  key_pts = self.key_pts_frame.iloc[idx, 1:].as_matrix()\n",
            "/content/gdrive/My Drive/prj1_keypoints/data_load.py:43: FutureWarning: Method .as_matrix will be removed in a future version. Use .values instead.\n",
            "  key_pts = self.key_pts_frame.iloc[idx, 1:].as_matrix()\n",
            "/content/gdrive/My Drive/prj1_keypoints/data_load.py:43: FutureWarning: Method .as_matrix will be removed in a future version. Use .values instead.\n",
            "  key_pts = self.key_pts_frame.iloc[idx, 1:].as_matrix()\n"
          ],
          "name": "stderr"
        },
        {
          "output_type": "stream",
          "text": [
            "Epoch: 80, Batch: 10, Avg. Loss: 0.0008832911103963852\n",
            "Epoch: 80, Batch: 20, Avg. Loss: 0.0009251465573906899\n",
            "Epoch: 80, Batch: 30, Avg. Loss: 0.0010674917176365852\n",
            "Epoch: 80, Batch: 40, Avg. Loss: 0.0008465228006243706\n",
            "Epoch: 80, Batch: 50, Avg. Loss: 0.0007721692658960819\n"
          ],
          "name": "stdout"
        },
        {
          "output_type": "stream",
          "text": [
            "/content/gdrive/My Drive/prj1_keypoints/data_load.py:43: FutureWarning: Method .as_matrix will be removed in a future version. Use .values instead.\n",
            "  key_pts = self.key_pts_frame.iloc[idx, 1:].as_matrix()\n",
            "/content/gdrive/My Drive/prj1_keypoints/data_load.py:43: FutureWarning: Method .as_matrix will be removed in a future version. Use .values instead.\n",
            "  key_pts = self.key_pts_frame.iloc[idx, 1:].as_matrix()\n",
            "/content/gdrive/My Drive/prj1_keypoints/data_load.py:43: FutureWarning: Method .as_matrix will be removed in a future version. Use .values instead.\n",
            "  key_pts = self.key_pts_frame.iloc[idx, 1:].as_matrix()\n",
            "/content/gdrive/My Drive/prj1_keypoints/data_load.py:43: FutureWarning: Method .as_matrix will be removed in a future version. Use .values instead.\n",
            "  key_pts = self.key_pts_frame.iloc[idx, 1:].as_matrix()\n"
          ],
          "name": "stderr"
        },
        {
          "output_type": "stream",
          "text": [
            "Epoch: 81, Batch: 10, Avg. Loss: 0.0009018851071596146\n",
            "Epoch: 81, Batch: 20, Avg. Loss: 0.0007831327095627785\n",
            "Epoch: 81, Batch: 30, Avg. Loss: 0.0009868689700961112\n",
            "Epoch: 81, Batch: 40, Avg. Loss: 0.0008761748597025871\n",
            "Epoch: 81, Batch: 50, Avg. Loss: 0.0008368916809558868\n"
          ],
          "name": "stdout"
        },
        {
          "output_type": "stream",
          "text": [
            "/content/gdrive/My Drive/prj1_keypoints/data_load.py:43: FutureWarning: Method .as_matrix will be removed in a future version. Use .values instead.\n",
            "  key_pts = self.key_pts_frame.iloc[idx, 1:].as_matrix()\n",
            "/content/gdrive/My Drive/prj1_keypoints/data_load.py:43: FutureWarning: Method .as_matrix will be removed in a future version. Use .values instead.\n",
            "  key_pts = self.key_pts_frame.iloc[idx, 1:].as_matrix()\n",
            "/content/gdrive/My Drive/prj1_keypoints/data_load.py:43: FutureWarning: Method .as_matrix will be removed in a future version. Use .values instead.\n",
            "  key_pts = self.key_pts_frame.iloc[idx, 1:].as_matrix()\n",
            "/content/gdrive/My Drive/prj1_keypoints/data_load.py:43: FutureWarning: Method .as_matrix will be removed in a future version. Use .values instead.\n",
            "  key_pts = self.key_pts_frame.iloc[idx, 1:].as_matrix()\n"
          ],
          "name": "stderr"
        },
        {
          "output_type": "stream",
          "text": [
            "Epoch: 82, Batch: 10, Avg. Loss: 0.0010235159918665887\n",
            "Epoch: 82, Batch: 20, Avg. Loss: 0.0008723709359765053\n",
            "Epoch: 82, Batch: 30, Avg. Loss: 0.0009935016930103303\n",
            "Epoch: 82, Batch: 40, Avg. Loss: 0.0008822643384337425\n",
            "Epoch: 82, Batch: 50, Avg. Loss: 0.0007445491291582585\n"
          ],
          "name": "stdout"
        },
        {
          "output_type": "stream",
          "text": [
            "/content/gdrive/My Drive/prj1_keypoints/data_load.py:43: FutureWarning: Method .as_matrix will be removed in a future version. Use .values instead.\n",
            "  key_pts = self.key_pts_frame.iloc[idx, 1:].as_matrix()\n",
            "/content/gdrive/My Drive/prj1_keypoints/data_load.py:43: FutureWarning: Method .as_matrix will be removed in a future version. Use .values instead.\n",
            "  key_pts = self.key_pts_frame.iloc[idx, 1:].as_matrix()\n",
            "/content/gdrive/My Drive/prj1_keypoints/data_load.py:43: FutureWarning: Method .as_matrix will be removed in a future version. Use .values instead.\n",
            "  key_pts = self.key_pts_frame.iloc[idx, 1:].as_matrix()\n",
            "/content/gdrive/My Drive/prj1_keypoints/data_load.py:43: FutureWarning: Method .as_matrix will be removed in a future version. Use .values instead.\n",
            "  key_pts = self.key_pts_frame.iloc[idx, 1:].as_matrix()\n"
          ],
          "name": "stderr"
        },
        {
          "output_type": "stream",
          "text": [
            "Epoch: 83, Batch: 10, Avg. Loss: 0.000819327712059021\n",
            "Epoch: 83, Batch: 20, Avg. Loss: 0.0011006604582071305\n",
            "Epoch: 83, Batch: 30, Avg. Loss: 0.0010783848389983178\n",
            "Epoch: 83, Batch: 40, Avg. Loss: 0.0008222501613199711\n",
            "Epoch: 83, Batch: 50, Avg. Loss: 0.00082331582903862\n"
          ],
          "name": "stdout"
        },
        {
          "output_type": "stream",
          "text": [
            "/content/gdrive/My Drive/prj1_keypoints/data_load.py:43: FutureWarning: Method .as_matrix will be removed in a future version. Use .values instead.\n",
            "  key_pts = self.key_pts_frame.iloc[idx, 1:].as_matrix()\n",
            "/content/gdrive/My Drive/prj1_keypoints/data_load.py:43: FutureWarning: Method .as_matrix will be removed in a future version. Use .values instead.\n",
            "  key_pts = self.key_pts_frame.iloc[idx, 1:].as_matrix()\n",
            "/content/gdrive/My Drive/prj1_keypoints/data_load.py:43: FutureWarning: Method .as_matrix will be removed in a future version. Use .values instead.\n",
            "  key_pts = self.key_pts_frame.iloc[idx, 1:].as_matrix()\n",
            "/content/gdrive/My Drive/prj1_keypoints/data_load.py:43: FutureWarning: Method .as_matrix will be removed in a future version. Use .values instead.\n",
            "  key_pts = self.key_pts_frame.iloc[idx, 1:].as_matrix()\n"
          ],
          "name": "stderr"
        },
        {
          "output_type": "stream",
          "text": [
            "Epoch: 84, Batch: 10, Avg. Loss: 0.0008162640556693077\n",
            "Epoch: 84, Batch: 20, Avg. Loss: 0.0008763018250465393\n",
            "Epoch: 84, Batch: 30, Avg. Loss: 0.0008487299419939518\n",
            "Epoch: 84, Batch: 40, Avg. Loss: 0.000889363557100296\n",
            "Epoch: 84, Batch: 50, Avg. Loss: 0.0011566565707325936\n"
          ],
          "name": "stdout"
        },
        {
          "output_type": "stream",
          "text": [
            "/content/gdrive/My Drive/prj1_keypoints/data_load.py:43: FutureWarning: Method .as_matrix will be removed in a future version. Use .values instead.\n",
            "  key_pts = self.key_pts_frame.iloc[idx, 1:].as_matrix()\n",
            "/content/gdrive/My Drive/prj1_keypoints/data_load.py:43: FutureWarning: Method .as_matrix will be removed in a future version. Use .values instead.\n",
            "  key_pts = self.key_pts_frame.iloc[idx, 1:].as_matrix()\n",
            "/content/gdrive/My Drive/prj1_keypoints/data_load.py:43: FutureWarning: Method .as_matrix will be removed in a future version. Use .values instead.\n",
            "  key_pts = self.key_pts_frame.iloc[idx, 1:].as_matrix()\n",
            "/content/gdrive/My Drive/prj1_keypoints/data_load.py:43: FutureWarning: Method .as_matrix will be removed in a future version. Use .values instead.\n",
            "  key_pts = self.key_pts_frame.iloc[idx, 1:].as_matrix()\n"
          ],
          "name": "stderr"
        },
        {
          "output_type": "stream",
          "text": [
            "Epoch: 85, Batch: 10, Avg. Loss: 0.0009392348527908325\n",
            "Epoch: 85, Batch: 20, Avg. Loss: 0.0010860804766416549\n",
            "Epoch: 85, Batch: 30, Avg. Loss: 0.0008048456832766532\n",
            "Epoch: 85, Batch: 40, Avg. Loss: 0.0008893055096268654\n",
            "Epoch: 85, Batch: 50, Avg. Loss: 0.0008131097070872784\n"
          ],
          "name": "stdout"
        },
        {
          "output_type": "stream",
          "text": [
            "/content/gdrive/My Drive/prj1_keypoints/data_load.py:43: FutureWarning: Method .as_matrix will be removed in a future version. Use .values instead.\n",
            "  key_pts = self.key_pts_frame.iloc[idx, 1:].as_matrix()\n",
            "/content/gdrive/My Drive/prj1_keypoints/data_load.py:43: FutureWarning: Method .as_matrix will be removed in a future version. Use .values instead.\n",
            "  key_pts = self.key_pts_frame.iloc[idx, 1:].as_matrix()\n",
            "/content/gdrive/My Drive/prj1_keypoints/data_load.py:43: FutureWarning: Method .as_matrix will be removed in a future version. Use .values instead.\n",
            "  key_pts = self.key_pts_frame.iloc[idx, 1:].as_matrix()\n",
            "/content/gdrive/My Drive/prj1_keypoints/data_load.py:43: FutureWarning: Method .as_matrix will be removed in a future version. Use .values instead.\n",
            "  key_pts = self.key_pts_frame.iloc[idx, 1:].as_matrix()\n"
          ],
          "name": "stderr"
        },
        {
          "output_type": "stream",
          "text": [
            "Epoch: 86, Batch: 10, Avg. Loss: 0.000845418132841587\n",
            "Epoch: 86, Batch: 20, Avg. Loss: 0.0008653826043009758\n",
            "Epoch: 86, Batch: 30, Avg. Loss: 0.0008345840834081173\n",
            "Epoch: 86, Batch: 40, Avg. Loss: 0.0008027748987078667\n",
            "Epoch: 86, Batch: 50, Avg. Loss: 0.0007637214735150337\n"
          ],
          "name": "stdout"
        },
        {
          "output_type": "stream",
          "text": [
            "/content/gdrive/My Drive/prj1_keypoints/data_load.py:43: FutureWarning: Method .as_matrix will be removed in a future version. Use .values instead.\n",
            "  key_pts = self.key_pts_frame.iloc[idx, 1:].as_matrix()\n",
            "/content/gdrive/My Drive/prj1_keypoints/data_load.py:43: FutureWarning: Method .as_matrix will be removed in a future version. Use .values instead.\n",
            "  key_pts = self.key_pts_frame.iloc[idx, 1:].as_matrix()\n",
            "/content/gdrive/My Drive/prj1_keypoints/data_load.py:43: FutureWarning: Method .as_matrix will be removed in a future version. Use .values instead.\n",
            "  key_pts = self.key_pts_frame.iloc[idx, 1:].as_matrix()\n",
            "/content/gdrive/My Drive/prj1_keypoints/data_load.py:43: FutureWarning: Method .as_matrix will be removed in a future version. Use .values instead.\n",
            "  key_pts = self.key_pts_frame.iloc[idx, 1:].as_matrix()\n"
          ],
          "name": "stderr"
        },
        {
          "output_type": "stream",
          "text": [
            "Epoch: 87, Batch: 10, Avg. Loss: 0.0009426731020212173\n",
            "Epoch: 87, Batch: 20, Avg. Loss: 0.0009164695367217064\n",
            "Epoch: 87, Batch: 30, Avg. Loss: 0.0009148029461503029\n",
            "Epoch: 87, Batch: 40, Avg. Loss: 0.0010493755638599396\n",
            "Epoch: 87, Batch: 50, Avg. Loss: 0.0008025730401277542\n"
          ],
          "name": "stdout"
        },
        {
          "output_type": "stream",
          "text": [
            "/content/gdrive/My Drive/prj1_keypoints/data_load.py:43: FutureWarning: Method .as_matrix will be removed in a future version. Use .values instead.\n",
            "  key_pts = self.key_pts_frame.iloc[idx, 1:].as_matrix()\n",
            "/content/gdrive/My Drive/prj1_keypoints/data_load.py:43: FutureWarning: Method .as_matrix will be removed in a future version. Use .values instead.\n",
            "  key_pts = self.key_pts_frame.iloc[idx, 1:].as_matrix()\n",
            "/content/gdrive/My Drive/prj1_keypoints/data_load.py:43: FutureWarning: Method .as_matrix will be removed in a future version. Use .values instead.\n",
            "  key_pts = self.key_pts_frame.iloc[idx, 1:].as_matrix()\n",
            "/content/gdrive/My Drive/prj1_keypoints/data_load.py:43: FutureWarning: Method .as_matrix will be removed in a future version. Use .values instead.\n",
            "  key_pts = self.key_pts_frame.iloc[idx, 1:].as_matrix()\n"
          ],
          "name": "stderr"
        },
        {
          "output_type": "stream",
          "text": [
            "Epoch: 88, Batch: 10, Avg. Loss: 0.0008292076177895069\n",
            "Epoch: 88, Batch: 20, Avg. Loss: 0.0007804530337452889\n",
            "Epoch: 88, Batch: 30, Avg. Loss: 0.0008441224023699761\n",
            "Epoch: 88, Batch: 40, Avg. Loss: 0.000857886914163828\n",
            "Epoch: 88, Batch: 50, Avg. Loss: 0.0007669369280338288\n"
          ],
          "name": "stdout"
        },
        {
          "output_type": "stream",
          "text": [
            "/content/gdrive/My Drive/prj1_keypoints/data_load.py:43: FutureWarning: Method .as_matrix will be removed in a future version. Use .values instead.\n",
            "  key_pts = self.key_pts_frame.iloc[idx, 1:].as_matrix()\n",
            "/content/gdrive/My Drive/prj1_keypoints/data_load.py:43: FutureWarning: Method .as_matrix will be removed in a future version. Use .values instead.\n",
            "  key_pts = self.key_pts_frame.iloc[idx, 1:].as_matrix()\n",
            "/content/gdrive/My Drive/prj1_keypoints/data_load.py:43: FutureWarning: Method .as_matrix will be removed in a future version. Use .values instead.\n",
            "  key_pts = self.key_pts_frame.iloc[idx, 1:].as_matrix()\n",
            "/content/gdrive/My Drive/prj1_keypoints/data_load.py:43: FutureWarning: Method .as_matrix will be removed in a future version. Use .values instead.\n",
            "  key_pts = self.key_pts_frame.iloc[idx, 1:].as_matrix()\n"
          ],
          "name": "stderr"
        },
        {
          "output_type": "stream",
          "text": [
            "Epoch: 89, Batch: 10, Avg. Loss: 0.0007999786213040351\n",
            "Epoch: 89, Batch: 20, Avg. Loss: 0.000779862754046917\n",
            "Epoch: 89, Batch: 30, Avg. Loss: 0.000879791047424078\n",
            "Epoch: 89, Batch: 40, Avg. Loss: 0.000861385352909565\n",
            "Epoch: 89, Batch: 50, Avg. Loss: 0.0008467478044331074\n"
          ],
          "name": "stdout"
        },
        {
          "output_type": "stream",
          "text": [
            "/content/gdrive/My Drive/prj1_keypoints/data_load.py:43: FutureWarning: Method .as_matrix will be removed in a future version. Use .values instead.\n",
            "  key_pts = self.key_pts_frame.iloc[idx, 1:].as_matrix()\n",
            "/content/gdrive/My Drive/prj1_keypoints/data_load.py:43: FutureWarning: Method .as_matrix will be removed in a future version. Use .values instead.\n",
            "  key_pts = self.key_pts_frame.iloc[idx, 1:].as_matrix()\n",
            "/content/gdrive/My Drive/prj1_keypoints/data_load.py:43: FutureWarning: Method .as_matrix will be removed in a future version. Use .values instead.\n",
            "  key_pts = self.key_pts_frame.iloc[idx, 1:].as_matrix()\n",
            "/content/gdrive/My Drive/prj1_keypoints/data_load.py:43: FutureWarning: Method .as_matrix will be removed in a future version. Use .values instead.\n",
            "  key_pts = self.key_pts_frame.iloc[idx, 1:].as_matrix()\n"
          ],
          "name": "stderr"
        },
        {
          "output_type": "stream",
          "text": [
            "Epoch: 90, Batch: 10, Avg. Loss: 0.0008776367381215095\n",
            "Epoch: 90, Batch: 20, Avg. Loss: 0.0008678557500243186\n",
            "Epoch: 90, Batch: 30, Avg. Loss: 0.0007972718961536885\n",
            "Epoch: 90, Batch: 40, Avg. Loss: 0.000953929491341114\n",
            "Epoch: 90, Batch: 50, Avg. Loss: 0.001030644927173853\n"
          ],
          "name": "stdout"
        },
        {
          "output_type": "stream",
          "text": [
            "/content/gdrive/My Drive/prj1_keypoints/data_load.py:43: FutureWarning: Method .as_matrix will be removed in a future version. Use .values instead.\n",
            "  key_pts = self.key_pts_frame.iloc[idx, 1:].as_matrix()\n",
            "/content/gdrive/My Drive/prj1_keypoints/data_load.py:43: FutureWarning: Method .as_matrix will be removed in a future version. Use .values instead.\n",
            "  key_pts = self.key_pts_frame.iloc[idx, 1:].as_matrix()\n",
            "/content/gdrive/My Drive/prj1_keypoints/data_load.py:43: FutureWarning: Method .as_matrix will be removed in a future version. Use .values instead.\n",
            "  key_pts = self.key_pts_frame.iloc[idx, 1:].as_matrix()\n",
            "/content/gdrive/My Drive/prj1_keypoints/data_load.py:43: FutureWarning: Method .as_matrix will be removed in a future version. Use .values instead.\n",
            "  key_pts = self.key_pts_frame.iloc[idx, 1:].as_matrix()\n"
          ],
          "name": "stderr"
        },
        {
          "output_type": "stream",
          "text": [
            "Epoch: 91, Batch: 10, Avg. Loss: 0.0010566975697875022\n",
            "Epoch: 91, Batch: 20, Avg. Loss: 0.0008562538996338844\n",
            "Epoch: 91, Batch: 30, Avg. Loss: 0.0009403209388256073\n",
            "Epoch: 91, Batch: 40, Avg. Loss: 0.0007580302096903324\n",
            "Epoch: 91, Batch: 50, Avg. Loss: 0.0008415094576776028\n"
          ],
          "name": "stdout"
        },
        {
          "output_type": "stream",
          "text": [
            "/content/gdrive/My Drive/prj1_keypoints/data_load.py:43: FutureWarning: Method .as_matrix will be removed in a future version. Use .values instead.\n",
            "  key_pts = self.key_pts_frame.iloc[idx, 1:].as_matrix()\n",
            "/content/gdrive/My Drive/prj1_keypoints/data_load.py:43: FutureWarning: Method .as_matrix will be removed in a future version. Use .values instead.\n",
            "  key_pts = self.key_pts_frame.iloc[idx, 1:].as_matrix()\n",
            "/content/gdrive/My Drive/prj1_keypoints/data_load.py:43: FutureWarning: Method .as_matrix will be removed in a future version. Use .values instead.\n",
            "  key_pts = self.key_pts_frame.iloc[idx, 1:].as_matrix()\n",
            "/content/gdrive/My Drive/prj1_keypoints/data_load.py:43: FutureWarning: Method .as_matrix will be removed in a future version. Use .values instead.\n",
            "  key_pts = self.key_pts_frame.iloc[idx, 1:].as_matrix()\n"
          ],
          "name": "stderr"
        },
        {
          "output_type": "stream",
          "text": [
            "Epoch: 92, Batch: 10, Avg. Loss: 0.0008251145407557487\n",
            "Epoch: 92, Batch: 20, Avg. Loss: 0.0007331690527498722\n",
            "Epoch: 92, Batch: 30, Avg. Loss: 0.0008277624621987343\n",
            "Epoch: 92, Batch: 40, Avg. Loss: 0.0008461475148797035\n",
            "Epoch: 92, Batch: 50, Avg. Loss: 0.0008397934772074223\n"
          ],
          "name": "stdout"
        },
        {
          "output_type": "stream",
          "text": [
            "/content/gdrive/My Drive/prj1_keypoints/data_load.py:43: FutureWarning: Method .as_matrix will be removed in a future version. Use .values instead.\n",
            "  key_pts = self.key_pts_frame.iloc[idx, 1:].as_matrix()\n",
            "/content/gdrive/My Drive/prj1_keypoints/data_load.py:43: FutureWarning: Method .as_matrix will be removed in a future version. Use .values instead.\n",
            "  key_pts = self.key_pts_frame.iloc[idx, 1:].as_matrix()\n",
            "/content/gdrive/My Drive/prj1_keypoints/data_load.py:43: FutureWarning: Method .as_matrix will be removed in a future version. Use .values instead.\n",
            "  key_pts = self.key_pts_frame.iloc[idx, 1:].as_matrix()\n",
            "/content/gdrive/My Drive/prj1_keypoints/data_load.py:43: FutureWarning: Method .as_matrix will be removed in a future version. Use .values instead.\n",
            "  key_pts = self.key_pts_frame.iloc[idx, 1:].as_matrix()\n"
          ],
          "name": "stderr"
        },
        {
          "output_type": "stream",
          "text": [
            "Epoch: 93, Batch: 10, Avg. Loss: 0.0008615417703986168\n",
            "Epoch: 93, Batch: 20, Avg. Loss: 0.0008358285427093506\n",
            "Epoch: 93, Batch: 30, Avg. Loss: 0.0008289356231689453\n",
            "Epoch: 93, Batch: 40, Avg. Loss: 0.0008221008554100991\n",
            "Epoch: 93, Batch: 50, Avg. Loss: 0.0008841959685087204\n"
          ],
          "name": "stdout"
        },
        {
          "output_type": "stream",
          "text": [
            "/content/gdrive/My Drive/prj1_keypoints/data_load.py:43: FutureWarning: Method .as_matrix will be removed in a future version. Use .values instead.\n",
            "  key_pts = self.key_pts_frame.iloc[idx, 1:].as_matrix()\n",
            "/content/gdrive/My Drive/prj1_keypoints/data_load.py:43: FutureWarning: Method .as_matrix will be removed in a future version. Use .values instead.\n",
            "  key_pts = self.key_pts_frame.iloc[idx, 1:].as_matrix()\n",
            "/content/gdrive/My Drive/prj1_keypoints/data_load.py:43: FutureWarning: Method .as_matrix will be removed in a future version. Use .values instead.\n",
            "  key_pts = self.key_pts_frame.iloc[idx, 1:].as_matrix()\n",
            "/content/gdrive/My Drive/prj1_keypoints/data_load.py:43: FutureWarning: Method .as_matrix will be removed in a future version. Use .values instead.\n",
            "  key_pts = self.key_pts_frame.iloc[idx, 1:].as_matrix()\n"
          ],
          "name": "stderr"
        },
        {
          "output_type": "stream",
          "text": [
            "Epoch: 94, Batch: 10, Avg. Loss: 0.0008327363058924675\n",
            "Epoch: 94, Batch: 20, Avg. Loss: 0.0009093075916171073\n",
            "Epoch: 94, Batch: 30, Avg. Loss: 0.0007304055467247963\n",
            "Epoch: 94, Batch: 40, Avg. Loss: 0.0007976819314062596\n",
            "Epoch: 94, Batch: 50, Avg. Loss: 0.0008250432834029198\n"
          ],
          "name": "stdout"
        },
        {
          "output_type": "stream",
          "text": [
            "/content/gdrive/My Drive/prj1_keypoints/data_load.py:43: FutureWarning: Method .as_matrix will be removed in a future version. Use .values instead.\n",
            "  key_pts = self.key_pts_frame.iloc[idx, 1:].as_matrix()\n",
            "/content/gdrive/My Drive/prj1_keypoints/data_load.py:43: FutureWarning: Method .as_matrix will be removed in a future version. Use .values instead.\n",
            "  key_pts = self.key_pts_frame.iloc[idx, 1:].as_matrix()\n",
            "/content/gdrive/My Drive/prj1_keypoints/data_load.py:43: FutureWarning: Method .as_matrix will be removed in a future version. Use .values instead.\n",
            "  key_pts = self.key_pts_frame.iloc[idx, 1:].as_matrix()\n",
            "/content/gdrive/My Drive/prj1_keypoints/data_load.py:43: FutureWarning: Method .as_matrix will be removed in a future version. Use .values instead.\n",
            "  key_pts = self.key_pts_frame.iloc[idx, 1:].as_matrix()\n"
          ],
          "name": "stderr"
        },
        {
          "output_type": "stream",
          "text": [
            "Epoch: 95, Batch: 10, Avg. Loss: 0.00085908517614007\n",
            "Epoch: 95, Batch: 20, Avg. Loss: 0.0008311695829033852\n",
            "Epoch: 95, Batch: 30, Avg. Loss: 0.0007815283536911011\n",
            "Epoch: 95, Batch: 40, Avg. Loss: 0.0010491932854056359\n",
            "Epoch: 95, Batch: 50, Avg. Loss: 0.0008548497557640076\n"
          ],
          "name": "stdout"
        },
        {
          "output_type": "stream",
          "text": [
            "/content/gdrive/My Drive/prj1_keypoints/data_load.py:43: FutureWarning: Method .as_matrix will be removed in a future version. Use .values instead.\n",
            "  key_pts = self.key_pts_frame.iloc[idx, 1:].as_matrix()\n",
            "/content/gdrive/My Drive/prj1_keypoints/data_load.py:43: FutureWarning: Method .as_matrix will be removed in a future version. Use .values instead.\n",
            "  key_pts = self.key_pts_frame.iloc[idx, 1:].as_matrix()\n",
            "/content/gdrive/My Drive/prj1_keypoints/data_load.py:43: FutureWarning: Method .as_matrix will be removed in a future version. Use .values instead.\n",
            "  key_pts = self.key_pts_frame.iloc[idx, 1:].as_matrix()\n",
            "/content/gdrive/My Drive/prj1_keypoints/data_load.py:43: FutureWarning: Method .as_matrix will be removed in a future version. Use .values instead.\n",
            "  key_pts = self.key_pts_frame.iloc[idx, 1:].as_matrix()\n"
          ],
          "name": "stderr"
        },
        {
          "output_type": "stream",
          "text": [
            "Epoch: 96, Batch: 10, Avg. Loss: 0.0008458946868777275\n",
            "Epoch: 96, Batch: 20, Avg. Loss: 0.0008011964857578277\n",
            "Epoch: 96, Batch: 30, Avg. Loss: 0.0007657311782240867\n",
            "Epoch: 96, Batch: 40, Avg. Loss: 0.0009609869681298733\n",
            "Epoch: 96, Batch: 50, Avg. Loss: 0.0007992551401257515\n"
          ],
          "name": "stdout"
        },
        {
          "output_type": "stream",
          "text": [
            "/content/gdrive/My Drive/prj1_keypoints/data_load.py:43: FutureWarning: Method .as_matrix will be removed in a future version. Use .values instead.\n",
            "  key_pts = self.key_pts_frame.iloc[idx, 1:].as_matrix()\n",
            "/content/gdrive/My Drive/prj1_keypoints/data_load.py:43: FutureWarning: Method .as_matrix will be removed in a future version. Use .values instead.\n",
            "  key_pts = self.key_pts_frame.iloc[idx, 1:].as_matrix()\n",
            "/content/gdrive/My Drive/prj1_keypoints/data_load.py:43: FutureWarning: Method .as_matrix will be removed in a future version. Use .values instead.\n",
            "  key_pts = self.key_pts_frame.iloc[idx, 1:].as_matrix()\n",
            "/content/gdrive/My Drive/prj1_keypoints/data_load.py:43: FutureWarning: Method .as_matrix will be removed in a future version. Use .values instead.\n",
            "  key_pts = self.key_pts_frame.iloc[idx, 1:].as_matrix()\n"
          ],
          "name": "stderr"
        },
        {
          "output_type": "stream",
          "text": [
            "Epoch: 97, Batch: 10, Avg. Loss: 0.0008737810365855693\n",
            "Epoch: 97, Batch: 20, Avg. Loss: 0.0008316482752561569\n",
            "Epoch: 97, Batch: 30, Avg. Loss: 0.00098278971016407\n",
            "Epoch: 97, Batch: 40, Avg. Loss: 0.0008171188682317734\n",
            "Epoch: 97, Batch: 50, Avg. Loss: 0.0007810676954686642\n"
          ],
          "name": "stdout"
        },
        {
          "output_type": "stream",
          "text": [
            "/content/gdrive/My Drive/prj1_keypoints/data_load.py:43: FutureWarning: Method .as_matrix will be removed in a future version. Use .values instead.\n",
            "  key_pts = self.key_pts_frame.iloc[idx, 1:].as_matrix()\n",
            "/content/gdrive/My Drive/prj1_keypoints/data_load.py:43: FutureWarning: Method .as_matrix will be removed in a future version. Use .values instead.\n",
            "  key_pts = self.key_pts_frame.iloc[idx, 1:].as_matrix()\n",
            "/content/gdrive/My Drive/prj1_keypoints/data_load.py:43: FutureWarning: Method .as_matrix will be removed in a future version. Use .values instead.\n",
            "  key_pts = self.key_pts_frame.iloc[idx, 1:].as_matrix()\n",
            "/content/gdrive/My Drive/prj1_keypoints/data_load.py:43: FutureWarning: Method .as_matrix will be removed in a future version. Use .values instead.\n",
            "  key_pts = self.key_pts_frame.iloc[idx, 1:].as_matrix()\n"
          ],
          "name": "stderr"
        },
        {
          "output_type": "stream",
          "text": [
            "Epoch: 98, Batch: 10, Avg. Loss: 0.0007561460137367248\n",
            "Epoch: 98, Batch: 20, Avg. Loss: 0.0009118715152144432\n",
            "Epoch: 98, Batch: 30, Avg. Loss: 0.0007979285493493081\n",
            "Epoch: 98, Batch: 40, Avg. Loss: 0.0007983435429632663\n",
            "Epoch: 98, Batch: 50, Avg. Loss: 0.0008240114971995354\n"
          ],
          "name": "stdout"
        },
        {
          "output_type": "stream",
          "text": [
            "/content/gdrive/My Drive/prj1_keypoints/data_load.py:43: FutureWarning: Method .as_matrix will be removed in a future version. Use .values instead.\n",
            "  key_pts = self.key_pts_frame.iloc[idx, 1:].as_matrix()\n",
            "/content/gdrive/My Drive/prj1_keypoints/data_load.py:43: FutureWarning: Method .as_matrix will be removed in a future version. Use .values instead.\n",
            "  key_pts = self.key_pts_frame.iloc[idx, 1:].as_matrix()\n",
            "/content/gdrive/My Drive/prj1_keypoints/data_load.py:43: FutureWarning: Method .as_matrix will be removed in a future version. Use .values instead.\n",
            "  key_pts = self.key_pts_frame.iloc[idx, 1:].as_matrix()\n",
            "/content/gdrive/My Drive/prj1_keypoints/data_load.py:43: FutureWarning: Method .as_matrix will be removed in a future version. Use .values instead.\n",
            "  key_pts = self.key_pts_frame.iloc[idx, 1:].as_matrix()\n"
          ],
          "name": "stderr"
        },
        {
          "output_type": "stream",
          "text": [
            "Epoch: 99, Batch: 10, Avg. Loss: 0.0008444287069141865\n",
            "Epoch: 99, Batch: 20, Avg. Loss: 0.0008682208806276322\n",
            "Epoch: 99, Batch: 30, Avg. Loss: 0.0010510212033987046\n",
            "Epoch: 99, Batch: 40, Avg. Loss: 0.0010888950489461422\n",
            "Epoch: 99, Batch: 50, Avg. Loss: 0.0008142118006944656\n"
          ],
          "name": "stdout"
        },
        {
          "output_type": "stream",
          "text": [
            "/content/gdrive/My Drive/prj1_keypoints/data_load.py:43: FutureWarning: Method .as_matrix will be removed in a future version. Use .values instead.\n",
            "  key_pts = self.key_pts_frame.iloc[idx, 1:].as_matrix()\n",
            "/content/gdrive/My Drive/prj1_keypoints/data_load.py:43: FutureWarning: Method .as_matrix will be removed in a future version. Use .values instead.\n",
            "  key_pts = self.key_pts_frame.iloc[idx, 1:].as_matrix()\n",
            "/content/gdrive/My Drive/prj1_keypoints/data_load.py:43: FutureWarning: Method .as_matrix will be removed in a future version. Use .values instead.\n",
            "  key_pts = self.key_pts_frame.iloc[idx, 1:].as_matrix()\n",
            "/content/gdrive/My Drive/prj1_keypoints/data_load.py:43: FutureWarning: Method .as_matrix will be removed in a future version. Use .values instead.\n",
            "  key_pts = self.key_pts_frame.iloc[idx, 1:].as_matrix()\n"
          ],
          "name": "stderr"
        },
        {
          "output_type": "stream",
          "text": [
            "Epoch: 100, Batch: 10, Avg. Loss: 0.0008981841541826725\n",
            "Epoch: 100, Batch: 20, Avg. Loss: 0.0007362877950072289\n",
            "Epoch: 100, Batch: 30, Avg. Loss: 0.0008361121788620949\n",
            "Epoch: 100, Batch: 40, Avg. Loss: 0.0011128406673669815\n",
            "Epoch: 100, Batch: 50, Avg. Loss: 0.0008382936380803585\n",
            "Training time: 9:51:19.920354s\n"
          ],
          "name": "stdout"
        }
      ]
    },
    {
      "cell_type": "code",
      "metadata": {
        "id": "WNI6eoIyVsmc",
        "colab_type": "code",
        "colab": {
          "base_uri": "https://localhost:8080/",
          "height": 34
        },
        "outputId": "dfca6ff7-7d3f-471b-f64e-42e9fe6b66f8"
      },
      "source": [
        "# plt.plot(loss_list)\n",
        "!ls /Dr"
      ],
      "execution_count": 4,
      "outputs": [
        {
          "output_type": "stream",
          "text": [
            "haha\n"
          ],
          "name": "stdout"
        }
      ]
    },
    {
      "cell_type": "code",
      "metadata": {
        "id": "rtFomabbBJyY",
        "colab_type": "code",
        "colab": {}
      },
      "source": [
        "def loss_hist_by_epoch(loss_10_batch):\n",
        "    # Convert the loss every 10 batches to the average loss per epoch (340 batches)\n",
        "    pnts_per_epoch = 34\n",
        "    n_pnt = loss_10_batch.shape[0]\n",
        "    \n",
        "    loss_per_epoch = []\n",
        "    i_start = 0\n",
        "    while i_start < n_pnt-1:\n",
        "        i_end = i_start + pnts_per_epoch\n",
        "        loss_per_epoch.append(loss_10_batch[i_start:i_end].mean())\n",
        "        i_start = i_end\n",
        "        \n",
        "    return loss_per_epoch\n",
        "    \n",
        "plt.plot(loss_hist_by_epoch(loss_hist))\n",
        "plt.xlabel('Epoch')\n",
        "plt.ylabel('1000 x MSE')"
      ],
      "execution_count": 0,
      "outputs": []
    },
    {
      "cell_type": "code",
      "metadata": {
        "id": "xyvHSF54VOyG",
        "colab_type": "code",
        "colab": {}
      },
      "source": [
        "def loss_hist_by_epoch(fname_batch_loss, n_total_samples, batch_size):\n",
        "    loss_per_batch = np.load(fname_batch_loss)\n",
        "\n",
        "    n_batches_per_epoch = np.ceil(n_total_samples / batch_size)\n",
        "    n_epochs = np.ceil(loss_per_batch.shape[0] / n_batches_per_epoch)\n",
        "\n",
        "    loss_per_epoch = []\n",
        "    while loss_per_batch.shape[0] > 0:\n",
        "        \n"
      ],
      "execution_count": 0,
      "outputs": []
    },
    {
      "cell_type": "markdown",
      "metadata": {
        "id": "sFSxsYF_BJya",
        "colab_type": "text"
      },
      "source": [
        "## 5. Test data\n",
        "\n",
        "See how your model performs on previously unseen, test data. We've already loaded and transformed this data, similar to the training data. Next, run your trained model on these images to see what kind of keypoints are produced. You should be able to see if your model is fitting each new face it sees, if the points are distributed randomly, or if the points have actually overfitted the training data and do not generalize."
      ]
    },
    {
      "cell_type": "code",
      "metadata": {
        "id": "FhzGGAcRBJyb",
        "colab_type": "code",
        "colab": {}
      },
      "source": [
        "# get a sample of test data again\n",
        "test_images, test_outputs, gt_pts = net_sample_output()\n",
        "\n",
        "print(test_images.data.size())\n",
        "print(test_outputs.data.size())\n",
        "print(gt_pts.size())"
      ],
      "execution_count": 0,
      "outputs": []
    },
    {
      "cell_type": "code",
      "metadata": {
        "id": "Ti7ysQLgBJyd",
        "colab_type": "code",
        "colab": {}
      },
      "source": [
        "# def untransform_keypoints(output_pnts):\n",
        "#     # Convert the output from the neural network back into meaningful point locations\n",
        "    \n",
        "#     output_pnts = output_pnts.view(output_pnts.size()[0], 68, -1)\n",
        "#     output_pnts = output_pnts.data\n",
        "#     output_pnts = output_pnts.numpy()\n",
        "#     # print(output_pnts.shape)\n",
        "#     output_pnts = output_pnts * 50. + 100.\n",
        "    \n",
        "#     return output_pnts"
      ],
      "execution_count": 0,
      "outputs": []
    },
    {
      "cell_type": "code",
      "metadata": {
        "id": "VqJVUTa0BJyi",
        "colab_type": "code",
        "colab": {}
      },
      "source": [
        "# untransform_keypoints(test_outputs[0])"
      ],
      "execution_count": 0,
      "outputs": []
    },
    {
      "cell_type": "code",
      "metadata": {
        "id": "e6U_M7GmBJyj",
        "colab_type": "code",
        "colab": {}
      },
      "source": [
        "## TODO: visualize your test output\n",
        "# you can use the same function as before, by un-commenting the line below:\n",
        "\n",
        "visualize_output(test_images, test_outputs, gt_pts)"
      ],
      "execution_count": 0,
      "outputs": []
    },
    {
      "cell_type": "markdown",
      "metadata": {
        "id": "0HFxDbuWBJyl",
        "colab_type": "text"
      },
      "source": [
        "Once you've found a good model (or two), save your model so you can load it and use it later!"
      ]
    },
    {
      "cell_type": "code",
      "metadata": {
        "id": "i_Mnw42ABJym",
        "colab_type": "code",
        "colab": {}
      },
      "source": [
        "## TODO: change the name to something uniqe for each new model\n",
        "model_dir = 'saved_models/'\n",
        "model_name = 'keypoints_model_1.pt'\n",
        "\n",
        "# after training, save your model parameters in the dir 'saved_models'\n",
        "torch.save(net.state_dict(), model_dir+model_name)"
      ],
      "execution_count": 0,
      "outputs": []
    },
    {
      "cell_type": "markdown",
      "metadata": {
        "id": "6dwS3I7JBJyo",
        "colab_type": "text"
      },
      "source": [
        "After you've trained a well-performing model, answer the following questions so that we have some insight into your training and architecture selection process. Answering all questions is required to pass this project."
      ]
    },
    {
      "cell_type": "markdown",
      "metadata": {
        "id": "pVXm0vQXBJyp",
        "colab_type": "text"
      },
      "source": [
        "### Question 1: What optimization and loss functions did you choose and why?\n"
      ]
    },
    {
      "cell_type": "markdown",
      "metadata": {
        "id": "Rgj90uhWBJyq",
        "colab_type": "text"
      },
      "source": [
        "**Answer**: write your answer here (double click to edit this cell)"
      ]
    },
    {
      "cell_type": "markdown",
      "metadata": {
        "id": "tF4nEAc7BJyr",
        "colab_type": "text"
      },
      "source": [
        "### Question 2: What kind of network architecture did you start with and how did it change as you tried different architectures? Did you decide to add more convolutional layers or any layers to avoid overfitting the data?"
      ]
    },
    {
      "cell_type": "markdown",
      "metadata": {
        "id": "Xeu-X71LBJys",
        "colab_type": "text"
      },
      "source": [
        "**Answer**: write your answer here"
      ]
    },
    {
      "cell_type": "markdown",
      "metadata": {
        "id": "bGimr49kBJyt",
        "colab_type": "text"
      },
      "source": [
        "### Question 3: How did you decide on the number of epochs and batch_size to train your model?"
      ]
    },
    {
      "cell_type": "markdown",
      "metadata": {
        "id": "sy4CtcqkBJyv",
        "colab_type": "text"
      },
      "source": [
        "**Answer**: write your answer here"
      ]
    },
    {
      "cell_type": "markdown",
      "metadata": {
        "id": "AutE4MHiBJyv",
        "colab_type": "text"
      },
      "source": [
        "## 6. Feature Visualization\n",
        "\n",
        "Sometimes, neural networks are thought of as a black box, given some input, they learn to produce some output. CNN's are actually learning to recognize a variety of spatial patterns and you can visualize what each convolutional layer has been trained to recognize by looking at the weights that make up each convolutional kernel and applying those one at a time to a sample image. This technique is called feature visualization and it's useful for understanding the inner workings of a CNN."
      ]
    },
    {
      "cell_type": "markdown",
      "metadata": {
        "id": "_Tw6o1z7BJyx",
        "colab_type": "text"
      },
      "source": [
        "In the cell below, you can see how to extract a single filter (by index) from your first convolutional layer. The filter should appear as a grayscale grid."
      ]
    },
    {
      "cell_type": "code",
      "metadata": {
        "id": "Eu_4S58zBJyy",
        "colab_type": "code",
        "colab": {}
      },
      "source": [
        "# Get the weights in the first conv layer, \"conv1\"\n",
        "# if necessary, change this to reflect the name of your first conv layer\n",
        "weights1 = net.conv1.weight.data\n",
        "\n",
        "w = weights1.numpy()\n",
        "\n",
        "\n",
        "filter_index = 0\n",
        "print(w[filter_index][0])\n",
        "print(w[filter_index][0].shape)\n",
        "\n",
        "# display the filter weights\n",
        "fig, axes = plt.subplots(nrows=2, ncols=5, figsize=(15, 6))\n",
        "for i, ax in enumerate(axes.flat):\n",
        "    ax.imshow(w[i][0], cmap='gray')\n"
      ],
      "execution_count": 0,
      "outputs": []
    },
    {
      "cell_type": "markdown",
      "metadata": {
        "id": "-loefTkDBJy0",
        "colab_type": "text"
      },
      "source": [
        "## Feature maps\n",
        "\n",
        "Each CNN has at least one convolutional layer that is composed of stacked filters (also known as convolutional kernels). As a CNN trains, it learns what weights to include in it's convolutional kernels and when these kernels are applied to some input image, they produce a set of **feature maps**. So, feature maps are just sets of filtered images; they are the images produced by applying a convolutional kernel to an input image. These maps show us the features that the different layers of the neural network learn to extract. For example, you might imagine a convolutional kernel that detects the vertical edges of a face or another one that detects the corners of eyes. You can see what kind of features each of these kernels detects by applying them to an image. One such example is shown below; from the way it brings out the lines in an the image, you might characterize this as an edge detection filter.\n",
        "\n",
        "<img src='images/feature_map_ex.png' width=50% height=50%/>\n",
        "\n",
        "\n",
        "Next, choose a test image and filter it with one of the convolutional kernels in your trained CNN; look at the filtered output to get an idea what that particular kernel detects.\n",
        "\n",
        "### TODO: Filter an image to see the effect of a convolutional kernel\n",
        "---"
      ]
    },
    {
      "cell_type": "code",
      "metadata": {
        "id": "G3_YLgt1BJy0",
        "colab_type": "code",
        "colab": {}
      },
      "source": [
        "##TODO: load in and display any image from the transformed test dataset\n",
        "img_index = 3\n",
        "# img_sample = test_images[img_index][0]\n",
        "# print(img_sample.shape)\n",
        "# print(type(img_sample))\n",
        "\n",
        "image = test_images[img_index].data   # get the image from it's wrapper\n",
        "image = image.numpy()   # convert to numpy array from a Tensor\n",
        "\n",
        "print(image.shape)\n",
        "print(\"The min value:\", np.amin(image))\n",
        "print(\"The max value:\", np.amax(image))\n",
        "plt.imshow(image[0], cmap='gray')\n",
        "\n",
        "\n",
        "## TODO: Using cv's filter2D function,\n",
        "## apply a specific set of filter weights (like the one displayed above) to the test image"
      ],
      "execution_count": 0,
      "outputs": []
    },
    {
      "cell_type": "code",
      "metadata": {
        "id": "gTU6tYlXBJy2",
        "colab_type": "code",
        "colab": {}
      },
      "source": [
        "import cv2"
      ],
      "execution_count": 0,
      "outputs": []
    },
    {
      "cell_type": "code",
      "metadata": {
        "id": "QBMlFauABJy4",
        "colab_type": "code",
        "colab": {}
      },
      "source": [
        "fig, axes = plt.subplots(nrows=2, ncols=5, figsize=(15, 6))\n",
        "for ind, ax in enumerate(axes.flat):\n",
        "    filtered = cv2.filter2D(src=image, ddepth=-1, kernel=w[ind][0])\n",
        "    ax.imshow(filtered[0], cmap='gray')"
      ],
      "execution_count": 0,
      "outputs": []
    },
    {
      "cell_type": "code",
      "metadata": {
        "id": "7K7jhou9BJy7",
        "colab_type": "code",
        "colab": {}
      },
      "source": [
        "w.shape"
      ],
      "execution_count": 0,
      "outputs": []
    },
    {
      "cell_type": "markdown",
      "metadata": {
        "id": "unjLGEZDBJy9",
        "colab_type": "text"
      },
      "source": [
        "### Question 4: Choose one filter from your trained CNN and apply it to a test image; what purpose do you think it plays? What kind of feature do you think it detects?\n"
      ]
    },
    {
      "cell_type": "markdown",
      "metadata": {
        "id": "ogyA-l05BJy9",
        "colab_type": "text"
      },
      "source": [
        "**Answer**: (does it detect vertical lines or does it blur out noise, etc.) write your answer here"
      ]
    },
    {
      "cell_type": "markdown",
      "metadata": {
        "id": "GumHaTcNBJy-",
        "colab_type": "text"
      },
      "source": [
        "---\n",
        "## Moving on!\n",
        "\n",
        "Now that you've defined and trained your model (and saved the best model), you are ready to move on to the last notebook, which combines a face detector with your saved model to create a facial keypoint detection system that can predict the keypoints on *any* face in an image!"
      ]
    }
  ]
}