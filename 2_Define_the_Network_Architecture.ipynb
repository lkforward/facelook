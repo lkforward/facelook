{
  "nbformat": 4,
  "nbformat_minor": 0,
  "metadata": {
    "kernelspec": {
      "name": "python3",
      "display_name": "Python 3"
    },
    "language_info": {
      "codemirror_mode": {
        "name": "ipython",
        "version": 3
      },
      "file_extension": ".py",
      "mimetype": "text/x-python",
      "name": "python",
      "nbconvert_exporter": "python",
      "pygments_lexer": "ipython3",
      "version": "3.6.3"
    },
    "colab": {
      "name": "2. Define the Network Architecture.ipynb",
      "provenance": []
    },
    "accelerator": "GPU"
  },
  "cells": [
    {
      "cell_type": "code",
      "metadata": {
        "id": "qlJYVkblZtez",
        "colab_type": "code",
        "colab": {
          "base_uri": "https://localhost:8080/",
          "height": 34
        },
        "outputId": "f022779a-b972-4f19-92a8-3106e8e41490"
      },
      "source": [
        "# Check to see that we are using the GPU\n",
        "import tensorflow as tf\n",
        "tf.test.gpu_device_name()"
      ],
      "execution_count": 1,
      "outputs": [
        {
          "output_type": "execute_result",
          "data": {
            "text/plain": [
              "'/device:GPU:0'"
            ]
          },
          "metadata": {
            "tags": []
          },
          "execution_count": 1
        }
      ]
    },
    {
      "cell_type": "code",
      "metadata": {
        "id": "rj2fNvSeL63C",
        "colab_type": "code",
        "colab": {
          "base_uri": "https://localhost:8080/",
          "height": 121
        },
        "outputId": "4e81102b-2bbf-45b3-f471-2f6b1ffab427"
      },
      "source": [
        "# Amount google drive\n",
        "from google.colab import drive\n",
        "drive.mount('/content/gdrive')"
      ],
      "execution_count": 2,
      "outputs": [
        {
          "output_type": "stream",
          "text": [
            "Go to this URL in a browser: https://accounts.google.com/o/oauth2/auth?client_id=947318989803-6bn6qk8qdgf4n4g3pfee6491hc0brc4i.apps.googleusercontent.com&redirect_uri=urn%3Aietf%3Awg%3Aoauth%3A2.0%3Aoob&scope=email%20https%3A%2F%2Fwww.googleapis.com%2Fauth%2Fdocs.test%20https%3A%2F%2Fwww.googleapis.com%2Fauth%2Fdrive%20https%3A%2F%2Fwww.googleapis.com%2Fauth%2Fdrive.photos.readonly%20https%3A%2F%2Fwww.googleapis.com%2Fauth%2Fpeopleapi.readonly&response_type=code\n",
            "\n",
            "Enter your authorization code:\n",
            "··········\n",
            "Mounted at /content/gdrive\n"
          ],
          "name": "stdout"
        }
      ]
    },
    {
      "cell_type": "code",
      "metadata": {
        "id": "6bp4NrbnMgAf",
        "colab_type": "code",
        "colab": {}
      },
      "source": [
        "# Experiment write/read from the amounted drive: \n",
        "import numpy as np\n",
        "\n",
        "test_file = '/content/gdrive/My Drive/save_test.npy'\n",
        "a = np.zeros((4,4))\n",
        "np.save(test_file, a)"
      ],
      "execution_count": 0,
      "outputs": []
    },
    {
      "cell_type": "code",
      "metadata": {
        "id": "ZZ324oBWN2OO",
        "colab_type": "code",
        "colab": {
          "base_uri": "https://localhost:8080/",
          "height": 151
        },
        "outputId": "4acfad17-48c9-4066-9010-5900ed7c5cc6"
      },
      "source": [
        "# You can always ls:\n",
        "!ls /content/gdrive/My\\ Drive"
      ],
      "execution_count": 8,
      "outputs": [
        {
          "output_type": "stream",
          "text": [
            "'Colab Notebooks'\n",
            "'Copy of T.F. Newport 0212 Invitation.gform'\n",
            "'Getting started.pdf'\n",
            " GU_mesh14_95x.zip\n",
            " GU_mesh14_95y.zip\n",
            " IMG_1075.JPG\n",
            " save_test.npy\n",
            "'T.F. Newport 0212 Invitation.gform'\n"
          ],
          "name": "stdout"
        }
      ]
    },
    {
      "cell_type": "code",
      "metadata": {
        "id": "Jutqea5ON8pT",
        "colab_type": "code",
        "colab": {
          "base_uri": "https://localhost:8080/",
          "height": 84
        },
        "outputId": "b466fbb6-95c1-4362-f696-3210011a2ca8"
      },
      "source": [
        "# Load it back:\n",
        "ap = np.load(test_file)\n",
        "ap"
      ],
      "execution_count": 10,
      "outputs": [
        {
          "output_type": "execute_result",
          "data": {
            "text/plain": [
              "array([[0., 0., 0., 0.],\n",
              "       [0., 0., 0., 0.],\n",
              "       [0., 0., 0., 0.],\n",
              "       [0., 0., 0., 0.]])"
            ]
          },
          "metadata": {
            "tags": []
          },
          "execution_count": 10
        }
      ]
    },
    {
      "cell_type": "markdown",
      "metadata": {
        "id": "kUL1vAQxBJxO",
        "colab_type": "text"
      },
      "source": [
        "## 1. Define the Convolutional Neural Network\n",
        "\n",
        "After you've looked at the data you're working with and, in this case, know the shapes of the images and of the keypoints, you are ready to define a convolutional neural network that can *learn* from this data.\n",
        "\n",
        "In this notebook and in `models.py`, you will:\n",
        "1. Define a CNN with images as input and keypoints as output\n",
        "2. Construct the transformed FaceKeypointsDataset, just as before\n",
        "3. Train the CNN on the training data, tracking loss\n",
        "4. See how the trained model performs on test data\n",
        "5. If necessary, modify the CNN structure and model hyperparameters, so that it performs *well* **\\***\n",
        "\n",
        "**\\*** What does *well* mean?\n",
        "\n",
        "\"Well\" means that the model's loss decreases during training **and**, when applied to test image data, the model produces keypoints that closely match the true keypoints of each face. And you'll see examples of this later in the notebook.\n",
        "\n",
        "---\n"
      ]
    },
    {
      "cell_type": "markdown",
      "metadata": {
        "id": "uoZKI52nBJxQ",
        "colab_type": "text"
      },
      "source": [
        "## CNN Architecture\n",
        "\n",
        "Recall that CNN's are defined by a few types of layers:\n",
        "* Convolutional layers\n",
        "* Maxpooling layers\n",
        "* Fully-connected layers\n",
        "\n",
        "You are required to use the above layers and encouraged to add multiple convolutional layers and things like dropout layers that may prevent overfitting. You are also encouraged to look at literature on keypoint detection, such as [this paper](https://arxiv.org/pdf/1710.00977.pdf), to help you determine the structure of your network.\n",
        "\n",
        "\n",
        "### TODO: Define your model in the provided file `models.py` file\n",
        "\n",
        "This file is mostly empty but contains the expected name and some TODO's for creating your model.\n",
        "\n",
        "---"
      ]
    },
    {
      "cell_type": "markdown",
      "metadata": {
        "id": "RoQO-rg_BJxS",
        "colab_type": "text"
      },
      "source": [
        "## PyTorch Neural Nets\n",
        "\n",
        "To define a neural network in PyTorch, you define the layers of a model in the function `__init__` and define the feedforward behavior of a network that employs those initialized layers in the function `forward`, which takes in an input image tensor, `x`. The structure of this Net class is shown below and left for you to fill in.\n",
        "\n",
        "Note: During training, PyTorch will be able to perform backpropagation by keeping track of the network's feedforward behavior and using autograd to calculate the update to the weights in the network.\n",
        "\n",
        "#### Define the Layers in ` __init__`\n",
        "As a reminder, a conv/pool layer may be defined like this (in `__init__`):\n",
        "```\n",
        "# 1 input image channel (for grayscale images), 32 output channels/feature maps, 3x3 square convolution kernel\n",
        "self.conv1 = nn.Conv2d(1, 32, 3)\n",
        "\n",
        "# maxpool that uses a square window of kernel_size=2, stride=2\n",
        "self.pool = nn.MaxPool2d(2, 2)      \n",
        "```\n",
        "\n",
        "#### Refer to Layers in `forward`\n",
        "Then referred to in the `forward` function like this, in which the conv1 layer has a ReLu activation applied to it before maxpooling is applied:\n",
        "```\n",
        "x = self.pool(F.relu(self.conv1(x)))\n",
        "```\n",
        "\n",
        "Best practice is to place any layers whose weights will change during the training process in `__init__` and refer to them in the `forward` function; any layers or functions that always behave in the same way, such as a pre-defined activation function, should appear *only* in the `forward` function."
      ]
    },
    {
      "cell_type": "markdown",
      "metadata": {
        "id": "-dqIQ1HBBJxT",
        "colab_type": "text"
      },
      "source": [
        "#### Why models.py\n",
        "\n",
        "You are tasked with defining the network in the `models.py` file so that any models you define can be saved and loaded by name in different notebooks in this project directory. For example, by defining a CNN class called `Net` in `models.py`, you can then create that same architecture in this and other notebooks by simply importing the class and instantiating a model:\n",
        "```\n",
        "    from models import Net\n",
        "    net = Net()\n",
        "```"
      ]
    },
    {
      "cell_type": "code",
      "metadata": {
        "id": "PULOuBssBJxU",
        "colab_type": "code",
        "colab": {}
      },
      "source": [
        "# import the usual resources\n",
        "import matplotlib.pyplot as plt\n",
        "import numpy as np\n",
        "\n",
        "# watch for any changes in model.py, if it changes, re-load it automatically\n",
        "%load_ext autoreload\n",
        "%autoreload 2"
      ],
      "execution_count": 0,
      "outputs": []
    },
    {
      "cell_type": "code",
      "metadata": {
        "id": "tgk-qEVABJxZ",
        "colab_type": "code",
        "colab": {}
      },
      "source": [
        "import os"
      ],
      "execution_count": 0,
      "outputs": []
    },
    {
      "cell_type": "code",
      "metadata": {
        "id": "42B09kO2BXmt",
        "colab_type": "code",
        "colab": {
          "base_uri": "https://localhost:8080/",
          "height": 118
        },
        "outputId": "5ad5159e-f37c-47f0-bab1-6073999e7260"
      },
      "source": [
        "!git clone https://github.com/udacity/P1_Facial_Keypoints.git\n",
        "\n",
        "data_path = './P1_Facial_Keypoints/data'"
      ],
      "execution_count": 5,
      "outputs": [
        {
          "output_type": "stream",
          "text": [
            "Cloning into 'P1_Facial_Keypoints'...\n",
            "remote: Enumerating objects: 5981, done.\u001b[K\n",
            "remote: Total 5981 (delta 0), reused 0 (delta 0), pack-reused 5981\u001b[K\n",
            "Receiving objects: 100% (5981/5981), 329.49 MiB | 37.64 MiB/s, done.\n",
            "Resolving deltas: 100% (124/124), done.\n",
            "Checking out files: 100% (5803/5803), done.\n"
          ],
          "name": "stdout"
        }
      ]
    },
    {
      "cell_type": "code",
      "metadata": {
        "id": "IiMWLM18BJxa",
        "colab_type": "code",
        "colab": {
          "base_uri": "https://localhost:8080/",
          "height": 336
        },
        "outputId": "c4269085-86c0-439c-c5f2-105f2a50f655"
      },
      "source": [
        "## TODO: Define the Net in models.py\n",
        "\n",
        "import torch\n",
        "import torch.nn as nn\n",
        "import torch.nn.functional as F\n",
        "\n",
        "## TODO: Once you've define the network, you can instantiate it\n",
        "# one example conv layer has been provided for you\n",
        "\n",
        "%load models.py\n",
        "from models import Net\n",
        "\n",
        "net = Net()\n",
        "print(net)"
      ],
      "execution_count": 7,
      "outputs": [
        {
          "output_type": "stream",
          "text": [
            "Net(\n",
            "  (conv1): Conv2d(1, 32, kernel_size=(5, 5), stride=(1, 1))\n",
            "  (pool1): MaxPool2d(kernel_size=2, stride=2, padding=0, dilation=1, ceil_mode=False)\n",
            "  (drop1): Dropout2d(p=0.1, inplace=False)\n",
            "  (conv2): Conv2d(32, 64, kernel_size=(3, 3), stride=(1, 1))\n",
            "  (pool2): MaxPool2d(kernel_size=2, stride=2, padding=0, dilation=1, ceil_mode=False)\n",
            "  (drop2): Dropout2d(p=0.2, inplace=False)\n",
            "  (conv3): Conv2d(64, 128, kernel_size=(2, 2), stride=(1, 1))\n",
            "  (pool3): MaxPool2d(kernel_size=2, stride=2, padding=0, dilation=1, ceil_mode=False)\n",
            "  (drop3): Dropout2d(p=0.3, inplace=False)\n",
            "  (conv4): Conv2d(128, 256, kernel_size=(1, 1), stride=(1, 1))\n",
            "  (pool4): MaxPool2d(kernel_size=2, stride=2, padding=0, dilation=1, ceil_mode=False)\n",
            "  (drop4): Dropout2d(p=0.4, inplace=False)\n",
            "  (fc1): Linear(in_features=43264, out_features=256, bias=True)\n",
            "  (drop5): Dropout2d(p=0.5, inplace=False)\n",
            "  (fc2): Linear(in_features=256, out_features=256, bias=True)\n",
            "  (drop6): Dropout2d(p=0.6, inplace=False)\n",
            "  (fc3): Linear(in_features=256, out_features=136, bias=True)\n",
            ")\n"
          ],
          "name": "stdout"
        }
      ]
    },
    {
      "cell_type": "markdown",
      "metadata": {
        "collapsed": true,
        "id": "6OY43-0uBJxc",
        "colab_type": "text"
      },
      "source": [
        "## 2. Transform the dataset \n",
        "\n",
        "To prepare for training, create a transformed dataset of images and keypoints.\n",
        "\n",
        "### TODO: Define a data transform\n",
        "\n",
        "In PyTorch, a convolutional neural network expects a torch image of a consistent size as input. For efficient training, and so your model's loss does not blow up during training, it is also suggested that you normalize the input images and keypoints. The necessary transforms have been defined in `data_load.py` and you **do not** need to modify these; take a look at this file (you'll see the same transforms that were defined and applied in Notebook 1).\n",
        "\n",
        "To define the data transform below, use a [composition](http://pytorch.org/tutorials/beginner/data_loading_tutorial.html#compose-transforms) of:\n",
        "1. Rescaling and/or cropping the data, such that you are left with a square image (the suggested size is 224x224px)\n",
        "2. Normalizing the images and keypoints; turning each RGB image into a grayscale image with a color range of [0, 1] and transforming the given keypoints into a range of [-1, 1]\n",
        "3. Turning these images and keypoints into Tensors\n",
        "\n",
        "These transformations have been defined in `data_load.py`, but it's up to you to call them and create a `data_transform` below. **This transform will be applied to the training data and, later, the test data**. It will change how you go about displaying these images and keypoints, but these steps are essential for efficient training.\n",
        "\n",
        "As a note, should you want to perform data augmentation (which is optional in this project), and randomly rotate or shift these images, a square image size will be useful; rotating a 224x224 image by 90 degrees will result in the same shape of output."
      ]
    },
    {
      "cell_type": "code",
      "metadata": {
        "id": "2vJdHnkjBJxd",
        "colab_type": "code",
        "colab": {}
      },
      "source": [
        "from torch.utils.data import Dataset, DataLoader\n",
        "from torchvision import transforms, utils\n",
        "\n",
        "# the dataset we created in Notebook 1 is copied in the helper file `data_load.py`\n",
        "from data_load import FacialKeypointsDataset\n",
        "# the transforms we defined in Notebook 1 are in the helper file `data_load.py`\n",
        "from data_load import Rescale, RandomCrop, Normalize, ToTensor\n",
        "\n",
        "\n",
        "## TODO: define the data_transform using transforms.Compose([all tx's, . , .])\n",
        "# order matters! i.e. rescaling should come before a smaller crop\n",
        "data_transform = transforms.Compose([Rescale(250), RandomCrop(224), Normalize(), ToTensor()])\n",
        "\n",
        "# testing that you've defined a transform\n",
        "assert(data_transform is not None), 'Define a data_transform'"
      ],
      "execution_count": 0,
      "outputs": []
    },
    {
      "cell_type": "code",
      "metadata": {
        "id": "aOzWaqwqBJxf",
        "colab_type": "code",
        "colab": {}
      },
      "source": [
        "# import pandas as pd\n",
        "\n",
        "# new_name = 'training_small_sample.csv'\n",
        "\n",
        "# train_file = os.path.join(data_path, 'training_frames_keypoints.csv')\n",
        "# df = pd.read_csv(train_file)\n",
        "\n",
        "# n_samples = 10\n",
        "# df_new = df.iloc[:n_samples, :]\n",
        "# df_new.to_csv(os.path.join(data_path, new_name))"
      ],
      "execution_count": 0,
      "outputs": []
    },
    {
      "cell_type": "code",
      "metadata": {
        "id": "zJ_R9l7IBJxi",
        "colab_type": "code",
        "colab": {
          "base_uri": "https://localhost:8080/",
          "height": 134
        },
        "outputId": "8250ceb2-394e-4b2e-8724-50f72a122528"
      },
      "source": [
        "# create the transformed dataset\n",
        "# transformed_dataset = FacialKeypointsDataset(csv_file='data/training_frames_keypoints.csv',\n",
        "#                                              root_dir='data/training/',\n",
        "#                                              transform=data_transform)\n",
        "transformed_dataset = FacialKeypointsDataset(csv_file=os.path.join(data_path, 'training_frames_keypoints.csv'),\n",
        "                                             root_dir=os.path.join(data_path, 'training/'),\n",
        "                                             transform=data_transform,\n",
        "                                             n_samples=None)\n",
        "\n",
        "\n",
        "\n",
        "print('Number of images: ', len(transformed_dataset))\n",
        "\n",
        "# iterate through the transformed dataset and print some stats about the first few samples\n",
        "for i in range(4):\n",
        "    sample = transformed_dataset[i]\n",
        "    print(i, sample['image'].size(), sample['keypoints'].size())"
      ],
      "execution_count": 10,
      "outputs": [
        {
          "output_type": "stream",
          "text": [
            "Number of images:  3462\n",
            "0 torch.Size([1, 224, 224]) torch.Size([68, 2])\n",
            "1 torch.Size([1, 224, 224]) torch.Size([68, 2])\n",
            "2 torch.Size([1, 224, 224]) torch.Size([68, 2])\n",
            "3 torch.Size([1, 224, 224]) torch.Size([68, 2])\n"
          ],
          "name": "stdout"
        },
        {
          "output_type": "stream",
          "text": [
            "/content/data_load.py:43: FutureWarning: Method .as_matrix will be removed in a future version. Use .values instead.\n",
            "  key_pts = self.key_pts_frame.iloc[idx, 1:].as_matrix()\n"
          ],
          "name": "stderr"
        }
      ]
    },
    {
      "cell_type": "code",
      "metadata": {
        "id": "ATwb2VQfBJxl",
        "colab_type": "code",
        "colab": {
          "base_uri": "https://localhost:8080/",
          "height": 244
        },
        "outputId": "97d201f6-5340-4019-d1bb-3ca67cf06a28"
      },
      "source": [
        "type(transformed_dataset.key_pts_frame)\n",
        "transformed_dataset.key_pts_frame.head()"
      ],
      "execution_count": 11,
      "outputs": [
        {
          "output_type": "execute_result",
          "data": {
            "text/html": [
              "<div>\n",
              "<style scoped>\n",
              "    .dataframe tbody tr th:only-of-type {\n",
              "        vertical-align: middle;\n",
              "    }\n",
              "\n",
              "    .dataframe tbody tr th {\n",
              "        vertical-align: top;\n",
              "    }\n",
              "\n",
              "    .dataframe thead th {\n",
              "        text-align: right;\n",
              "    }\n",
              "</style>\n",
              "<table border=\"1\" class=\"dataframe\">\n",
              "  <thead>\n",
              "    <tr style=\"text-align: right;\">\n",
              "      <th></th>\n",
              "      <th>Unnamed: 0</th>\n",
              "      <th>0</th>\n",
              "      <th>1</th>\n",
              "      <th>2</th>\n",
              "      <th>3</th>\n",
              "      <th>4</th>\n",
              "      <th>5</th>\n",
              "      <th>6</th>\n",
              "      <th>7</th>\n",
              "      <th>8</th>\n",
              "      <th>9</th>\n",
              "      <th>10</th>\n",
              "      <th>11</th>\n",
              "      <th>12</th>\n",
              "      <th>13</th>\n",
              "      <th>14</th>\n",
              "      <th>15</th>\n",
              "      <th>16</th>\n",
              "      <th>17</th>\n",
              "      <th>18</th>\n",
              "      <th>19</th>\n",
              "      <th>20</th>\n",
              "      <th>21</th>\n",
              "      <th>22</th>\n",
              "      <th>23</th>\n",
              "      <th>24</th>\n",
              "      <th>25</th>\n",
              "      <th>26</th>\n",
              "      <th>27</th>\n",
              "      <th>28</th>\n",
              "      <th>29</th>\n",
              "      <th>30</th>\n",
              "      <th>31</th>\n",
              "      <th>32</th>\n",
              "      <th>33</th>\n",
              "      <th>34</th>\n",
              "      <th>35</th>\n",
              "      <th>36</th>\n",
              "      <th>37</th>\n",
              "      <th>38</th>\n",
              "      <th>...</th>\n",
              "      <th>96</th>\n",
              "      <th>97</th>\n",
              "      <th>98</th>\n",
              "      <th>99</th>\n",
              "      <th>100</th>\n",
              "      <th>101</th>\n",
              "      <th>102</th>\n",
              "      <th>103</th>\n",
              "      <th>104</th>\n",
              "      <th>105</th>\n",
              "      <th>106</th>\n",
              "      <th>107</th>\n",
              "      <th>108</th>\n",
              "      <th>109</th>\n",
              "      <th>110</th>\n",
              "      <th>111</th>\n",
              "      <th>112</th>\n",
              "      <th>113</th>\n",
              "      <th>114</th>\n",
              "      <th>115</th>\n",
              "      <th>116</th>\n",
              "      <th>117</th>\n",
              "      <th>118</th>\n",
              "      <th>119</th>\n",
              "      <th>120</th>\n",
              "      <th>121</th>\n",
              "      <th>122</th>\n",
              "      <th>123</th>\n",
              "      <th>124</th>\n",
              "      <th>125</th>\n",
              "      <th>126</th>\n",
              "      <th>127</th>\n",
              "      <th>128</th>\n",
              "      <th>129</th>\n",
              "      <th>130</th>\n",
              "      <th>131</th>\n",
              "      <th>132</th>\n",
              "      <th>133</th>\n",
              "      <th>134</th>\n",
              "      <th>135</th>\n",
              "    </tr>\n",
              "  </thead>\n",
              "  <tbody>\n",
              "    <tr>\n",
              "      <th>0</th>\n",
              "      <td>Luis_Fonsi_21.jpg</td>\n",
              "      <td>45.0</td>\n",
              "      <td>98.0</td>\n",
              "      <td>47.0</td>\n",
              "      <td>106.0</td>\n",
              "      <td>49.0</td>\n",
              "      <td>110.0</td>\n",
              "      <td>53.0</td>\n",
              "      <td>119.0</td>\n",
              "      <td>56.0</td>\n",
              "      <td>125.0</td>\n",
              "      <td>62.0</td>\n",
              "      <td>130.0</td>\n",
              "      <td>66.0</td>\n",
              "      <td>134.0</td>\n",
              "      <td>73.0</td>\n",
              "      <td>136.0</td>\n",
              "      <td>81.0</td>\n",
              "      <td>139.0</td>\n",
              "      <td>92.0</td>\n",
              "      <td>134.0</td>\n",
              "      <td>96.0</td>\n",
              "      <td>130.0</td>\n",
              "      <td>98.0</td>\n",
              "      <td>126.0</td>\n",
              "      <td>102.0</td>\n",
              "      <td>120.0</td>\n",
              "      <td>102.0</td>\n",
              "      <td>111.0</td>\n",
              "      <td>104.0</td>\n",
              "      <td>105.0</td>\n",
              "      <td>104.0</td>\n",
              "      <td>99.0</td>\n",
              "      <td>102.0</td>\n",
              "      <td>90.0</td>\n",
              "      <td>51.0</td>\n",
              "      <td>89.0</td>\n",
              "      <td>56.0</td>\n",
              "      <td>87.0</td>\n",
              "      <td>60.0</td>\n",
              "      <td>...</td>\n",
              "      <td>68.0</td>\n",
              "      <td>119.0</td>\n",
              "      <td>73.0</td>\n",
              "      <td>117.0</td>\n",
              "      <td>77.0</td>\n",
              "      <td>115.0</td>\n",
              "      <td>79.0</td>\n",
              "      <td>117.0</td>\n",
              "      <td>81.0</td>\n",
              "      <td>115.0</td>\n",
              "      <td>85.0</td>\n",
              "      <td>117.0</td>\n",
              "      <td>90.0</td>\n",
              "      <td>117.0</td>\n",
              "      <td>87.0</td>\n",
              "      <td>122.0</td>\n",
              "      <td>85.0</td>\n",
              "      <td>124.0</td>\n",
              "      <td>81.0</td>\n",
              "      <td>124.0</td>\n",
              "      <td>77.0</td>\n",
              "      <td>124.0</td>\n",
              "      <td>73.0</td>\n",
              "      <td>121.0</td>\n",
              "      <td>70.0</td>\n",
              "      <td>119.0</td>\n",
              "      <td>77.0</td>\n",
              "      <td>119.0</td>\n",
              "      <td>79.0</td>\n",
              "      <td>119.0</td>\n",
              "      <td>83.0</td>\n",
              "      <td>119.0</td>\n",
              "      <td>90.0</td>\n",
              "      <td>117.0</td>\n",
              "      <td>83.0</td>\n",
              "      <td>119.0</td>\n",
              "      <td>81.0</td>\n",
              "      <td>122.0</td>\n",
              "      <td>77.0</td>\n",
              "      <td>122.0</td>\n",
              "    </tr>\n",
              "    <tr>\n",
              "      <th>1</th>\n",
              "      <td>Lincoln_Chafee_52.jpg</td>\n",
              "      <td>41.0</td>\n",
              "      <td>83.0</td>\n",
              "      <td>43.0</td>\n",
              "      <td>91.0</td>\n",
              "      <td>45.0</td>\n",
              "      <td>100.0</td>\n",
              "      <td>47.0</td>\n",
              "      <td>108.0</td>\n",
              "      <td>51.0</td>\n",
              "      <td>119.0</td>\n",
              "      <td>58.0</td>\n",
              "      <td>130.0</td>\n",
              "      <td>64.0</td>\n",
              "      <td>136.0</td>\n",
              "      <td>73.0</td>\n",
              "      <td>141.0</td>\n",
              "      <td>85.0</td>\n",
              "      <td>143.0</td>\n",
              "      <td>96.0</td>\n",
              "      <td>137.0</td>\n",
              "      <td>102.0</td>\n",
              "      <td>131.0</td>\n",
              "      <td>107.0</td>\n",
              "      <td>124.0</td>\n",
              "      <td>109.0</td>\n",
              "      <td>114.0</td>\n",
              "      <td>111.0</td>\n",
              "      <td>105.0</td>\n",
              "      <td>111.0</td>\n",
              "      <td>97.0</td>\n",
              "      <td>111.0</td>\n",
              "      <td>88.0</td>\n",
              "      <td>111.0</td>\n",
              "      <td>78.0</td>\n",
              "      <td>51.0</td>\n",
              "      <td>83.0</td>\n",
              "      <td>56.0</td>\n",
              "      <td>81.0</td>\n",
              "      <td>62.0</td>\n",
              "      <td>...</td>\n",
              "      <td>70.0</td>\n",
              "      <td>122.0</td>\n",
              "      <td>75.0</td>\n",
              "      <td>122.0</td>\n",
              "      <td>81.0</td>\n",
              "      <td>120.0</td>\n",
              "      <td>83.0</td>\n",
              "      <td>120.0</td>\n",
              "      <td>85.0</td>\n",
              "      <td>120.0</td>\n",
              "      <td>90.0</td>\n",
              "      <td>120.0</td>\n",
              "      <td>94.0</td>\n",
              "      <td>120.0</td>\n",
              "      <td>90.0</td>\n",
              "      <td>124.0</td>\n",
              "      <td>87.0</td>\n",
              "      <td>126.0</td>\n",
              "      <td>83.0</td>\n",
              "      <td>126.0</td>\n",
              "      <td>79.0</td>\n",
              "      <td>126.0</td>\n",
              "      <td>75.0</td>\n",
              "      <td>124.0</td>\n",
              "      <td>70.0</td>\n",
              "      <td>122.0</td>\n",
              "      <td>79.0</td>\n",
              "      <td>122.0</td>\n",
              "      <td>83.0</td>\n",
              "      <td>122.0</td>\n",
              "      <td>85.0</td>\n",
              "      <td>122.0</td>\n",
              "      <td>94.0</td>\n",
              "      <td>120.0</td>\n",
              "      <td>85.0</td>\n",
              "      <td>122.0</td>\n",
              "      <td>83.0</td>\n",
              "      <td>122.0</td>\n",
              "      <td>79.0</td>\n",
              "      <td>122.0</td>\n",
              "    </tr>\n",
              "    <tr>\n",
              "      <th>2</th>\n",
              "      <td>Valerie_Harper_30.jpg</td>\n",
              "      <td>56.0</td>\n",
              "      <td>69.0</td>\n",
              "      <td>56.0</td>\n",
              "      <td>77.0</td>\n",
              "      <td>56.0</td>\n",
              "      <td>86.0</td>\n",
              "      <td>56.0</td>\n",
              "      <td>94.0</td>\n",
              "      <td>58.0</td>\n",
              "      <td>103.0</td>\n",
              "      <td>60.0</td>\n",
              "      <td>111.0</td>\n",
              "      <td>62.0</td>\n",
              "      <td>116.0</td>\n",
              "      <td>67.0</td>\n",
              "      <td>122.0</td>\n",
              "      <td>75.0</td>\n",
              "      <td>127.0</td>\n",
              "      <td>86.0</td>\n",
              "      <td>127.0</td>\n",
              "      <td>96.0</td>\n",
              "      <td>123.0</td>\n",
              "      <td>105.0</td>\n",
              "      <td>121.0</td>\n",
              "      <td>113.0</td>\n",
              "      <td>114.0</td>\n",
              "      <td>118.0</td>\n",
              "      <td>106.0</td>\n",
              "      <td>122.0</td>\n",
              "      <td>100.0</td>\n",
              "      <td>124.0</td>\n",
              "      <td>91.0</td>\n",
              "      <td>128.0</td>\n",
              "      <td>81.0</td>\n",
              "      <td>58.0</td>\n",
              "      <td>56.0</td>\n",
              "      <td>62.0</td>\n",
              "      <td>54.0</td>\n",
              "      <td>67.0</td>\n",
              "      <td>...</td>\n",
              "      <td>67.0</td>\n",
              "      <td>103.0</td>\n",
              "      <td>69.0</td>\n",
              "      <td>101.0</td>\n",
              "      <td>73.0</td>\n",
              "      <td>101.0</td>\n",
              "      <td>75.0</td>\n",
              "      <td>101.0</td>\n",
              "      <td>77.0</td>\n",
              "      <td>101.0</td>\n",
              "      <td>84.0</td>\n",
              "      <td>103.0</td>\n",
              "      <td>88.0</td>\n",
              "      <td>108.0</td>\n",
              "      <td>82.0</td>\n",
              "      <td>110.0</td>\n",
              "      <td>77.0</td>\n",
              "      <td>110.0</td>\n",
              "      <td>75.0</td>\n",
              "      <td>110.0</td>\n",
              "      <td>71.0</td>\n",
              "      <td>110.0</td>\n",
              "      <td>69.0</td>\n",
              "      <td>107.0</td>\n",
              "      <td>67.0</td>\n",
              "      <td>103.0</td>\n",
              "      <td>73.0</td>\n",
              "      <td>103.0</td>\n",
              "      <td>75.0</td>\n",
              "      <td>105.0</td>\n",
              "      <td>79.0</td>\n",
              "      <td>105.0</td>\n",
              "      <td>86.0</td>\n",
              "      <td>108.0</td>\n",
              "      <td>77.0</td>\n",
              "      <td>105.0</td>\n",
              "      <td>75.0</td>\n",
              "      <td>105.0</td>\n",
              "      <td>73.0</td>\n",
              "      <td>105.0</td>\n",
              "    </tr>\n",
              "    <tr>\n",
              "      <th>3</th>\n",
              "      <td>Angelo_Reyes_22.jpg</td>\n",
              "      <td>61.0</td>\n",
              "      <td>80.0</td>\n",
              "      <td>58.0</td>\n",
              "      <td>95.0</td>\n",
              "      <td>58.0</td>\n",
              "      <td>108.0</td>\n",
              "      <td>58.0</td>\n",
              "      <td>120.0</td>\n",
              "      <td>58.0</td>\n",
              "      <td>132.0</td>\n",
              "      <td>61.0</td>\n",
              "      <td>141.0</td>\n",
              "      <td>64.0</td>\n",
              "      <td>148.0</td>\n",
              "      <td>73.0</td>\n",
              "      <td>157.0</td>\n",
              "      <td>85.0</td>\n",
              "      <td>163.0</td>\n",
              "      <td>101.0</td>\n",
              "      <td>163.0</td>\n",
              "      <td>116.0</td>\n",
              "      <td>164.0</td>\n",
              "      <td>128.0</td>\n",
              "      <td>161.0</td>\n",
              "      <td>137.0</td>\n",
              "      <td>155.0</td>\n",
              "      <td>144.0</td>\n",
              "      <td>143.0</td>\n",
              "      <td>150.0</td>\n",
              "      <td>134.0</td>\n",
              "      <td>156.0</td>\n",
              "      <td>121.0</td>\n",
              "      <td>162.0</td>\n",
              "      <td>109.0</td>\n",
              "      <td>70.0</td>\n",
              "      <td>68.0</td>\n",
              "      <td>76.0</td>\n",
              "      <td>65.0</td>\n",
              "      <td>85.0</td>\n",
              "      <td>...</td>\n",
              "      <td>76.0</td>\n",
              "      <td>129.0</td>\n",
              "      <td>82.0</td>\n",
              "      <td>130.0</td>\n",
              "      <td>88.0</td>\n",
              "      <td>127.0</td>\n",
              "      <td>91.0</td>\n",
              "      <td>130.0</td>\n",
              "      <td>98.0</td>\n",
              "      <td>130.0</td>\n",
              "      <td>104.0</td>\n",
              "      <td>133.0</td>\n",
              "      <td>110.0</td>\n",
              "      <td>139.0</td>\n",
              "      <td>101.0</td>\n",
              "      <td>142.0</td>\n",
              "      <td>95.0</td>\n",
              "      <td>145.0</td>\n",
              "      <td>88.0</td>\n",
              "      <td>142.0</td>\n",
              "      <td>82.0</td>\n",
              "      <td>142.0</td>\n",
              "      <td>79.0</td>\n",
              "      <td>139.0</td>\n",
              "      <td>76.0</td>\n",
              "      <td>129.0</td>\n",
              "      <td>85.0</td>\n",
              "      <td>133.0</td>\n",
              "      <td>91.0</td>\n",
              "      <td>133.0</td>\n",
              "      <td>98.0</td>\n",
              "      <td>136.0</td>\n",
              "      <td>107.0</td>\n",
              "      <td>139.0</td>\n",
              "      <td>95.0</td>\n",
              "      <td>139.0</td>\n",
              "      <td>91.0</td>\n",
              "      <td>139.0</td>\n",
              "      <td>85.0</td>\n",
              "      <td>136.0</td>\n",
              "    </tr>\n",
              "    <tr>\n",
              "      <th>4</th>\n",
              "      <td>Kristen_Breitweiser_11.jpg</td>\n",
              "      <td>58.0</td>\n",
              "      <td>94.0</td>\n",
              "      <td>58.0</td>\n",
              "      <td>104.0</td>\n",
              "      <td>60.0</td>\n",
              "      <td>113.0</td>\n",
              "      <td>62.0</td>\n",
              "      <td>121.0</td>\n",
              "      <td>67.0</td>\n",
              "      <td>130.0</td>\n",
              "      <td>71.0</td>\n",
              "      <td>136.0</td>\n",
              "      <td>75.0</td>\n",
              "      <td>138.0</td>\n",
              "      <td>81.0</td>\n",
              "      <td>141.0</td>\n",
              "      <td>92.0</td>\n",
              "      <td>143.0</td>\n",
              "      <td>105.0</td>\n",
              "      <td>139.0</td>\n",
              "      <td>113.0</td>\n",
              "      <td>135.0</td>\n",
              "      <td>122.0</td>\n",
              "      <td>129.0</td>\n",
              "      <td>126.0</td>\n",
              "      <td>122.0</td>\n",
              "      <td>128.0</td>\n",
              "      <td>112.0</td>\n",
              "      <td>130.0</td>\n",
              "      <td>103.0</td>\n",
              "      <td>130.0</td>\n",
              "      <td>95.0</td>\n",
              "      <td>130.0</td>\n",
              "      <td>86.0</td>\n",
              "      <td>58.0</td>\n",
              "      <td>81.0</td>\n",
              "      <td>60.0</td>\n",
              "      <td>74.0</td>\n",
              "      <td>64.0</td>\n",
              "      <td>...</td>\n",
              "      <td>75.0</td>\n",
              "      <td>121.0</td>\n",
              "      <td>79.0</td>\n",
              "      <td>117.0</td>\n",
              "      <td>84.0</td>\n",
              "      <td>115.0</td>\n",
              "      <td>86.0</td>\n",
              "      <td>115.0</td>\n",
              "      <td>90.0</td>\n",
              "      <td>113.0</td>\n",
              "      <td>96.0</td>\n",
              "      <td>115.0</td>\n",
              "      <td>103.0</td>\n",
              "      <td>118.0</td>\n",
              "      <td>98.0</td>\n",
              "      <td>122.0</td>\n",
              "      <td>92.0</td>\n",
              "      <td>124.0</td>\n",
              "      <td>88.0</td>\n",
              "      <td>124.0</td>\n",
              "      <td>84.0</td>\n",
              "      <td>126.0</td>\n",
              "      <td>79.0</td>\n",
              "      <td>124.0</td>\n",
              "      <td>77.0</td>\n",
              "      <td>121.0</td>\n",
              "      <td>84.0</td>\n",
              "      <td>117.0</td>\n",
              "      <td>88.0</td>\n",
              "      <td>117.0</td>\n",
              "      <td>92.0</td>\n",
              "      <td>117.0</td>\n",
              "      <td>103.0</td>\n",
              "      <td>118.0</td>\n",
              "      <td>92.0</td>\n",
              "      <td>120.0</td>\n",
              "      <td>88.0</td>\n",
              "      <td>122.0</td>\n",
              "      <td>84.0</td>\n",
              "      <td>122.0</td>\n",
              "    </tr>\n",
              "  </tbody>\n",
              "</table>\n",
              "<p>5 rows × 137 columns</p>\n",
              "</div>"
            ],
            "text/plain": [
              "                   Unnamed: 0     0     1     2  ...   132    133   134    135\n",
              "0           Luis_Fonsi_21.jpg  45.0  98.0  47.0  ...  81.0  122.0  77.0  122.0\n",
              "1       Lincoln_Chafee_52.jpg  41.0  83.0  43.0  ...  83.0  122.0  79.0  122.0\n",
              "2       Valerie_Harper_30.jpg  56.0  69.0  56.0  ...  75.0  105.0  73.0  105.0\n",
              "3         Angelo_Reyes_22.jpg  61.0  80.0  58.0  ...  91.0  139.0  85.0  136.0\n",
              "4  Kristen_Breitweiser_11.jpg  58.0  94.0  58.0  ...  88.0  122.0  84.0  122.0\n",
              "\n",
              "[5 rows x 137 columns]"
            ]
          },
          "metadata": {
            "tags": []
          },
          "execution_count": 11
        }
      ]
    },
    {
      "cell_type": "markdown",
      "metadata": {
        "id": "3FNk_YQ6BJxo",
        "colab_type": "text"
      },
      "source": [
        "## Batching and loading data\n",
        "\n",
        "Next, having defined the transformed dataset, we can use PyTorch's DataLoader class to load the training data in batches of whatever size as well as to shuffle the data for training the model. You can read more about the parameters of the DataLoader, in [this documentation](http://pytorch.org/docs/master/data.html).\n",
        "\n",
        "#### Batch size\n",
        "Decide on a good batch size for training your model. Try both small and large batch sizes and note how the loss decreases as the model trains.\n",
        "\n",
        "**Note for Windows users**: Please change the `num_workers` to 0 or you may face some issues with your DataLoader failing."
      ]
    },
    {
      "cell_type": "code",
      "metadata": {
        "id": "nMkZytdsBJxo",
        "colab_type": "code",
        "colab": {}
      },
      "source": [
        "# load training data in batches\n",
        "batch_size = 10\n",
        "# batch_size = 64\n",
        "\n",
        "train_loader = DataLoader(transformed_dataset, \n",
        "                          batch_size=batch_size,\n",
        "                          shuffle=True, \n",
        "                          num_workers=4)\n"
      ],
      "execution_count": 0,
      "outputs": []
    },
    {
      "cell_type": "markdown",
      "metadata": {
        "id": "bq8LwjK4BJxs",
        "colab_type": "text"
      },
      "source": [
        "## Before training\n",
        "\n",
        "Take a look at how this model performs before it trains. You should see that the keypoints it predicts start off in one spot and don't match the keypoints on a face at all! It's interesting to visualize this behavior so that you can compare it to the model after training and see how the model has improved.\n",
        "\n",
        "#### Load in the test dataset\n",
        "\n",
        "The test dataset is one that this model has *not* seen before, meaning it has not trained with these images. We'll load in this test data and before and after training, see how your model performs on this set!\n",
        "\n",
        "To visualize this test data, we have to go through some un-transformation steps to turn our images into python images from tensors and to turn our keypoints back into a recognizable range. "
      ]
    },
    {
      "cell_type": "code",
      "metadata": {
        "id": "a4al3kayBJxs",
        "colab_type": "code",
        "colab": {}
      },
      "source": [
        "# load in the test data, using the dataset class\n",
        "# AND apply the data_transform you defined above\n",
        "\n",
        "# create the test dataset\n",
        "# test_dataset = FacialKeypointsDataset(csv_file='data/test_frames_keypoints.csv',\n",
        "#                                              root_dir='data/test/',\n",
        "#                                              transform=data_transform)\n",
        "\n",
        "test_dataset = FacialKeypointsDataset(csv_file=os.path.join(data_path, 'test_frames_keypoints.csv'),\n",
        "                                             root_dir=os.path.join(data_path, 'test/'),\n",
        "                                             transform=data_transform)"
      ],
      "execution_count": 0,
      "outputs": []
    },
    {
      "cell_type": "code",
      "metadata": {
        "id": "Yh9M9TzaBJxw",
        "colab_type": "code",
        "colab": {}
      },
      "source": [
        "# load test data in batches\n",
        "\n",
        "# Let's just use the same batch size as the training dataset.\n",
        "batch_size = 10\n",
        "# batch_size = 64\n",
        "\n",
        "test_loader = DataLoader(test_dataset, \n",
        "                          batch_size=batch_size,\n",
        "                          shuffle=True, \n",
        "                          num_workers=4)"
      ],
      "execution_count": 0,
      "outputs": []
    },
    {
      "cell_type": "markdown",
      "metadata": {
        "id": "_AopAvBsBJx0",
        "colab_type": "text"
      },
      "source": [
        "## 3. Apply the model on a test sample\n",
        "\n",
        "To test the model on a test sample of data, you have to follow these steps:\n",
        "1. Extract the image and ground truth keypoints from a sample\n",
        "2. Make sure the image is a FloatTensor, which the model expects.\n",
        "3. Forward pass the image through the net to get the predicted, output keypoints.\n",
        "\n",
        "This function test how the network performs on the first batch of test data. It returns the images, the transformed images, the predicted keypoints (produced by the model), and the ground truth keypoints."
      ]
    },
    {
      "cell_type": "code",
      "metadata": {
        "id": "7UXt7ON0BJx1",
        "colab_type": "code",
        "colab": {}
      },
      "source": [
        "# test the model on a batch of test images\n",
        "\n",
        "def net_sample_output():\n",
        "    \n",
        "    # iterate through the test dataset\n",
        "    for i, sample in enumerate(test_loader):\n",
        "        \n",
        "        # get sample data: images and ground truth keypoints\n",
        "        images = sample['image']\n",
        "        key_pts = sample['keypoints']\n",
        "\n",
        "        # convert images to FloatTensors\n",
        "        images = images.type(torch.FloatTensor)\n",
        "\n",
        "        # forward pass to get net output\n",
        "        output_pts = net(images)\n",
        "        \n",
        "        # reshape to batch_size x 68 x 2 pts\n",
        "        output_pts = output_pts.view(output_pts.size()[0], 68, -1)\n",
        "        \n",
        "        # break after first image is tested\n",
        "        if i == 0:\n",
        "            return images, output_pts, key_pts\n",
        "            "
      ],
      "execution_count": 0,
      "outputs": []
    },
    {
      "cell_type": "markdown",
      "metadata": {
        "id": "O9V--6zSBJx3",
        "colab_type": "text"
      },
      "source": [
        "#### Debugging tips\n",
        "\n",
        "If you get a size or dimension error here, make sure that your network outputs the expected number of keypoints! Or if you get a Tensor type error, look into changing the above code that casts the data into float types: `images = images.type(torch.FloatTensor)`."
      ]
    },
    {
      "cell_type": "code",
      "metadata": {
        "id": "R4ei0OgYBJx4",
        "colab_type": "code",
        "colab": {
          "base_uri": "https://localhost:8080/",
          "height": 235
        },
        "outputId": "a63576a2-50f1-4437-db81-e182f67850df"
      },
      "source": [
        "# call the above function\n",
        "# returns: test images, test predicted keypoints, test ground truth keypoints\n",
        "test_images, test_outputs, gt_pts = net_sample_output()\n",
        "\n",
        "# print out the dimensions of the data to see if they make sense\n",
        "print(test_images.data.size())\n",
        "print(test_outputs.data.size())\n",
        "print(gt_pts.size())"
      ],
      "execution_count": 16,
      "outputs": [
        {
          "output_type": "stream",
          "text": [
            "/content/data_load.py:43: FutureWarning: Method .as_matrix will be removed in a future version. Use .values instead.\n",
            "  key_pts = self.key_pts_frame.iloc[idx, 1:].as_matrix()\n",
            "/content/data_load.py:43: FutureWarning: Method .as_matrix will be removed in a future version. Use .values instead.\n",
            "  key_pts = self.key_pts_frame.iloc[idx, 1:].as_matrix()\n",
            "/content/data_load.py:43: FutureWarning: Method .as_matrix will be removed in a future version. Use .values instead.\n",
            "  key_pts = self.key_pts_frame.iloc[idx, 1:].as_matrix()\n",
            "/content/data_load.py:43: FutureWarning: Method .as_matrix will be removed in a future version. Use .values instead.\n",
            "  key_pts = self.key_pts_frame.iloc[idx, 1:].as_matrix()\n"
          ],
          "name": "stderr"
        },
        {
          "output_type": "stream",
          "text": [
            "torch.Size([10, 1, 224, 224])\n",
            "torch.Size([10, 68, 2])\n",
            "torch.Size([10, 68, 2])\n"
          ],
          "name": "stdout"
        },
        {
          "output_type": "stream",
          "text": [
            "/usr/local/lib/python3.6/dist-packages/torch/nn/functional.py:1339: UserWarning: nn.functional.tanh is deprecated. Use torch.tanh instead.\n",
            "  warnings.warn(\"nn.functional.tanh is deprecated. Use torch.tanh instead.\")\n"
          ],
          "name": "stderr"
        }
      ]
    },
    {
      "cell_type": "markdown",
      "metadata": {
        "id": "hm6rpM4tBJx6",
        "colab_type": "text"
      },
      "source": [
        "## Visualize the predicted keypoints\n",
        "\n",
        "Once we've had the model produce some predicted output keypoints, we can visualize these points in a way that's similar to how we've displayed this data before, only this time, we have to \"un-transform\" the image/keypoint data to display it.\n",
        "\n",
        "Note that I've defined a *new* function, `show_all_keypoints` that displays a grayscale image, its predicted keypoints and its ground truth keypoints (if provided)."
      ]
    },
    {
      "cell_type": "code",
      "metadata": {
        "id": "elANchKFBJx8",
        "colab_type": "code",
        "colab": {}
      },
      "source": [
        "def show_all_keypoints(image, predicted_key_pts, gt_pts=None):\n",
        "    \"\"\"Show image with predicted keypoints\"\"\"\n",
        "    # image is grayscale\n",
        "    plt.imshow(image, cmap='gray')\n",
        "    plt.scatter(predicted_key_pts[:, 0], predicted_key_pts[:, 1], s=20, marker='.', c='m')\n",
        "    # plot ground truth points as green pts\n",
        "    if gt_pts is not None:\n",
        "        plt.scatter(gt_pts[:, 0], gt_pts[:, 1], s=20, marker='.', c='g')\n"
      ],
      "execution_count": 0,
      "outputs": []
    },
    {
      "cell_type": "markdown",
      "metadata": {
        "id": "qlXl3NsvBJx-",
        "colab_type": "text"
      },
      "source": [
        "#### Un-transformation\n",
        "\n",
        "Next, you'll see a helper function. `visualize_output` that takes in a batch of images, predicted keypoints, and ground truth keypoints and displays a set of those images and their true/predicted keypoints.\n",
        "\n",
        "This function's main role is to take batches of image and keypoint data (the input and output of your CNN), and transform them into numpy images and un-normalized keypoints (x, y) for normal display. The un-transformation process turns keypoints and images into numpy arrays from Tensors *and* it undoes the keypoint normalization done in the Normalize() transform; it's assumed that you applied these transformations when you loaded your test data."
      ]
    },
    {
      "cell_type": "code",
      "metadata": {
        "id": "ZIvtlnLbBJx_",
        "colab_type": "code",
        "colab": {
          "base_uri": "https://localhost:8080/",
          "height": 1000
        },
        "outputId": "1dfcbf58-9513-4874-b3ff-a5d740585add"
      },
      "source": [
        "# visualize the output\n",
        "# by default this shows a batch of 10 images\n",
        "def visualize_output(test_images, test_outputs, gt_pts=None, batch_size=10):\n",
        "\n",
        "    for i in range(batch_size):\n",
        "        plt.figure(figsize=(20,10))\n",
        "        ax = plt.subplot(1, batch_size, i+1)\n",
        "\n",
        "        # un-transform the image data\n",
        "        image = test_images[i].data   # get the image from it's wrapper\n",
        "        image = image.numpy()   # convert to numpy array from a Tensor\n",
        "        image = np.transpose(image, (1, 2, 0))   # transpose to go from torch to numpy image\n",
        "\n",
        "        # un-transform the predicted key_pts data\n",
        "        predicted_key_pts = test_outputs[i].data\n",
        "        predicted_key_pts = predicted_key_pts.numpy()\n",
        "        # undo normalization of keypoints  \n",
        "        predicted_key_pts = predicted_key_pts*50.0+100\n",
        "        \n",
        "        # plot ground truth points for comparison, if they exist\n",
        "        ground_truth_pts = None\n",
        "        if gt_pts is not None:\n",
        "            ground_truth_pts = gt_pts[i]         \n",
        "            ground_truth_pts = ground_truth_pts*50.0+100\n",
        "        \n",
        "        # call show_all_keypoints\n",
        "        show_all_keypoints(np.squeeze(image), predicted_key_pts, ground_truth_pts)\n",
        "            \n",
        "        plt.axis('off')\n",
        "\n",
        "    plt.show()\n",
        "    \n",
        "# call it\n",
        "visualize_output(test_images, test_outputs, gt_pts)"
      ],
      "execution_count": 18,
      "outputs": [
        {
          "output_type": "display_data",
          "data": {
            "image/png": "[encoded data removed]",
            "text/plain": [
              "<Figure size 1440x720 with 1 Axes>"
            ]
          },
          "metadata": {
            "tags": []
          }
        },
        {
          "output_type": "display_data",
          "data": {
            "image/png": "[encoded data removed]",
            "text/plain": [
              "<Figure size 1440x720 with 1 Axes>"
            ]
          },
          "metadata": {
            "tags": []
          }
        },
        {
          "output_type": "display_data",
          "data": {
            "image/png": "[encoded data removed]",
            "text/plain": [
              "<Figure size 1440x720 with 1 Axes>"
            ]
          },
          "metadata": {
            "tags": []
          }
        },
        {
          "output_type": "display_data",
          "data": {
            "image/png": "[encoded data removed]",
            "text/plain": [
              "<Figure size 1440x720 with 1 Axes>"
            ]
          },
          "metadata": {
            "tags": []
          }
        },
        {
          "output_type": "display_data",
          "data": {
            "image/png": "[encoded data removed]",
            "text/plain": [
              "<Figure size 1440x720 with 1 Axes>"
            ]
          },
          "metadata": {
            "tags": []
          }
        },
        {
          "output_type": "display_data",
          "data": {
            "image/png": "[encoded data removed]",
            "text/plain": [
              "<Figure size 1440x720 with 1 Axes>"
            ]
          },
          "metadata": {
            "tags": []
          }
        },
        {
          "output_type": "display_data",
          "data": {
            "image/png": "[encoded data removed]",
            "text/plain": [
              "<Figure size 1440x720 with 1 Axes>"
            ]
          },
          "metadata": {
            "tags": []
          }
        },
        {
          "output_type": "display_data",
          "data": {
            "image/png": "[encoded data removed]",
            "text/plain": [
              "<Figure size 1440x720 with 1 Axes>"
            ]
          },
          "metadata": {
            "tags": []
          }
        },
        {
          "output_type": "display_data",
          "data": {
            "image/png": "[encoded data removed]",
            "text/plain": [
              "<Figure size 1440x720 with 1 Axes>"
            ]
          },
          "metadata": {
            "tags": []
          }
        },
        {
          "output_type": "display_data",
          "data": {
            "image/png": "[encoded data removed]",
            "text/plain": [
              "<Figure size 1440x720 with 1 Axes>"
            ]
          },
          "metadata": {
            "tags": []
          }
        }
      ]
    },
    {
      "cell_type": "code",
      "metadata": {
        "id": "Ew5TS0XzBJyE",
        "colab_type": "code",
        "colab": {
          "base_uri": "https://localhost:8080/",
          "height": 50
        },
        "outputId": "b8c8a036-9327-4f4f-9a23-9db9dcce5464"
      },
      "source": [
        "np_test_rst = test_outputs[0].data.numpy()\n",
        "print(np_test_rst.max())\n",
        "print(np_test_rst.min())"
      ],
      "execution_count": 19,
      "outputs": [
        {
          "output_type": "stream",
          "text": [
            "0.115332775\n",
            "-0.11781636\n"
          ],
          "name": "stdout"
        }
      ]
    },
    {
      "cell_type": "markdown",
      "metadata": {
        "id": "efZcAIPFBJyH",
        "colab_type": "text"
      },
      "source": [
        "## 4. Training\n",
        "\n",
        "#### Loss function\n",
        "Training a network to predict keypoints is different than training a network to predict a class; instead of outputting a distribution of classes and using cross entropy loss, you may want to choose a loss function that is suited for regression, which directly compares a predicted value and target value. Read about the various kinds of loss functions (like MSE or L1/SmoothL1 loss) in [this documentation](http://pytorch.org/docs/master/_modules/torch/nn/modules/loss.html).\n",
        "\n",
        "### TODO: Define the loss and optimization\n",
        "\n",
        "Next, you'll define how the model will train by deciding on the loss function and optimizer.\n",
        "\n",
        "---"
      ]
    },
    {
      "cell_type": "code",
      "metadata": {
        "id": "5pPTvZ8uBJyI",
        "colab_type": "code",
        "colab": {}
      },
      "source": [
        "## TODO: Define the loss and optimization\n",
        "import torch.optim as optim\n",
        "\n",
        "criterion = nn.MSELoss()\n",
        "\n",
        "optimizer = optim.Adam(params=net.parameters())\n"
      ],
      "execution_count": 0,
      "outputs": []
    },
    {
      "cell_type": "markdown",
      "metadata": {
        "id": "HQac6TF_BJyL",
        "colab_type": "text"
      },
      "source": [
        "## Training and Initial Observation\n",
        "\n",
        "Now, you'll train on your batched training data from `train_loader` for a number of epochs. \n",
        "\n",
        "To quickly observe how your model is training and decide on whether or not you should modify it's structure or hyperparameters, you're encouraged to start off with just one or two epochs at first. As you train, note how your the model's loss behaves over time: does it decrease quickly at first and then slow down? Does it take a while to decrease in the first place? What happens if you change the batch size of your training data or modify your loss function? etc. \n",
        "\n",
        "Use these initial observations to make changes to your model and decide on the best architecture before you train for many epochs and create a final model."
      ]
    },
    {
      "cell_type": "code",
      "metadata": {
        "id": "aRraukbrBJyO",
        "colab_type": "code",
        "colab": {}
      },
      "source": [
        "def train_net(n_epochs):\n",
        "\n",
        "    # prepare the net for training\n",
        "    net.train()\n",
        "    loss_list = []\n",
        "\n",
        "    for epoch in range(n_epochs):  # loop over the dataset multiple times\n",
        "        \n",
        "        running_loss = 0.0\n",
        "\n",
        "        # train on batches of data, assumes you already have train_loader\n",
        "        for batch_i, data in enumerate(train_loader):\n",
        "            # get the input images and their corresponding labels\n",
        "            images = data['image']\n",
        "            key_pts = data['keypoints']\n",
        "\n",
        "            # flatten pts\n",
        "            key_pts = key_pts.view(key_pts.size(0), -1)\n",
        "\n",
        "            # convert variables to floats for regression loss\n",
        "            key_pts = key_pts.type(torch.FloatTensor)\n",
        "            images = images.type(torch.FloatTensor)\n",
        "\n",
        "            # forward pass to get outputs\n",
        "            output_pts = net(images)\n",
        "\n",
        "            # calculate the loss between predicted and target keypoints\n",
        "            loss = criterion(output_pts, key_pts)\n",
        "\n",
        "            # zero the parameter (weight) gradients\n",
        "            optimizer.zero_grad()\n",
        "            \n",
        "            # backward pass to calculate the weight gradients\n",
        "            loss.backward()\n",
        "\n",
        "            # update the weights\n",
        "            optimizer.step()\n",
        "            \n",
        "            # print('Epoch: {}, Batch: {}, Avg. Loss: {}'.format(epoch + 1, batch_i+1, loss.item()/1000))\n",
        "\n",
        "            # print loss statistics\n",
        "            # to convert loss into a scalar and add it to the running_loss, use .item()\n",
        "            running_loss += loss.item()\n",
        "            \n",
        "            loss_list.append(loss.item())\n",
        "            if len(loss_list) % 100 == 99: \n",
        "                np.save(\"loss_list_batch128\", np.array(loss_list))\n",
        "\n",
        "            if batch_i % 10 == 9:    # print every 10 batches\n",
        "                print('Epoch: {}, Batch: {}, Avg. Loss: {}'.format(epoch + 1, batch_i+1, running_loss/1000))    \n",
        "                running_loss = 0.0\n",
        "            \n",
        "    return loss_list\n"
      ],
      "execution_count": 0,
      "outputs": []
    },
    {
      "cell_type": "code",
      "metadata": {
        "id": "DJIFUHt6BJyS",
        "colab_type": "code",
        "colab": {
          "base_uri": "https://localhost:8080/",
          "height": 1000
        },
        "outputId": "5c51b7f6-da5e-449b-c195-6b0e903c5f26"
      },
      "source": [
        "# train your network\n",
        "import datetime\n",
        "\n",
        "t1 = datetime.datetime.now()\n",
        "\n",
        "n_epochs = 2 # start small, and increase when you've decided on your model structure and hyperparams\n",
        "loss_list = train_net(n_epochs)\n",
        "\n",
        "t2 = datetime.datetime.now()\n",
        "print(\"Training time: {}s\".format(t2 - t1))"
      ],
      "execution_count": 24,
      "outputs": [
        {
          "output_type": "stream",
          "text": [
            "/content/data_load.py:43: FutureWarning: Method .as_matrix will be removed in a future version. Use .values instead.\n",
            "  key_pts = self.key_pts_frame.iloc[idx, 1:].as_matrix()\n",
            "/content/data_load.py:43: FutureWarning: Method .as_matrix will be removed in a future version. Use .values instead.\n",
            "  key_pts = self.key_pts_frame.iloc[idx, 1:].as_matrix()\n",
            "/content/data_load.py:43: FutureWarning: Method .as_matrix will be removed in a future version. Use .values instead.\n",
            "  key_pts = self.key_pts_frame.iloc[idx, 1:].as_matrix()\n",
            "/content/data_load.py:43: FutureWarning: Method .as_matrix will be removed in a future version. Use .values instead.\n",
            "  key_pts = self.key_pts_frame.iloc[idx, 1:].as_matrix()\n",
            "/usr/local/lib/python3.6/dist-packages/torch/nn/functional.py:1339: UserWarning: nn.functional.tanh is deprecated. Use torch.tanh instead.\n",
            "  warnings.warn(\"nn.functional.tanh is deprecated. Use torch.tanh instead.\")\n"
          ],
          "name": "stderr"
        },
        {
          "output_type": "stream",
          "text": [
            "Epoch: 1, Batch: 10, Avg. Loss: 0.0018946611806750298\n",
            "Epoch: 1, Batch: 20, Avg. Loss: 0.0020672720223665238\n",
            "Epoch: 1, Batch: 30, Avg. Loss: 0.001685049921274185\n",
            "Epoch: 1, Batch: 40, Avg. Loss: 0.002175405882298946\n",
            "Epoch: 1, Batch: 50, Avg. Loss: 0.001922903172671795\n",
            "Epoch: 1, Batch: 60, Avg. Loss: 0.002056819207966328\n",
            "Epoch: 1, Batch: 70, Avg. Loss: 0.0018597560152411462\n",
            "Epoch: 1, Batch: 80, Avg. Loss: 0.0017842116355895996\n",
            "Epoch: 1, Batch: 90, Avg. Loss: 0.00253561832010746\n",
            "Epoch: 1, Batch: 100, Avg. Loss: 0.00203542473167181\n",
            "Epoch: 1, Batch: 110, Avg. Loss: 0.0018161983117461204\n",
            "Epoch: 1, Batch: 120, Avg. Loss: 0.002035073786973953\n",
            "Epoch: 1, Batch: 130, Avg. Loss: 0.0021491610780358314\n",
            "Epoch: 1, Batch: 140, Avg. Loss: 0.0020529444590210917\n",
            "Epoch: 1, Batch: 150, Avg. Loss: 0.00166925647854805\n",
            "Epoch: 1, Batch: 160, Avg. Loss: 0.002175329238176346\n",
            "Epoch: 1, Batch: 170, Avg. Loss: 0.0021797417625784876\n",
            "Epoch: 1, Batch: 180, Avg. Loss: 0.001474087566137314\n",
            "Epoch: 1, Batch: 190, Avg. Loss: 0.003449192352592945\n",
            "Epoch: 1, Batch: 200, Avg. Loss: 0.0020179958641529084\n",
            "Epoch: 1, Batch: 210, Avg. Loss: 0.001859502486884594\n",
            "Epoch: 1, Batch: 220, Avg. Loss: 0.0017762892320752144\n",
            "Epoch: 1, Batch: 230, Avg. Loss: 0.002326780617237091\n",
            "Epoch: 1, Batch: 240, Avg. Loss: 0.001806074559688568\n",
            "Epoch: 1, Batch: 250, Avg. Loss: 0.0017433882504701613\n",
            "Epoch: 1, Batch: 260, Avg. Loss: 0.0018326152563095093\n",
            "Epoch: 1, Batch: 270, Avg. Loss: 0.0025742102339863775\n",
            "Epoch: 1, Batch: 280, Avg. Loss: 0.0021380271315574644\n",
            "Epoch: 1, Batch: 290, Avg. Loss: 0.0019057861790060997\n",
            "Epoch: 1, Batch: 300, Avg. Loss: 0.0021911552622914314\n",
            "Epoch: 1, Batch: 310, Avg. Loss: 0.0016068962514400483\n",
            "Epoch: 1, Batch: 320, Avg. Loss: 0.0020922146514058115\n",
            "Epoch: 1, Batch: 330, Avg. Loss: 0.0022706272304058076\n",
            "Epoch: 1, Batch: 340, Avg. Loss: 0.0017638598755002023\n"
          ],
          "name": "stdout"
        },
        {
          "output_type": "stream",
          "text": [
            "/content/data_load.py:43: FutureWarning: Method .as_matrix will be removed in a future version. Use .values instead.\n",
            "  key_pts = self.key_pts_frame.iloc[idx, 1:].as_matrix()\n",
            "/content/data_load.py:43: FutureWarning: Method .as_matrix will be removed in a future version. Use .values instead.\n",
            "  key_pts = self.key_pts_frame.iloc[idx, 1:].as_matrix()\n",
            "/content/data_load.py:43: FutureWarning: Method .as_matrix will be removed in a future version. Use .values instead.\n",
            "  key_pts = self.key_pts_frame.iloc[idx, 1:].as_matrix()\n",
            "/content/data_load.py:43: FutureWarning: Method .as_matrix will be removed in a future version. Use .values instead.\n",
            "  key_pts = self.key_pts_frame.iloc[idx, 1:].as_matrix()\n"
          ],
          "name": "stderr"
        },
        {
          "output_type": "stream",
          "text": [
            "Epoch: 2, Batch: 10, Avg. Loss: 0.0018984283357858659\n",
            "Epoch: 2, Batch: 20, Avg. Loss: 0.0022356771379709243\n",
            "Epoch: 2, Batch: 30, Avg. Loss: 0.002003734201192856\n",
            "Epoch: 2, Batch: 40, Avg. Loss: 0.0033873210698366165\n",
            "Epoch: 2, Batch: 50, Avg. Loss: 0.0020230851471424102\n",
            "Epoch: 2, Batch: 60, Avg. Loss: 0.0027100168317556383\n",
            "Epoch: 2, Batch: 70, Avg. Loss: 0.001569275699555874\n",
            "Epoch: 2, Batch: 80, Avg. Loss: 0.0017819808945059776\n",
            "Epoch: 2, Batch: 90, Avg. Loss: 0.00206190837174654\n",
            "Epoch: 2, Batch: 100, Avg. Loss: 0.002287372350692749\n",
            "Epoch: 2, Batch: 110, Avg. Loss: 0.001769906796514988\n",
            "Epoch: 2, Batch: 120, Avg. Loss: 0.0017738969326019287\n",
            "Epoch: 2, Batch: 130, Avg. Loss: 0.002027433007955551\n",
            "Epoch: 2, Batch: 140, Avg. Loss: 0.0022801650539040564\n",
            "Epoch: 2, Batch: 150, Avg. Loss: 0.0018551692217588425\n",
            "Epoch: 2, Batch: 160, Avg. Loss: 0.0019278234839439391\n",
            "Epoch: 2, Batch: 170, Avg. Loss: 0.0019157427102327346\n",
            "Epoch: 2, Batch: 180, Avg. Loss: 0.0018767000660300254\n",
            "Epoch: 2, Batch: 190, Avg. Loss: 0.0020908414274454115\n",
            "Epoch: 2, Batch: 200, Avg. Loss: 0.0018284184262156486\n",
            "Epoch: 2, Batch: 210, Avg. Loss: 0.003132348522543907\n",
            "Epoch: 2, Batch: 220, Avg. Loss: 0.0017911021932959556\n",
            "Epoch: 2, Batch: 230, Avg. Loss: 0.0017490895986557006\n",
            "Epoch: 2, Batch: 240, Avg. Loss: 0.0023392161950469017\n",
            "Epoch: 2, Batch: 250, Avg. Loss: 0.0019027673453092574\n",
            "Epoch: 2, Batch: 260, Avg. Loss: 0.001816090628504753\n",
            "Epoch: 2, Batch: 270, Avg. Loss: 0.003408523790538311\n",
            "Epoch: 2, Batch: 280, Avg. Loss: 0.001958072729408741\n",
            "Epoch: 2, Batch: 290, Avg. Loss: 0.001815356321632862\n",
            "Epoch: 2, Batch: 300, Avg. Loss: 0.00199959272146225\n",
            "Epoch: 2, Batch: 310, Avg. Loss: 0.001680347204208374\n",
            "Epoch: 2, Batch: 320, Avg. Loss: 0.002232269495725632\n",
            "Epoch: 2, Batch: 330, Avg. Loss: 0.0020626649633049966\n",
            "Epoch: 2, Batch: 340, Avg. Loss: 0.0019143214747309684\n",
            "Training time: 0:13:27.649227s\n"
          ],
          "name": "stdout"
        }
      ]
    },
    {
      "cell_type": "code",
      "metadata": {
        "id": "WNI6eoIyVsmc",
        "colab_type": "code",
        "colab": {
          "base_uri": "https://localhost:8080/",
          "height": 34
        },
        "outputId": "dfca6ff7-7d3f-471b-f64e-42e9fe6b66f8"
      },
      "source": [
        "# plt.plot(loss_list)\n",
        "print(\"haha\")"
      ],
      "execution_count": 4,
      "outputs": [
        {
          "output_type": "stream",
          "text": [
            "haha\n"
          ],
          "name": "stdout"
        }
      ]
    },
    {
      "cell_type": "code",
      "metadata": {
        "id": "nVjadcx4iYOI",
        "colab_type": "code",
        "colab": {}
      },
      "source": [
        "from google.colab import drive\n",
        "drive.mount('/content/drive')"
      ],
      "execution_count": 0,
      "outputs": []
    },
    {
      "cell_type": "code",
      "metadata": {
        "id": "AWKi5vLkBJyV",
        "colab_type": "code",
        "colab": {},
        "outputId": "53f3d7b4-1ee5-4dca-bb05-4a92c333722a"
      },
      "source": [
        "loss_hist = np.load('loss_list.npy')\n",
        "print(loss_hist.shape)"
      ],
      "execution_count": 0,
      "outputs": [
        {
          "output_type": "error",
          "ename": "FileNotFoundError",
          "evalue": "[Errno 2] No such file or directory: 'loss_list.npy'",
          "traceback": [
            "\u001b[0;31m---------------------------------------------------------------------------\u001b[0m",
            "\u001b[0;31mFileNotFoundError\u001b[0m                         Traceback (most recent call last)",
            "\u001b[0;32m<ipython-input-45-6b475b28ed4d>\u001b[0m in \u001b[0;36m<module>\u001b[0;34m()\u001b[0m\n\u001b[0;32m----> 1\u001b[0;31m \u001b[0mloss_hist\u001b[0m \u001b[0;34m=\u001b[0m \u001b[0mnp\u001b[0m\u001b[0;34m.\u001b[0m\u001b[0mload\u001b[0m\u001b[0;34m(\u001b[0m\u001b[0;34m'loss_list.npy'\u001b[0m\u001b[0;34m)\u001b[0m\u001b[0;34m\u001b[0m\u001b[0m\n\u001b[0m\u001b[1;32m      2\u001b[0m \u001b[0mprint\u001b[0m\u001b[0;34m(\u001b[0m\u001b[0mloss_hist\u001b[0m\u001b[0;34m.\u001b[0m\u001b[0mshape\u001b[0m\u001b[0;34m)\u001b[0m\u001b[0;34m\u001b[0m\u001b[0m\n",
            "\u001b[0;32m/opt/conda/lib/python3.6/site-packages/numpy/lib/npyio.py\u001b[0m in \u001b[0;36mload\u001b[0;34m(file, mmap_mode, allow_pickle, fix_imports, encoding)\u001b[0m\n\u001b[1;32m    368\u001b[0m     \u001b[0mown_fid\u001b[0m \u001b[0;34m=\u001b[0m \u001b[0;32mFalse\u001b[0m\u001b[0;34m\u001b[0m\u001b[0m\n\u001b[1;32m    369\u001b[0m     \u001b[0;32mif\u001b[0m \u001b[0misinstance\u001b[0m\u001b[0;34m(\u001b[0m\u001b[0mfile\u001b[0m\u001b[0;34m,\u001b[0m \u001b[0mbasestring\u001b[0m\u001b[0;34m)\u001b[0m\u001b[0;34m:\u001b[0m\u001b[0;34m\u001b[0m\u001b[0m\n\u001b[0;32m--> 370\u001b[0;31m         \u001b[0mfid\u001b[0m \u001b[0;34m=\u001b[0m \u001b[0mopen\u001b[0m\u001b[0;34m(\u001b[0m\u001b[0mfile\u001b[0m\u001b[0;34m,\u001b[0m \u001b[0;34m\"rb\"\u001b[0m\u001b[0;34m)\u001b[0m\u001b[0;34m\u001b[0m\u001b[0m\n\u001b[0m\u001b[1;32m    371\u001b[0m         \u001b[0mown_fid\u001b[0m \u001b[0;34m=\u001b[0m \u001b[0;32mTrue\u001b[0m\u001b[0;34m\u001b[0m\u001b[0m\n\u001b[1;32m    372\u001b[0m     \u001b[0;32melif\u001b[0m \u001b[0mis_pathlib_path\u001b[0m\u001b[0;34m(\u001b[0m\u001b[0mfile\u001b[0m\u001b[0;34m)\u001b[0m\u001b[0;34m:\u001b[0m\u001b[0;34m\u001b[0m\u001b[0m\n",
            "\u001b[0;31mFileNotFoundError\u001b[0m: [Errno 2] No such file or directory: 'loss_list.npy'"
          ]
        }
      ]
    },
    {
      "cell_type": "code",
      "metadata": {
        "id": "rtFomabbBJyY",
        "colab_type": "code",
        "colab": {}
      },
      "source": [
        "def loss_hist_by_epoch(loss_10_batch):\n",
        "    # Convert the loss every 10 batches to the average loss per epoch (340 batches)\n",
        "    pnts_per_epoch = 34\n",
        "    n_pnt = loss_10_batch.shape[0]\n",
        "    \n",
        "    loss_per_epoch = []\n",
        "    i_start = 0\n",
        "    while i_start < n_pnt-1:\n",
        "        i_end = i_start + pnts_per_epoch\n",
        "        loss_per_epoch.append(loss_10_batch[i_start:i_end].mean())\n",
        "        i_start = i_end\n",
        "        \n",
        "    return loss_per_epoch\n",
        "    \n",
        "plt.plot(loss_hist_by_epoch(loss_hist))\n",
        "plt.xlabel('Epoch')\n",
        "plt.ylabel('1000 x MSE')"
      ],
      "execution_count": 0,
      "outputs": []
    },
    {
      "cell_type": "markdown",
      "metadata": {
        "id": "sFSxsYF_BJya",
        "colab_type": "text"
      },
      "source": [
        "## 5. Test data\n",
        "\n",
        "See how your model performs on previously unseen, test data. We've already loaded and transformed this data, similar to the training data. Next, run your trained model on these images to see what kind of keypoints are produced. You should be able to see if your model is fitting each new face it sees, if the points are distributed randomly, or if the points have actually overfitted the training data and do not generalize."
      ]
    },
    {
      "cell_type": "code",
      "metadata": {
        "id": "FhzGGAcRBJyb",
        "colab_type": "code",
        "colab": {}
      },
      "source": [
        "# get a sample of test data again\n",
        "test_images, test_outputs, gt_pts = net_sample_output()\n",
        "\n",
        "print(test_images.data.size())\n",
        "print(test_outputs.data.size())\n",
        "print(gt_pts.size())"
      ],
      "execution_count": 0,
      "outputs": []
    },
    {
      "cell_type": "code",
      "metadata": {
        "id": "Ti7ysQLgBJyd",
        "colab_type": "code",
        "colab": {}
      },
      "source": [
        "# def untransform_keypoints(output_pnts):\n",
        "#     # Convert the output from the neural network back into meaningful point locations\n",
        "    \n",
        "#     output_pnts = output_pnts.view(output_pnts.size()[0], 68, -1)\n",
        "#     output_pnts = output_pnts.data\n",
        "#     output_pnts = output_pnts.numpy()\n",
        "#     # print(output_pnts.shape)\n",
        "#     output_pnts = output_pnts * 50. + 100.\n",
        "    \n",
        "#     return output_pnts"
      ],
      "execution_count": 0,
      "outputs": []
    },
    {
      "cell_type": "code",
      "metadata": {
        "id": "VqJVUTa0BJyi",
        "colab_type": "code",
        "colab": {}
      },
      "source": [
        "# untransform_keypoints(test_outputs[0])"
      ],
      "execution_count": 0,
      "outputs": []
    },
    {
      "cell_type": "code",
      "metadata": {
        "id": "e6U_M7GmBJyj",
        "colab_type": "code",
        "colab": {}
      },
      "source": [
        "## TODO: visualize your test output\n",
        "# you can use the same function as before, by un-commenting the line below:\n",
        "\n",
        "visualize_output(test_images, test_outputs, gt_pts)"
      ],
      "execution_count": 0,
      "outputs": []
    },
    {
      "cell_type": "markdown",
      "metadata": {
        "id": "0HFxDbuWBJyl",
        "colab_type": "text"
      },
      "source": [
        "Once you've found a good model (or two), save your model so you can load it and use it later!"
      ]
    },
    {
      "cell_type": "code",
      "metadata": {
        "id": "i_Mnw42ABJym",
        "colab_type": "code",
        "colab": {}
      },
      "source": [
        "## TODO: change the name to something uniqe for each new model\n",
        "model_dir = 'saved_models/'\n",
        "model_name = 'keypoints_model_1.pt'\n",
        "\n",
        "# after training, save your model parameters in the dir 'saved_models'\n",
        "torch.save(net.state_dict(), model_dir+model_name)"
      ],
      "execution_count": 0,
      "outputs": []
    },
    {
      "cell_type": "markdown",
      "metadata": {
        "id": "6dwS3I7JBJyo",
        "colab_type": "text"
      },
      "source": [
        "After you've trained a well-performing model, answer the following questions so that we have some insight into your training and architecture selection process. Answering all questions is required to pass this project."
      ]
    },
    {
      "cell_type": "markdown",
      "metadata": {
        "id": "pVXm0vQXBJyp",
        "colab_type": "text"
      },
      "source": [
        "### Question 1: What optimization and loss functions did you choose and why?\n"
      ]
    },
    {
      "cell_type": "markdown",
      "metadata": {
        "id": "Rgj90uhWBJyq",
        "colab_type": "text"
      },
      "source": [
        "**Answer**: write your answer here (double click to edit this cell)"
      ]
    },
    {
      "cell_type": "markdown",
      "metadata": {
        "id": "tF4nEAc7BJyr",
        "colab_type": "text"
      },
      "source": [
        "### Question 2: What kind of network architecture did you start with and how did it change as you tried different architectures? Did you decide to add more convolutional layers or any layers to avoid overfitting the data?"
      ]
    },
    {
      "cell_type": "markdown",
      "metadata": {
        "id": "Xeu-X71LBJys",
        "colab_type": "text"
      },
      "source": [
        "**Answer**: write your answer here"
      ]
    },
    {
      "cell_type": "markdown",
      "metadata": {
        "id": "bGimr49kBJyt",
        "colab_type": "text"
      },
      "source": [
        "### Question 3: How did you decide on the number of epochs and batch_size to train your model?"
      ]
    },
    {
      "cell_type": "markdown",
      "metadata": {
        "id": "sy4CtcqkBJyv",
        "colab_type": "text"
      },
      "source": [
        "**Answer**: write your answer here"
      ]
    },
    {
      "cell_type": "markdown",
      "metadata": {
        "id": "AutE4MHiBJyv",
        "colab_type": "text"
      },
      "source": [
        "## 6. Feature Visualization\n",
        "\n",
        "Sometimes, neural networks are thought of as a black box, given some input, they learn to produce some output. CNN's are actually learning to recognize a variety of spatial patterns and you can visualize what each convolutional layer has been trained to recognize by looking at the weights that make up each convolutional kernel and applying those one at a time to a sample image. This technique is called feature visualization and it's useful for understanding the inner workings of a CNN."
      ]
    },
    {
      "cell_type": "markdown",
      "metadata": {
        "id": "_Tw6o1z7BJyx",
        "colab_type": "text"
      },
      "source": [
        "In the cell below, you can see how to extract a single filter (by index) from your first convolutional layer. The filter should appear as a grayscale grid."
      ]
    },
    {
      "cell_type": "code",
      "metadata": {
        "id": "Eu_4S58zBJyy",
        "colab_type": "code",
        "colab": {}
      },
      "source": [
        "# Get the weights in the first conv layer, \"conv1\"\n",
        "# if necessary, change this to reflect the name of your first conv layer\n",
        "weights1 = net.conv1.weight.data\n",
        "\n",
        "w = weights1.numpy()\n",
        "\n",
        "\n",
        "filter_index = 0\n",
        "print(w[filter_index][0])\n",
        "print(w[filter_index][0].shape)\n",
        "\n",
        "# display the filter weights\n",
        "fig, axes = plt.subplots(nrows=2, ncols=5, figsize=(15, 6))\n",
        "for i, ax in enumerate(axes.flat):\n",
        "    ax.imshow(w[i][0], cmap='gray')\n"
      ],
      "execution_count": 0,
      "outputs": []
    },
    {
      "cell_type": "markdown",
      "metadata": {
        "id": "-loefTkDBJy0",
        "colab_type": "text"
      },
      "source": [
        "## Feature maps\n",
        "\n",
        "Each CNN has at least one convolutional layer that is composed of stacked filters (also known as convolutional kernels). As a CNN trains, it learns what weights to include in it's convolutional kernels and when these kernels are applied to some input image, they produce a set of **feature maps**. So, feature maps are just sets of filtered images; they are the images produced by applying a convolutional kernel to an input image. These maps show us the features that the different layers of the neural network learn to extract. For example, you might imagine a convolutional kernel that detects the vertical edges of a face or another one that detects the corners of eyes. You can see what kind of features each of these kernels detects by applying them to an image. One such example is shown below; from the way it brings out the lines in an the image, you might characterize this as an edge detection filter.\n",
        "\n",
        "<img src='images/feature_map_ex.png' width=50% height=50%/>\n",
        "\n",
        "\n",
        "Next, choose a test image and filter it with one of the convolutional kernels in your trained CNN; look at the filtered output to get an idea what that particular kernel detects.\n",
        "\n",
        "### TODO: Filter an image to see the effect of a convolutional kernel\n",
        "---"
      ]
    },
    {
      "cell_type": "code",
      "metadata": {
        "id": "G3_YLgt1BJy0",
        "colab_type": "code",
        "colab": {}
      },
      "source": [
        "##TODO: load in and display any image from the transformed test dataset\n",
        "img_index = 3\n",
        "# img_sample = test_images[img_index][0]\n",
        "# print(img_sample.shape)\n",
        "# print(type(img_sample))\n",
        "\n",
        "image = test_images[img_index].data   # get the image from it's wrapper\n",
        "image = image.numpy()   # convert to numpy array from a Tensor\n",
        "\n",
        "print(image.shape)\n",
        "print(\"The min value:\", np.amin(image))\n",
        "print(\"The max value:\", np.amax(image))\n",
        "plt.imshow(image[0], cmap='gray')\n",
        "\n",
        "\n",
        "## TODO: Using cv's filter2D function,\n",
        "## apply a specific set of filter weights (like the one displayed above) to the test image"
      ],
      "execution_count": 0,
      "outputs": []
    },
    {
      "cell_type": "code",
      "metadata": {
        "id": "gTU6tYlXBJy2",
        "colab_type": "code",
        "colab": {}
      },
      "source": [
        "import cv2"
      ],
      "execution_count": 0,
      "outputs": []
    },
    {
      "cell_type": "code",
      "metadata": {
        "id": "QBMlFauABJy4",
        "colab_type": "code",
        "colab": {}
      },
      "source": [
        "fig, axes = plt.subplots(nrows=2, ncols=5, figsize=(15, 6))\n",
        "for ind, ax in enumerate(axes.flat):\n",
        "    filtered = cv2.filter2D(src=image, ddepth=-1, kernel=w[ind][0])\n",
        "    ax.imshow(filtered[0], cmap='gray')"
      ],
      "execution_count": 0,
      "outputs": []
    },
    {
      "cell_type": "code",
      "metadata": {
        "id": "7K7jhou9BJy7",
        "colab_type": "code",
        "colab": {}
      },
      "source": [
        "w.shape"
      ],
      "execution_count": 0,
      "outputs": []
    },
    {
      "cell_type": "markdown",
      "metadata": {
        "id": "unjLGEZDBJy9",
        "colab_type": "text"
      },
      "source": [
        "### Question 4: Choose one filter from your trained CNN and apply it to a test image; what purpose do you think it plays? What kind of feature do you think it detects?\n"
      ]
    },
    {
      "cell_type": "markdown",
      "metadata": {
        "id": "ogyA-l05BJy9",
        "colab_type": "text"
      },
      "source": [
        "**Answer**: (does it detect vertical lines or does it blur out noise, etc.) write your answer here"
      ]
    },
    {
      "cell_type": "markdown",
      "metadata": {
        "id": "GumHaTcNBJy-",
        "colab_type": "text"
      },
      "source": [
        "---\n",
        "## Moving on!\n",
        "\n",
        "Now that you've defined and trained your model (and saved the best model), you are ready to move on to the last notebook, which combines a face detector with your saved model to create a facial keypoint detection system that can predict the keypoints on *any* face in an image!"
      ]
    }
  ]
}